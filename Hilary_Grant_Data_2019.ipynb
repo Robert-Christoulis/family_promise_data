{
  "nbformat": 4,
  "nbformat_minor": 0,
  "metadata": {
    "colab": {
      "name": "Copy of Hilary_Grant_Data_2019.ipynb",
      "provenance": [],
      "collapsed_sections": [],
      "include_colab_link": true
    },
    "kernelspec": {
      "name": "python3",
      "display_name": "Python 3"
    }
  },
  "cells": [
    {
      "cell_type": "markdown",
      "metadata": {
        "id": "view-in-github",
        "colab_type": "text"
      },
      "source": [
        "<a href=\"https://colab.research.google.com/github/iesous-kurios/family_promise_data/blob/master/Hilary_Grant_Data_2019.ipynb\" target=\"_parent\"><img src=\"https://colab.research.google.com/assets/colab-badge.svg\" alt=\"Open In Colab\"/></a>"
      ]
    },
    {
      "cell_type": "markdown",
      "metadata": {
        "id": "VVccA9fer3B6",
        "colab_type": "text"
      },
      "source": [
        "#This section imports functionality for this page.  \n",
        "**This allows me to load and clean a raw output of our\n",
        "Family Promise HMIS data, and also allows me to create graphs\n",
        "or export data to excel sheets for connection to services\n",
        "such as Power BI to provide visuals for our metrics**"
      ]
    },
    {
      "cell_type": "code",
      "metadata": {
        "id": "XsgAMisL194s",
        "colab_type": "code",
        "colab": {}
      },
      "source": [
        "import numpy as np\n",
        "import pandas as pd\n",
        "import matplotlib.pyplot as plt\n",
        "%matplotlib inline\n",
        "import seaborn as sns"
      ],
      "execution_count": 0,
      "outputs": []
    },
    {
      "cell_type": "markdown",
      "metadata": {
        "id": "JMAsaj0zs45p",
        "colab_type": "text"
      },
      "source": [
        "This section loads an excel file containing HMIS data"
      ]
    },
    {
      "cell_type": "code",
      "metadata": {
        "id": "zNV0_eDE1zQy",
        "colab_type": "code",
        "colab": {}
      },
      "source": [
        "# load excel file containing HMIS data\n",
        "df = pd.read_excel('/content/2018.xlsx')"
      ],
      "execution_count": 0,
      "outputs": []
    },
    {
      "cell_type": "code",
      "metadata": {
        "id": "Dvx4usbUP-Z1",
        "colab_type": "code",
        "outputId": "657f69ea-e848-4de3-925d-77fff7ea479c",
        "colab": {
          "base_uri": "https://localhost:8080/",
          "height": 33
        }
      },
      "source": [
        "# check recidivism\n",
        "359 / 389"
      ],
      "execution_count": 0,
      "outputs": [
        {
          "output_type": "execute_result",
          "data": {
            "text/plain": [
              "0.922879177377892"
            ]
          },
          "metadata": {
            "tags": []
          },
          "execution_count": 294
        }
      ]
    },
    {
      "cell_type": "markdown",
      "metadata": {
        "id": "GMKNizhRs_LM",
        "colab_type": "text"
      },
      "source": [
        "This section prints out how many total client IDs we served"
      ]
    },
    {
      "cell_type": "code",
      "metadata": {
        "id": "X0lafi0h3qfS",
        "colab_type": "code",
        "outputId": "de541c78-a23b-4aea-b37c-1b4bf8bfc8c0",
        "colab": {
          "base_uri": "https://localhost:8080/",
          "height": 33
        }
      },
      "source": [
        "df['5.8 Personal ID'].value_counts().sum()"
      ],
      "execution_count": 0,
      "outputs": [
        {
          "output_type": "execute_result",
          "data": {
            "text/plain": [
              "866"
            ]
          },
          "metadata": {
            "tags": []
          },
          "execution_count": 295
        }
      ]
    },
    {
      "cell_type": "markdown",
      "metadata": {
        "id": "4voxVAdJtJ0n",
        "colab_type": "text"
      },
      "source": [
        "This section prints how many unique client IDs are in the file"
      ]
    },
    {
      "cell_type": "code",
      "metadata": {
        "id": "QL6rCHDiBHIq",
        "colab_type": "code",
        "outputId": "8a991690-5e39-4b84-c958-410d0e290eeb",
        "colab": {
          "base_uri": "https://localhost:8080/",
          "height": 50
        }
      },
      "source": [
        "uniqueValues = df['5.8 Personal ID'].unique()\n",
        " \n",
        "print('Unique elements in column \"5.8 Personal ID\" ')\n",
        "print(len(uniqueValues))"
      ],
      "execution_count": 0,
      "outputs": [
        {
          "output_type": "stream",
          "text": [
            "Unique elements in column \"5.8 Personal ID\" \n",
            "763\n"
          ],
          "name": "stdout"
        }
      ]
    },
    {
      "cell_type": "markdown",
      "metadata": {
        "id": "YS4dXBw5thnh",
        "colab_type": "text"
      },
      "source": [
        "This section contains code that manually adds up unique client IDs\n",
        "This allows us to double-check the above assertion of total unique clientIDs"
      ]
    },
    {
      "cell_type": "code",
      "metadata": {
        "id": "IV3ngAgG5TJk",
        "colab_type": "code",
        "colab": {}
      },
      "source": [
        "# Python program to check if two  \n",
        "# to get unique values from list \n",
        "# using traversal  \n",
        "  \n",
        "# function to get unique values \n",
        "def unique(list1): \n",
        "  \n",
        "    # intilize a null list \n",
        "    unique_list = [] \n",
        "      \n",
        "    # traverse for all elements \n",
        "    for x in list1: \n",
        "        # check if exists in unique_list or not \n",
        "        if x not in unique_list: \n",
        "            unique_list.append(x) \n",
        "    return unique_list    \n",
        "    \n",
        "  \n",
        "# driver code \n",
        "list1 = df['5.8 Personal ID']\n",
        "\n",
        "unduplicated = unique(list1) "
      ],
      "execution_count": 0,
      "outputs": []
    },
    {
      "cell_type": "code",
      "metadata": {
        "id": "b_c5cgIg5qNA",
        "colab_type": "code",
        "outputId": "c691f96f-decb-4c99-bd22-b98f346ea6a5",
        "colab": {
          "base_uri": "https://localhost:8080/",
          "height": 33
        }
      },
      "source": [
        "len(unduplicated)"
      ],
      "execution_count": 0,
      "outputs": [
        {
          "output_type": "execute_result",
          "data": {
            "text/plain": [
              "763"
            ]
          },
          "metadata": {
            "tags": []
          },
          "execution_count": 298
        }
      ]
    },
    {
      "cell_type": "code",
      "metadata": {
        "id": "Fd2DXsfiLoEP",
        "colab_type": "code",
        "colab": {}
      },
      "source": [
        "# this code asserts that the two different ways to calculate unique IDs came up \n",
        "# with the same answer\n",
        "\n",
        "assert len(unduplicated) == len(uniqueValues)\n",
        "\n",
        "# if there is an error after running this block, then that means the two answers\n",
        "# are different (and there is a problem)  if the rest of the code runs fine then\n",
        "# that means the two values are equal"
      ],
      "execution_count": 0,
      "outputs": []
    },
    {
      "cell_type": "code",
      "metadata": {
        "id": "BAzlKsMdJzkt",
        "colab_type": "code",
        "outputId": "38fd4f95-6361-4855-c8ac-8cb9e0ffab11",
        "colab": {
          "base_uri": "https://localhost:8080/",
          "height": 33
        }
      },
      "source": [
        "# display how many total IDs are found in original file\n",
        "df['5.8 Personal ID'].value_counts().sum()"
      ],
      "execution_count": 0,
      "outputs": [
        {
          "output_type": "execute_result",
          "data": {
            "text/plain": [
              "866"
            ]
          },
          "metadata": {
            "tags": []
          },
          "execution_count": 300
        }
      ]
    },
    {
      "cell_type": "code",
      "metadata": {
        "id": "wYbBhT8hLu4i",
        "colab_type": "code",
        "colab": {}
      },
      "source": [
        "# remove the duplicates\n",
        "df = df.drop_duplicates(subset='5.8 Personal ID', keep='first')"
      ],
      "execution_count": 0,
      "outputs": []
    },
    {
      "cell_type": "code",
      "metadata": {
        "id": "PM9Fds-pSKSk",
        "colab_type": "code",
        "outputId": "49b3b2b7-13e0-4b45-a4e7-a1df5000665a",
        "colab": {
          "base_uri": "https://localhost:8080/",
          "height": 33
        }
      },
      "source": [
        "# get new number of total IDs to make sure the code worked\n",
        "df['5.8 Personal ID'].value_counts().sum()"
      ],
      "execution_count": 0,
      "outputs": [
        {
          "output_type": "execute_result",
          "data": {
            "text/plain": [
              "763"
            ]
          },
          "metadata": {
            "tags": []
          },
          "execution_count": 302
        }
      ]
    },
    {
      "cell_type": "code",
      "metadata": {
        "id": "w82HJxZVNRZt",
        "colab_type": "code",
        "colab": {}
      },
      "source": [
        "# print total number of families served (unduplicated)\n",
        "unique_households = unique(df['5.9 Household ID'])"
      ],
      "execution_count": 0,
      "outputs": []
    },
    {
      "cell_type": "code",
      "metadata": {
        "id": "CfywMoTlOLV-",
        "colab_type": "code",
        "outputId": "cd105cf2-7d5c-48b8-f52c-b37f002ee00d",
        "colab": {
          "base_uri": "https://localhost:8080/",
          "height": 33
        }
      },
      "source": [
        "# print total of unique household IDs\n",
        "len(unique_households)"
      ],
      "execution_count": 0,
      "outputs": [
        {
          "output_type": "execute_result",
          "data": {
            "text/plain": [
              "245"
            ]
          },
          "metadata": {
            "tags": []
          },
          "execution_count": 304
        }
      ]
    },
    {
      "cell_type": "code",
      "metadata": {
        "id": "uJkFFss7OYVs",
        "colab_type": "code",
        "outputId": "e54ccf6d-e763-4d04-c488-93c6731f81a0",
        "colab": {
          "base_uri": "https://localhost:8080/",
          "height": 33
        }
      },
      "source": [
        "# double check unique households with another method\n",
        "uniquehouseholds = df['5.9 Household ID'].unique()\n",
        "\n",
        "len(uniquehouseholds)"
      ],
      "execution_count": 0,
      "outputs": [
        {
          "output_type": "execute_result",
          "data": {
            "text/plain": [
              "245"
            ]
          },
          "metadata": {
            "tags": []
          },
          "execution_count": 305
        }
      ]
    },
    {
      "cell_type": "code",
      "metadata": {
        "id": "JABqNX9IL6yy",
        "colab_type": "code",
        "colab": {}
      },
      "source": [
        "# code to help break down guests by age groups\n",
        "\n",
        "und_2 = [-1, 0, 1]\n",
        "two_five = [2, 3, 4, 5]\n",
        "six_twelve = [6, 7, 8, 9, 10, 11, 12]\n",
        "thirteen_seventeen = [13, 14, 15, 16, 17]\n",
        "eighteen_plus = [18, 19, 20, 21, 22, 23, 24, 25, 26, 27,\n",
        "                 28, 29, 30, 31, 32, 33, 34, 35, 36, 37,\n",
        "                 38, 39, 40, 41, 42, 43, 44, 45, 46, 47, \n",
        "                 48, 49, 50, 51, 52, 53, 54, 55, 56, 57,\n",
        "                 58, 59, 60, 61, 62, 63, 64, 65, 66, 67, \n",
        "                 68, 69, 70, 71, 72, 73, 74, 75, 76, 77,\n",
        "                 78, 79, 80, 81, 82, 83, 84, 85, 86, 87,\n",
        "                 88, 89, 90, 91, 92, 93, 94, 95, 96, 97]"
      ],
      "execution_count": 0,
      "outputs": []
    },
    {
      "cell_type": "code",
      "metadata": {
        "id": "uBOSJZ8rSLXY",
        "colab_type": "code",
        "colab": {}
      },
      "source": [
        "# assign guests of certain age groups to their prospective list\n",
        "\n",
        "und_2_df = df['Age at Enrollment'].isin(und_2) == True\n",
        "two_five_df = df['Age at Enrollment'].isin(two_five) == True\n",
        "six_twelve_df = df['Age at Enrollment'].isin(six_twelve) == True\n",
        "thirteen_seventeen_df = df['Age at Enrollment'].isin(thirteen_seventeen) == True\n",
        "eighteen_plus_df = df['Age at Enrollment'].isin(eighteen_plus) == True"
      ],
      "execution_count": 0,
      "outputs": []
    },
    {
      "cell_type": "code",
      "metadata": {
        "id": "stonb8bOSiua",
        "colab_type": "code",
        "colab": {}
      },
      "source": [
        "a = und_2_df.sum()"
      ],
      "execution_count": 0,
      "outputs": []
    },
    {
      "cell_type": "code",
      "metadata": {
        "id": "2y-KisZ7TWRg",
        "colab_type": "code",
        "colab": {}
      },
      "source": [
        "b = two_five_df.sum()"
      ],
      "execution_count": 0,
      "outputs": []
    },
    {
      "cell_type": "code",
      "metadata": {
        "id": "BjXpKMJ9TaoO",
        "colab_type": "code",
        "colab": {}
      },
      "source": [
        "c = six_twelve_df.sum()"
      ],
      "execution_count": 0,
      "outputs": []
    },
    {
      "cell_type": "code",
      "metadata": {
        "id": "8EzYomVVTbvA",
        "colab_type": "code",
        "colab": {}
      },
      "source": [
        "d = thirteen_seventeen_df.sum()"
      ],
      "execution_count": 0,
      "outputs": []
    },
    {
      "cell_type": "code",
      "metadata": {
        "id": "1SLEILRfTcAK",
        "colab_type": "code",
        "colab": {}
      },
      "source": [
        "e = eighteen_plus_df.sum()"
      ],
      "execution_count": 0,
      "outputs": []
    },
    {
      "cell_type": "code",
      "metadata": {
        "id": "Ei3RDmOiwefE",
        "colab_type": "code",
        "outputId": "ee597a0a-d0f3-474e-e011-39c82eba6f48",
        "colab": {
          "base_uri": "https://localhost:8080/",
          "height": 281
        }
      },
      "source": [
        "# list of age groups\n",
        "\n",
        "lst = ['Under 2', '2 to 5', '6 to 12', '13 to 17', '18 and older'] \n",
        "  \n",
        "# where to get total guests in age groups\n",
        "lst2 = [a, b, c, d, e] \n",
        "  \n",
        "# Calling DataFrame constructor after zipping \n",
        "# both lists, with columns specified \n",
        "age_breakdown = pd.DataFrame(list(zip(lst, lst2)), \n",
        "               columns =['Age Group', 'Total']) \n",
        "\n",
        "# print bar chart showing age breakdown\n",
        "plt.bar(lst, lst2)\n"
      ],
      "execution_count": 0,
      "outputs": [
        {
          "output_type": "execute_result",
          "data": {
            "text/plain": [
              "<BarContainer object of 5 artists>"
            ]
          },
          "metadata": {
            "tags": []
          },
          "execution_count": 313
        },
        {
          "output_type": "display_data",
          "data": {
            "image/png": "[encoded data removed]",
            "text/plain": [
              "<Figure size 432x288 with 1 Axes>"
            ]
          },
          "metadata": {
            "tags": []
          }
        }
      ]
    },
    {
      "cell_type": "code",
      "metadata": {
        "id": "24ABYmHV111O",
        "colab_type": "code",
        "outputId": "f271b246-9fd7-43e2-cd6f-2a45558adc65",
        "colab": {
          "base_uri": "https://localhost:8080/",
          "height": 191
        }
      },
      "source": [
        "age_breakdown"
      ],
      "execution_count": 0,
      "outputs": [
        {
          "output_type": "execute_result",
          "data": {
            "text/html": [
              "<div>\n",
              "<style scoped>\n",
              "    .dataframe tbody tr th:only-of-type {\n",
              "        vertical-align: middle;\n",
              "    }\n",
              "\n",
              "    .dataframe tbody tr th {\n",
              "        vertical-align: top;\n",
              "    }\n",
              "\n",
              "    .dataframe thead th {\n",
              "        text-align: right;\n",
              "    }\n",
              "</style>\n",
              "<table border=\"1\" class=\"dataframe\">\n",
              "  <thead>\n",
              "    <tr style=\"text-align: right;\">\n",
              "      <th></th>\n",
              "      <th>Age Group</th>\n",
              "      <th>Total</th>\n",
              "    </tr>\n",
              "  </thead>\n",
              "  <tbody>\n",
              "    <tr>\n",
              "      <th>0</th>\n",
              "      <td>Under 2</td>\n",
              "      <td>74</td>\n",
              "    </tr>\n",
              "    <tr>\n",
              "      <th>1</th>\n",
              "      <td>2 to 5</td>\n",
              "      <td>124</td>\n",
              "    </tr>\n",
              "    <tr>\n",
              "      <th>2</th>\n",
              "      <td>6 to 12</td>\n",
              "      <td>137</td>\n",
              "    </tr>\n",
              "    <tr>\n",
              "      <th>3</th>\n",
              "      <td>13 to 17</td>\n",
              "      <td>54</td>\n",
              "    </tr>\n",
              "    <tr>\n",
              "      <th>4</th>\n",
              "      <td>18 and older</td>\n",
              "      <td>374</td>\n",
              "    </tr>\n",
              "  </tbody>\n",
              "</table>\n",
              "</div>"
            ],
            "text/plain": [
              "      Age Group  Total\n",
              "0       Under 2     74\n",
              "1        2 to 5    124\n",
              "2       6 to 12    137\n",
              "3      13 to 17     54\n",
              "4  18 and older    374"
            ]
          },
          "metadata": {
            "tags": []
          },
          "execution_count": 314
        }
      ]
    },
    {
      "cell_type": "code",
      "metadata": {
        "id": "xLapLcf80ru5",
        "colab_type": "code",
        "outputId": "401e4678-a845-4a7b-f0cf-c8de1374a594",
        "colab": {
          "base_uri": "https://localhost:8080/",
          "height": 482
        }
      },
      "source": [
        "# Plot the figure.\n",
        "plt.figure(figsize=(12, 8))\n",
        "ax = plt.bar(lst, lst2)"
      ],
      "execution_count": 0,
      "outputs": [
        {
          "output_type": "display_data",
          "data": {
            "image/png": "[encoded data removed]",
            "text/plain": [
              "<Figure size 864x576 with 1 Axes>"
            ]
          },
          "metadata": {
            "tags": []
          }
        }
      ]
    },
    {
      "cell_type": "code",
      "metadata": {
        "id": "vx58xG8_1hIn",
        "colab_type": "code",
        "colab": {}
      },
      "source": [
        "import plotly.express as px"
      ],
      "execution_count": 0,
      "outputs": []
    },
    {
      "cell_type": "code",
      "metadata": {
        "id": "RVWd6scX1iYg",
        "colab_type": "code",
        "outputId": "3adea8ce-fbf7-4661-b24b-88830cf048ec",
        "colab": {
          "base_uri": "https://localhost:8080/",
          "height": 617
        }
      },
      "source": [
        "px.bar(age_breakdown, x='Age Group', y='Total',  text='Total', title='Breakdown of Ages', color='Age Group')"
      ],
      "execution_count": 0,
      "outputs": [
        {
          "output_type": "display_data",
          "data": {
            "text/html": [
              "<html>\n",
              "<head><meta charset=\"utf-8\" /></head>\n",
              "<body>\n",
              "    <div>\n",
              "            <script src=\"https://cdnjs.cloudflare.com/ajax/libs/mathjax/2.7.5/MathJax.js?config=TeX-AMS-MML_SVG\"></script><script type=\"text/javascript\">if (window.MathJax) {MathJax.Hub.Config({SVG: {font: \"STIX-Web\"}});}</script>\n",
              "                <script type=\"text/javascript\">window.PlotlyConfig = {MathJaxConfig: 'local'};</script>\n",
              "        <script src=\"https://cdn.plot.ly/plotly-latest.min.js\"></script>    \n",
              "            <div id=\"770e54ba-45aa-42b5-89be-65bdd1a2033a\" class=\"plotly-graph-div\" style=\"height:600px; width:100%;\"></div>\n",
              "            <script type=\"text/javascript\">\n",
              "                \n",
              "                    window.PLOTLYENV=window.PLOTLYENV || {};\n",
              "                    \n",
              "                if (document.getElementById(\"770e54ba-45aa-42b5-89be-65bdd1a2033a\")) {\n",
              "                    Plotly.newPlot(\n",
              "                        '770e54ba-45aa-42b5-89be-65bdd1a2033a',\n",
              "                        [{\"alignmentgroup\": \"True\", \"hoverlabel\": {\"namelength\": 0}, \"hovertemplate\": \"Age Group=%{x}<br>Total=%{text}\", \"legendgroup\": \"Age Group=Under 2\", \"marker\": {\"color\": \"#636efa\"}, \"name\": \"Age Group=Under 2\", \"offsetgroup\": \"Age Group=Under 2\", \"orientation\": \"v\", \"showlegend\": true, \"text\": [74.0], \"textposition\": \"auto\", \"type\": \"bar\", \"x\": [\"Under 2\"], \"xaxis\": \"x\", \"y\": [74], \"yaxis\": \"y\"}, {\"alignmentgroup\": \"True\", \"hoverlabel\": {\"namelength\": 0}, \"hovertemplate\": \"Age Group=%{x}<br>Total=%{text}\", \"legendgroup\": \"Age Group=2 to 5\", \"marker\": {\"color\": \"#EF553B\"}, \"name\": \"Age Group=2 to 5\", \"offsetgroup\": \"Age Group=2 to 5\", \"orientation\": \"v\", \"showlegend\": true, \"text\": [124.0], \"textposition\": \"auto\", \"type\": \"bar\", \"x\": [\"2 to 5\"], \"xaxis\": \"x\", \"y\": [124], \"yaxis\": \"y\"}, {\"alignmentgroup\": \"True\", \"hoverlabel\": {\"namelength\": 0}, \"hovertemplate\": \"Age Group=%{x}<br>Total=%{text}\", \"legendgroup\": \"Age Group=6 to 12\", \"marker\": {\"color\": \"#00cc96\"}, \"name\": \"Age Group=6 to 12\", \"offsetgroup\": \"Age Group=6 to 12\", \"orientation\": \"v\", \"showlegend\": true, \"text\": [137.0], \"textposition\": \"auto\", \"type\": \"bar\", \"x\": [\"6 to 12\"], \"xaxis\": \"x\", \"y\": [137], \"yaxis\": \"y\"}, {\"alignmentgroup\": \"True\", \"hoverlabel\": {\"namelength\": 0}, \"hovertemplate\": \"Age Group=%{x}<br>Total=%{text}\", \"legendgroup\": \"Age Group=13 to 17\", \"marker\": {\"color\": \"#ab63fa\"}, \"name\": \"Age Group=13 to 17\", \"offsetgroup\": \"Age Group=13 to 17\", \"orientation\": \"v\", \"showlegend\": true, \"text\": [54.0], \"textposition\": \"auto\", \"type\": \"bar\", \"x\": [\"13 to 17\"], \"xaxis\": \"x\", \"y\": [54], \"yaxis\": \"y\"}, {\"alignmentgroup\": \"True\", \"hoverlabel\": {\"namelength\": 0}, \"hovertemplate\": \"Age Group=%{x}<br>Total=%{text}\", \"legendgroup\": \"Age Group=18 and older\", \"marker\": {\"color\": \"#FFA15A\"}, \"name\": \"Age Group=18 and older\", \"offsetgroup\": \"Age Group=18 and older\", \"orientation\": \"v\", \"showlegend\": true, \"text\": [374.0], \"textposition\": \"auto\", \"type\": \"bar\", \"x\": [\"18 and older\"], \"xaxis\": \"x\", \"y\": [374], \"yaxis\": \"y\"}],\n",
              "                        {\"barmode\": \"relative\", \"height\": 600, \"legend\": {\"tracegroupgap\": 0}, \"template\": {\"data\": {\"bar\": [{\"error_x\": {\"color\": \"#2a3f5f\"}, \"error_y\": {\"color\": \"#2a3f5f\"}, \"marker\": {\"line\": {\"color\": \"#E5ECF6\", \"width\": 0.5}}, \"type\": \"bar\"}], \"barpolar\": [{\"marker\": {\"line\": {\"color\": \"#E5ECF6\", \"width\": 0.5}}, \"type\": \"barpolar\"}], \"carpet\": [{\"aaxis\": {\"endlinecolor\": \"#2a3f5f\", \"gridcolor\": \"white\", \"linecolor\": \"white\", \"minorgridcolor\": \"white\", \"startlinecolor\": \"#2a3f5f\"}, \"baxis\": {\"endlinecolor\": \"#2a3f5f\", \"gridcolor\": \"white\", \"linecolor\": \"white\", \"minorgridcolor\": \"white\", \"startlinecolor\": \"#2a3f5f\"}, \"type\": \"carpet\"}], \"choropleth\": [{\"colorbar\": {\"outlinewidth\": 0, \"ticks\": \"\"}, \"type\": \"choropleth\"}], \"contour\": [{\"colorbar\": {\"outlinewidth\": 0, \"ticks\": \"\"}, \"colorscale\": [[0.0, \"#0d0887\"], [0.1111111111111111, \"#46039f\"], [0.2222222222222222, \"#7201a8\"], [0.3333333333333333, \"#9c179e\"], [0.4444444444444444, \"#bd3786\"], [0.5555555555555556, \"#d8576b\"], [0.6666666666666666, \"#ed7953\"], [0.7777777777777778, \"#fb9f3a\"], [0.8888888888888888, \"#fdca26\"], [1.0, \"#f0f921\"]], \"type\": \"contour\"}], \"contourcarpet\": [{\"colorbar\": {\"outlinewidth\": 0, \"ticks\": \"\"}, \"type\": \"contourcarpet\"}], \"heatmap\": [{\"colorbar\": {\"outlinewidth\": 0, \"ticks\": \"\"}, \"colorscale\": [[0.0, \"#0d0887\"], [0.1111111111111111, \"#46039f\"], [0.2222222222222222, \"#7201a8\"], [0.3333333333333333, \"#9c179e\"], [0.4444444444444444, \"#bd3786\"], [0.5555555555555556, \"#d8576b\"], [0.6666666666666666, \"#ed7953\"], [0.7777777777777778, \"#fb9f3a\"], [0.8888888888888888, \"#fdca26\"], [1.0, \"#f0f921\"]], \"type\": \"heatmap\"}], \"heatmapgl\": [{\"colorbar\": {\"outlinewidth\": 0, \"ticks\": \"\"}, \"colorscale\": [[0.0, \"#0d0887\"], [0.1111111111111111, \"#46039f\"], [0.2222222222222222, \"#7201a8\"], [0.3333333333333333, \"#9c179e\"], [0.4444444444444444, \"#bd3786\"], [0.5555555555555556, \"#d8576b\"], [0.6666666666666666, \"#ed7953\"], [0.7777777777777778, \"#fb9f3a\"], [0.8888888888888888, \"#fdca26\"], [1.0, \"#f0f921\"]], \"type\": \"heatmapgl\"}], \"histogram\": [{\"marker\": {\"colorbar\": {\"outlinewidth\": 0, \"ticks\": \"\"}}, \"type\": \"histogram\"}], \"histogram2d\": [{\"colorbar\": {\"outlinewidth\": 0, \"ticks\": \"\"}, \"colorscale\": [[0.0, \"#0d0887\"], [0.1111111111111111, \"#46039f\"], [0.2222222222222222, \"#7201a8\"], [0.3333333333333333, \"#9c179e\"], [0.4444444444444444, \"#bd3786\"], [0.5555555555555556, \"#d8576b\"], [0.6666666666666666, \"#ed7953\"], [0.7777777777777778, \"#fb9f3a\"], [0.8888888888888888, \"#fdca26\"], [1.0, \"#f0f921\"]], \"type\": \"histogram2d\"}], \"histogram2dcontour\": [{\"colorbar\": {\"outlinewidth\": 0, \"ticks\": \"\"}, \"colorscale\": [[0.0, \"#0d0887\"], [0.1111111111111111, \"#46039f\"], [0.2222222222222222, \"#7201a8\"], [0.3333333333333333, \"#9c179e\"], [0.4444444444444444, \"#bd3786\"], [0.5555555555555556, \"#d8576b\"], [0.6666666666666666, \"#ed7953\"], [0.7777777777777778, \"#fb9f3a\"], [0.8888888888888888, \"#fdca26\"], [1.0, \"#f0f921\"]], \"type\": \"histogram2dcontour\"}], \"mesh3d\": [{\"colorbar\": {\"outlinewidth\": 0, \"ticks\": \"\"}, \"type\": \"mesh3d\"}], \"parcoords\": [{\"line\": {\"colorbar\": {\"outlinewidth\": 0, \"ticks\": \"\"}}, \"type\": \"parcoords\"}], \"scatter\": [{\"marker\": {\"colorbar\": {\"outlinewidth\": 0, \"ticks\": \"\"}}, \"type\": \"scatter\"}], \"scatter3d\": [{\"line\": {\"colorbar\": {\"outlinewidth\": 0, \"ticks\": \"\"}}, \"marker\": {\"colorbar\": {\"outlinewidth\": 0, \"ticks\": \"\"}}, \"type\": \"scatter3d\"}], \"scattercarpet\": [{\"marker\": {\"colorbar\": {\"outlinewidth\": 0, \"ticks\": \"\"}}, \"type\": \"scattercarpet\"}], \"scattergeo\": [{\"marker\": {\"colorbar\": {\"outlinewidth\": 0, \"ticks\": \"\"}}, \"type\": \"scattergeo\"}], \"scattergl\": [{\"marker\": {\"colorbar\": {\"outlinewidth\": 0, \"ticks\": \"\"}}, \"type\": \"scattergl\"}], \"scattermapbox\": [{\"marker\": {\"colorbar\": {\"outlinewidth\": 0, \"ticks\": \"\"}}, \"type\": \"scattermapbox\"}], \"scatterpolar\": [{\"marker\": {\"colorbar\": {\"outlinewidth\": 0, \"ticks\": \"\"}}, \"type\": \"scatterpolar\"}], \"scatterpolargl\": [{\"marker\": {\"colorbar\": {\"outlinewidth\": 0, \"ticks\": \"\"}}, \"type\": \"scatterpolargl\"}], \"scatterternary\": [{\"marker\": {\"colorbar\": {\"outlinewidth\": 0, \"ticks\": \"\"}}, \"type\": \"scatterternary\"}], \"surface\": [{\"colorbar\": {\"outlinewidth\": 0, \"ticks\": \"\"}, \"colorscale\": [[0.0, \"#0d0887\"], [0.1111111111111111, \"#46039f\"], [0.2222222222222222, \"#7201a8\"], [0.3333333333333333, \"#9c179e\"], [0.4444444444444444, \"#bd3786\"], [0.5555555555555556, \"#d8576b\"], [0.6666666666666666, \"#ed7953\"], [0.7777777777777778, \"#fb9f3a\"], [0.8888888888888888, \"#fdca26\"], [1.0, \"#f0f921\"]], \"type\": \"surface\"}], \"table\": [{\"cells\": {\"fill\": {\"color\": \"#EBF0F8\"}, \"line\": {\"color\": \"white\"}}, \"header\": {\"fill\": {\"color\": \"#C8D4E3\"}, \"line\": {\"color\": \"white\"}}, \"type\": \"table\"}]}, \"layout\": {\"annotationdefaults\": {\"arrowcolor\": \"#2a3f5f\", \"arrowhead\": 0, \"arrowwidth\": 1}, \"colorscale\": {\"diverging\": [[0, \"#8e0152\"], [0.1, \"#c51b7d\"], [0.2, \"#de77ae\"], [0.3, \"#f1b6da\"], [0.4, \"#fde0ef\"], [0.5, \"#f7f7f7\"], [0.6, \"#e6f5d0\"], [0.7, \"#b8e186\"], [0.8, \"#7fbc41\"], [0.9, \"#4d9221\"], [1, \"#276419\"]], \"sequential\": [[0.0, \"#0d0887\"], [0.1111111111111111, \"#46039f\"], [0.2222222222222222, \"#7201a8\"], [0.3333333333333333, \"#9c179e\"], [0.4444444444444444, \"#bd3786\"], [0.5555555555555556, \"#d8576b\"], [0.6666666666666666, \"#ed7953\"], [0.7777777777777778, \"#fb9f3a\"], [0.8888888888888888, \"#fdca26\"], [1.0, \"#f0f921\"]], \"sequentialminus\": [[0.0, \"#0d0887\"], [0.1111111111111111, \"#46039f\"], [0.2222222222222222, \"#7201a8\"], [0.3333333333333333, \"#9c179e\"], [0.4444444444444444, \"#bd3786\"], [0.5555555555555556, \"#d8576b\"], [0.6666666666666666, \"#ed7953\"], [0.7777777777777778, \"#fb9f3a\"], [0.8888888888888888, \"#fdca26\"], [1.0, \"#f0f921\"]]}, \"colorway\": [\"#636efa\", \"#EF553B\", \"#00cc96\", \"#ab63fa\", \"#FFA15A\", \"#19d3f3\", \"#FF6692\", \"#B6E880\", \"#FF97FF\", \"#FECB52\"], \"font\": {\"color\": \"#2a3f5f\"}, \"geo\": {\"bgcolor\": \"white\", \"lakecolor\": \"white\", \"landcolor\": \"#E5ECF6\", \"showlakes\": true, \"showland\": true, \"subunitcolor\": \"white\"}, \"hoverlabel\": {\"align\": \"left\"}, \"hovermode\": \"closest\", \"mapbox\": {\"style\": \"light\"}, \"paper_bgcolor\": \"white\", \"plot_bgcolor\": \"#E5ECF6\", \"polar\": {\"angularaxis\": {\"gridcolor\": \"white\", \"linecolor\": \"white\", \"ticks\": \"\"}, \"bgcolor\": \"#E5ECF6\", \"radialaxis\": {\"gridcolor\": \"white\", \"linecolor\": \"white\", \"ticks\": \"\"}}, \"scene\": {\"xaxis\": {\"backgroundcolor\": \"#E5ECF6\", \"gridcolor\": \"white\", \"gridwidth\": 2, \"linecolor\": \"white\", \"showbackground\": true, \"ticks\": \"\", \"zerolinecolor\": \"white\"}, \"yaxis\": {\"backgroundcolor\": \"#E5ECF6\", \"gridcolor\": \"white\", \"gridwidth\": 2, \"linecolor\": \"white\", \"showbackground\": true, \"ticks\": \"\", \"zerolinecolor\": \"white\"}, \"zaxis\": {\"backgroundcolor\": \"#E5ECF6\", \"gridcolor\": \"white\", \"gridwidth\": 2, \"linecolor\": \"white\", \"showbackground\": true, \"ticks\": \"\", \"zerolinecolor\": \"white\"}}, \"shapedefaults\": {\"line\": {\"color\": \"#2a3f5f\"}}, \"ternary\": {\"aaxis\": {\"gridcolor\": \"white\", \"linecolor\": \"white\", \"ticks\": \"\"}, \"baxis\": {\"gridcolor\": \"white\", \"linecolor\": \"white\", \"ticks\": \"\"}, \"bgcolor\": \"#E5ECF6\", \"caxis\": {\"gridcolor\": \"white\", \"linecolor\": \"white\", \"ticks\": \"\"}}, \"title\": {\"x\": 0.05}, \"xaxis\": {\"automargin\": true, \"gridcolor\": \"white\", \"linecolor\": \"white\", \"ticks\": \"\", \"zerolinecolor\": \"white\", \"zerolinewidth\": 2}, \"yaxis\": {\"automargin\": true, \"gridcolor\": \"white\", \"linecolor\": \"white\", \"ticks\": \"\", \"zerolinecolor\": \"white\", \"zerolinewidth\": 2}}}, \"title\": {\"text\": \"Breakdown of Ages\"}, \"xaxis\": {\"anchor\": \"y\", \"categoryarray\": [\"Under 2\", \"2 to 5\", \"6 to 12\", \"13 to 17\", \"18 and older\"], \"categoryorder\": \"array\", \"domain\": [0.0, 0.98], \"title\": {\"text\": \"Age Group\"}}, \"yaxis\": {\"anchor\": \"x\", \"domain\": [0.0, 1.0], \"title\": {\"text\": \"Total\"}}},\n",
              "                        {\"responsive\": true}\n",
              "                    ).then(function(){\n",
              "                            \n",
              "var gd = document.getElementById('770e54ba-45aa-42b5-89be-65bdd1a2033a');\n",
              "var x = new MutationObserver(function (mutations, observer) {{\n",
              "        var display = window.getComputedStyle(gd).display;\n",
              "        if (!display || display === 'none') {{\n",
              "            console.log([gd, 'removed!']);\n",
              "            Plotly.purge(gd);\n",
              "            observer.disconnect();\n",
              "        }}\n",
              "}});\n",
              "\n",
              "// Listen for the removal of the full notebook cells\n",
              "var notebookContainer = gd.closest('#notebook-container');\n",
              "if (notebookContainer) {{\n",
              "    x.observe(notebookContainer, {childList: true});\n",
              "}}\n",
              "\n",
              "// Listen for the clearing of the current output cell\n",
              "var outputEl = gd.closest('.output');\n",
              "if (outputEl) {{\n",
              "    x.observe(outputEl, {childList: true});\n",
              "}}\n",
              "\n",
              "                        })\n",
              "                };\n",
              "                \n",
              "            </script>\n",
              "        </div>\n",
              "</body>\n",
              "</html>"
            ]
          },
          "metadata": {
            "tags": []
          }
        }
      ]
    },
    {
      "cell_type": "code",
      "metadata": {
        "id": "17Sg677Brrm6",
        "colab_type": "code",
        "colab": {}
      },
      "source": [
        "# create error if count of personal ids is not equal to count of unduplicated client ids\n",
        "assert df['5.8 Personal ID'].value_counts().sum() == len(unduplicated)"
      ],
      "execution_count": 0,
      "outputs": []
    },
    {
      "cell_type": "code",
      "metadata": {
        "id": "M0Y2quvAUFmf",
        "colab_type": "code",
        "colab": {}
      },
      "source": [
        "# create error if count of personal ids is not equal to the sume of all the different age groups\n",
        "assert df['5.8 Personal ID'].value_counts().sum() == (und_2_df.sum() + two_five_df.sum() + six_twelve_df.sum() + thirteen_seventeen_df.sum() + eighteen_plus_df.sum())"
      ],
      "execution_count": 0,
      "outputs": []
    },
    {
      "cell_type": "code",
      "metadata": {
        "id": "zOo6M1LLUoix",
        "colab_type": "code",
        "outputId": "7c785801-73b8-4ddb-ebab-aded8b45c66b",
        "colab": {
          "base_uri": "https://localhost:8080/",
          "height": 33
        }
      },
      "source": [
        "# print median income of guests\n",
        "print('Median income of guests for this time period: $',df['4.2 Income Total at Entry'].median())"
      ],
      "execution_count": 0,
      "outputs": [
        {
          "output_type": "stream",
          "text": [
            "Median income of guests for this time period: $ 750.0\n"
          ],
          "name": "stdout"
        }
      ]
    },
    {
      "cell_type": "code",
      "metadata": {
        "id": "LGngPLBhu-7C",
        "colab_type": "code",
        "outputId": "ed76451d-b23d-4c0f-dd7a-51b48bc02116",
        "colab": {
          "base_uri": "https://localhost:8080/",
          "height": 33
        }
      },
      "source": [
        "# print mean income of guests \n",
        "print('Mean income of guests for this time period: $',round(df['4.2 Income Total at Entry'].mean(), 2))"
      ],
      "execution_count": 0,
      "outputs": [
        {
          "output_type": "stream",
          "text": [
            "Mean income of guests for this time period: $ 834.56\n"
          ],
          "name": "stdout"
        }
      ]
    },
    {
      "cell_type": "code",
      "metadata": {
        "id": "e_Ivufdn4lzM",
        "colab_type": "code",
        "outputId": "9f536530-2fd3-4f01-90ee-5d3afde2c6f0",
        "colab": {
          "base_uri": "https://localhost:8080/",
          "height": 163
        }
      },
      "source": [
        "df['3.4 Race'].value_counts(normalize=True)"
      ],
      "execution_count": 0,
      "outputs": [
        {
          "output_type": "execute_result",
          "data": {
            "text/plain": [
              "White                                        0.640420\n",
              "American Indian or Alaska Native             0.122047\n",
              "Black or African American                    0.083990\n",
              "Multi-Racial                                 0.081365\n",
              "Native Hawaiian or Other Pacific Islander    0.048556\n",
              "Client refused                               0.015748\n",
              "Asian                                        0.003937\n",
              "Client doesn't know                          0.003937\n",
              "Name: 3.4 Race, dtype: float64"
            ]
          },
          "metadata": {
            "tags": []
          },
          "execution_count": 322
        }
      ]
    },
    {
      "cell_type": "code",
      "metadata": {
        "id": "DKe3TaG0FpqP",
        "colab_type": "code",
        "outputId": "fe777b60-1839-4c56-f918-86dcb64b3d68",
        "colab": {
          "base_uri": "https://localhost:8080/",
          "height": 163
        }
      },
      "source": [
        "df['3.4 Race'].value_counts()"
      ],
      "execution_count": 0,
      "outputs": [
        {
          "output_type": "execute_result",
          "data": {
            "text/plain": [
              "White                                        488\n",
              "American Indian or Alaska Native              93\n",
              "Black or African American                     64\n",
              "Multi-Racial                                  62\n",
              "Native Hawaiian or Other Pacific Islander     37\n",
              "Client refused                                12\n",
              "Asian                                          3\n",
              "Client doesn't know                            3\n",
              "Name: 3.4 Race, dtype: int64"
            ]
          },
          "metadata": {
            "tags": []
          },
          "execution_count": 323
        }
      ]
    },
    {
      "cell_type": "code",
      "metadata": {
        "id": "HNst61il6Sl0",
        "colab_type": "code",
        "colab": {}
      },
      "source": [
        "white_df = df['3.4 Race'].str.contains('White')\n",
        "black_df = df['3.4 Race'].str.contains('Black or African American')\n",
        "am_ind_df = df['3.4 Race'].str.contains('American Indian or Alaska Native')\n",
        "multi_racial_df = df['3.4 Race'].str.contains('Multi-Racial')\n",
        "native_amer_df = df['3.4 Race'].str.contains('Native Hawaiian or Other Pacific Islander')\n",
        "client_refused_df = df['3.4 Race'].str.contains('Client Refused')\n",
        "client_dnt_knw_df = df['3.4 Race'].str.contains(\"Client doesn't know\")"
      ],
      "execution_count": 0,
      "outputs": []
    },
    {
      "cell_type": "code",
      "metadata": {
        "id": "Qwru_yYIoQgr",
        "colab_type": "code",
        "colab": {}
      },
      "source": [
        "f = white_df.sum()\n",
        "g = black_df.sum()\n",
        "h = am_ind_df.sum()\n",
        "i = multi_racial_df.sum()\n",
        "j = native_amer_df.sum()\n",
        "k = client_refused_df.sum()\n",
        "l = client_dnt_knw_df.sum()"
      ],
      "execution_count": 0,
      "outputs": []
    },
    {
      "cell_type": "code",
      "metadata": {
        "id": "HK0OJz9ZVDPc",
        "colab_type": "code",
        "colab": {}
      },
      "source": [
        "# list of strings \n",
        "\n",
        "lst3 = ['White', 'Black or African American', 'American Indian or Alaska Native',\n",
        "       'Multi-Racial', 'Native Hawaiian or Other Pacific Islander', \n",
        "       'Client refused', \"Client doesn't know\"] \n",
        "  \n",
        "# list of int \n",
        "lst4 = [f, g, h, i, j, k, l] \n",
        "  \n",
        "# Calling DataFrame constructor after zipping \n",
        "# both lists, with columns specified \n",
        "race_breakdown = pd.DataFrame(list(zip(lst3, lst4)), \n",
        "               columns =['Race', 'Total']) "
      ],
      "execution_count": 0,
      "outputs": []
    },
    {
      "cell_type": "code",
      "metadata": {
        "id": "YGjfMMJTnOB-",
        "colab_type": "code",
        "outputId": "707161f4-45f0-4def-b274-66b01edc315b",
        "colab": {
          "base_uri": "https://localhost:8080/",
          "height": 617
        }
      },
      "source": [
        "px.bar(race_breakdown, x='Race', y='Total',  text='Total', title='Breakdown of Races', color='Race')"
      ],
      "execution_count": 0,
      "outputs": [
        {
          "output_type": "display_data",
          "data": {
            "text/html": [
              "<html>\n",
              "<head><meta charset=\"utf-8\" /></head>\n",
              "<body>\n",
              "    <div>\n",
              "            <script src=\"https://cdnjs.cloudflare.com/ajax/libs/mathjax/2.7.5/MathJax.js?config=TeX-AMS-MML_SVG\"></script><script type=\"text/javascript\">if (window.MathJax) {MathJax.Hub.Config({SVG: {font: \"STIX-Web\"}});}</script>\n",
              "                <script type=\"text/javascript\">window.PlotlyConfig = {MathJaxConfig: 'local'};</script>\n",
              "        <script src=\"https://cdn.plot.ly/plotly-latest.min.js\"></script>    \n",
              "            <div id=\"f2fb6e7a-9821-4a81-a32f-beee234676f7\" class=\"plotly-graph-div\" style=\"height:600px; width:100%;\"></div>\n",
              "            <script type=\"text/javascript\">\n",
              "                \n",
              "                    window.PLOTLYENV=window.PLOTLYENV || {};\n",
              "                    \n",
              "                if (document.getElementById(\"f2fb6e7a-9821-4a81-a32f-beee234676f7\")) {\n",
              "                    Plotly.newPlot(\n",
              "                        'f2fb6e7a-9821-4a81-a32f-beee234676f7',\n",
              "                        [{\"alignmentgroup\": \"True\", \"hoverlabel\": {\"namelength\": 0}, \"hovertemplate\": \"Race=%{x}<br>Total=%{text}\", \"legendgroup\": \"Race=White\", \"marker\": {\"color\": \"#636efa\"}, \"name\": \"Race=White\", \"offsetgroup\": \"Race=White\", \"orientation\": \"v\", \"showlegend\": true, \"text\": [488.0], \"textposition\": \"auto\", \"type\": \"bar\", \"x\": [\"White\"], \"xaxis\": \"x\", \"y\": [488], \"yaxis\": \"y\"}, {\"alignmentgroup\": \"True\", \"hoverlabel\": {\"namelength\": 0}, \"hovertemplate\": \"Race=%{x}<br>Total=%{text}\", \"legendgroup\": \"Race=Black or African American\", \"marker\": {\"color\": \"#EF553B\"}, \"name\": \"Race=Black or African American\", \"offsetgroup\": \"Race=Black or African American\", \"orientation\": \"v\", \"showlegend\": true, \"text\": [64.0], \"textposition\": \"auto\", \"type\": \"bar\", \"x\": [\"Black or African American\"], \"xaxis\": \"x\", \"y\": [64], \"yaxis\": \"y\"}, {\"alignmentgroup\": \"True\", \"hoverlabel\": {\"namelength\": 0}, \"hovertemplate\": \"Race=%{x}<br>Total=%{text}\", \"legendgroup\": \"Race=American Indian or Alaska Native\", \"marker\": {\"color\": \"#00cc96\"}, \"name\": \"Race=American Indian or Alaska Native\", \"offsetgroup\": \"Race=American Indian or Alaska Native\", \"orientation\": \"v\", \"showlegend\": true, \"text\": [93.0], \"textposition\": \"auto\", \"type\": \"bar\", \"x\": [\"American Indian or Alaska Native\"], \"xaxis\": \"x\", \"y\": [93], \"yaxis\": \"y\"}, {\"alignmentgroup\": \"True\", \"hoverlabel\": {\"namelength\": 0}, \"hovertemplate\": \"Race=%{x}<br>Total=%{text}\", \"legendgroup\": \"Race=Multi-Racial\", \"marker\": {\"color\": \"#ab63fa\"}, \"name\": \"Race=Multi-Racial\", \"offsetgroup\": \"Race=Multi-Racial\", \"orientation\": \"v\", \"showlegend\": true, \"text\": [62.0], \"textposition\": \"auto\", \"type\": \"bar\", \"x\": [\"Multi-Racial\"], \"xaxis\": \"x\", \"y\": [62], \"yaxis\": \"y\"}, {\"alignmentgroup\": \"True\", \"hoverlabel\": {\"namelength\": 0}, \"hovertemplate\": \"Race=%{x}<br>Total=%{text}\", \"legendgroup\": \"Race=Native Hawaiian or Other Pacific Islander\", \"marker\": {\"color\": \"#FFA15A\"}, \"name\": \"Race=Native Hawaiian or Other Pacific Islander\", \"offsetgroup\": \"Race=Native Hawaiian or Other Pacific Islander\", \"orientation\": \"v\", \"showlegend\": true, \"text\": [37.0], \"textposition\": \"auto\", \"type\": \"bar\", \"x\": [\"Native Hawaiian or Other Pacific Islander\"], \"xaxis\": \"x\", \"y\": [37], \"yaxis\": \"y\"}, {\"alignmentgroup\": \"True\", \"hoverlabel\": {\"namelength\": 0}, \"hovertemplate\": \"Race=%{x}<br>Total=%{text}\", \"legendgroup\": \"Race=Client refused\", \"marker\": {\"color\": \"#19d3f3\"}, \"name\": \"Race=Client refused\", \"offsetgroup\": \"Race=Client refused\", \"orientation\": \"v\", \"showlegend\": true, \"text\": [0.0], \"textposition\": \"auto\", \"type\": \"bar\", \"x\": [\"Client refused\"], \"xaxis\": \"x\", \"y\": [0], \"yaxis\": \"y\"}, {\"alignmentgroup\": \"True\", \"hoverlabel\": {\"namelength\": 0}, \"hovertemplate\": \"Race=%{x}<br>Total=%{text}\", \"legendgroup\": \"Race=Client doesn't know\", \"marker\": {\"color\": \"#FF6692\"}, \"name\": \"Race=Client doesn't know\", \"offsetgroup\": \"Race=Client doesn't know\", \"orientation\": \"v\", \"showlegend\": true, \"text\": [3.0], \"textposition\": \"auto\", \"type\": \"bar\", \"x\": [\"Client doesn't know\"], \"xaxis\": \"x\", \"y\": [3], \"yaxis\": \"y\"}],\n",
              "                        {\"barmode\": \"relative\", \"height\": 600, \"legend\": {\"tracegroupgap\": 0}, \"template\": {\"data\": {\"bar\": [{\"error_x\": {\"color\": \"#2a3f5f\"}, \"error_y\": {\"color\": \"#2a3f5f\"}, \"marker\": {\"line\": {\"color\": \"#E5ECF6\", \"width\": 0.5}}, \"type\": \"bar\"}], \"barpolar\": [{\"marker\": {\"line\": {\"color\": \"#E5ECF6\", \"width\": 0.5}}, \"type\": \"barpolar\"}], \"carpet\": [{\"aaxis\": {\"endlinecolor\": \"#2a3f5f\", \"gridcolor\": \"white\", \"linecolor\": \"white\", \"minorgridcolor\": \"white\", \"startlinecolor\": \"#2a3f5f\"}, \"baxis\": {\"endlinecolor\": \"#2a3f5f\", \"gridcolor\": \"white\", \"linecolor\": \"white\", \"minorgridcolor\": \"white\", \"startlinecolor\": \"#2a3f5f\"}, \"type\": \"carpet\"}], \"choropleth\": [{\"colorbar\": {\"outlinewidth\": 0, \"ticks\": \"\"}, \"type\": \"choropleth\"}], \"contour\": [{\"colorbar\": {\"outlinewidth\": 0, \"ticks\": \"\"}, \"colorscale\": [[0.0, \"#0d0887\"], [0.1111111111111111, \"#46039f\"], [0.2222222222222222, \"#7201a8\"], [0.3333333333333333, \"#9c179e\"], [0.4444444444444444, \"#bd3786\"], [0.5555555555555556, \"#d8576b\"], [0.6666666666666666, \"#ed7953\"], [0.7777777777777778, \"#fb9f3a\"], [0.8888888888888888, \"#fdca26\"], [1.0, \"#f0f921\"]], \"type\": \"contour\"}], \"contourcarpet\": [{\"colorbar\": {\"outlinewidth\": 0, \"ticks\": \"\"}, \"type\": \"contourcarpet\"}], \"heatmap\": [{\"colorbar\": {\"outlinewidth\": 0, \"ticks\": \"\"}, \"colorscale\": [[0.0, \"#0d0887\"], [0.1111111111111111, \"#46039f\"], [0.2222222222222222, \"#7201a8\"], [0.3333333333333333, \"#9c179e\"], [0.4444444444444444, \"#bd3786\"], [0.5555555555555556, \"#d8576b\"], [0.6666666666666666, \"#ed7953\"], [0.7777777777777778, \"#fb9f3a\"], [0.8888888888888888, \"#fdca26\"], [1.0, \"#f0f921\"]], \"type\": \"heatmap\"}], \"heatmapgl\": [{\"colorbar\": {\"outlinewidth\": 0, \"ticks\": \"\"}, \"colorscale\": [[0.0, \"#0d0887\"], [0.1111111111111111, \"#46039f\"], [0.2222222222222222, \"#7201a8\"], [0.3333333333333333, \"#9c179e\"], [0.4444444444444444, \"#bd3786\"], [0.5555555555555556, \"#d8576b\"], [0.6666666666666666, \"#ed7953\"], [0.7777777777777778, \"#fb9f3a\"], [0.8888888888888888, \"#fdca26\"], [1.0, \"#f0f921\"]], \"type\": \"heatmapgl\"}], \"histogram\": [{\"marker\": {\"colorbar\": {\"outlinewidth\": 0, \"ticks\": \"\"}}, \"type\": \"histogram\"}], \"histogram2d\": [{\"colorbar\": {\"outlinewidth\": 0, \"ticks\": \"\"}, \"colorscale\": [[0.0, \"#0d0887\"], [0.1111111111111111, \"#46039f\"], [0.2222222222222222, \"#7201a8\"], [0.3333333333333333, \"#9c179e\"], [0.4444444444444444, \"#bd3786\"], [0.5555555555555556, \"#d8576b\"], [0.6666666666666666, \"#ed7953\"], [0.7777777777777778, \"#fb9f3a\"], [0.8888888888888888, \"#fdca26\"], [1.0, \"#f0f921\"]], \"type\": \"histogram2d\"}], \"histogram2dcontour\": [{\"colorbar\": {\"outlinewidth\": 0, \"ticks\": \"\"}, \"colorscale\": [[0.0, \"#0d0887\"], [0.1111111111111111, \"#46039f\"], [0.2222222222222222, \"#7201a8\"], [0.3333333333333333, \"#9c179e\"], [0.4444444444444444, \"#bd3786\"], [0.5555555555555556, \"#d8576b\"], [0.6666666666666666, \"#ed7953\"], [0.7777777777777778, \"#fb9f3a\"], [0.8888888888888888, \"#fdca26\"], [1.0, \"#f0f921\"]], \"type\": \"histogram2dcontour\"}], \"mesh3d\": [{\"colorbar\": {\"outlinewidth\": 0, \"ticks\": \"\"}, \"type\": \"mesh3d\"}], \"parcoords\": [{\"line\": {\"colorbar\": {\"outlinewidth\": 0, \"ticks\": \"\"}}, \"type\": \"parcoords\"}], \"scatter\": [{\"marker\": {\"colorbar\": {\"outlinewidth\": 0, \"ticks\": \"\"}}, \"type\": \"scatter\"}], \"scatter3d\": [{\"line\": {\"colorbar\": {\"outlinewidth\": 0, \"ticks\": \"\"}}, \"marker\": {\"colorbar\": {\"outlinewidth\": 0, \"ticks\": \"\"}}, \"type\": \"scatter3d\"}], \"scattercarpet\": [{\"marker\": {\"colorbar\": {\"outlinewidth\": 0, \"ticks\": \"\"}}, \"type\": \"scattercarpet\"}], \"scattergeo\": [{\"marker\": {\"colorbar\": {\"outlinewidth\": 0, \"ticks\": \"\"}}, \"type\": \"scattergeo\"}], \"scattergl\": [{\"marker\": {\"colorbar\": {\"outlinewidth\": 0, \"ticks\": \"\"}}, \"type\": \"scattergl\"}], \"scattermapbox\": [{\"marker\": {\"colorbar\": {\"outlinewidth\": 0, \"ticks\": \"\"}}, \"type\": \"scattermapbox\"}], \"scatterpolar\": [{\"marker\": {\"colorbar\": {\"outlinewidth\": 0, \"ticks\": \"\"}}, \"type\": \"scatterpolar\"}], \"scatterpolargl\": [{\"marker\": {\"colorbar\": {\"outlinewidth\": 0, \"ticks\": \"\"}}, \"type\": \"scatterpolargl\"}], \"scatterternary\": [{\"marker\": {\"colorbar\": {\"outlinewidth\": 0, \"ticks\": \"\"}}, \"type\": \"scatterternary\"}], \"surface\": [{\"colorbar\": {\"outlinewidth\": 0, \"ticks\": \"\"}, \"colorscale\": [[0.0, \"#0d0887\"], [0.1111111111111111, \"#46039f\"], [0.2222222222222222, \"#7201a8\"], [0.3333333333333333, \"#9c179e\"], [0.4444444444444444, \"#bd3786\"], [0.5555555555555556, \"#d8576b\"], [0.6666666666666666, \"#ed7953\"], [0.7777777777777778, \"#fb9f3a\"], [0.8888888888888888, \"#fdca26\"], [1.0, \"#f0f921\"]], \"type\": \"surface\"}], \"table\": [{\"cells\": {\"fill\": {\"color\": \"#EBF0F8\"}, \"line\": {\"color\": \"white\"}}, \"header\": {\"fill\": {\"color\": \"#C8D4E3\"}, \"line\": {\"color\": \"white\"}}, \"type\": \"table\"}]}, \"layout\": {\"annotationdefaults\": {\"arrowcolor\": \"#2a3f5f\", \"arrowhead\": 0, \"arrowwidth\": 1}, \"colorscale\": {\"diverging\": [[0, \"#8e0152\"], [0.1, \"#c51b7d\"], [0.2, \"#de77ae\"], [0.3, \"#f1b6da\"], [0.4, \"#fde0ef\"], [0.5, \"#f7f7f7\"], [0.6, \"#e6f5d0\"], [0.7, \"#b8e186\"], [0.8, \"#7fbc41\"], [0.9, \"#4d9221\"], [1, \"#276419\"]], \"sequential\": [[0.0, \"#0d0887\"], [0.1111111111111111, \"#46039f\"], [0.2222222222222222, \"#7201a8\"], [0.3333333333333333, \"#9c179e\"], [0.4444444444444444, \"#bd3786\"], [0.5555555555555556, \"#d8576b\"], [0.6666666666666666, \"#ed7953\"], [0.7777777777777778, \"#fb9f3a\"], [0.8888888888888888, \"#fdca26\"], [1.0, \"#f0f921\"]], \"sequentialminus\": [[0.0, \"#0d0887\"], [0.1111111111111111, \"#46039f\"], [0.2222222222222222, \"#7201a8\"], [0.3333333333333333, \"#9c179e\"], [0.4444444444444444, \"#bd3786\"], [0.5555555555555556, \"#d8576b\"], [0.6666666666666666, \"#ed7953\"], [0.7777777777777778, \"#fb9f3a\"], [0.8888888888888888, \"#fdca26\"], [1.0, \"#f0f921\"]]}, \"colorway\": [\"#636efa\", \"#EF553B\", \"#00cc96\", \"#ab63fa\", \"#FFA15A\", \"#19d3f3\", \"#FF6692\", \"#B6E880\", \"#FF97FF\", \"#FECB52\"], \"font\": {\"color\": \"#2a3f5f\"}, \"geo\": {\"bgcolor\": \"white\", \"lakecolor\": \"white\", \"landcolor\": \"#E5ECF6\", \"showlakes\": true, \"showland\": true, \"subunitcolor\": \"white\"}, \"hoverlabel\": {\"align\": \"left\"}, \"hovermode\": \"closest\", \"mapbox\": {\"style\": \"light\"}, \"paper_bgcolor\": \"white\", \"plot_bgcolor\": \"#E5ECF6\", \"polar\": {\"angularaxis\": {\"gridcolor\": \"white\", \"linecolor\": \"white\", \"ticks\": \"\"}, \"bgcolor\": \"#E5ECF6\", \"radialaxis\": {\"gridcolor\": \"white\", \"linecolor\": \"white\", \"ticks\": \"\"}}, \"scene\": {\"xaxis\": {\"backgroundcolor\": \"#E5ECF6\", \"gridcolor\": \"white\", \"gridwidth\": 2, \"linecolor\": \"white\", \"showbackground\": true, \"ticks\": \"\", \"zerolinecolor\": \"white\"}, \"yaxis\": {\"backgroundcolor\": \"#E5ECF6\", \"gridcolor\": \"white\", \"gridwidth\": 2, \"linecolor\": \"white\", \"showbackground\": true, \"ticks\": \"\", \"zerolinecolor\": \"white\"}, \"zaxis\": {\"backgroundcolor\": \"#E5ECF6\", \"gridcolor\": \"white\", \"gridwidth\": 2, \"linecolor\": \"white\", \"showbackground\": true, \"ticks\": \"\", \"zerolinecolor\": \"white\"}}, \"shapedefaults\": {\"line\": {\"color\": \"#2a3f5f\"}}, \"ternary\": {\"aaxis\": {\"gridcolor\": \"white\", \"linecolor\": \"white\", \"ticks\": \"\"}, \"baxis\": {\"gridcolor\": \"white\", \"linecolor\": \"white\", \"ticks\": \"\"}, \"bgcolor\": \"#E5ECF6\", \"caxis\": {\"gridcolor\": \"white\", \"linecolor\": \"white\", \"ticks\": \"\"}}, \"title\": {\"x\": 0.05}, \"xaxis\": {\"automargin\": true, \"gridcolor\": \"white\", \"linecolor\": \"white\", \"ticks\": \"\", \"zerolinecolor\": \"white\", \"zerolinewidth\": 2}, \"yaxis\": {\"automargin\": true, \"gridcolor\": \"white\", \"linecolor\": \"white\", \"ticks\": \"\", \"zerolinecolor\": \"white\", \"zerolinewidth\": 2}}}, \"title\": {\"text\": \"Breakdown of Races\"}, \"xaxis\": {\"anchor\": \"y\", \"categoryarray\": [\"White\", \"Black or African American\", \"American Indian or Alaska Native\", \"Multi-Racial\", \"Native Hawaiian or Other Pacific Islander\", \"Client refused\", \"Client doesn't know\"], \"categoryorder\": \"array\", \"domain\": [0.0, 0.98], \"title\": {\"text\": \"Race\"}}, \"yaxis\": {\"anchor\": \"x\", \"domain\": [0.0, 1.0], \"title\": {\"text\": \"Total\"}}},\n",
              "                        {\"responsive\": true}\n",
              "                    ).then(function(){\n",
              "                            \n",
              "var gd = document.getElementById('f2fb6e7a-9821-4a81-a32f-beee234676f7');\n",
              "var x = new MutationObserver(function (mutations, observer) {{\n",
              "        var display = window.getComputedStyle(gd).display;\n",
              "        if (!display || display === 'none') {{\n",
              "            console.log([gd, 'removed!']);\n",
              "            Plotly.purge(gd);\n",
              "            observer.disconnect();\n",
              "        }}\n",
              "}});\n",
              "\n",
              "// Listen for the removal of the full notebook cells\n",
              "var notebookContainer = gd.closest('#notebook-container');\n",
              "if (notebookContainer) {{\n",
              "    x.observe(notebookContainer, {childList: true});\n",
              "}}\n",
              "\n",
              "// Listen for the clearing of the current output cell\n",
              "var outputEl = gd.closest('.output');\n",
              "if (outputEl) {{\n",
              "    x.observe(outputEl, {childList: true});\n",
              "}}\n",
              "\n",
              "                        })\n",
              "                };\n",
              "                \n",
              "            </script>\n",
              "        </div>\n",
              "</body>\n",
              "</html>"
            ]
          },
          "metadata": {
            "tags": []
          }
        }
      ]
    },
    {
      "cell_type": "code",
      "metadata": {
        "id": "9397IkLBsVY3",
        "colab_type": "code",
        "colab": {}
      },
      "source": [
        "non_his_lat_df = df['3.5 Ethnicity'].str.contains('Non-Hispanic/Latino')\n",
        "his_lat_df = df['3.5 Ethnicity'].str.contains('Hispanic/Latino')\n",
        "cli_ref_df = df['3.5 Ethnicity'].str.contains('Client refused')\n",
        "cli_dnt_know_df = df['3.5 Ethnicity'].str.contains(\"Client doesn't know\")"
      ],
      "execution_count": 0,
      "outputs": []
    },
    {
      "cell_type": "code",
      "metadata": {
        "id": "PlyfefW5snEp",
        "colab_type": "code",
        "colab": {}
      },
      "source": [
        "m = non_his_lat_df.sum()\n",
        "n = his_lat_df.sum()\n",
        "o = cli_ref_df.sum()\n",
        "p = cli_dnt_know_df.sum()\n"
      ],
      "execution_count": 0,
      "outputs": []
    },
    {
      "cell_type": "code",
      "metadata": {
        "id": "TfydmP_cwSbA",
        "colab_type": "code",
        "colab": {}
      },
      "source": [
        "# list of strings \n",
        "\n",
        "lst5 = ['White', 'Black or African American', 'American Indian or Alaska Native',\n",
        "       'Multi-Racial', 'Native Hawaiian or Other Pacific Islander', \n",
        "       'Client refused', \"Client doesn't know\"] \n",
        "  \n",
        "# list of int \n",
        "lst6 = [m, n, o, p] \n",
        "  \n",
        "# Calling DataFrame constructor after zipping \n",
        "# both lists, with columns specified \n",
        "ethnic_breakdown = pd.DataFrame(list(zip(lst5, lst6)), \n",
        "               columns =['Ethnicity', 'Total']) "
      ],
      "execution_count": 0,
      "outputs": []
    },
    {
      "cell_type": "code",
      "metadata": {
        "id": "iAhTukowwebD",
        "colab_type": "code",
        "outputId": "49f9e49c-5ec3-4c45-ed64-d6677e962994",
        "colab": {
          "base_uri": "https://localhost:8080/",
          "height": 617
        }
      },
      "source": [
        "px.bar(ethnic_breakdown, x='Ethnicity', y='Total',  text='Total', title='Breakdown of Ethnicity', color='Ethnicity')"
      ],
      "execution_count": 0,
      "outputs": [
        {
          "output_type": "display_data",
          "data": {
            "text/html": [
              "<html>\n",
              "<head><meta charset=\"utf-8\" /></head>\n",
              "<body>\n",
              "    <div>\n",
              "            <script src=\"https://cdnjs.cloudflare.com/ajax/libs/mathjax/2.7.5/MathJax.js?config=TeX-AMS-MML_SVG\"></script><script type=\"text/javascript\">if (window.MathJax) {MathJax.Hub.Config({SVG: {font: \"STIX-Web\"}});}</script>\n",
              "                <script type=\"text/javascript\">window.PlotlyConfig = {MathJaxConfig: 'local'};</script>\n",
              "        <script src=\"https://cdn.plot.ly/plotly-latest.min.js\"></script>    \n",
              "            <div id=\"a354433f-11d7-42ce-b5a9-d6a26f54c234\" class=\"plotly-graph-div\" style=\"height:600px; width:100%;\"></div>\n",
              "            <script type=\"text/javascript\">\n",
              "                \n",
              "                    window.PLOTLYENV=window.PLOTLYENV || {};\n",
              "                    \n",
              "                if (document.getElementById(\"a354433f-11d7-42ce-b5a9-d6a26f54c234\")) {\n",
              "                    Plotly.newPlot(\n",
              "                        'a354433f-11d7-42ce-b5a9-d6a26f54c234',\n",
              "                        [{\"alignmentgroup\": \"True\", \"hoverlabel\": {\"namelength\": 0}, \"hovertemplate\": \"Ethnicity=%{x}<br>Total=%{text}\", \"legendgroup\": \"Ethnicity=White\", \"marker\": {\"color\": \"#636efa\"}, \"name\": \"Ethnicity=White\", \"offsetgroup\": \"Ethnicity=White\", \"orientation\": \"v\", \"showlegend\": true, \"text\": [658.0], \"textposition\": \"auto\", \"type\": \"bar\", \"x\": [\"White\"], \"xaxis\": \"x\", \"y\": [658], \"yaxis\": \"y\"}, {\"alignmentgroup\": \"True\", \"hoverlabel\": {\"namelength\": 0}, \"hovertemplate\": \"Ethnicity=%{x}<br>Total=%{text}\", \"legendgroup\": \"Ethnicity=Black or African American\", \"marker\": {\"color\": \"#EF553B\"}, \"name\": \"Ethnicity=Black or African American\", \"offsetgroup\": \"Ethnicity=Black or African American\", \"orientation\": \"v\", \"showlegend\": true, \"text\": [751.0], \"textposition\": \"auto\", \"type\": \"bar\", \"x\": [\"Black or African American\"], \"xaxis\": \"x\", \"y\": [751], \"yaxis\": \"y\"}, {\"alignmentgroup\": \"True\", \"hoverlabel\": {\"namelength\": 0}, \"hovertemplate\": \"Ethnicity=%{x}<br>Total=%{text}\", \"legendgroup\": \"Ethnicity=American Indian or Alaska Native\", \"marker\": {\"color\": \"#00cc96\"}, \"name\": \"Ethnicity=American Indian or Alaska Native\", \"offsetgroup\": \"Ethnicity=American Indian or Alaska Native\", \"orientation\": \"v\", \"showlegend\": true, \"text\": [10.0], \"textposition\": \"auto\", \"type\": \"bar\", \"x\": [\"American Indian or Alaska Native\"], \"xaxis\": \"x\", \"y\": [10], \"yaxis\": \"y\"}, {\"alignmentgroup\": \"True\", \"hoverlabel\": {\"namelength\": 0}, \"hovertemplate\": \"Ethnicity=%{x}<br>Total=%{text}\", \"legendgroup\": \"Ethnicity=Multi-Racial\", \"marker\": {\"color\": \"#ab63fa\"}, \"name\": \"Ethnicity=Multi-Racial\", \"offsetgroup\": \"Ethnicity=Multi-Racial\", \"orientation\": \"v\", \"showlegend\": true, \"text\": [0.0], \"textposition\": \"auto\", \"type\": \"bar\", \"x\": [\"Multi-Racial\"], \"xaxis\": \"x\", \"y\": [0], \"yaxis\": \"y\"}],\n",
              "                        {\"barmode\": \"relative\", \"height\": 600, \"legend\": {\"tracegroupgap\": 0}, \"template\": {\"data\": {\"bar\": [{\"error_x\": {\"color\": \"#2a3f5f\"}, \"error_y\": {\"color\": \"#2a3f5f\"}, \"marker\": {\"line\": {\"color\": \"#E5ECF6\", \"width\": 0.5}}, \"type\": \"bar\"}], \"barpolar\": [{\"marker\": {\"line\": {\"color\": \"#E5ECF6\", \"width\": 0.5}}, \"type\": \"barpolar\"}], \"carpet\": [{\"aaxis\": {\"endlinecolor\": \"#2a3f5f\", \"gridcolor\": \"white\", \"linecolor\": \"white\", \"minorgridcolor\": \"white\", \"startlinecolor\": \"#2a3f5f\"}, \"baxis\": {\"endlinecolor\": \"#2a3f5f\", \"gridcolor\": \"white\", \"linecolor\": \"white\", \"minorgridcolor\": \"white\", \"startlinecolor\": \"#2a3f5f\"}, \"type\": \"carpet\"}], \"choropleth\": [{\"colorbar\": {\"outlinewidth\": 0, \"ticks\": \"\"}, \"type\": \"choropleth\"}], \"contour\": [{\"colorbar\": {\"outlinewidth\": 0, \"ticks\": \"\"}, \"colorscale\": [[0.0, \"#0d0887\"], [0.1111111111111111, \"#46039f\"], [0.2222222222222222, \"#7201a8\"], [0.3333333333333333, \"#9c179e\"], [0.4444444444444444, \"#bd3786\"], [0.5555555555555556, \"#d8576b\"], [0.6666666666666666, \"#ed7953\"], [0.7777777777777778, \"#fb9f3a\"], [0.8888888888888888, \"#fdca26\"], [1.0, \"#f0f921\"]], \"type\": \"contour\"}], \"contourcarpet\": [{\"colorbar\": {\"outlinewidth\": 0, \"ticks\": \"\"}, \"type\": \"contourcarpet\"}], \"heatmap\": [{\"colorbar\": {\"outlinewidth\": 0, \"ticks\": \"\"}, \"colorscale\": [[0.0, \"#0d0887\"], [0.1111111111111111, \"#46039f\"], [0.2222222222222222, \"#7201a8\"], [0.3333333333333333, \"#9c179e\"], [0.4444444444444444, \"#bd3786\"], [0.5555555555555556, \"#d8576b\"], [0.6666666666666666, \"#ed7953\"], [0.7777777777777778, \"#fb9f3a\"], [0.8888888888888888, \"#fdca26\"], [1.0, \"#f0f921\"]], \"type\": \"heatmap\"}], \"heatmapgl\": [{\"colorbar\": {\"outlinewidth\": 0, \"ticks\": \"\"}, \"colorscale\": [[0.0, \"#0d0887\"], [0.1111111111111111, \"#46039f\"], [0.2222222222222222, \"#7201a8\"], [0.3333333333333333, \"#9c179e\"], [0.4444444444444444, \"#bd3786\"], [0.5555555555555556, \"#d8576b\"], [0.6666666666666666, \"#ed7953\"], [0.7777777777777778, \"#fb9f3a\"], [0.8888888888888888, \"#fdca26\"], [1.0, \"#f0f921\"]], \"type\": \"heatmapgl\"}], \"histogram\": [{\"marker\": {\"colorbar\": {\"outlinewidth\": 0, \"ticks\": \"\"}}, \"type\": \"histogram\"}], \"histogram2d\": [{\"colorbar\": {\"outlinewidth\": 0, \"ticks\": \"\"}, \"colorscale\": [[0.0, \"#0d0887\"], [0.1111111111111111, \"#46039f\"], [0.2222222222222222, \"#7201a8\"], [0.3333333333333333, \"#9c179e\"], [0.4444444444444444, \"#bd3786\"], [0.5555555555555556, \"#d8576b\"], [0.6666666666666666, \"#ed7953\"], [0.7777777777777778, \"#fb9f3a\"], [0.8888888888888888, \"#fdca26\"], [1.0, \"#f0f921\"]], \"type\": \"histogram2d\"}], \"histogram2dcontour\": [{\"colorbar\": {\"outlinewidth\": 0, \"ticks\": \"\"}, \"colorscale\": [[0.0, \"#0d0887\"], [0.1111111111111111, \"#46039f\"], [0.2222222222222222, \"#7201a8\"], [0.3333333333333333, \"#9c179e\"], [0.4444444444444444, \"#bd3786\"], [0.5555555555555556, \"#d8576b\"], [0.6666666666666666, \"#ed7953\"], [0.7777777777777778, \"#fb9f3a\"], [0.8888888888888888, \"#fdca26\"], [1.0, \"#f0f921\"]], \"type\": \"histogram2dcontour\"}], \"mesh3d\": [{\"colorbar\": {\"outlinewidth\": 0, \"ticks\": \"\"}, \"type\": \"mesh3d\"}], \"parcoords\": [{\"line\": {\"colorbar\": {\"outlinewidth\": 0, \"ticks\": \"\"}}, \"type\": \"parcoords\"}], \"scatter\": [{\"marker\": {\"colorbar\": {\"outlinewidth\": 0, \"ticks\": \"\"}}, \"type\": \"scatter\"}], \"scatter3d\": [{\"line\": {\"colorbar\": {\"outlinewidth\": 0, \"ticks\": \"\"}}, \"marker\": {\"colorbar\": {\"outlinewidth\": 0, \"ticks\": \"\"}}, \"type\": \"scatter3d\"}], \"scattercarpet\": [{\"marker\": {\"colorbar\": {\"outlinewidth\": 0, \"ticks\": \"\"}}, \"type\": \"scattercarpet\"}], \"scattergeo\": [{\"marker\": {\"colorbar\": {\"outlinewidth\": 0, \"ticks\": \"\"}}, \"type\": \"scattergeo\"}], \"scattergl\": [{\"marker\": {\"colorbar\": {\"outlinewidth\": 0, \"ticks\": \"\"}}, \"type\": \"scattergl\"}], \"scattermapbox\": [{\"marker\": {\"colorbar\": {\"outlinewidth\": 0, \"ticks\": \"\"}}, \"type\": \"scattermapbox\"}], \"scatterpolar\": [{\"marker\": {\"colorbar\": {\"outlinewidth\": 0, \"ticks\": \"\"}}, \"type\": \"scatterpolar\"}], \"scatterpolargl\": [{\"marker\": {\"colorbar\": {\"outlinewidth\": 0, \"ticks\": \"\"}}, \"type\": \"scatterpolargl\"}], \"scatterternary\": [{\"marker\": {\"colorbar\": {\"outlinewidth\": 0, \"ticks\": \"\"}}, \"type\": \"scatterternary\"}], \"surface\": [{\"colorbar\": {\"outlinewidth\": 0, \"ticks\": \"\"}, \"colorscale\": [[0.0, \"#0d0887\"], [0.1111111111111111, \"#46039f\"], [0.2222222222222222, \"#7201a8\"], [0.3333333333333333, \"#9c179e\"], [0.4444444444444444, \"#bd3786\"], [0.5555555555555556, \"#d8576b\"], [0.6666666666666666, \"#ed7953\"], [0.7777777777777778, \"#fb9f3a\"], [0.8888888888888888, \"#fdca26\"], [1.0, \"#f0f921\"]], \"type\": \"surface\"}], \"table\": [{\"cells\": {\"fill\": {\"color\": \"#EBF0F8\"}, \"line\": {\"color\": \"white\"}}, \"header\": {\"fill\": {\"color\": \"#C8D4E3\"}, \"line\": {\"color\": \"white\"}}, \"type\": \"table\"}]}, \"layout\": {\"annotationdefaults\": {\"arrowcolor\": \"#2a3f5f\", \"arrowhead\": 0, \"arrowwidth\": 1}, \"colorscale\": {\"diverging\": [[0, \"#8e0152\"], [0.1, \"#c51b7d\"], [0.2, \"#de77ae\"], [0.3, \"#f1b6da\"], [0.4, \"#fde0ef\"], [0.5, \"#f7f7f7\"], [0.6, \"#e6f5d0\"], [0.7, \"#b8e186\"], [0.8, \"#7fbc41\"], [0.9, \"#4d9221\"], [1, \"#276419\"]], \"sequential\": [[0.0, \"#0d0887\"], [0.1111111111111111, \"#46039f\"], [0.2222222222222222, \"#7201a8\"], [0.3333333333333333, \"#9c179e\"], [0.4444444444444444, \"#bd3786\"], [0.5555555555555556, \"#d8576b\"], [0.6666666666666666, \"#ed7953\"], [0.7777777777777778, \"#fb9f3a\"], [0.8888888888888888, \"#fdca26\"], [1.0, \"#f0f921\"]], \"sequentialminus\": [[0.0, \"#0d0887\"], [0.1111111111111111, \"#46039f\"], [0.2222222222222222, \"#7201a8\"], [0.3333333333333333, \"#9c179e\"], [0.4444444444444444, \"#bd3786\"], [0.5555555555555556, \"#d8576b\"], [0.6666666666666666, \"#ed7953\"], [0.7777777777777778, \"#fb9f3a\"], [0.8888888888888888, \"#fdca26\"], [1.0, \"#f0f921\"]]}, \"colorway\": [\"#636efa\", \"#EF553B\", \"#00cc96\", \"#ab63fa\", \"#FFA15A\", \"#19d3f3\", \"#FF6692\", \"#B6E880\", \"#FF97FF\", \"#FECB52\"], \"font\": {\"color\": \"#2a3f5f\"}, \"geo\": {\"bgcolor\": \"white\", \"lakecolor\": \"white\", \"landcolor\": \"#E5ECF6\", \"showlakes\": true, \"showland\": true, \"subunitcolor\": \"white\"}, \"hoverlabel\": {\"align\": \"left\"}, \"hovermode\": \"closest\", \"mapbox\": {\"style\": \"light\"}, \"paper_bgcolor\": \"white\", \"plot_bgcolor\": \"#E5ECF6\", \"polar\": {\"angularaxis\": {\"gridcolor\": \"white\", \"linecolor\": \"white\", \"ticks\": \"\"}, \"bgcolor\": \"#E5ECF6\", \"radialaxis\": {\"gridcolor\": \"white\", \"linecolor\": \"white\", \"ticks\": \"\"}}, \"scene\": {\"xaxis\": {\"backgroundcolor\": \"#E5ECF6\", \"gridcolor\": \"white\", \"gridwidth\": 2, \"linecolor\": \"white\", \"showbackground\": true, \"ticks\": \"\", \"zerolinecolor\": \"white\"}, \"yaxis\": {\"backgroundcolor\": \"#E5ECF6\", \"gridcolor\": \"white\", \"gridwidth\": 2, \"linecolor\": \"white\", \"showbackground\": true, \"ticks\": \"\", \"zerolinecolor\": \"white\"}, \"zaxis\": {\"backgroundcolor\": \"#E5ECF6\", \"gridcolor\": \"white\", \"gridwidth\": 2, \"linecolor\": \"white\", \"showbackground\": true, \"ticks\": \"\", \"zerolinecolor\": \"white\"}}, \"shapedefaults\": {\"line\": {\"color\": \"#2a3f5f\"}}, \"ternary\": {\"aaxis\": {\"gridcolor\": \"white\", \"linecolor\": \"white\", \"ticks\": \"\"}, \"baxis\": {\"gridcolor\": \"white\", \"linecolor\": \"white\", \"ticks\": \"\"}, \"bgcolor\": \"#E5ECF6\", \"caxis\": {\"gridcolor\": \"white\", \"linecolor\": \"white\", \"ticks\": \"\"}}, \"title\": {\"x\": 0.05}, \"xaxis\": {\"automargin\": true, \"gridcolor\": \"white\", \"linecolor\": \"white\", \"ticks\": \"\", \"zerolinecolor\": \"white\", \"zerolinewidth\": 2}, \"yaxis\": {\"automargin\": true, \"gridcolor\": \"white\", \"linecolor\": \"white\", \"ticks\": \"\", \"zerolinecolor\": \"white\", \"zerolinewidth\": 2}}}, \"title\": {\"text\": \"Breakdown of Ethnicity\"}, \"xaxis\": {\"anchor\": \"y\", \"categoryarray\": [\"White\", \"Black or African American\", \"American Indian or Alaska Native\", \"Multi-Racial\"], \"categoryorder\": \"array\", \"domain\": [0.0, 0.98], \"title\": {\"text\": \"Ethnicity\"}}, \"yaxis\": {\"anchor\": \"x\", \"domain\": [0.0, 1.0], \"title\": {\"text\": \"Total\"}}},\n",
              "                        {\"responsive\": true}\n",
              "                    ).then(function(){\n",
              "                            \n",
              "var gd = document.getElementById('a354433f-11d7-42ce-b5a9-d6a26f54c234');\n",
              "var x = new MutationObserver(function (mutations, observer) {{\n",
              "        var display = window.getComputedStyle(gd).display;\n",
              "        if (!display || display === 'none') {{\n",
              "            console.log([gd, 'removed!']);\n",
              "            Plotly.purge(gd);\n",
              "            observer.disconnect();\n",
              "        }}\n",
              "}});\n",
              "\n",
              "// Listen for the removal of the full notebook cells\n",
              "var notebookContainer = gd.closest('#notebook-container');\n",
              "if (notebookContainer) {{\n",
              "    x.observe(notebookContainer, {childList: true});\n",
              "}}\n",
              "\n",
              "// Listen for the clearing of the current output cell\n",
              "var outputEl = gd.closest('.output');\n",
              "if (outputEl) {{\n",
              "    x.observe(outputEl, {childList: true});\n",
              "}}\n",
              "\n",
              "                        })\n",
              "                };\n",
              "                \n",
              "            </script>\n",
              "        </div>\n",
              "</body>\n",
              "</html>"
            ]
          },
          "metadata": {
            "tags": []
          }
        }
      ]
    },
    {
      "cell_type": "code",
      "metadata": {
        "id": "7QeOR7W4VLN_",
        "colab_type": "code",
        "outputId": "bb3e312f-d9da-435b-dec2-87b63833d8c3",
        "colab": {
          "base_uri": "https://localhost:8080/",
          "height": 98
        }
      },
      "source": [
        "df['3.5 Ethnicity'].value_counts(normalize=True)"
      ],
      "execution_count": 0,
      "outputs": [
        {
          "output_type": "execute_result",
          "data": {
            "text/plain": [
              "Non-Hispanic/Latino    0.863517\n",
              "Hispanic/Latino        0.122047\n",
              "Client refused         0.013123\n",
              "Data not collected     0.001312\n",
              "Name: 3.5 Ethnicity, dtype: float64"
            ]
          },
          "metadata": {
            "tags": []
          },
          "execution_count": 332
        }
      ]
    },
    {
      "cell_type": "code",
      "metadata": {
        "id": "P_iSDRnpFaX5",
        "colab_type": "code",
        "outputId": "2394d781-7967-413f-b74c-21b0f4569751",
        "colab": {
          "base_uri": "https://localhost:8080/",
          "height": 98
        }
      },
      "source": [
        "df['3.5 Ethnicity'].value_counts()"
      ],
      "execution_count": 0,
      "outputs": [
        {
          "output_type": "execute_result",
          "data": {
            "text/plain": [
              "Non-Hispanic/Latino    658\n",
              "Hispanic/Latino         93\n",
              "Client refused          10\n",
              "Data not collected       1\n",
              "Name: 3.5 Ethnicity, dtype: int64"
            ]
          },
          "metadata": {
            "tags": []
          },
          "execution_count": 333
        }
      ]
    },
    {
      "cell_type": "code",
      "metadata": {
        "id": "UGd8DWOJF9NZ",
        "colab_type": "code",
        "colab": {}
      },
      "source": [
        "# create list of exit reasons to combine into one major \"exit to perm\" list\n",
        "\n",
        "exit_reasons = ['Rental by client with RRH or equivalent subsidy', \n",
        "                'Rental by client, no ongoing housing subsidy', \n",
        "                'Staying or living with family, permanent tenure', \n",
        "                'Rental by client, other ongoing housing subsidy',\n",
        "                'Permanent housing (other than RRH) for formerly homeless persons', \n",
        "                'Staying or living with friends, permanent tenure', \n",
        "                'Owned by client, with ongoing housing subsidy', \n",
        "                'Staying or living with friends, permanent tenure', \n",
        "                'Rental by client, VASH housing Subsidy'\n",
        "               ]\n",
        "# same thing for temp housing\n",
        "temp_reasons = ['Staying or living with family, temporary tenure (e.g., room, apartment or house)', \n",
        "               'Staying or living with friends, temporary tenure (e.g., room, apartment or house)', \n",
        "                \n",
        "               ]"
      ],
      "execution_count": 0,
      "outputs": []
    },
    {
      "cell_type": "code",
      "metadata": {
        "id": "quv3geheaxCl",
        "colab_type": "code",
        "colab": {}
      },
      "source": [
        "df['3.12 Exit Destination'].value_counts(normalize=True).to_excel('exit destinations by percent.xlsx')"
      ],
      "execution_count": 0,
      "outputs": []
    },
    {
      "cell_type": "code",
      "metadata": {
        "id": "KDxQB9QKPYgY",
        "colab_type": "code",
        "outputId": "b7e4cc40-96aa-43bb-decd-6483e2f2c637",
        "colab": {
          "base_uri": "https://localhost:8080/",
          "height": 66
        }
      },
      "source": [
        "#@title  { display-mode: \"both\" }\n",
        "# pull all exit destinations from main data file and sum up the totals of each destination, placing them into new df for calculations\n",
        "exits = df['3.12 Exit Destination'].value_counts()\n",
        "\n",
        "tempExits = df['3.12 Exit Destination'].isin(temp_reasons)\n",
        "temp_exit_percent = tempExits.sum() / exits.sum()\n",
        "#exits.sum()) * 100)\n",
        "# round tempExits to two decimals\n",
        "tempExits = round(temp_exit_percent*100, 2)\n",
        "#tempExits = 0\n",
        "\n",
        "# take sum of unknown exits and divide by total exits, then multiply by 100 to get percentage\n",
        "unknownExits = (((exits['Client refused']+exits['No exit interview completed']) \n",
        "                 / exits.sum()) * 100)\n",
        "\n",
        "# round the answer to nearest hundreth place\n",
        "unknownExits = (round(unknownExits, 2))\n",
        "\n",
        "# create three data frames made up of the three key words found in perm housing\n",
        "perm1 = df[df['3.12 Exit Destination'].str.contains('Rental') == True] \n",
        "perm2 = df[df['3.12 Exit Destination'].str.contains('permanent') == True]\n",
        "perm3 = df[df['3.12 Exit Destination'].str.contains('Permanent') == True]\n",
        "\n",
        "# merge the three dataframes into one to calculate exit to perm percent\n",
        "perm_almost_final = perm1.append(perm2)\n",
        "perm_final = perm_almost_final.append(perm3)\n",
        "perm_final['3.12 Exit Destination'].value_counts()\n",
        "perm_final_sums = perm_final['3.12 Exit Destination'].value_counts()\n",
        "perm_final = df['3.12 Exit Destination'].isin(exit_reasons)\n",
        "# calculate percentage of exits to perm\n",
        "perm_final_percent = perm_final_sums.sum() / exits.sum()\n",
        "\n",
        "#perm_final.sum()\n",
        "\n",
        "#perm_final_percent2 = perm_final.sum() / df['3.12 Exit Destination'].value_counts().sum()\n",
        "#round(perm_final_percent1, 2)\n",
        "print('Exit to Perm percent:',round(perm_final_percent*100, 2),'%')\n",
        "print('Unknown Exit percent:',unknownExits,'%')\n",
        "print('Temp Exit percent:',tempExits,'%')"
      ],
      "execution_count": 0,
      "outputs": [
        {
          "output_type": "stream",
          "text": [
            "Exit to Perm percent: 30.01 %\n",
            "Unknown Exit percent: 38.4 %\n",
            "Temp Exit percent: 6.03 %\n"
          ],
          "name": "stdout"
        }
      ]
    },
    {
      "cell_type": "code",
      "metadata": {
        "id": "xc4EINaraj2q",
        "colab_type": "code",
        "outputId": "1e7b1f2a-c7eb-4805-9943-f3be9995fcc9",
        "colab": {
          "base_uri": "https://localhost:8080/",
          "height": 33
        }
      },
      "source": [
        "27.4+37.73+4.73"
      ],
      "execution_count": 0,
      "outputs": [
        {
          "output_type": "execute_result",
          "data": {
            "text/plain": [
              "69.86"
            ]
          },
          "metadata": {
            "tags": []
          },
          "execution_count": 337
        }
      ]
    },
    {
      "cell_type": "code",
      "metadata": {
        "id": "8F_ygpcYPxCS",
        "colab_type": "code",
        "outputId": "5eb5c56c-1306-49e8-d7ed-c89c0210ccb5",
        "colab": {
          "base_uri": "https://localhost:8080/",
          "height": 33
        }
      },
      "source": [
        "#@title\n",
        "\n",
        "avgBedNights = df['Count of Bed Nights (Housing Check-ins)'].mean(skipna=True)\n",
        "\n",
        "avgBedNights = round(avgBedNights, 2)\n",
        "\n",
        "print(\"Average BedNights is:\", avgBedNights)"
      ],
      "execution_count": 0,
      "outputs": [
        {
          "output_type": "stream",
          "text": [
            "Average BedNights is: 26.66\n"
          ],
          "name": "stdout"
        }
      ]
    },
    {
      "cell_type": "code",
      "metadata": {
        "id": "hA1rc2SKKUg8",
        "colab_type": "code",
        "outputId": "d08005b2-0477-4c7b-ff80-70a0b126e88e",
        "colab": {
          "base_uri": "https://localhost:8080/",
          "height": 212
        }
      },
      "source": [
        "df.columns"
      ],
      "execution_count": 0,
      "outputs": [
        {
          "output_type": "execute_result",
          "data": {
            "text/plain": [
              "Index(['2.1 Organization Name', '2.2 Project Name', '2.4 ProjectType',\n",
              "       '2.5 Utilization Tracking Method (Invalid)',\n",
              "       '2.6 Federal Grant Programs', 'Enrollment Created By', '3.1 FirstName',\n",
              "       '3.1 LastName', '5.8 Personal ID', '5.9 Household ID',\n",
              "       ...\n",
              "       '4.2.9g Private Disability Income', '4.2.10h Workers Compensation',\n",
              "       '4.2.11i TANF', '4.2.12j General Assistance',\n",
              "       '4.2.13k Retirement (Social Security)',\n",
              "       '4.2.14l Pension from a Former Job', '4.2.15m Child Support',\n",
              "       '4.2.16n Alimony', '4.2.17o Other Income',\n",
              "       '4.2.18 Total Monthly Income'],\n",
              "      dtype='object', length=147)"
            ]
          },
          "metadata": {
            "tags": []
          },
          "execution_count": 339
        }
      ]
    },
    {
      "cell_type": "code",
      "metadata": {
        "id": "GQjWqKLhFpZQ",
        "colab_type": "code",
        "colab": {}
      },
      "source": [
        "import seaborn as sns\n",
        "import matplotlib.pyplot as plt\n",
        "%matplotlib inline\n",
        "df['Date'] = pd.to_datetime(df['3.10 Enroll Date'], infer_datetime_format=True)\n",
        "quat1 = pd.to_datetime('2018-04-01')\n",
        "quat2 = pd.to_datetime('2018-07-01')\n",
        "quat3 = pd.to_datetime('2018-10-01')\n",
        "quat4 = pd.to_datetime('2018-12-31')\n",
        "quat_1 = df[df.Date < quat1]\n",
        "quat_2 = df[(df['Date'] > quat1) & (df['Date'] < quat2)] \n",
        "quat_3 = df[(df['Date'] > quat2) & (df['Date'] < quat3)] \n",
        "quat_4 = df[df['Date'] > quat3] "
      ],
      "execution_count": 0,
      "outputs": []
    },
    {
      "cell_type": "code",
      "metadata": {
        "id": "voEbxRzaGOmj",
        "colab_type": "code",
        "colab": {}
      },
      "source": [
        "def served(X):\n",
        "  X = X.copy()\n",
        "  return(X['5.8 Personal ID'].value_counts().sum())\n"
      ],
      "execution_count": 0,
      "outputs": []
    },
    {
      "cell_type": "code",
      "metadata": {
        "id": "ORwS9lJFR6hK",
        "colab_type": "code",
        "colab": {}
      },
      "source": [
        "def served_h(X):\n",
        "  X = X.copy()\n",
        "  return(X['5.9 Household ID'].value_counts().unique().sum())\n"
      ],
      "execution_count": 0,
      "outputs": []
    },
    {
      "cell_type": "code",
      "metadata": {
        "id": "xbN1pOKqVN_K",
        "colab_type": "code",
        "outputId": "3995fede-7cb1-4bac-89f8-42dbb0c85107",
        "colab": {
          "base_uri": "https://localhost:8080/",
          "height": 33
        }
      },
      "source": [
        "df['5.9 Household ID'].value_counts().unique().sum()"
      ],
      "execution_count": 0,
      "outputs": [
        {
          "output_type": "execute_result",
          "data": {
            "text/plain": [
              "55"
            ]
          },
          "metadata": {
            "tags": []
          },
          "execution_count": 343
        }
      ]
    },
    {
      "cell_type": "code",
      "metadata": {
        "id": "Zp1XiI1QVUmF",
        "colab_type": "code",
        "outputId": "8b3e9c1d-798c-461c-bccc-d130a51a1513",
        "colab": {
          "base_uri": "https://localhost:8080/",
          "height": 33
        }
      },
      "source": [
        "df['5.8 Personal ID'].value_counts().unique().sum()"
      ],
      "execution_count": 0,
      "outputs": [
        {
          "output_type": "execute_result",
          "data": {
            "text/plain": [
              "1"
            ]
          },
          "metadata": {
            "tags": []
          },
          "execution_count": 344
        }
      ]
    },
    {
      "cell_type": "code",
      "metadata": {
        "id": "BJQnTp5kLbHq",
        "colab_type": "code",
        "colab": {}
      },
      "source": [
        "uno = served(quat_1)\n",
        "uno_h = served_h(quat_1)"
      ],
      "execution_count": 0,
      "outputs": []
    },
    {
      "cell_type": "code",
      "metadata": {
        "id": "PbkXekAjL0yp",
        "colab_type": "code",
        "colab": {}
      },
      "source": [
        "dos = served(quat_2)\n",
        "dos_h = served_h(quat_2)"
      ],
      "execution_count": 0,
      "outputs": []
    },
    {
      "cell_type": "code",
      "metadata": {
        "id": "nLMOQsaeL3QP",
        "colab_type": "code",
        "colab": {}
      },
      "source": [
        "tres = served(quat_3)\n",
        "tres_h = served_h(quat_3)"
      ],
      "execution_count": 0,
      "outputs": []
    },
    {
      "cell_type": "code",
      "metadata": {
        "id": "4LdpUa1kL5hj",
        "colab_type": "code",
        "colab": {}
      },
      "source": [
        "quatro = served(quat_4)\n",
        "quatro_h = served_h(quat_4)"
      ],
      "execution_count": 0,
      "outputs": []
    },
    {
      "cell_type": "code",
      "metadata": {
        "id": "m_jKY5KdNGMv",
        "colab_type": "code",
        "outputId": "7d63ce87-a255-4206-a105-5bf9456f26b6",
        "colab": {
          "base_uri": "https://localhost:8080/",
          "height": 33
        }
      },
      "source": [
        "df['5.8 Personal ID'].value_counts().sum()"
      ],
      "execution_count": 0,
      "outputs": [
        {
          "output_type": "execute_result",
          "data": {
            "text/plain": [
              "763"
            ]
          },
          "metadata": {
            "tags": []
          },
          "execution_count": 349
        }
      ]
    },
    {
      "cell_type": "code",
      "metadata": {
        "id": "INmTgsfONQKk",
        "colab_type": "code",
        "outputId": "4836a356-7051-411f-fb3a-f4efea1fed97",
        "colab": {
          "base_uri": "https://localhost:8080/",
          "height": 82
        }
      },
      "source": [
        "print(\"Total Served 2018 quarter 1:\", uno, 'individuals &', uno_h, 'households')\n",
        "print(\"Total Served 2018 quarter 2:\", dos, 'individuals &', dos_h, 'households')\n",
        "print(\"Total Served 2018 quarter 3:\", tres, 'individuals &', tres_h, 'households')\n",
        "print(\"Total Served 2018 quarter 4:\", quatro, 'individuals &', quatro_h, 'households')\n"
      ],
      "execution_count": 0,
      "outputs": [
        {
          "output_type": "stream",
          "text": [
            "Total Served 2018 quarter 1: 212 individuals & 28 households\n",
            "Total Served 2018 quarter 2: 157 individuals & 22 households\n",
            "Total Served 2018 quarter 3: 171 individuals & 38 households\n",
            "Total Served 2018 quarter 4: 216 individuals & 39 households\n"
          ],
          "name": "stdout"
        }
      ]
    },
    {
      "cell_type": "code",
      "metadata": {
        "id": "v-GKkBz9KQIX",
        "colab_type": "code",
        "colab": {}
      },
      "source": [
        "df['month'] = pd.DatetimeIndex(df['3.10 Enroll Date']).month\n",
        "df['year'] = pd.DatetimeIndex(df['3.10 Enroll Date']).year"
      ],
      "execution_count": 0,
      "outputs": []
    },
    {
      "cell_type": "code",
      "metadata": {
        "id": "UQ4P9dj0KubU",
        "colab_type": "code",
        "outputId": "a963eedd-e350-44b9-e8c0-e73f1f8c19a2",
        "colab": {
          "base_uri": "https://localhost:8080/",
          "height": 66
        }
      },
      "source": [
        "df.year.value_counts()"
      ],
      "execution_count": 0,
      "outputs": [
        {
          "output_type": "execute_result",
          "data": {
            "text/plain": [
              "2018    697\n",
              "2017     66\n",
              "Name: year, dtype: int64"
            ]
          },
          "metadata": {
            "tags": []
          },
          "execution_count": 352
        }
      ]
    },
    {
      "cell_type": "code",
      "metadata": {
        "id": "xr88VMRoQf8g",
        "colab_type": "code",
        "outputId": "94a3c341-2ce4-46e1-bcc2-3df41ca2e77d",
        "colab": {
          "base_uri": "https://localhost:8080/",
          "height": 50
        }
      },
      "source": [
        "df['3.10 Enroll Date'].head(1)"
      ],
      "execution_count": 0,
      "outputs": [
        {
          "output_type": "execute_result",
          "data": {
            "text/plain": [
              "0   2017-09-10\n",
              "Name: 3.10 Enroll Date, dtype: datetime64[ns]"
            ]
          },
          "metadata": {
            "tags": []
          },
          "execution_count": 353
        }
      ]
    },
    {
      "cell_type": "code",
      "metadata": {
        "id": "szUWDL9mGq3M",
        "colab_type": "code",
        "colab": {}
      },
      "source": [
        "#df_zips = pd.read_excel('/content/zipmaster.xlsx')"
      ],
      "execution_count": 0,
      "outputs": []
    },
    {
      "cell_type": "code",
      "metadata": {
        "id": "g42B2oO0Gvdd",
        "colab_type": "code",
        "colab": {}
      },
      "source": [
        "df_zips"
      ],
      "execution_count": 0,
      "outputs": []
    },
    {
      "cell_type": "code",
      "metadata": {
        "id": "TTFhKmW0F1ri",
        "colab_type": "code",
        "colab": {}
      },
      "source": [
        "merged = pd.merge(df, df_zips, on='V5 Zip')"
      ],
      "execution_count": 0,
      "outputs": []
    },
    {
      "cell_type": "code",
      "metadata": {
        "id": "D5OFRHRCG5Hn",
        "colab_type": "code",
        "colab": {}
      },
      "source": [
        "merged.shape"
      ],
      "execution_count": 0,
      "outputs": []
    },
    {
      "cell_type": "code",
      "metadata": {
        "id": "7yh6EHUmG69P",
        "colab_type": "code",
        "colab": {}
      },
      "source": [
        "df.shape"
      ],
      "execution_count": 0,
      "outputs": []
    },
    {
      "cell_type": "code",
      "metadata": {
        "id": "x1pWJ_zWG-fY",
        "colab_type": "code",
        "colab": {}
      },
      "source": [
        "merged.County.value_counts(normalize=True)"
      ],
      "execution_count": 0,
      "outputs": []
    },
    {
      "cell_type": "code",
      "metadata": {
        "id": "QPSzDBlmHEyX",
        "colab_type": "code",
        "colab": {}
      },
      "source": [
        "merged.County.value_counts()"
      ],
      "execution_count": 0,
      "outputs": []
    },
    {
      "cell_type": "code",
      "metadata": {
        "id": "nADAZZdXHZbE",
        "colab_type": "code",
        "colab": {}
      },
      "source": [
        "merged.City.value_counts()"
      ],
      "execution_count": 0,
      "outputs": []
    },
    {
      "cell_type": "code",
      "metadata": {
        "id": "tVvt0uZyHc6S",
        "colab_type": "code",
        "colab": {}
      },
      "source": [
        "merged.City.value_counts(normalize=True)"
      ],
      "execution_count": 0,
      "outputs": []
    },
    {
      "cell_type": "code",
      "metadata": {
        "id": "EY4TdSHnE6bP",
        "colab_type": "code",
        "colab": {}
      },
      "source": [
        ""
      ],
      "execution_count": 0,
      "outputs": []
    },
    {
      "cell_type": "markdown",
      "metadata": {
        "id": "qU5sH5IKE6_x",
        "colab_type": "text"
      },
      "source": [
        "Like Qtr 1 (Jan-Mar), QTr 2 (Apr-Jun), Qtr 3 (Jul-Sep), and Qtr 4(Oct-Dec)\n",
        "\n",
        " 1/1/17 - 12/31/17 & 1/1/18 - 10/31/18?"
      ]
    }
  ]
}