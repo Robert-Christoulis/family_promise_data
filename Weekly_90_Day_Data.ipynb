{
  "nbformat": 4,
  "nbformat_minor": 0,
  "metadata": {
    "colab": {
      "name": "Weekly 90 Day Data",
      "provenance": [],
      "collapsed_sections": [],
      "include_colab_link": true
    },
    "kernelspec": {
      "name": "python3",
      "display_name": "Python 3"
    }
  },
  "cells": [
    {
      "cell_type": "markdown",
      "metadata": {
        "id": "view-in-github",
        "colab_type": "text"
      },
      "source": [
        "<a href=\"https://colab.research.google.com/github/iesous-kurios/family_promise_data/blob/master/Weekly_90_Day_Data.ipynb\" target=\"_parent\"><img src=\"https://colab.research.google.com/assets/colab-badge.svg\" alt=\"Open In Colab\"/></a>"
      ]
    },
    {
      "cell_type": "markdown",
      "metadata": {
        "id": "1FPDDrTvl7r1",
        "colab_type": "text"
      },
      "source": [
        "# **FPS 90 day report "
      ]
    },
    {
      "cell_type": "code",
      "metadata": {
        "id": "aDa7C0EuxPor",
        "colab_type": "code",
        "cellView": "both",
        "colab": {}
      },
      "source": [
        "#@title\n",
        "# import libraries which provide math functions to our data imports\n",
        "import statistics\n",
        "import numpy as np\n",
        "import pandas as pd\n",
        "import matplotlib.pyplot as plt"
      ],
      "execution_count": 0,
      "outputs": []
    },
    {
      "cell_type": "code",
      "metadata": {
        "id": "w8Qw1H1cyh8E",
        "colab_type": "code",
        "cellView": "both",
        "colab": {
          "base_uri": "https://localhost:8080/",
          "height": 33
        },
        "outputId": "52534f64-e3b0-41ec-e2a2-b57fa4b60172"
      },
      "source": [
        "#@title\n",
        "# mount google drive to access weekly data\n",
        "from google.colab import drive\n",
        "drive.mount('/content/drive')"
      ],
      "execution_count": 34,
      "outputs": [
        {
          "output_type": "stream",
          "text": [
            "Drive already mounted at /content/drive; to attempt to forcibly remount, call drive.mount(\"/content/drive\", force_remount=True).\n"
          ],
          "name": "stdout"
        }
      ]
    },
    {
      "cell_type": "code",
      "metadata": {
        "id": "hKIhC1Kvu6Pp",
        "colab_type": "code",
        "cellView": "both",
        "colab": {}
      },
      "source": [
        "#@title\n",
        "# import weekly data from yearly FPS folder\n",
        "df = pd.read_excel ('/content/Nov_27_90day.xlsx')"
      ],
      "execution_count": 0,
      "outputs": []
    },
    {
      "cell_type": "code",
      "metadata": {
        "id": "g0EbyhR9tJ__",
        "colab_type": "code",
        "cellView": "both",
        "colab": {}
      },
      "source": [
        "#@title\n",
        "# replace zeros in data with \"Nan\" to calculate more accurate average bednights \n",
        "df['Count of Bed Nights (Housing Check-ins)'] =df['Count of Bed Nights (Housing Check-ins)'].replace(0, np.NaN)"
      ],
      "execution_count": 0,
      "outputs": []
    },
    {
      "cell_type": "markdown",
      "metadata": {
        "id": "3BxcdIV8jTkT",
        "colab_type": "text"
      },
      "source": [
        "# **List Of All Exit Destinations with Totals**\n",
        "\n",
        "**8/14/2018 - 8/14/2019**"
      ]
    },
    {
      "cell_type": "markdown",
      "metadata": {
        "id": "7yO4-RuejbRT",
        "colab_type": "text"
      },
      "source": [
        "# **Aggregate Exit Destinations with Percentages**\n",
        "\n",
        "**7/30/2018 - 7/30/2019**"
      ]
    },
    {
      "cell_type": "markdown",
      "metadata": {
        "id": "ALEGwPigjm_J",
        "colab_type": "text"
      },
      "source": [
        "# Average Bednights (Average Length of Stay by Housing Check-ins)\n",
        "\n",
        "**8/14/2018 - 8/14/2019**"
      ]
    },
    {
      "cell_type": "code",
      "metadata": {
        "id": "-P6pTn3jHVP8",
        "colab_type": "code",
        "cellView": "both",
        "outputId": "0d3eca79-5f9c-499a-f6e1-d7f0f2c2c9f5",
        "colab": {
          "base_uri": "https://localhost:8080/",
          "height": 33
        }
      },
      "source": [
        "#@title\n",
        "\n",
        "avgBedNights = df['Count of Bed Nights (Housing Check-ins)'].mean(skipna=True)\n",
        "\n",
        "avgBedNights = round(avgBedNights, 2)\n",
        "\n",
        "print(\"Average BedNights is:\", avgBedNights)"
      ],
      "execution_count": 37,
      "outputs": [
        {
          "output_type": "stream",
          "text": [
            "Average BedNights is: 42.2\n"
          ],
          "name": "stdout"
        }
      ]
    },
    {
      "cell_type": "code",
      "metadata": {
        "id": "04imCepm-N9r",
        "colab_type": "code",
        "outputId": "8d090679-041f-4d5a-b29c-5fa28881bce1",
        "cellView": "both",
        "colab": {
          "base_uri": "https://localhost:8080/",
          "height": 147
        }
      },
      "source": [
        "#@title\n",
        "# display all possible exit destinations and their totals\n",
        "df['3.12 Exit Destination'].value_counts()"
      ],
      "execution_count": 38,
      "outputs": [
        {
          "output_type": "execute_result",
          "data": {
            "text/plain": [
              "Client refused                                                                                                          32\n",
              "Emergency shelter, including hotel or motel paid for with emergency shelter voucher, or RHY-funded Host Home shelter    11\n",
              "Rental by client with RRH or equivalent subsidy                                                                         10\n",
              "Rental by client, no ongoing housing subsidy                                                                             6\n",
              "Transitional Housing for homeless persons (including homeless youth)                                                     5\n",
              "Staying or living with friends, temporary tenure (e.g., room, apartment or house)                                        5\n",
              "Rental by client, other ongoing housing subsidy                                                                          1\n",
              "Name: 3.12 Exit Destination, dtype: int64"
            ]
          },
          "metadata": {
            "tags": []
          },
          "execution_count": 38
        }
      ]
    },
    {
      "cell_type": "code",
      "metadata": {
        "id": "N9BTJrq5rLb7",
        "colab_type": "code",
        "cellView": "both",
        "colab": {}
      },
      "source": [
        "#@title\n",
        "\n",
        "exit_reasons = ['Rental by client with RRH or equivalent subsidy', \n",
        "                'Rental by client, no ongoing housing subsidy', \n",
        "                'Staying or living with family, permanent tenure', \n",
        "                'Rental by client, other ongoing housing subsidy',\n",
        "                'Permanent housing (other than RRH) for formerly homeless persons', \n",
        "                'Staying or living with friends, permanent tenure', \n",
        "                'Owned by client, with ongoing housing subsidy', \n",
        "                'Staying or living with friends, permanent tenure', \n",
        "                'Rental by client, VASH housing Subsidy'\n",
        "               ]\n",
        "\n",
        "temp_reasons = ['Staying or living with family, temporary tenure (e.g., room, apartment or house)', \n",
        "               'Staying or living with friends, temporary tenure (e.g., room, apartment or house)', \n",
        "                \n",
        "               ]"
      ],
      "execution_count": 0,
      "outputs": []
    },
    {
      "cell_type": "code",
      "metadata": {
        "id": "goxnvldDaMQM",
        "colab_type": "code",
        "outputId": "858d5391-aec0-45f1-90a0-5234fc1142a7",
        "colab": {
          "base_uri": "https://localhost:8080/",
          "height": 98
        }
      },
      "source": [
        "#@title  { display-mode: \"both\" }\n",
        "# pull all exit destinations from main data file and sum up the totals of each destination, placing them into new df for calculations\n",
        "exits = df['3.12 Exit Destination'].value_counts()\n",
        "\n",
        "tempExits = df['3.12 Exit Destination'].isin(temp_reasons)\n",
        "temp_exit_percent = tempExits.sum() / exits.sum()\n",
        "#exits.sum()) * 100)\n",
        "# round tempExits to two decimals\n",
        "tempExits = round(temp_exit_percent*100, 2)\n",
        "#tempExits = 0\n",
        "\n",
        "# take sum of unknown exits and divide by total exits, then multiply by 100 to get percentage\n",
        "unknownExits = ((exits['Client refused'] / exits.sum()) * 100)\n",
        "\n",
        "# round the answer to nearest hundreth place\n",
        "unknownExits = (round(unknownExits, 2))\n",
        "\n",
        "# create three data frames made up of the three key words found in perm housing\n",
        "perm1 = df[df['3.12 Exit Destination'].str.contains('Rental') == True] \n",
        "perm2 = df[df['3.12 Exit Destination'].str.contains('permanent') == True]\n",
        "perm3 = df[df['3.12 Exit Destination'].str.contains('Permanent') == True]\n",
        "\n",
        "# merge the three dataframes into one to calculate exit to perm percent\n",
        "perm_almost_final = perm1.append(perm2)\n",
        "perm_final = perm_almost_final.append(perm3)\n",
        "perm_final['3.12 Exit Destination'].value_counts()\n",
        "perm_final_sums = perm_final['3.12 Exit Destination'].value_counts()\n",
        "perm_final = df['3.12 Exit Destination'].isin(exit_reasons)\n",
        "# calculate percentage of exits to perm\n",
        "perm_final_percent = perm_final_sums.sum() / exits.sum()\n",
        "perm_final_percent = round(perm_final_percent*100, 2)\n",
        "\n",
        "# take sum of ES and Trans exits and divide by total exits, then multiply by 100 to get percentage\n",
        "esExits = (( exits['Emergency shelter, including hotel or motel paid for with emergency shelter voucher, or RHY-funded Host Home shelter'] / exits.sum()) * 100)\n",
        "transExits = ((exits['Transitional Housing for homeless persons (including homeless youth)'] / exits.sum()) * 100)\n",
        "# round the answer to nearest hundreth place\n",
        "esExits = (round(esExits, 2))\n",
        "transExits = (round(transExits, 2))\n",
        "\n",
        "print('Exit to Perm percent:',perm_final_percent,'%')\n",
        "print('Unknown Exit percent:',unknownExits,'%')\n",
        "print('Temp Exit percent:',tempExits,'%')\n",
        "print('Exits to ES percent:',esExits,'%')\n",
        "print('Exits to Transitional',transExits,'%')"
      ],
      "execution_count": 40,
      "outputs": [
        {
          "output_type": "stream",
          "text": [
            "Exit to Perm percent: 24.29 %\n",
            "Unknown Exit percent: 45.71 %\n",
            "Temp Exit percent: 7.14 %\n",
            "Exits to ES percent: 15.71 %\n",
            "Exits to Transitional 7.14 %\n"
          ],
          "name": "stdout"
        }
      ]
    },
    {
      "cell_type": "markdown",
      "metadata": {
        "id": "lJ4mvXUpHmfo",
        "colab_type": "text"
      },
      "source": [
        "# Average Days Enrolled"
      ]
    },
    {
      "cell_type": "markdown",
      "metadata": {
        "id": "cJSXje6CIHAs",
        "colab_type": "text"
      },
      "source": [
        "\n",
        "\n",
        "#1.   Average Household Income at Enrollment\n",
        "#2.   Average Household Income at Exit\n",
        "#3.   Average change in Household income during lenght of stay\n"
      ]
    },
    {
      "cell_type": "code",
      "metadata": {
        "id": "Cik7482lICZC",
        "colab_type": "code",
        "cellView": "both",
        "outputId": "32f0f6ec-5329-4bf3-f854-961b10cf0846",
        "colab": {
          "base_uri": "https://localhost:8080/",
          "height": 66
        }
      },
      "source": [
        "#@title\n",
        "print('Average Household Income at Enrollment is:', round(df['4.2 Income Total at Entry'].mean(skipna=True), 2))\n",
        "\n",
        "print('Average Household Income at Exit is:', round(df['4.2 Income Total at Exit'].mean(skipna=True), 2))\n",
        "\n",
        "avgChange = (df['4.2 Income Total at Exit'].mean(skipna=True)) - (df['4.2 Income Total at Entry'].mean(skipna=True))\n",
        "\n",
        "print('Average Change in Income for Households during stay is:', round(avgChange, 2))\n"
      ],
      "execution_count": 41,
      "outputs": [
        {
          "output_type": "stream",
          "text": [
            "Average Household Income at Enrollment is: 788.81\n",
            "Average Household Income at Exit is: 999.61\n",
            "Average Change in Income for Households during stay is: 210.79\n"
          ],
          "name": "stdout"
        }
      ]
    },
    {
      "cell_type": "markdown",
      "metadata": {
        "id": "TNEEcqpAIVu7",
        "colab_type": "text"
      },
      "source": [
        "# Average Age of Guests during Enrollment"
      ]
    },
    {
      "cell_type": "code",
      "metadata": {
        "id": "RlJjfSuIsR-t",
        "colab_type": "code",
        "cellView": "both",
        "outputId": "58618270-9a8e-43cc-b009-fdc337bbd72d",
        "colab": {
          "base_uri": "https://localhost:8080/",
          "height": 33
        }
      },
      "source": [
        "#@title\n",
        "# printed rounded answer for average age during enrollment\n",
        "print('Average Age of Guest during Enrollment is:', round(df['Age at Enrollment'].mean(skipna=True), 2))"
      ],
      "execution_count": 42,
      "outputs": [
        {
          "output_type": "stream",
          "text": [
            "Average Age of Guest during Enrollment is: 20.28\n"
          ],
          "name": "stdout"
        }
      ]
    },
    {
      "cell_type": "code",
      "metadata": {
        "id": "vf42T95LHxGE",
        "colab_type": "code",
        "cellView": "both",
        "outputId": "ab9c53ec-a678-4933-f3be-6a9578c4f561",
        "colab": {
          "base_uri": "https://localhost:8080/",
          "height": 33
        }
      },
      "source": [
        "#@title\n",
        "avgDaysEnrolled = df['Days Enrolled in Project'].mean(skipna=True)\n",
        "avgDaysEnrolled = round(avgDaysEnrolled, 2)                   \n",
        "                   \n",
        "print('Average Days Enrolled is:', avgDaysEnrolled)"
      ],
      "execution_count": 43,
      "outputs": [
        {
          "output_type": "stream",
          "text": [
            "Average Days Enrolled is: 59.71\n"
          ],
          "name": "stdout"
        }
      ]
    },
    {
      "cell_type": "code",
      "metadata": {
        "id": "R4CKezrrQv4b",
        "colab_type": "code",
        "outputId": "1fb785c5-1372-48dc-f769-d50b837ef1b8",
        "colab": {
          "base_uri": "https://localhost:8080/",
          "height": 50
        }
      },
      "source": [
        "# create new column with count of unique households\n",
        "df['Total Households'] = df['5.9 Household ID'].drop_duplicates().count()\n",
        "\n",
        "# create new column with total amount of guests for year\n",
        "df['Total Guests'] = df['5.8 Personal ID'].drop_duplicates().count()\n",
        "\n",
        "totalHouseholds = df.iloc[1, 118]\n",
        "totalGuests = df.iloc[1, 119]\n",
        "df.head()\n",
        "\n",
        "print(totalHouseholds)\n",
        "print(totalGuests)\n"
      ],
      "execution_count": 44,
      "outputs": [
        {
          "output_type": "stream",
          "text": [
            "67\n",
            "192\n"
          ],
          "name": "stdout"
        }
      ]
    },
    {
      "cell_type": "markdown",
      "metadata": {
        "id": "qQz7Ze5F9DPu",
        "colab_type": "text"
      },
      "source": [
        " ______________________________________________________________________________________________\n",
        "# All of the Data needed by most users is above this line.  Only proceed past this point if you like nerdy stuff and want to see the code which makes the data above this part work."
      ]
    },
    {
      "cell_type": "code",
      "metadata": {
        "id": "MzhMsYbYnZ0_",
        "colab_type": "code",
        "colab": {}
      },
      "source": [
        "import xlwt \n",
        "from xlwt import Workbook"
      ],
      "execution_count": 0,
      "outputs": []
    },
    {
      "cell_type": "code",
      "metadata": {
        "id": "yN84mZypp9Nh",
        "colab_type": "code",
        "colab": {}
      },
      "source": [
        "# Workbook is created \n",
        "wb = Workbook() \n",
        "  \n",
        "# add_sheet is used to create sheet. \n",
        "sheet1 = wb.add_sheet('Sheet 1') \n",
        "  \n",
        "sheet1.write(0, 0, 'Perm') \n",
        "sheet1.write(0, 1, perm_final_percent)\n",
        "sheet1.write(1, 0, 'ES') \n",
        "sheet1.write(1, 1, esExits) \n",
        "sheet1.write(2, 0, 'Temp') \n",
        "sheet1.write(2, 1, temp_exit_percent) \n",
        "sheet1.write(3, 0, 'Trans') \n",
        "sheet1.write(3, 1, transExits) \n",
        "sheet1.write(4, 0, 'UnKnown') \n",
        "sheet1.write(4, 1, unknownExits) \n",
        "  \n",
        "wb.save('/content/drive/My Drive/FPS Weekly Data Colabs/90 Days Data/90daySept18weeklyData.xls')"
      ],
      "execution_count": 0,
      "outputs": []
    },
    {
      "cell_type": "code",
      "metadata": {
        "id": "y8ebq4cA11Y0",
        "colab_type": "code",
        "outputId": "17669684-62a9-4ee3-c69c-2d0cc498a97c",
        "colab": {
          "base_uri": "https://localhost:8080/",
          "height": 50
        }
      },
      "source": [
        "# Workbook is created \n",
        "wb = Workbook() \n",
        "  \n",
        "# add_sheet is used to create sheet. \n",
        "sheet3 = wb.add_sheet('Sheet 1') \n",
        "  \n",
        "sheet3.write(0, 0, 'Average Days Enrolled') \n",
        "sheet3.write(0, 1, avgDaysEnrolled) \n",
        "\n",
        "wb.save('/content/drive/My Drive/FPS Weekly Data Colabs/90 Days Data/90DaysAvgDaysEnrolledSept18.xls')\n",
        "\n",
        "# create new column with count of unique households\n",
        "df['Total Households'] = df['5.9 Household ID'].drop_duplicates().count()\n",
        "\n",
        "# create new column with total amount of guests for year\n",
        "df['Total Guests'] = df['5.8 Personal ID'].drop_duplicates().count()\n",
        "\n",
        "totalHouseholds = df.iloc[1, 118]\n",
        "totalGuests = df.iloc[1, 119]\n",
        "df.head()\n",
        "\n",
        "print(totalHouseholds)\n",
        "print(totalGuests)\n"
      ],
      "execution_count": 47,
      "outputs": [
        {
          "output_type": "stream",
          "text": [
            "67\n",
            "192\n"
          ],
          "name": "stdout"
        }
      ]
    },
    {
      "cell_type": "code",
      "metadata": {
        "id": "bptA2OHxQ-zx",
        "colab_type": "code",
        "colab": {}
      },
      "source": [
        "# Workbook is created \n",
        "wb = Workbook() \n",
        "  \n",
        "# add_sheet is used to create sheet. \n",
        "sheet4 = wb.add_sheet('Sheet 1') \n",
        "\n",
        "sheet4.write(0, 0, 'Total Guests Served')\n",
        "sheet4.write(0, 1, int(totalGuests))\n",
        "\n",
        "\n",
        "wb.save('/content/drive/My Drive/FPS Weekly Data Colabs/90 Days Data/totalsGuestSept18.xls')"
      ],
      "execution_count": 0,
      "outputs": []
    },
    {
      "cell_type": "code",
      "metadata": {
        "id": "aB82hryUSua-",
        "colab_type": "code",
        "colab": {}
      },
      "source": [
        "# Workbook is created \n",
        "wb = Workbook() \n",
        "  \n",
        "# add_sheet is used to create sheet. \n",
        "sheet5 = wb.add_sheet('Sheet 1') \n",
        "\n",
        "sheet5.write(0, 0, 'Total Households Served')\n",
        "sheet5.write(0, 1, int(totalHouseholds))\n",
        "\n",
        "wb.save('/content/drive/My Drive/FPS Weekly Data Colabs/90 Days Data/totalsHouseSept18.xls')"
      ],
      "execution_count": 0,
      "outputs": []
    },
    {
      "cell_type": "code",
      "metadata": {
        "id": "PeEaFWqOXDGY",
        "colab_type": "code",
        "colab": {}
      },
      "source": [
        "# export zips into an excel sheet for Power BI visual\n",
        "  df['V5 Zip'].value_counts().to_excel('/content/drive/My Drive/FPS Weekly Data Colabs/90 Days Data/weeklyYTDzips.xlsx', header=True, index=True)"
      ],
      "execution_count": 0,
      "outputs": []
    }
  ]
}