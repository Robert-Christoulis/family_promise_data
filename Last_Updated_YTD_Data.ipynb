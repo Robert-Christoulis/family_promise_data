{
  "nbformat": 4,
  "nbformat_minor": 0,
  "metadata": {
    "colab": {
      "name": "Last Updated YTD Data",
      "provenance": [],
      "collapsed_sections": [],
      "include_colab_link": true
    },
    "kernelspec": {
      "name": "python3",
      "display_name": "Python 3"
    }
  },
  "cells": [
    {
      "cell_type": "markdown",
      "metadata": {
        "id": "view-in-github",
        "colab_type": "text"
      },
      "source": [
        "<a href=\"https://colab.research.google.com/github/iesous-kurios/family_promise_data/blob/master/Last_Updated_YTD_Data.ipynb\" target=\"_parent\"><img src=\"https://colab.research.google.com/assets/colab-badge.svg\" alt=\"Open In Colab\"/></a>"
      ]
    },
    {
      "cell_type": "markdown",
      "metadata": {
        "id": "1FPDDrTvl7r1",
        "colab_type": "text"
      },
      "source": [
        "# **FPS Data for the week of 8/20/2019**"
      ]
    },
    {
      "cell_type": "code",
      "metadata": {
        "id": "w8Qw1H1cyh8E",
        "colab_type": "code",
        "cellView": "both",
        "colab": {}
      },
      "source": [
        "#@title\n",
        "# mount google drive to access weekly data\n",
        "from google.colab import drive\n",
        "drive.mount('/content/drive')"
      ],
      "execution_count": 0,
      "outputs": []
    },
    {
      "cell_type": "code",
      "metadata": {
        "id": "aDa7C0EuxPor",
        "colab_type": "code",
        "cellView": "both",
        "outputId": "1482029c-7df1-423a-c92d-b6cd7f13ad1a",
        "colab": {
          "base_uri": "https://localhost:8080/",
          "height": 35
        }
      },
      "source": [
        "#@title\n",
        "# import libraries which provide math functions to our data imports\n",
        "import statistics\n",
        "import numpy as np\n",
        "import pandas as pd\n",
        "import matplotlib.pyplot as plt\n",
        "import xlwt \n",
        "from xlwt import Workbook\n",
        "import seaborn as sns\n",
        "\n",
        "import matplotlib.pyplot as plt\n",
        "import matplotlib\n",
        "from matplotlib import style\n",
        "\n",
        "sns.__version__"
      ],
      "execution_count": 3,
      "outputs": [
        {
          "output_type": "execute_result",
          "data": {
            "text/plain": [
              "'0.9.0'"
            ]
          },
          "metadata": {
            "tags": []
          },
          "execution_count": 3
        }
      ]
    },
    {
      "cell_type": "code",
      "metadata": {
        "id": "hKIhC1Kvu6Pp",
        "colab_type": "code",
        "cellView": "both",
        "colab": {}
      },
      "source": [
        "#@title\n",
        "# import weekly data from yearly FPS folder\n",
        "df = pd.read_excel ('/content/drive/My Drive/FPS Weekly Data Colabs/YTD Data/Oct_28_YTD.xlsx')"
      ],
      "execution_count": 0,
      "outputs": []
    },
    {
      "cell_type": "code",
      "metadata": {
        "id": "g0EbyhR9tJ__",
        "colab_type": "code",
        "cellView": "both",
        "colab": {}
      },
      "source": [
        "#@title\n",
        "# replace zeros in data with \"Nan\" to calculate more accurate average bednights \n",
        "df['Count of Bed Nights (Housing Check-ins)'] = df['Count of Bed Nights (Housing Check-ins)'].replace(0, np.NaN)"
      ],
      "execution_count": 0,
      "outputs": []
    },
    {
      "cell_type": "code",
      "metadata": {
        "id": "2j95mgiIUV0U",
        "colab_type": "code",
        "outputId": "3ed6d658-c652-4c85-9d4a-3bf4e195ce64",
        "colab": {
          "base_uri": "https://localhost:8080/",
          "height": 308
        }
      },
      "source": [
        "# display all possible exit destinations and their totals\n",
        "df['3.12 Exit Destination'].value_counts()"
      ],
      "execution_count": 6,
      "outputs": [
        {
          "output_type": "execute_result",
          "data": {
            "text/plain": [
              "Client refused                                                                                                                   289\n",
              "Emergency shelter, including hotel or motel paid for with emergency shelter voucher, or RHY-funded Host Home shelter             132\n",
              "Rental by client with RRH or equivalent subsidy                                                                                  109\n",
              "No exit interview completed                                                                                                       72\n",
              "Transitional Housing for homeless persons (including homeless youth)                                                              36\n",
              "Rental by client, no ongoing housing subsidy                                                                                      36\n",
              "Staying or living with family, permanent tenure                                                                                   29\n",
              "Staying or living with family, temporary tenure (e.g., room, apartment or house)                                                  21\n",
              "Rental by client, other ongoing housing subsidy                                                                                   19\n",
              "Staying or living with friends, temporary tenure (e.g., room, apartment or house)                                                 13\n",
              "Place not meant for habitation (e.g., a vehicle, an abandoned building, bus/train/subway station/airport or anywhere outside)      8\n",
              "Hotel or Motel paid for without Emergency Shelter Voucher                                                                          4\n",
              "Staying or living with friends, permanent tenure                                                                                   2\n",
              "Permanent housing (other than RRH) for formerly homeless persons                                                                   2\n",
              "Psychiatric Hospital or Other Psychiatric Facility                                                                                 1\n",
              "Name: 3.12 Exit Destination, dtype: int64"
            ]
          },
          "metadata": {
            "tags": []
          },
          "execution_count": 6
        }
      ]
    },
    {
      "cell_type": "code",
      "metadata": {
        "id": "04imCepm-N9r",
        "colab_type": "code",
        "cellView": "both",
        "colab": {}
      },
      "source": [
        "#@title\n",
        "\n",
        "exit_reasons = ['Rental by client with RRH or equivalent subsidy', \n",
        "                'Rental by client, no ongoing housing subsidy', \n",
        "                'Staying or living with family, permanent tenure', \n",
        "                'Rental by client, other ongoing housing subsidy',\n",
        "                'Permanent housing (other than RRH) for formerly homeless persons', \n",
        "                'Staying or living with friends, permanent tenure', \n",
        "                'Owned by client, with ongoing housing subsidy', \n",
        "                'Staying or living with friends, permanent tenure', \n",
        "                'Rental by client, VASH housing Subsidy'\n",
        "               ]\n",
        "\n",
        "temp_reasons = ['Staying or living with family, temporary tenure (e.g., room, apartment or house)', \n",
        "               'Staying or living with friends, temporary tenure (e.g., room, apartment or house)', \n",
        "                \n",
        "               ]"
      ],
      "execution_count": 0,
      "outputs": []
    },
    {
      "cell_type": "code",
      "metadata": {
        "id": "N9BTJrq5rLb7",
        "colab_type": "code",
        "outputId": "459b79ea-6a7c-4fdf-980d-4f0d6729249f",
        "colab": {
          "base_uri": "https://localhost:8080/",
          "height": 72
        }
      },
      "source": [
        "#@title  { display-mode: \"both\" }\n",
        "# pull all exit destinations from main data file and sum up the totals of each destination, placing them into new df for calculations\n",
        "exits = df['3.12 Exit Destination'].value_counts()\n",
        "\n",
        "tempExits = df['3.12 Exit Destination'].isin(temp_reasons)\n",
        "temp_exit_percent = tempExits.sum() / exits.sum()\n",
        "#exits.sum()) * 100)\n",
        "# round tempExits to two decimals\n",
        "tempExits = round(temp_exit_percent*100, 2)\n",
        "#tempExits = 0\n",
        "\n",
        "# take sum of unknown exits and divide by total exits, then multiply by 100 to get percentage\n",
        "unknownExits = ((exits['Client refused'] / exits.sum()) * 100)\n",
        "\n",
        "# round the answer to nearest hundreth place\n",
        "unknownExits = (round(unknownExits, 2))\n",
        "\n",
        "# create three data frames made up of the three key words found in perm housing\n",
        "perm1 = df[df['3.12 Exit Destination'].str.contains('Rental') == True] \n",
        "perm2 = df[df['3.12 Exit Destination'].str.contains('permanent') == True]\n",
        "perm3 = df[df['3.12 Exit Destination'].str.contains('Permanent') == True]\n",
        "\n",
        "# merge the three dataframes into one to calculate exit to perm percent\n",
        "perm_almost_final = perm1.append(perm2)\n",
        "perm_final = perm_almost_final.append(perm3)\n",
        "perm_final['3.12 Exit Destination'].value_counts()\n",
        "perm_final_sums = perm_final['3.12 Exit Destination'].value_counts()\n",
        "perm_final = df['3.12 Exit Destination'].isin(exit_reasons)\n",
        "# calculate percentage of exits to perm\n",
        "perm_final_percent = perm_final_sums.sum() / exits.sum()\n",
        "\n",
        "#perm_final.sum()\n",
        "\n",
        "#perm_final_percent2 = perm_final.sum() / df['3.12 Exit Destination'].value_counts().sum()\n",
        "#round(perm_final_percent1, 2)\n",
        "print('Exit to Perm percent:',perm_final_percent*100,'%')\n",
        "print('Unknown Exit percent:',unknownExits,'%')\n",
        "print('Temp Exit percent:',tempExits,'%')"
      ],
      "execution_count": 28,
      "outputs": [
        {
          "output_type": "stream",
          "text": [
            "Exit to Perm percent: 25.485122897800778 %\n",
            "Unknown Exit percent: 37.39 %\n",
            "Temp Exit percent: 4.4 %\n"
          ],
          "name": "stdout"
        }
      ]
    },
    {
      "cell_type": "code",
      "metadata": {
        "id": "Rv2mM6jvRRl-",
        "colab_type": "code",
        "cellView": "both",
        "outputId": "b80ca8a2-da66-464c-af0e-9feff496d878",
        "colab": {
          "base_uri": "https://localhost:8080/",
          "height": 54
        }
      },
      "source": [
        "#@title\n",
        "# take sum of ES and Trans exits and divide by total exits, then multiply by 100 to get percentage\n",
        "esExits = (( exits['Emergency shelter, including hotel or motel paid for with emergency shelter voucher, or RHY-funded Host Home shelter'] / exits.sum()) * 100)\n",
        "transExits = ((exits['Transitional Housing for homeless persons (including homeless youth)'] / exits.sum()) * 100)\n",
        "# round the answer to nearest hundreth place\n",
        "esExits = (round(esExits, 2))\n",
        "transExits = (round(transExits, 2))\n",
        "\n",
        "print('Exits to ES percent:',esExits,'%')\n",
        "print('Exits to Transitional',transExits,'%')"
      ],
      "execution_count": 9,
      "outputs": [
        {
          "output_type": "stream",
          "text": [
            "Exits to ES percent: 17.08 %\n",
            "Exits to Transitional 4.66 %\n"
          ],
          "name": "stdout"
        }
      ]
    },
    {
      "cell_type": "code",
      "metadata": {
        "id": "-P6pTn3jHVP8",
        "colab_type": "code",
        "cellView": "both",
        "outputId": "f1b81907-a4f2-4a78-baf0-704f356209db",
        "colab": {
          "base_uri": "https://localhost:8080/",
          "height": 35
        }
      },
      "source": [
        "#@title\n",
        "\n",
        "avgBedNights = df['Count of Bed Nights (Housing Check-ins)'].mean(skipna=True)\n",
        "\n",
        "avgBedNights = round(avgBedNights, 2)\n",
        "\n",
        "print(\"Average BedNights is:\", avgBedNights)"
      ],
      "execution_count": 10,
      "outputs": [
        {
          "output_type": "stream",
          "text": [
            "Average BedNights is: 27.79\n"
          ],
          "name": "stdout"
        }
      ]
    },
    {
      "cell_type": "code",
      "metadata": {
        "id": "vf42T95LHxGE",
        "colab_type": "code",
        "cellView": "both",
        "outputId": "c142878d-d8e1-441a-9002-633c7757f331",
        "colab": {
          "base_uri": "https://localhost:8080/",
          "height": 35
        }
      },
      "source": [
        "#@title\n",
        "avgDaysEnrolled = df['Days Enrolled in Project'].mean(skipna=True)\n",
        "avgDaysEnrolled = round(avgDaysEnrolled, 2)                   \n",
        "perm_final_percent = round(perm_final_percent*100, 2)\n",
        "print('Average Days Enrolled is:', avgDaysEnrolled)"
      ],
      "execution_count": 11,
      "outputs": [
        {
          "output_type": "stream",
          "text": [
            "Average Days Enrolled is: 41.7\n"
          ],
          "name": "stdout"
        }
      ]
    },
    {
      "cell_type": "code",
      "metadata": {
        "id": "Cik7482lICZC",
        "colab_type": "code",
        "cellView": "both",
        "outputId": "4d27296b-da82-4700-aa95-bcec24744551",
        "colab": {
          "base_uri": "https://localhost:8080/",
          "height": 72
        }
      },
      "source": [
        "#@title\n",
        "print('Average Household Income at Enrollment is:', round(df['4.2 Income Total at Entry'].mean(skipna=True), 2))\n",
        "\n",
        "print('Average Household Income at Exit is:', round(df['4.2 Income Total at Exit'].mean(skipna=True), 2))\n",
        "\n",
        "avgChange = (df['4.2 Income Total at Exit'].mean(skipna=True)) - (df['4.2 Income Total at Entry'].mean(skipna=True))\n",
        "avgChange = round(avgChange, 2)\n",
        "print('Average Change in Income for Households during stay is:', avgChange)\n"
      ],
      "execution_count": 12,
      "outputs": [
        {
          "output_type": "stream",
          "text": [
            "Average Household Income at Enrollment is: 921.6\n",
            "Average Household Income at Exit is: 941.54\n",
            "Average Change in Income for Households during stay is: 19.94\n"
          ],
          "name": "stdout"
        }
      ]
    },
    {
      "cell_type": "code",
      "metadata": {
        "id": "RlJjfSuIsR-t",
        "colab_type": "code",
        "cellView": "both",
        "outputId": "75c6398e-e442-46c5-e814-d3c87ef63d4f",
        "colab": {
          "base_uri": "https://localhost:8080/",
          "height": 35
        }
      },
      "source": [
        "#@title\n",
        "# printed rounded answer for average age during enrollment\n",
        "print('Average Age of Guest during Enrollment is:', round(df['Age at Enrollment'].mean(skipna=True), 2))"
      ],
      "execution_count": 13,
      "outputs": [
        {
          "output_type": "stream",
          "text": [
            "Average Age of Guest during Enrollment is: 19.36\n"
          ],
          "name": "stdout"
        }
      ]
    },
    {
      "cell_type": "code",
      "metadata": {
        "id": "qc_dLkMPRglm",
        "colab_type": "code",
        "colab": {}
      },
      "source": [
        "# export zips into an excel sheet for Power BI visual\n",
        "  df['V5 Zip'].value_counts().to_excel('/content/drive/My Drive/FPS Weekly Data Colabs/YTD Data/weeklyYTDzips.xlsx', header=True, index=True)"
      ],
      "execution_count": 0,
      "outputs": []
    },
    {
      "cell_type": "code",
      "metadata": {
        "id": "wn9pFrKU1Iag",
        "colab_type": "code",
        "colab": {}
      },
      "source": [
        "# create list of all options for engagement data and export into excel file for Power BI\n",
        "df['Days Enrolled Until Engagement Date'].value_counts().to_excel('/content/drive/My Drive/FPS Weekly Data Colabs/YTD Data/weeklyYTD_aggregate_DOE.xlsx', header=True, index=True)"
      ],
      "execution_count": 0,
      "outputs": []
    },
    {
      "cell_type": "code",
      "metadata": {
        "id": "Zm7A6TE4ckjD",
        "colab_type": "code",
        "colab": {}
      },
      "source": [
        "# create new excel sheet with the days enrolled until engagement to upload back into notebook for calculating mean\n",
        "\n",
        "df['Days Until Engagement'] = (df['4.13 Engagement Date'] - df['3.10 Enroll Date'])\n",
        "df['Days Until Engagement'].mean()\n",
        "d_o_e_avg = df['Days Until Engagement'].mean()"
      ],
      "execution_count": 0,
      "outputs": []
    },
    {
      "cell_type": "code",
      "metadata": {
        "id": "nZXjBCEwdyOD",
        "colab_type": "code",
        "outputId": "f0dc4f2a-f61b-44b8-a4a5-8ca8dec7847d",
        "colab": {
          "base_uri": "https://localhost:8080/",
          "height": 35
        }
      },
      "source": [
        "d_o_e_avg"
      ],
      "execution_count": 17,
      "outputs": [
        {
          "output_type": "execute_result",
          "data": {
            "text/plain": [
              "Timedelta('4 days 09:16:29.641434')"
            ]
          },
          "metadata": {
            "tags": []
          },
          "execution_count": 17
        }
      ]
    },
    {
      "cell_type": "code",
      "metadata": {
        "id": "nzzWqRNuNWiM",
        "colab_type": "code",
        "colab": {}
      },
      "source": [
        "# create new excel sheet with the days enrolled until engagement to upload back into notebook for calculating mean \n",
        "(df['4.13 Engagement Date'] - df['3.10 Enroll Date']).to_excel('/content/drive/My Drive/FPS Weekly Data Colabs/YTD Data/ytdDOE.xlsx', header=False, index=False)"
      ],
      "execution_count": 0,
      "outputs": []
    },
    {
      "cell_type": "code",
      "metadata": {
        "id": "xX3f7O4QD3y9",
        "colab_type": "code",
        "colab": {}
      },
      "source": [
        "# create new column with total amount of guests for year\n",
        "df['Total Guests'] = df['5.8 Personal ID'].drop_duplicates().count()"
      ],
      "execution_count": 0,
      "outputs": []
    },
    {
      "cell_type": "code",
      "metadata": {
        "id": "SWNpBE43LjeR",
        "colab_type": "code",
        "colab": {}
      },
      "source": [
        "# create new column with count of unique households\n",
        "df['Total Households'] = df['5.9 Household ID'].drop_duplicates().count()\n",
        "\n",
        "# create new column with total amount of guests for year\n",
        "df['Total Guests'] = df['5.8 Personal ID'].drop_duplicates().count()\n"
      ],
      "execution_count": 0,
      "outputs": []
    },
    {
      "cell_type": "code",
      "metadata": {
        "id": "7GIG1mTpkfay",
        "colab_type": "code",
        "colab": {}
      },
      "source": [
        "import plotly.express as px"
      ],
      "execution_count": 0,
      "outputs": []
    },
    {
      "cell_type": "code",
      "metadata": {
        "id": "e7n-NXIpJMgx",
        "colab_type": "code",
        "outputId": "56bf5488-7536-4ef4-97ab-a3acfccd3371",
        "colab": {
          "base_uri": "https://localhost:8080/",
          "height": 54
        }
      },
      "source": [
        "totalHouseholds = df.iloc[1, 120]\n",
        "totalGuests = df.iloc[1, 119]\n",
        "\n",
        "print(totalHouseholds)\n",
        "print(totalGuests)"
      ],
      "execution_count": 25,
      "outputs": [
        {
          "output_type": "stream",
          "text": [
            "264\n",
            "784\n"
          ],
          "name": "stdout"
        }
      ]
    },
    {
      "cell_type": "code",
      "metadata": {
        "id": "yN84mZypp9Nh",
        "colab_type": "code",
        "colab": {}
      },
      "source": [
        "# Workbook is created \n",
        "wb = Workbook() \n",
        "  \n",
        "# add_sheet is used to create sheet. \n",
        "sheet1 = wb.add_sheet('Sheet 1') \n",
        "  \n",
        "sheet1.write(0, 0, 'Permanent Housing') \n",
        "sheet1.write(0, 1, round(perm_final_percent*100,2))\n",
        "sheet1.write(1, 0, 'Emergency Shelter') \n",
        "sheet1.write(1, 1, esExits) \n",
        "sheet1.write(2, 0, 'Temporary Housing') \n",
        "sheet1.write(2, 1, tempExits) \n",
        "sheet1.write(3, 0, 'Transitional Housing') \n",
        "sheet1.write(3, 1, transExits) \n",
        "sheet1.write(4, 0, 'Guest left without completing exit survey') \n",
        "sheet1.write(4, 1, unknownExits) \n",
        "sheet1.write(5, 0, 'Average Bednights')\n",
        "sheet1.write(5, 1, avgBedNights)\n",
        "sheet1.write(6, 0, 'Average Days Enrolled')\n",
        "sheet1.write(6, 1, avgDaysEnrolled)\n",
        "sheet1.write(7, 0, 'Average Change in Income per Household')\n",
        "sheet1.write(7, 1, avgChange)\n",
        "sheet1.write(8, 0, 'Total Households Served')\n",
        "sheet1.write(8, 1, int(totalHouseholds))\n",
        "sheet1.write(9, 0, 'Total Guests Served')\n",
        "sheet1.write(9, 1, int(totalGuests))\n",
        "\n",
        "wb.save('/content/drive/My Drive/FPS Weekly Data Colabs/YTD Data/weeklyYtdData.xls')"
      ],
      "execution_count": 0,
      "outputs": []
    },
    {
      "cell_type": "code",
      "metadata": {
        "id": "5I6cJ2k8yO7C",
        "colab_type": "code",
        "colab": {}
      },
      "source": [
        "#@title\n",
        "# import weekly data from 90day  FPS folder\n",
        "df_90 = pd.read_excel ('/content/drive/My Drive/FPS Weekly Data Colabs/90 Days Data/Oct_28_90_Day.xlsx')"
      ],
      "execution_count": 0,
      "outputs": []
    },
    {
      "cell_type": "code",
      "metadata": {
        "id": "8yKmD2fqTzW-",
        "colab_type": "code",
        "colab": {}
      },
      "source": [
        "#@title\n",
        "# replace zeros in data with \"Nan\" to calculate more accurate average bednights \n",
        "df_90['Count of Bed Nights (Housing Check-ins)'] = df['Count of Bed Nights (Housing Check-ins)'].replace(0, np.NaN)"
      ],
      "execution_count": 0,
      "outputs": []
    },
    {
      "cell_type": "code",
      "metadata": {
        "id": "C-V4GQ-8T6i0",
        "colab_type": "code",
        "outputId": "1fb1e8ef-1deb-41fc-fa40-34ee5564d11e",
        "colab": {
          "base_uri": "https://localhost:8080/",
          "height": 187
        }
      },
      "source": [
        "# display all possible exit destinations and their totals\n",
        "df_90['3.12 Exit Destination'].value_counts()"
      ],
      "execution_count": 0,
      "outputs": [
        {
          "output_type": "execute_result",
          "data": {
            "text/plain": [
              "Rental by client, no ongoing housing subsidy                                                                            14\n",
              "Emergency shelter, including hotel or motel paid for with emergency shelter voucher, or RHY-funded Host Home shelter     9\n",
              "Staying or living with family, permanent tenure                                                                          8\n",
              "Transitional Housing for homeless persons (including homeless youth)                                                     5\n",
              "Staying or living with friends, temporary tenure (e.g., room, apartment or house)                                        4\n",
              "Hotel or Motel paid for without Emergency Shelter Voucher                                                                4\n",
              "Rental by client with RRH or equivalent subsidy                                                                          3\n",
              "Rental by client, other ongoing housing subsidy                                                                          1\n",
              "Client refused                                                                                                           1\n",
              "Name: 3.12 Exit Destination, dtype: int64"
            ]
          },
          "metadata": {
            "tags": []
          },
          "execution_count": 38
        }
      ]
    }
  ]
}