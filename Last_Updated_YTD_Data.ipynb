{
  "nbformat": 4,
  "nbformat_minor": 0,
  "metadata": {
    "colab": {
      "name": "Last Updated YTD Data",
      "provenance": [],
      "collapsed_sections": [],
      "include_colab_link": true
    },
    "kernelspec": {
      "name": "python3",
      "display_name": "Python 3"
    }
  },
  "cells": [
    {
      "cell_type": "markdown",
      "metadata": {
        "id": "view-in-github",
        "colab_type": "text"
      },
      "source": [
        "<a href=\"https://colab.research.google.com/github/iesous-kurios/family_promise_data/blob/master/Last_Updated_YTD_Data.ipynb\" target=\"_parent\"><img src=\"https://colab.research.google.com/assets/colab-badge.svg\" alt=\"Open In Colab\"/></a>"
      ]
    },
    {
      "cell_type": "markdown",
      "metadata": {
        "id": "1FPDDrTvl7r1",
        "colab_type": "text"
      },
      "source": [
        "# **YTD FPS Data Notebook**"
      ]
    },
    {
      "cell_type": "code",
      "metadata": {
        "id": "w8Qw1H1cyh8E",
        "colab_type": "code",
        "cellView": "both",
        "colab": {
          "base_uri": "https://localhost:8080/",
          "height": 35
        },
        "outputId": "ce0c8d4a-95d1-4765-8c3e-d3865fe95499"
      },
      "source": [
        "#@title\n",
        "# mount google drive to access weekly data\n",
        "from google.colab import drive\n",
        "drive.mount('/content/drive')"
      ],
      "execution_count": 8,
      "outputs": [
        {
          "output_type": "stream",
          "text": [
            "Drive already mounted at /content/drive; to attempt to forcibly remount, call drive.mount(\"/content/drive\", force_remount=True).\n"
          ],
          "name": "stdout"
        }
      ]
    },
    {
      "cell_type": "code",
      "metadata": {
        "id": "aDa7C0EuxPor",
        "colab_type": "code",
        "cellView": "both",
        "outputId": "b2b471cd-6913-46a2-d2d4-8af9a1e7c8d6",
        "colab": {
          "base_uri": "https://localhost:8080/",
          "height": 35
        }
      },
      "source": [
        "#@title\n",
        "# import libraries which provide math functions to our data imports\n",
        "import statistics\n",
        "import numpy as np\n",
        "import pandas as pd\n",
        "import matplotlib.pyplot as plt\n",
        "import xlwt \n",
        "from xlwt import Workbook\n",
        "import seaborn as sns\n",
        "\n",
        "import matplotlib.pyplot as plt\n",
        "import matplotlib\n",
        "from matplotlib import style\n",
        "\n",
        "sns.__version__"
      ],
      "execution_count": 9,
      "outputs": [
        {
          "output_type": "execute_result",
          "data": {
            "text/plain": [
              "'0.9.0'"
            ]
          },
          "metadata": {
            "tags": []
          },
          "execution_count": 9
        }
      ]
    },
    {
      "cell_type": "code",
      "metadata": {
        "id": "hKIhC1Kvu6Pp",
        "colab_type": "code",
        "cellView": "both",
        "colab": {}
      },
      "source": [
        "#@title\n",
        "# import weekly data from yearly FPS folder\n",
        "df = pd.read_excel ('/content/drive/My Drive/FPS Weekly Data Colabs/YTD Data/Oct_30_YTD.xlsx')"
      ],
      "execution_count": 0,
      "outputs": []
    },
    {
      "cell_type": "code",
      "metadata": {
        "id": "g0EbyhR9tJ__",
        "colab_type": "code",
        "cellView": "both",
        "colab": {}
      },
      "source": [
        "#@title\n",
        "# replace zeros in data with \"Nan\" to calculate more accurate average bednights \n",
        "df['Count of Bed Nights (Housing Check-ins)'] = df['Count of Bed Nights (Housing Check-ins)'].replace(0, np.NaN)"
      ],
      "execution_count": 0,
      "outputs": []
    },
    {
      "cell_type": "code",
      "metadata": {
        "id": "2j95mgiIUV0U",
        "colab_type": "code",
        "outputId": "34d7929b-6b82-43eb-ca4c-a8829a52e849",
        "colab": {
          "base_uri": "https://localhost:8080/",
          "height": 308
        }
      },
      "source": [
        "# display all possible exit destinations and their totals\n",
        "df['3.12 Exit Destination'].value_counts()"
      ],
      "execution_count": 12,
      "outputs": [
        {
          "output_type": "execute_result",
          "data": {
            "text/plain": [
              "Client refused                                                                                                                   286\n",
              "Emergency shelter, including hotel or motel paid for with emergency shelter voucher, or RHY-funded Host Home shelter             132\n",
              "Rental by client with RRH or equivalent subsidy                                                                                  109\n",
              "No exit interview completed                                                                                                       69\n",
              "Transitional Housing for homeless persons (including homeless youth)                                                              38\n",
              "Rental by client, no ongoing housing subsidy                                                                                      36\n",
              "Staying or living with family, permanent tenure                                                                                   29\n",
              "Staying or living with family, temporary tenure (e.g., room, apartment or house)                                                  21\n",
              "Rental by client, other ongoing housing subsidy                                                                                   19\n",
              "Staying or living with friends, temporary tenure (e.g., room, apartment or house)                                                 13\n",
              "Place not meant for habitation (e.g., a vehicle, an abandoned building, bus/train/subway station/airport or anywhere outside)      8\n",
              "Hotel or Motel paid for without Emergency Shelter Voucher                                                                          4\n",
              "Staying or living with friends, permanent tenure                                                                                   2\n",
              "Permanent housing (other than RRH) for formerly homeless persons                                                                   2\n",
              "Psychiatric Hospital or Other Psychiatric Facility                                                                                 1\n",
              "Name: 3.12 Exit Destination, dtype: int64"
            ]
          },
          "metadata": {
            "tags": []
          },
          "execution_count": 12
        }
      ]
    },
    {
      "cell_type": "code",
      "metadata": {
        "id": "04imCepm-N9r",
        "colab_type": "code",
        "cellView": "both",
        "colab": {}
      },
      "source": [
        "#@title\n",
        "\n",
        "exit_reasons = ['Rental by client with RRH or equivalent subsidy', \n",
        "                'Rental by client, no ongoing housing subsidy', \n",
        "                'Staying or living with family, permanent tenure', \n",
        "                'Rental by client, other ongoing housing subsidy',\n",
        "                'Permanent housing (other than RRH) for formerly homeless persons', \n",
        "                'Staying or living with friends, permanent tenure', \n",
        "                'Owned by client, with ongoing housing subsidy', \n",
        "                'Staying or living with friends, permanent tenure', \n",
        "                'Rental by client, VASH housing Subsidy'\n",
        "               ]\n",
        "\n",
        "temp_reasons = ['Staying or living with family, temporary tenure (e.g., room, apartment or house)', \n",
        "               'Staying or living with friends, temporary tenure (e.g., room, apartment or house)', \n",
        "                \n",
        "               ]"
      ],
      "execution_count": 0,
      "outputs": []
    },
    {
      "cell_type": "code",
      "metadata": {
        "id": "N9BTJrq5rLb7",
        "colab_type": "code",
        "outputId": "68588887-1b91-41a5-efc2-faea5c37ea05",
        "colab": {
          "base_uri": "https://localhost:8080/",
          "height": 72
        }
      },
      "source": [
        "#@title  { display-mode: \"both\" }\n",
        "# pull all exit destinations from main data file and sum up the totals of each destination, placing them into new df for calculations\n",
        "exits = df['3.12 Exit Destination'].value_counts()\n",
        "\n",
        "tempExits = df['3.12 Exit Destination'].isin(temp_reasons)\n",
        "temp_exit_percent = tempExits.sum() / exits.sum()\n",
        "#exits.sum()) * 100)\n",
        "# round tempExits to two decimals\n",
        "tempExits = round(temp_exit_percent*100, 2)\n",
        "#tempExits = 0\n",
        "\n",
        "# take sum of unknown exits and divide by total exits, then multiply by 100 to get percentage\n",
        "unknownExits = ((exits['Client refused'] / exits.sum()) * 100)\n",
        "\n",
        "# round the answer to nearest hundreth place\n",
        "unknownExits = (round(unknownExits, 2))\n",
        "\n",
        "# create three data frames made up of the three key words found in perm housing\n",
        "perm1 = df[df['3.12 Exit Destination'].str.contains('Rental') == True] \n",
        "perm2 = df[df['3.12 Exit Destination'].str.contains('permanent') == True]\n",
        "perm3 = df[df['3.12 Exit Destination'].str.contains('Permanent') == True]\n",
        "\n",
        "# merge the three dataframes into one to calculate exit to perm percent\n",
        "perm_almost_final = perm1.append(perm2)\n",
        "perm_final = perm_almost_final.append(perm3)\n",
        "perm_final['3.12 Exit Destination'].value_counts()\n",
        "perm_final_sums = perm_final['3.12 Exit Destination'].value_counts()\n",
        "perm_final = df['3.12 Exit Destination'].isin(exit_reasons)\n",
        "# calculate percentage of exits to perm\n",
        "perm_final_percent = perm_final_sums.sum() / exits.sum()\n",
        "\n",
        "#perm_final.sum()\n",
        "\n",
        "#perm_final_percent2 = perm_final.sum() / df['3.12 Exit Destination'].value_counts().sum()\n",
        "#round(perm_final_percent1, 2)\n",
        "print('Exit to Perm percent:',perm_final_percent*100,'%')\n",
        "print('Unknown Exit percent:',unknownExits,'%')\n",
        "print('Temp Exit percent:',tempExits,'%')"
      ],
      "execution_count": 14,
      "outputs": [
        {
          "output_type": "stream",
          "text": [
            "Exit to Perm percent: 25.617685305591674 %\n",
            "Unknown Exit percent: 37.19 %\n",
            "Temp Exit percent: 4.42 %\n"
          ],
          "name": "stdout"
        }
      ]
    },
    {
      "cell_type": "code",
      "metadata": {
        "id": "Rv2mM6jvRRl-",
        "colab_type": "code",
        "cellView": "both",
        "outputId": "a355e71b-758c-4a9d-9966-de41a4046652",
        "colab": {
          "base_uri": "https://localhost:8080/",
          "height": 54
        }
      },
      "source": [
        "#@title\n",
        "# take sum of ES and Trans exits and divide by total exits, then multiply by 100 to get percentage\n",
        "esExits = (( exits['Emergency shelter, including hotel or motel paid for with emergency shelter voucher, or RHY-funded Host Home shelter'] / exits.sum()) * 100)\n",
        "transExits = ((exits['Transitional Housing for homeless persons (including homeless youth)'] / exits.sum()) * 100)\n",
        "# round the answer to nearest hundreth place\n",
        "esExits = (round(esExits, 2))\n",
        "transExits = (round(transExits, 2))\n",
        "\n",
        "print('Exits to ES percent:',esExits,'%')\n",
        "print('Exits to Transitional',transExits,'%')"
      ],
      "execution_count": 15,
      "outputs": [
        {
          "output_type": "stream",
          "text": [
            "Exits to ES percent: 17.17 %\n",
            "Exits to Transitional 4.94 %\n"
          ],
          "name": "stdout"
        }
      ]
    },
    {
      "cell_type": "code",
      "metadata": {
        "id": "-P6pTn3jHVP8",
        "colab_type": "code",
        "cellView": "both",
        "outputId": "4f204588-dc03-41d7-edb0-33a76bb11537",
        "colab": {
          "base_uri": "https://localhost:8080/",
          "height": 35
        }
      },
      "source": [
        "#@title\n",
        "\n",
        "avgBedNights = df['Count of Bed Nights (Housing Check-ins)'].mean(skipna=True)\n",
        "\n",
        "avgBedNights = round(avgBedNights, 2)\n",
        "\n",
        "print(\"Average BedNights is:\", avgBedNights)"
      ],
      "execution_count": 16,
      "outputs": [
        {
          "output_type": "stream",
          "text": [
            "Average BedNights is: 28.12\n"
          ],
          "name": "stdout"
        }
      ]
    },
    {
      "cell_type": "code",
      "metadata": {
        "id": "vf42T95LHxGE",
        "colab_type": "code",
        "cellView": "both",
        "outputId": "a6bd3525-4e25-4a7d-9a5b-67ff31862b0d",
        "colab": {
          "base_uri": "https://localhost:8080/",
          "height": 35
        }
      },
      "source": [
        "#@title\n",
        "avgDaysEnrolled = df['Days Enrolled in Project'].mean(skipna=True)\n",
        "avgDaysEnrolled = round(avgDaysEnrolled, 2)                   \n",
        "perm_final_percent = round(perm_final_percent*100, 2)\n",
        "print('Average Days Enrolled is:', avgDaysEnrolled)"
      ],
      "execution_count": 17,
      "outputs": [
        {
          "output_type": "stream",
          "text": [
            "Average Days Enrolled is: 42.17\n"
          ],
          "name": "stdout"
        }
      ]
    },
    {
      "cell_type": "code",
      "metadata": {
        "id": "Cik7482lICZC",
        "colab_type": "code",
        "cellView": "both",
        "outputId": "a31dad8a-953c-43c6-d51f-32e1795f0990",
        "colab": {
          "base_uri": "https://localhost:8080/",
          "height": 72
        }
      },
      "source": [
        "#@title\n",
        "print('Average Household Income at Enrollment is:', round(df['4.2 Income Total at Entry'].mean(skipna=True), 2))\n",
        "\n",
        "print('Average Household Income at Exit is:', round(df['4.2 Income Total at Exit'].mean(skipna=True), 2))\n",
        "\n",
        "avgChange = (df['4.2 Income Total at Exit'].mean(skipna=True)) - (df['4.2 Income Total at Entry'].mean(skipna=True))\n",
        "avgChange = round(avgChange, 2)\n",
        "print('Average Change in Income for Households during stay is:', avgChange)\n"
      ],
      "execution_count": 18,
      "outputs": [
        {
          "output_type": "stream",
          "text": [
            "Average Household Income at Enrollment is: 921.6\n",
            "Average Household Income at Exit is: 940.12\n",
            "Average Change in Income for Households during stay is: 18.53\n"
          ],
          "name": "stdout"
        }
      ]
    },
    {
      "cell_type": "code",
      "metadata": {
        "id": "RlJjfSuIsR-t",
        "colab_type": "code",
        "cellView": "both",
        "outputId": "a9ec6d95-7748-424d-9373-5ad2270ee144",
        "colab": {
          "base_uri": "https://localhost:8080/",
          "height": 35
        }
      },
      "source": [
        "#@title\n",
        "# printed rounded answer for average age during enrollment\n",
        "print('Average Age of Guest during Enrollment is:', round(df['Age at Enrollment'].mean(skipna=True), 2))"
      ],
      "execution_count": 19,
      "outputs": [
        {
          "output_type": "stream",
          "text": [
            "Average Age of Guest during Enrollment is: 19.37\n"
          ],
          "name": "stdout"
        }
      ]
    },
    {
      "cell_type": "code",
      "metadata": {
        "id": "qc_dLkMPRglm",
        "colab_type": "code",
        "colab": {}
      },
      "source": [
        "# export zips into an excel sheet for Power BI visual\n",
        "  df['V5 Zip'].value_counts().to_excel('/content/drive/My Drive/FPS Weekly Data Colabs/YTD Data/weeklyYTDzips.xlsx', header=True, index=True)"
      ],
      "execution_count": 0,
      "outputs": []
    },
    {
      "cell_type": "code",
      "metadata": {
        "id": "wn9pFrKU1Iag",
        "colab_type": "code",
        "colab": {}
      },
      "source": [
        "# create list of all options for engagement data and export into excel file for Power BI\n",
        "df['Days Enrolled Until Engagement Date'].value_counts().to_excel('/content/drive/My Drive/FPS Weekly Data Colabs/YTD Data/weeklyYTD_aggregate_DOE.xlsx', header=True, index=True)"
      ],
      "execution_count": 0,
      "outputs": []
    },
    {
      "cell_type": "code",
      "metadata": {
        "id": "Zm7A6TE4ckjD",
        "colab_type": "code",
        "colab": {}
      },
      "source": [
        "# create new excel sheet with the days enrolled until engagement to upload back into notebook for calculating mean\n",
        "\n",
        "df['Days Until Engagement'] = (df['4.13 Engagement Date'] - df['3.10 Enroll Date'])\n",
        "df['Days Until Engagement'].mean()\n",
        "d_o_e_avg = df['Days Until Engagement'].mean()"
      ],
      "execution_count": 0,
      "outputs": []
    },
    {
      "cell_type": "code",
      "metadata": {
        "id": "nZXjBCEwdyOD",
        "colab_type": "code",
        "outputId": "e3e3905e-baf9-441c-98a7-7c3f269ae090",
        "colab": {
          "base_uri": "https://localhost:8080/",
          "height": 35
        }
      },
      "source": [
        "d_o_e_avg"
      ],
      "execution_count": 23,
      "outputs": [
        {
          "output_type": "execute_result",
          "data": {
            "text/plain": [
              "Timedelta('4 days 10:48:17.211155')"
            ]
          },
          "metadata": {
            "tags": []
          },
          "execution_count": 23
        }
      ]
    },
    {
      "cell_type": "code",
      "metadata": {
        "id": "nzzWqRNuNWiM",
        "colab_type": "code",
        "colab": {}
      },
      "source": [
        "# create new excel sheet with the days enrolled until engagement to upload back into notebook for calculating mean \n",
        "(df['4.13 Engagement Date'] - df['3.10 Enroll Date']).to_excel('/content/drive/My Drive/FPS Weekly Data Colabs/YTD Data/ytdDOE.xlsx', header=False, index=False)"
      ],
      "execution_count": 0,
      "outputs": []
    },
    {
      "cell_type": "code",
      "metadata": {
        "id": "xX3f7O4QD3y9",
        "colab_type": "code",
        "colab": {}
      },
      "source": [
        "# create new column with total amount of guests for year\n",
        "df['Total Guests'] = df['5.8 Personal ID'].drop_duplicates().count()"
      ],
      "execution_count": 0,
      "outputs": []
    },
    {
      "cell_type": "code",
      "metadata": {
        "id": "SWNpBE43LjeR",
        "colab_type": "code",
        "colab": {}
      },
      "source": [
        "# create new column with count of unique households\n",
        "df['Total Households'] = df['5.9 Household ID'].drop_duplicates().count()\n",
        "\n",
        "# create new column with total amount of guests for year\n",
        "df['Total Guests'] = df['5.8 Personal ID'].drop_duplicates().count()\n"
      ],
      "execution_count": 0,
      "outputs": []
    },
    {
      "cell_type": "code",
      "metadata": {
        "id": "7GIG1mTpkfay",
        "colab_type": "code",
        "colab": {}
      },
      "source": [
        "import plotly.express as px"
      ],
      "execution_count": 0,
      "outputs": []
    },
    {
      "cell_type": "code",
      "metadata": {
        "id": "e7n-NXIpJMgx",
        "colab_type": "code",
        "outputId": "f0a95550-8e66-4227-81e4-22b2ee4b65bc",
        "colab": {
          "base_uri": "https://localhost:8080/",
          "height": 54
        }
      },
      "source": [
        "totalHouseholds = df.iloc[1, 120]\n",
        "totalGuests = df.iloc[1, 119]\n",
        "\n",
        "print(totalHouseholds)\n",
        "print(totalGuests)"
      ],
      "execution_count": 28,
      "outputs": [
        {
          "output_type": "stream",
          "text": [
            "262\n",
            "781\n"
          ],
          "name": "stdout"
        }
      ]
    },
    {
      "cell_type": "code",
      "metadata": {
        "id": "yN84mZypp9Nh",
        "colab_type": "code",
        "colab": {}
      },
      "source": [
        "# Workbook is created \n",
        "wb = Workbook() \n",
        "  \n",
        "# add_sheet is used to create sheet. \n",
        "sheet1 = wb.add_sheet('Sheet 1') \n",
        "  \n",
        "sheet1.write(0, 0, 'Permanent Housing') \n",
        "sheet1.write(0, 1, round(perm_final_percent*100,2))\n",
        "sheet1.write(1, 0, 'Emergency Shelter') \n",
        "sheet1.write(1, 1, esExits) \n",
        "sheet1.write(2, 0, 'Temporary Housing') \n",
        "sheet1.write(2, 1, tempExits) \n",
        "sheet1.write(3, 0, 'Transitional Housing') \n",
        "sheet1.write(3, 1, transExits) \n",
        "sheet1.write(4, 0, 'Guest left without completing exit survey') \n",
        "sheet1.write(4, 1, unknownExits) \n",
        "sheet1.write(5, 0, 'Average Bednights')\n",
        "sheet1.write(5, 1, avgBedNights)\n",
        "sheet1.write(6, 0, 'Average Days Enrolled')\n",
        "sheet1.write(6, 1, avgDaysEnrolled)\n",
        "sheet1.write(7, 0, 'Average Change in Income per Household')\n",
        "sheet1.write(7, 1, avgChange)\n",
        "sheet1.write(8, 0, 'Total Households Served')\n",
        "sheet1.write(8, 1, int(totalHouseholds))\n",
        "sheet1.write(9, 0, 'Total Guests Served')\n",
        "sheet1.write(9, 1, int(totalGuests))\n",
        "\n",
        "wb.save('/content/drive/My Drive/FPS Weekly Data Colabs/YTD Data/weeklyYtdData.xls')"
      ],
      "execution_count": 0,
      "outputs": []
    }
  ]
}