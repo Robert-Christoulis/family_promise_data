{
  "nbformat": 4,
  "nbformat_minor": 0,
  "metadata": {
    "colab": {
      "name": "Last Updated YTD Data",
      "provenance": [],
      "collapsed_sections": [],
      "include_colab_link": true
    },
    "kernelspec": {
      "display_name": "Python 3",
      "language": "python",
      "name": "python3"
    },
    "language_info": {
      "codemirror_mode": {
        "name": "ipython",
        "version": 3
      },
      "file_extension": ".py",
      "mimetype": "text/x-python",
      "name": "python",
      "nbconvert_exporter": "python",
      "pygments_lexer": "ipython3",
      "version": "3.6.9"
    }
  },
  "cells": [
    {
      "cell_type": "markdown",
      "metadata": {
        "id": "view-in-github",
        "colab_type": "text"
      },
      "source": [
        "<a href=\"https://colab.research.google.com/github/iesous-kurios/family_promise_data/blob/master/Last_Updated_YTD_Data.ipynb\" target=\"_parent\"><img src=\"https://colab.research.google.com/assets/colab-badge.svg\" alt=\"Open In Colab\"/></a>"
      ]
    },
    {
      "cell_type": "markdown",
      "metadata": {
        "colab_type": "text",
        "id": "1FPDDrTvl7r1"
      },
      "source": [
        "# **YTD FPS Data Notebook**"
      ]
    },
    {
      "cell_type": "code",
      "metadata": {
        "cellView": "both",
        "colab_type": "code",
        "id": "aDa7C0EuxPor",
        "outputId": "0af95b64-6cd2-4dbe-c152-0fe5659a433a",
        "colab": {
          "base_uri": "https://localhost:8080/",
          "height": 33
        }
      },
      "source": [
        "#@title\n",
        "# import libraries which provide math functions to our data imports\n",
        "import statistics\n",
        "import numpy as np\n",
        "import pandas as pd\n",
        "import matplotlib.pyplot as plt\n",
        "import xlwt \n",
        "from xlwt import Workbook\n",
        "import seaborn as sns\n",
        "\n",
        "import matplotlib.pyplot as plt\n",
        "import matplotlib\n",
        "from matplotlib import style\n",
        "\n",
        "sns.__version__"
      ],
      "execution_count": 259,
      "outputs": [
        {
          "output_type": "execute_result",
          "data": {
            "text/plain": [
              "'0.9.1'"
            ]
          },
          "metadata": {
            "tags": []
          },
          "execution_count": 259
        }
      ]
    },
    {
      "cell_type": "code",
      "metadata": {
        "cellView": "both",
        "colab_type": "code",
        "id": "hKIhC1Kvu6Pp",
        "colab": {}
      },
      "source": [
        "#@title\n",
        "# import weekly data from yearly FPS folder\n",
        "df = pd.read_excel('/content/90Day_Feb5.xlsx')\n",
        "#df = pd.read_excel ('~/environments/fp_env/family_promise_data/data/ClientTrackExport (5).xlsx')"
      ],
      "execution_count": 0,
      "outputs": []
    },
    {
      "cell_type": "code",
      "metadata": {
        "colab_type": "code",
        "id": "Fme1j0wCaD5T",
        "colab": {}
      },
      "source": [
        "# get list of currently enrolled guests (guests that don't have an exit date)\n",
        "currently_enrolled = df[df['3.11 Exit Date'].isnull()]"
      ],
      "execution_count": 0,
      "outputs": []
    },
    {
      "cell_type": "code",
      "metadata": {
        "colab_type": "code",
        "id": "_9oOwsJkZclG",
        "colab": {}
      },
      "source": [
        "# create new list of those currently enrolled who haven't stayed with us for\n",
        "# two weeks or more\n",
        "need_to_exit = currently_enrolled[currently_enrolled['Date of Last ES Stay (Beta)'] < pd.to_datetime('2020-01-10')] "
      ],
      "execution_count": 0,
      "outputs": []
    },
    {
      "cell_type": "code",
      "metadata": {
        "colab_type": "code",
        "id": "G_58DZUTekxT",
        "colab": {}
      },
      "source": [
        "# make list of last names and HMIS number so team can find them and exit them\n",
        "\n",
        "last_names = need_to_exit['3.1 LastName']\n",
        "hmis = need_to_exit['5.8 Personal ID']\n",
        "\n",
        "print_list = pd.concat([last_names, hmis], axis=1)"
      ],
      "execution_count": 0,
      "outputs": []
    },
    {
      "cell_type": "code",
      "metadata": {
        "colab_type": "code",
        "id": "6j8TBTqrgNTL",
        "colab": {}
      },
      "source": [
        "# send to excel sheet to download and share\n",
        "print_list.to_excel('/content/exit_list.xlsx', index=None)"
      ],
      "execution_count": 0,
      "outputs": []
    },
    {
      "cell_type": "code",
      "metadata": {
        "colab_type": "code",
        "id": "NDxh2EcL-2Pl",
        "colab": {}
      },
      "source": [
        "# Python program to check if two  \n",
        "# to get unique values from list \n",
        "# using traversal  \n",
        "  \n",
        "# function to get unique values \n",
        "def unique(list1): \n",
        "  \n",
        "    # intilize a null list \n",
        "    unique_list = [] \n",
        "      \n",
        "    # traverse for all elements \n",
        "    for x in list1: \n",
        "        # check if exists in unique_list or not \n",
        "        if x not in unique_list: \n",
        "            unique_list.append(x) \n",
        "    return unique_list    \n",
        "    \n",
        "  \n",
        "# driver code \n",
        "list1 = df['5.8 Personal ID']\n",
        "\n",
        "unduplicated = unique(list1) "
      ],
      "execution_count": 0,
      "outputs": []
    },
    {
      "cell_type": "code",
      "metadata": {
        "id": "QTChXrgl59Mj",
        "colab_type": "code",
        "colab": {
          "base_uri": "https://localhost:8080/",
          "height": 33
        },
        "outputId": "29ebd919-1db2-4fd2-d042-bf5622d259a7"
      },
      "source": [
        "len(unduplicated)"
      ],
      "execution_count": 266,
      "outputs": [
        {
          "output_type": "execute_result",
          "data": {
            "text/plain": [
              "266"
            ]
          },
          "metadata": {
            "tags": []
          },
          "execution_count": 266
        }
      ]
    },
    {
      "cell_type": "code",
      "metadata": {
        "id": "hsXRhSy659Mw",
        "colab_type": "code",
        "colab": {
          "base_uri": "https://localhost:8080/",
          "height": 217
        },
        "outputId": "a0e2e4df-b07b-4859-ac3c-a96dbbabb104"
      },
      "source": [
        "df['5.9 Household ID'].value_counts()"
      ],
      "execution_count": 267,
      "outputs": [
        {
          "output_type": "execute_result",
          "data": {
            "text/plain": [
              "126179    8\n",
              "126161    6\n",
              "120744    6\n",
              "125108    6\n",
              "121337    5\n",
              "         ..\n",
              "123342    2\n",
              "124766    2\n",
              "125107    2\n",
              "126178    1\n",
              "125339    1\n",
              "Name: 5.9 Household ID, Length: 89, dtype: int64"
            ]
          },
          "metadata": {
            "tags": []
          },
          "execution_count": 267
        }
      ]
    },
    {
      "cell_type": "code",
      "metadata": {
        "colab_type": "code",
        "id": "DZrg1jL9owlG",
        "colab": {}
      },
      "source": [
        "# print total number of families served (unduplicated)\n",
        "unique_households = unique(df['5.9 Household ID'])"
      ],
      "execution_count": 0,
      "outputs": []
    },
    {
      "cell_type": "code",
      "metadata": {
        "colab_type": "code",
        "id": "dNKzPkFF-oeN",
        "outputId": "c9b9a3c9-3dce-4ebd-aaee-3ca0c3bbf93f",
        "colab": {
          "base_uri": "https://localhost:8080/",
          "height": 33
        }
      },
      "source": [
        "len(unique_households)"
      ],
      "execution_count": 269,
      "outputs": [
        {
          "output_type": "execute_result",
          "data": {
            "text/plain": [
              "89"
            ]
          },
          "metadata": {
            "tags": []
          },
          "execution_count": 269
        }
      ]
    },
    {
      "cell_type": "code",
      "metadata": {
        "cellView": "both",
        "colab_type": "code",
        "id": "g0EbyhR9tJ__",
        "colab": {}
      },
      "source": [
        "#@title\n",
        "# replace zeros in data with \"Nan\" to calculate more accurate average bednights \n",
        "df['Count of Bed Nights (Housing Check-ins)'] = df['Count of Bed Nights (Housing Check-ins)'].replace(0, np.NaN)"
      ],
      "execution_count": 0,
      "outputs": []
    },
    {
      "cell_type": "code",
      "metadata": {
        "colab_type": "code",
        "id": "2j95mgiIUV0U",
        "outputId": "777a9514-9947-4a02-c969-7dab2ab6321b",
        "colab": {
          "base_uri": "https://localhost:8080/",
          "height": 167
        }
      },
      "source": [
        "# display all possible exit destinations and their totals\n",
        "df['3.12 Exit Destination'].value_counts()"
      ],
      "execution_count": 271,
      "outputs": [
        {
          "output_type": "execute_result",
          "data": {
            "text/plain": [
              "Emergency shelter, including hotel or motel paid for with emergency shelter voucher, or RHY-funded Host Home shelter    34\n",
              "No exit interview completed                                                                                             23\n",
              "Client refused                                                                                                          16\n",
              "Rental by client, no ongoing housing subsidy                                                                            15\n",
              "Rental by client with RRH or equivalent subsidy                                                                         10\n",
              "Rental by client, other ongoing housing subsidy                                                                          4\n",
              "Other                                                                                                                    4\n",
              "Substance Abuse Treatment or Detox Center                                                                                2\n",
              "Name: 3.12 Exit Destination, dtype: int64"
            ]
          },
          "metadata": {
            "tags": []
          },
          "execution_count": 271
        }
      ]
    },
    {
      "cell_type": "code",
      "metadata": {
        "cellView": "both",
        "colab_type": "code",
        "id": "04imCepm-N9r",
        "colab": {}
      },
      "source": [
        "#@title\n",
        "\n",
        "exit_reasons = ['Rental by client with RRH or equivalent subsidy', \n",
        "                'Rental by client, no ongoing housing subsidy', \n",
        "                'Staying or living with family, permanent tenure', \n",
        "                'Rental by client, other ongoing housing subsidy',\n",
        "                'Permanent housing (other than RRH) for formerly homeless persons', \n",
        "                'Staying or living with friends, permanent tenure', \n",
        "                'Owned by client, with ongoing housing subsidy', \n",
        "                'Staying or living with friends, permanent tenure', \n",
        "                'Rental by client, VASH housing Subsidy'\n",
        "               ]\n",
        "\n",
        "temp_reasons = ['Staying or living with family, temporary tenure (e.g., room, apartment or house)', \n",
        "               'Staying or living with friends, temporary tenure (e.g., room, apartment or house)', \n",
        "                \n",
        "               ]"
      ],
      "execution_count": 0,
      "outputs": []
    },
    {
      "cell_type": "code",
      "metadata": {
        "id": "Cel9sN-c59Oc",
        "colab_type": "code",
        "colab": {}
      },
      "source": [
        "# drop rows with no exit destination (current guests at time of report)\n",
        "df = df.dropna(subset=['3.12 Exit Destination'])"
      ],
      "execution_count": 0,
      "outputs": []
    },
    {
      "cell_type": "code",
      "metadata": {
        "id": "2ZsawdeZ59Oo",
        "colab_type": "code",
        "colab": {}
      },
      "source": [
        " # create target column (multiple types of exits to perm)\n",
        "df['perm_leaver'] = df['3.12 Exit Destination'].isin(exit_reasons)"
      ],
      "execution_count": 0,
      "outputs": []
    },
    {
      "cell_type": "code",
      "metadata": {
        "id": "LZ3WxJ9u59Oz",
        "colab_type": "code",
        "colab": {
          "base_uri": "https://localhost:8080/",
          "height": 67
        },
        "outputId": "27c57778-b3c6-4e78-ac8b-aebd6c84d598"
      },
      "source": [
        "df['perm_leaver'].value_counts(normalize=True)"
      ],
      "execution_count": 275,
      "outputs": [
        {
          "output_type": "execute_result",
          "data": {
            "text/plain": [
              "False    0.731481\n",
              "True     0.268519\n",
              "Name: perm_leaver, dtype: float64"
            ]
          },
          "metadata": {
            "tags": []
          },
          "execution_count": 275
        }
      ]
    },
    {
      "cell_type": "code",
      "metadata": {
        "colab_type": "code",
        "id": "N9BTJrq5rLb7",
        "outputId": "ce039844-07b0-4e7d-e397-946f679976e9",
        "colab": {
          "base_uri": "https://localhost:8080/",
          "height": 67
        }
      },
      "source": [
        "#@title  { display-mode: \"both\" }\n",
        "# pull all exit destinations from main data file and sum up the totals of each destination, placing them into new df for calculations\n",
        "exits = df['3.12 Exit Destination'].value_counts()\n",
        "\n",
        "tempExits = df['3.12 Exit Destination'].isin(temp_reasons)\n",
        "temp_exit_percent = tempExits.sum() / exits.sum()\n",
        "#exits.sum()) * 100)\n",
        "# round tempExits to two decimals\n",
        "tempExits = round(temp_exit_percent*100, 2)\n",
        "#tempExits = 0\n",
        "\n",
        "# take sum of unknown exits and divide by total exits, then multiply by 100 to get percentage\n",
        "unknownExits = ((exits['Client refused'] / exits.sum()) * 100)\n",
        "\n",
        "# round the answer to nearest hundreth place\n",
        "unknownExits = (round(unknownExits, 2))\n",
        "\n",
        "# create three data frames made up of the three key words found in perm housing\n",
        "perm1 = df[df['3.12 Exit Destination'].str.contains('Rental') == True] \n",
        "perm2 = df[df['3.12 Exit Destination'].str.contains('permanent') == True]\n",
        "perm3 = df[df['3.12 Exit Destination'].str.contains('Permanent') == True]\n",
        "\n",
        "# merge the three dataframes into one to calculate exit to perm percent\n",
        "perm_almost_final = perm1.append(perm2)\n",
        "perm_final = perm_almost_final.append(perm3)\n",
        "perm_final['3.12 Exit Destination'].value_counts()\n",
        "perm_final_sums = perm_final['3.12 Exit Destination'].value_counts()\n",
        "perm_final = df['3.12 Exit Destination'].isin(exit_reasons)\n",
        "# calculate percentage of exits to perm\n",
        "perm_final_percent = perm_final_sums.sum() / exits.sum()\n",
        "\n",
        "#perm_final.sum()\n",
        "\n",
        "#perm_final_percent2 = perm_final.sum() / df['3.12 Exit Destination'].value_counts().sum()\n",
        "#round(perm_final_percent1, 2)\n",
        "print('Exit to Perm percent:',perm_final_percent*100,'%')\n",
        "print('Unknown Exit percent:',unknownExits,'%')\n",
        "print('Temp Exit percent:',tempExits,'%')"
      ],
      "execution_count": 276,
      "outputs": [
        {
          "output_type": "stream",
          "text": [
            "Exit to Perm percent: 26.851851851851855 %\n",
            "Unknown Exit percent: 14.81 %\n",
            "Temp Exit percent: 0.0 %\n"
          ],
          "name": "stdout"
        }
      ]
    },
    {
      "cell_type": "code",
      "metadata": {
        "cellView": "both",
        "colab_type": "code",
        "id": "Rv2mM6jvRRl-",
        "outputId": "35032577-907f-471b-a123-9ce90b3d356f",
        "colab": {
          "base_uri": "https://localhost:8080/",
          "height": 50
        }
      },
      "source": [
        "#@title\n",
        "# take sum of ES and Trans exits and divide by total exits, then multiply by 100 to get percentage\n",
        "esExits = (( exits['Emergency shelter, including hotel or motel paid for with emergency shelter voucher, or RHY-funded Host Home shelter'] / exits.sum()) * 100)\n",
        "#transExits = ((exits['Transitional Housing for homeless persons (including homeless youth)'] / exits.sum()) * 100)\n",
        "# round the answer to nearest hundreth place\n",
        "esExits = (round(esExits, 2))\n",
        "#transExits = (round(transExits, 2))\n",
        "\n",
        "print('Exits to ES percent:',esExits,'%')\n",
        "print('Exits to Transitional',transExits,'%')"
      ],
      "execution_count": 277,
      "outputs": [
        {
          "output_type": "stream",
          "text": [
            "Exits to ES percent: 31.48 %\n",
            "Exits to Transitional 5.71 %\n"
          ],
          "name": "stdout"
        }
      ]
    },
    {
      "cell_type": "code",
      "metadata": {
        "cellView": "both",
        "colab_type": "code",
        "id": "-P6pTn3jHVP8",
        "outputId": "7aa86b5e-3f81-4b61-a55d-6c6001f05323",
        "colab": {
          "base_uri": "https://localhost:8080/",
          "height": 33
        }
      },
      "source": [
        "#@title\n",
        "\n",
        "avgBedNights = df['Count of Bed Nights (Housing Check-ins)'].mean(skipna=True)\n",
        "\n",
        "avgBedNights = round(avgBedNights, 2)\n",
        "\n",
        "print(\"Average BedNights is:\", avgBedNights)"
      ],
      "execution_count": 278,
      "outputs": [
        {
          "output_type": "stream",
          "text": [
            "Average BedNights is: 29.37\n"
          ],
          "name": "stdout"
        }
      ]
    },
    {
      "cell_type": "code",
      "metadata": {
        "cellView": "both",
        "colab_type": "code",
        "id": "vf42T95LHxGE",
        "outputId": "73c158e7-7e11-455c-b2aa-455be218a97b",
        "colab": {
          "base_uri": "https://localhost:8080/",
          "height": 33
        }
      },
      "source": [
        "#@title\n",
        "avgDaysEnrolled = df['Days Enrolled in Project'].mean(skipna=True)\n",
        "avgDaysEnrolled = round(avgDaysEnrolled, 2)                   \n",
        "perm_final_percent = round(perm_final_percent, 2)\n",
        "print('Average Days Enrolled is:', avgDaysEnrolled)"
      ],
      "execution_count": 279,
      "outputs": [
        {
          "output_type": "stream",
          "text": [
            "Average Days Enrolled is: 38.17\n"
          ],
          "name": "stdout"
        }
      ]
    },
    {
      "cell_type": "code",
      "metadata": {
        "cellView": "both",
        "colab_type": "code",
        "id": "Cik7482lICZC",
        "outputId": "105c8339-43c5-46a0-f137-6e0005a919d1",
        "colab": {
          "base_uri": "https://localhost:8080/",
          "height": 67
        }
      },
      "source": [
        "#@title\n",
        "print('Average Household Income at Enrollment is:', round(df['4.2 Income Total at Entry'].mean(skipna=True), 2))\n",
        "\n",
        "print('Average Household Income at Exit is:', round(df['4.2 Income Total at Exit'].mean(skipna=True), 2))\n",
        "\n",
        "avgChange = (df['4.2 Income Total at Exit'].mean(skipna=True)) - (df['4.2 Income Total at Entry'].mean(skipna=True))\n",
        "avgChange = round(avgChange, 2)\n",
        "print('Average Change in Income for Households during stay is:', avgChange)\n"
      ],
      "execution_count": 280,
      "outputs": [
        {
          "output_type": "stream",
          "text": [
            "Average Household Income at Enrollment is: 887.17\n",
            "Average Household Income at Exit is: 1061.87\n",
            "Average Change in Income for Households during stay is: 174.69\n"
          ],
          "name": "stdout"
        }
      ]
    },
    {
      "cell_type": "code",
      "metadata": {
        "cellView": "both",
        "colab_type": "code",
        "id": "RlJjfSuIsR-t",
        "outputId": "746020d5-072c-4f8b-c943-c65e2a0d78ed",
        "colab": {
          "base_uri": "https://localhost:8080/",
          "height": 33
        }
      },
      "source": [
        "#@title\n",
        "# printed rounded answer for average age during enrollment\n",
        "print('Average Age of Guest during Enrollment is:', round(df['Age at Enrollment'].mean(skipna=True), 2))"
      ],
      "execution_count": 281,
      "outputs": [
        {
          "output_type": "stream",
          "text": [
            "Average Age of Guest during Enrollment is: 20.29\n"
          ],
          "name": "stdout"
        }
      ]
    },
    {
      "cell_type": "code",
      "metadata": {
        "colab_type": "code",
        "id": "qc_dLkMPRglm",
        "colab": {}
      },
      "source": [
        "# export zips into an excel sheet for Power BI visual\n",
        "#  df['V5 Zip'].value_counts().to_excel('/content/drive/My Drive/FPS Weekly Data Colabs/YTD Data/weeklyYTDzips.xlsx', header=True, index=True)"
      ],
      "execution_count": 0,
      "outputs": []
    },
    {
      "cell_type": "code",
      "metadata": {
        "colab_type": "code",
        "id": "wn9pFrKU1Iag",
        "colab": {}
      },
      "source": [
        "# create list of all options for engagement data and export into excel file for Power BI\n",
        "#df['Days Enrolled Until Engagement Date'].value_counts().to_excel('/content/drive/My Drive/FPS Weekly Data Colabs/YTD Data/weeklyYTD_aggregate_DOE.xlsx', header=True, index=True)"
      ],
      "execution_count": 0,
      "outputs": []
    },
    {
      "cell_type": "code",
      "metadata": {
        "colab_type": "code",
        "id": "Zm7A6TE4ckjD",
        "colab": {}
      },
      "source": [
        "# create new excel sheet with the days enrolled until engagement to upload back into notebook for calculating mean\n",
        "\n",
        "df['Days Until Engagement'] = (df['4.13 Engagement Date'] - df['3.10 Enroll Date'])\n",
        "df['Days Until Engagement'].mean()\n",
        "d_o_e_avg = df['Days Until Engagement'].mean()"
      ],
      "execution_count": 0,
      "outputs": []
    },
    {
      "cell_type": "code",
      "metadata": {
        "colab_type": "code",
        "id": "nZXjBCEwdyOD",
        "outputId": "6d98877b-a34e-4e2f-b946-bcd3cdbdb8f1",
        "colab": {
          "base_uri": "https://localhost:8080/",
          "height": 33
        }
      },
      "source": [
        "d_o_e_avg"
      ],
      "execution_count": 285,
      "outputs": [
        {
          "output_type": "execute_result",
          "data": {
            "text/plain": [
              "Timedelta('4 days 11:22:06.315789')"
            ]
          },
          "metadata": {
            "tags": []
          },
          "execution_count": 285
        }
      ]
    },
    {
      "cell_type": "code",
      "metadata": {
        "colab_type": "code",
        "id": "nzzWqRNuNWiM",
        "colab": {}
      },
      "source": [
        "# create new excel sheet with the days enrolled until engagement to upload back into notebook for calculating mean \n",
        "#(df['4.13 Engagement Date'] - df['3.10 Enroll Date']).to_excel('/content/drive/My Drive/FPS Weekly Data Colabs/YTD Data/ytdDOE.xlsx', header=False, index=False)"
      ],
      "execution_count": 0,
      "outputs": []
    },
    {
      "cell_type": "code",
      "metadata": {
        "colab_type": "code",
        "id": "xX3f7O4QD3y9",
        "colab": {}
      },
      "source": [
        "# create new column with total amount of guests for year\n",
        "df['Total Guests'] = df['5.8 Personal ID'].drop_duplicates().count()"
      ],
      "execution_count": 0,
      "outputs": []
    },
    {
      "cell_type": "code",
      "metadata": {
        "colab_type": "code",
        "id": "SWNpBE43LjeR",
        "colab": {}
      },
      "source": [
        "# create new column with count of unique households\n",
        "df['Total Households'] = df['5.9 Household ID'].drop_duplicates().count()\n",
        "\n",
        "# create new column with total amount of guests for year\n",
        "df['Total Guests'] = df['5.8 Personal ID'].drop_duplicates().count()\n"
      ],
      "execution_count": 0,
      "outputs": []
    },
    {
      "cell_type": "code",
      "metadata": {
        "colab_type": "code",
        "id": "LDr67Q7Qma3v",
        "outputId": "fadc5d05-d52f-4724-a072-058caf9c26ce",
        "colab": {
          "base_uri": "https://localhost:8080/",
          "height": 33
        }
      },
      "source": [
        "df['5.8 Personal ID'].count()"
      ],
      "execution_count": 289,
      "outputs": [
        {
          "output_type": "execute_result",
          "data": {
            "text/plain": [
              "108"
            ]
          },
          "metadata": {
            "tags": []
          },
          "execution_count": 289
        }
      ]
    },
    {
      "cell_type": "code",
      "metadata": {
        "colab_type": "code",
        "id": "lhlau-lkmMz6",
        "outputId": "5e718f6f-1ac2-4871-9928-9d41bc129e46",
        "colab": {
          "base_uri": "https://localhost:8080/",
          "height": 33
        }
      },
      "source": [
        "df['5.8 Personal ID'].drop_duplicates().count()"
      ],
      "execution_count": 290,
      "outputs": [
        {
          "output_type": "execute_result",
          "data": {
            "text/plain": [
              "108"
            ]
          },
          "metadata": {
            "tags": []
          },
          "execution_count": 290
        }
      ]
    },
    {
      "cell_type": "code",
      "metadata": {
        "colab_type": "code",
        "id": "4LeVqcwbnQqY",
        "outputId": "c02187af-8276-48a0-d819-8e5d13415f23",
        "colab": {
          "base_uri": "https://localhost:8080/",
          "height": 117
        }
      },
      "source": [
        "df['Age at Enrollment'].head()"
      ],
      "execution_count": 291,
      "outputs": [
        {
          "output_type": "execute_result",
          "data": {
            "text/plain": [
              "0     29\n",
              "1     28\n",
              "2      3\n",
              "23    54\n",
              "24    17\n",
              "Name: Age at Enrollment, dtype: int64"
            ]
          },
          "metadata": {
            "tags": []
          },
          "execution_count": 291
        }
      ]
    },
    {
      "cell_type": "code",
      "metadata": {
        "id": "JMk7taTp59R6",
        "colab_type": "code",
        "colab": {}
      },
      "source": [
        "adults = df[df['Age at Enrollment'] > 17.0]"
      ],
      "execution_count": 0,
      "outputs": []
    },
    {
      "cell_type": "code",
      "metadata": {
        "id": "HFORPxw359SI",
        "colab_type": "code",
        "colab": {
          "base_uri": "https://localhost:8080/",
          "height": 50
        },
        "outputId": "6893fb93-8800-4512-8954-12f97ea8bb01"
      },
      "source": [
        "adults['4.05 Physical Disability'].value_counts()"
      ],
      "execution_count": 293,
      "outputs": [
        {
          "output_type": "execute_result",
          "data": {
            "text/plain": [
              "Physical Disability    8\n",
              "Name: 4.05 Physical Disability, dtype: int64"
            ]
          },
          "metadata": {
            "tags": []
          },
          "execution_count": 293
        }
      ]
    },
    {
      "cell_type": "code",
      "metadata": {
        "id": "iUuOyKcQ59SP",
        "colab_type": "code",
        "colab": {
          "base_uri": "https://localhost:8080/",
          "height": 50
        },
        "outputId": "d7207b1c-ceec-42ef-8929-75a1f3a57830"
      },
      "source": [
        "adults['4.07 Chronic Health Condition'].value_counts()"
      ],
      "execution_count": 294,
      "outputs": [
        {
          "output_type": "execute_result",
          "data": {
            "text/plain": [
              "Chronic Health    13\n",
              "Name: 4.07 Chronic Health Condition, dtype: int64"
            ]
          },
          "metadata": {
            "tags": []
          },
          "execution_count": 294
        }
      ]
    },
    {
      "cell_type": "code",
      "metadata": {
        "id": "tIWkjoIJ59SX",
        "colab_type": "code",
        "colab": {
          "base_uri": "https://localhost:8080/",
          "height": 50
        },
        "outputId": "8b835eda-a0da-4f72-fb5e-2da2a6be6f76"
      },
      "source": [
        "adults['4.06 Developmental Disability'].value_counts()"
      ],
      "execution_count": 295,
      "outputs": [
        {
          "output_type": "execute_result",
          "data": {
            "text/plain": [
              "Developmental Disability    10\n",
              "Name: 4.06 Developmental Disability, dtype: int64"
            ]
          },
          "metadata": {
            "tags": []
          },
          "execution_count": 295
        }
      ]
    },
    {
      "cell_type": "code",
      "metadata": {
        "id": "irpW_bU859Sc",
        "colab_type": "code",
        "colab": {
          "base_uri": "https://localhost:8080/",
          "height": 33
        },
        "outputId": "2e0a932c-c88b-4715-cc6a-bd112c5558ee"
      },
      "source": [
        "65+77+37"
      ],
      "execution_count": 296,
      "outputs": [
        {
          "output_type": "execute_result",
          "data": {
            "text/plain": [
              "179"
            ]
          },
          "metadata": {
            "tags": []
          },
          "execution_count": 296
        }
      ]
    },
    {
      "cell_type": "code",
      "metadata": {
        "id": "WDfpE-kH59Sg",
        "colab_type": "code",
        "colab": {}
      },
      "source": [
        "minors = df[df['Age at Enrollment'] <= 17.0]"
      ],
      "execution_count": 0,
      "outputs": []
    },
    {
      "cell_type": "code",
      "metadata": {
        "id": "bU8wlxxW59Sm",
        "colab_type": "code",
        "colab": {
          "base_uri": "https://localhost:8080/",
          "height": 33
        },
        "outputId": "753570cf-22da-49db-f19a-2ce17a0118bd"
      },
      "source": [
        "minors['4.05 Physical Disability'].value_counts()"
      ],
      "execution_count": 298,
      "outputs": [
        {
          "output_type": "execute_result",
          "data": {
            "text/plain": [
              "Series([], Name: 4.05 Physical Disability, dtype: int64)"
            ]
          },
          "metadata": {
            "tags": []
          },
          "execution_count": 298
        }
      ]
    },
    {
      "cell_type": "code",
      "metadata": {
        "id": "lpaFWR_U59Sq",
        "colab_type": "code",
        "colab": {
          "base_uri": "https://localhost:8080/",
          "height": 50
        },
        "outputId": "ad8ad251-ba67-494f-8fbf-cf9088620196"
      },
      "source": [
        "minors['4.07 Chronic Health Condition'].value_counts()"
      ],
      "execution_count": 299,
      "outputs": [
        {
          "output_type": "execute_result",
          "data": {
            "text/plain": [
              "Chronic Health    4\n",
              "Name: 4.07 Chronic Health Condition, dtype: int64"
            ]
          },
          "metadata": {
            "tags": []
          },
          "execution_count": 299
        }
      ]
    },
    {
      "cell_type": "code",
      "metadata": {
        "id": "tkMa6bMu59St",
        "colab_type": "code",
        "colab": {
          "base_uri": "https://localhost:8080/",
          "height": 50
        },
        "outputId": "e187f659-878b-49c9-fa2e-9ae71e3d9e9f"
      },
      "source": [
        "minors['4.06 Developmental Disability'].value_counts()"
      ],
      "execution_count": 300,
      "outputs": [
        {
          "output_type": "execute_result",
          "data": {
            "text/plain": [
              "Developmental Disability    4\n",
              "Name: 4.06 Developmental Disability, dtype: int64"
            ]
          },
          "metadata": {
            "tags": []
          },
          "execution_count": 300
        }
      ]
    },
    {
      "cell_type": "code",
      "metadata": {
        "id": "Po49AVPO59Sw",
        "colab_type": "code",
        "colab": {
          "base_uri": "https://localhost:8080/",
          "height": 33
        },
        "outputId": "a090b5ce-e8fd-4d88-855a-d502cb69ccae"
      },
      "source": [
        "6+15+33\n"
      ],
      "execution_count": 301,
      "outputs": [
        {
          "output_type": "execute_result",
          "data": {
            "text/plain": [
              "54"
            ]
          },
          "metadata": {
            "tags": []
          },
          "execution_count": 301
        }
      ]
    },
    {
      "cell_type": "code",
      "metadata": {
        "colab_type": "code",
        "id": "E1WUfPg2nDYD",
        "colab": {}
      },
      "source": [
        "df['is_minor'] = df['Age at Enrollment'] <= 17.0"
      ],
      "execution_count": 0,
      "outputs": []
    },
    {
      "cell_type": "code",
      "metadata": {
        "id": "EnGdW3XV59S4",
        "colab_type": "code",
        "colab": {}
      },
      "source": [
        "df['under_6'] = df['Age at Enrollment'] < 6"
      ],
      "execution_count": 0,
      "outputs": []
    },
    {
      "cell_type": "code",
      "metadata": {
        "id": "E0_7W4_Q59S-",
        "colab_type": "code",
        "colab": {
          "base_uri": "https://localhost:8080/",
          "height": 67
        },
        "outputId": "c659b920-0d0f-43ce-bdf4-ed802471f7bb"
      },
      "source": [
        "df['under_6'].value_counts(normalize=False)"
      ],
      "execution_count": 304,
      "outputs": [
        {
          "output_type": "execute_result",
          "data": {
            "text/plain": [
              "False    84\n",
              "True     24\n",
              "Name: under_6, dtype: int64"
            ]
          },
          "metadata": {
            "tags": []
          },
          "execution_count": 304
        }
      ]
    },
    {
      "cell_type": "code",
      "metadata": {
        "colab_type": "code",
        "id": "wGagRgrnnx7M",
        "outputId": "c86fd292-1c31-45c0-a40e-69199e50a347",
        "colab": {
          "base_uri": "https://localhost:8080/",
          "height": 67
        }
      },
      "source": [
        "df['is_minor'].value_counts(normalize=False)"
      ],
      "execution_count": 305,
      "outputs": [
        {
          "output_type": "execute_result",
          "data": {
            "text/plain": [
              "True     54\n",
              "False    54\n",
              "Name: is_minor, dtype: int64"
            ]
          },
          "metadata": {
            "tags": []
          },
          "execution_count": 305
        }
      ]
    },
    {
      "cell_type": "code",
      "metadata": {
        "id": "IlZvLVhC59TE",
        "colab_type": "code",
        "colab": {
          "base_uri": "https://localhost:8080/",
          "height": 67
        },
        "outputId": "18187fd5-622d-4a34-a03c-ed69a554d503"
      },
      "source": [
        "df['3.5 Ethnicity'].value_counts()"
      ],
      "execution_count": 306,
      "outputs": [
        {
          "output_type": "execute_result",
          "data": {
            "text/plain": [
              "Non-Hispanic/Latino    98\n",
              "Hispanic/Latino        10\n",
              "Name: 3.5 Ethnicity, dtype: int64"
            ]
          },
          "metadata": {
            "tags": []
          },
          "execution_count": 306
        }
      ]
    },
    {
      "cell_type": "code",
      "metadata": {
        "id": "-USxP_NJ59TH",
        "colab_type": "code",
        "colab": {
          "base_uri": "https://localhost:8080/",
          "height": 134
        },
        "outputId": "23f4b766-530d-4907-c50f-19089f2c9843"
      },
      "source": [
        "df['3.4 Race'].value_counts()"
      ],
      "execution_count": 307,
      "outputs": [
        {
          "output_type": "execute_result",
          "data": {
            "text/plain": [
              "White                                        68\n",
              "American Indian or Alaska Native             15\n",
              "Multi-Racial                                 10\n",
              "Black or African American                     9\n",
              "Native Hawaiian or Other Pacific Islander     3\n",
              "Client refused                                3\n",
              "Name: 3.4 Race, dtype: int64"
            ]
          },
          "metadata": {
            "tags": []
          },
          "execution_count": 307
        }
      ]
    },
    {
      "cell_type": "code",
      "metadata": {
        "id": "y-5IXrBW59TK",
        "colab_type": "code",
        "colab": {
          "base_uri": "https://localhost:8080/",
          "height": 187
        },
        "outputId": "775b1eca-3434-451e-a7c2-2d3c41d6a485"
      },
      "source": [
        "df['3.917 Living Situation'].value_counts(normalize=True)"
      ],
      "execution_count": 308,
      "outputs": [
        {
          "output_type": "execute_result",
          "data": {
            "text/plain": [
              "Place not meant for habitation                                                                                          0.296296\n",
              "Staying or living in a family member's room, apartment or house                                                         0.185185\n",
              "Hotel or motel paid for without emergency shelter voucher                                                               0.166667\n",
              "Staying or living in a friend's room, apartment or house                                                                0.129630\n",
              "Emergency shelter, including hotel or motel paid for with emergency shelter voucher, or RHY-funded Host Home shelter    0.129630\n",
              "Rental by client, no ongoing housing subsidy                                                                            0.037037\n",
              "Client refused                                                                                                          0.037037\n",
              "Substance abuse treatment facility or detox center                                                                      0.018519\n",
              "Name: 3.917 Living Situation, dtype: float64"
            ]
          },
          "metadata": {
            "tags": []
          },
          "execution_count": 308
        }
      ]
    },
    {
      "cell_type": "code",
      "metadata": {
        "id": "xxI8MElj59TP",
        "colab_type": "code",
        "colab": {
          "base_uri": "https://localhost:8080/",
          "height": 33
        },
        "outputId": "8484c65d-b86a-4f4a-b494-b881939ce7c6"
      },
      "source": [
        "df['3.917b Stayed Less Than 7 Nights'].value_counts()"
      ],
      "execution_count": 309,
      "outputs": [
        {
          "output_type": "execute_result",
          "data": {
            "text/plain": [
              "Series([], Name: 3.917b Stayed Less Than 7 Nights, dtype: int64)"
            ]
          },
          "metadata": {
            "tags": []
          },
          "execution_count": 309
        }
      ]
    },
    {
      "cell_type": "code",
      "metadata": {
        "id": "F9U21og159TS",
        "colab_type": "code",
        "colab": {}
      },
      "source": [
        "less_than_7 = df[df['Count of Bed Nights (Housing Check-ins)'] < 7]"
      ],
      "execution_count": 0,
      "outputs": []
    },
    {
      "cell_type": "code",
      "metadata": {
        "id": "A2a_k9IL59TV",
        "colab_type": "code",
        "colab": {
          "base_uri": "https://localhost:8080/",
          "height": 117
        },
        "outputId": "cb2d28ca-f296-4797-fdf7-096f25ba6bd9"
      },
      "source": [
        "less_than_7['3.12 Exit Destination'].value_counts()"
      ],
      "execution_count": 311,
      "outputs": [
        {
          "output_type": "execute_result",
          "data": {
            "text/plain": [
              "No exit interview completed                                                                                             16\n",
              "Emergency shelter, including hotel or motel paid for with emergency shelter voucher, or RHY-funded Host Home shelter     9\n",
              "Client refused                                                                                                           7\n",
              "Rental by client, no ongoing housing subsidy                                                                             7\n",
              "Rental by client with RRH or equivalent subsidy                                                                          5\n",
              "Name: 3.12 Exit Destination, dtype: int64"
            ]
          },
          "metadata": {
            "tags": []
          },
          "execution_count": 311
        }
      ]
    },
    {
      "cell_type": "code",
      "metadata": {
        "colab_type": "code",
        "id": "zvnkkT16ocYV",
        "outputId": "8822ae71-280b-477b-bdd4-aef7bae31e7a",
        "colab": {
          "base_uri": "https://localhost:8080/",
          "height": 33
        }
      },
      "source": [
        "# 839 total\n",
        "\n",
        "# minors percent = 51.25\n",
        "# adults percent = 48.75\n",
        "\n",
        "# exit to perm adults = 101\n",
        "# exit to perm kids = 106\n",
        "# exit to temp adults = 21\n",
        "# exit to temp kids = 22\n",
        "# exit to ES adults = 59 \n",
        "# exut to ES kids = 62 \n",
        "\n",
        ".1437 * 409"
      ],
      "execution_count": 312,
      "outputs": [
        {
          "output_type": "execute_result",
          "data": {
            "text/plain": [
              "58.7733"
            ]
          },
          "metadata": {
            "tags": []
          },
          "execution_count": 312
        }
      ]
    },
    {
      "cell_type": "markdown",
      "metadata": {
        "colab_type": "text",
        "id": "hJrozA6GoGNh"
      },
      "source": [
        "Exit to Perm percent: 24.617737003058103 %\n",
        "Unknown Exit percent: 45.87 %\n",
        "Temp Exit percent: 5.05 %\n",
        "\n",
        "Exits to ES percent: 14.37 %\n",
        "Exits to Transitional 5.05 %"
      ]
    },
    {
      "cell_type": "code",
      "metadata": {
        "colab_type": "code",
        "id": "7GIG1mTpkfay",
        "colab": {}
      },
      "source": [
        "def served(X):\n",
        "  X = X.copy()\n",
        "  return(X['5.8 Personal ID'].value_counts().unique().sum())"
      ],
      "execution_count": 0,
      "outputs": []
    },
    {
      "cell_type": "code",
      "metadata": {
        "colab_type": "code",
        "id": "6monHQzwm_xN",
        "colab": {}
      },
      "source": [
        "def served_h(X):\n",
        "  X = X.copy()\n",
        "  return(X['5.9 Household ID'].value_counts().unique().sum())\n"
      ],
      "execution_count": 0,
      "outputs": []
    },
    {
      "cell_type": "code",
      "metadata": {
        "colab_type": "code",
        "id": "Uxy-4fI7nDK3",
        "outputId": "d2af6acf-995f-4a10-9ed9-5dfb581d93a7",
        "colab": {
          "base_uri": "https://localhost:8080/",
          "height": 33
        }
      },
      "source": [
        "served(df)"
      ],
      "execution_count": 315,
      "outputs": [
        {
          "output_type": "execute_result",
          "data": {
            "text/plain": [
              "1"
            ]
          },
          "metadata": {
            "tags": []
          },
          "execution_count": 315
        }
      ]
    },
    {
      "cell_type": "code",
      "metadata": {
        "colab_type": "code",
        "id": "9A-yGbD_nKtc",
        "outputId": "33698c36-3a21-4ca1-91d8-9d03b686484b",
        "colab": {
          "base_uri": "https://localhost:8080/",
          "height": 33
        }
      },
      "source": [
        "served_h(df)"
      ],
      "execution_count": 316,
      "outputs": [
        {
          "output_type": "execute_result",
          "data": {
            "text/plain": [
              "21"
            ]
          },
          "metadata": {
            "tags": []
          },
          "execution_count": 316
        }
      ]
    },
    {
      "cell_type": "code",
      "metadata": {
        "colab_type": "code",
        "id": "yVaLUAhadeeQ",
        "colab": {
          "base_uri": "https://localhost:8080/",
          "height": 33
        },
        "outputId": "b81f0f96-b24f-482f-f075-b079e828170a"
      },
      "source": [
        "need_to_exit.shape"
      ],
      "execution_count": 317,
      "outputs": [
        {
          "output_type": "execute_result",
          "data": {
            "text/plain": [
              "(37, 149)"
            ]
          },
          "metadata": {
            "tags": []
          },
          "execution_count": 317
        }
      ]
    },
    {
      "cell_type": "code",
      "metadata": {
        "id": "qWM-Icdb59T7",
        "colab_type": "code",
        "colab": {
          "base_uri": "https://localhost:8080/",
          "height": 67
        },
        "outputId": "b1be0304-8a2d-4ca0-ca1b-5caf7b26383d"
      },
      "source": [
        "df['3.7 Veteran Status'].value_counts(normalize=False)"
      ],
      "execution_count": 318,
      "outputs": [
        {
          "output_type": "execute_result",
          "data": {
            "text/plain": [
              "No                59\n",
              "Client refused     1\n",
              "Name: 3.7 Veteran Status, dtype: int64"
            ]
          },
          "metadata": {
            "tags": []
          },
          "execution_count": 318
        }
      ]
    },
    {
      "cell_type": "code",
      "metadata": {
        "id": "s2_BATSZ59T9",
        "colab_type": "code",
        "colab": {
          "base_uri": "https://localhost:8080/",
          "height": 50
        },
        "outputId": "dbd31309-92ff-4dab-cbe5-09c527229739"
      },
      "source": [
        "df['R10 Pregnancy Status'].isnull().value_counts()"
      ],
      "execution_count": 319,
      "outputs": [
        {
          "output_type": "execute_result",
          "data": {
            "text/plain": [
              "True    108\n",
              "Name: R10 Pregnancy Status, dtype: int64"
            ]
          },
          "metadata": {
            "tags": []
          },
          "execution_count": 319
        }
      ]
    },
    {
      "cell_type": "code",
      "metadata": {
        "id": "fkO9CY0m59UA",
        "colab_type": "code",
        "colab": {}
      },
      "source": [
        ""
      ],
      "execution_count": 0,
      "outputs": []
    }
  ]
}