{
 "cells": [
  {
   "cell_type": "markdown",
   "metadata": {
    "colab_type": "text",
    "id": "view-in-github"
   },
   "source": [
    "<a href=\"https://colab.research.google.com/github/iesous-kurios/family_promise_data/blob/master/Weekly_90_Day_Data.ipynb\" target=\"_parent\"><img src=\"https://colab.research.google.com/assets/colab-badge.svg\" alt=\"Open In Colab\"/></a>"
   ]
  },
  {
   "cell_type": "markdown",
   "metadata": {
    "colab_type": "text",
    "id": "1FPDDrTvl7r1"
   },
   "source": [
    "# **FPS 90 day report "
   ]
  },
  {
   "cell_type": "code",
   "execution_count": 0,
   "metadata": {
    "cellView": "both",
    "colab": {},
    "colab_type": "code",
    "id": "aDa7C0EuxPor"
   },
   "outputs": [],
   "source": [
    "#@title\n",
    "# import libraries which provide math functions to our data imports\n",
    "import statistics\n",
    "import numpy as np\n",
    "import pandas as pd\n",
    "import matplotlib.pyplot as plt"
   ]
  },
  {
   "cell_type": "code",
   "execution_count": 0,
   "metadata": {
    "cellView": "both",
    "colab": {
     "base_uri": "https://localhost:8080/",
     "height": 122
    },
    "colab_type": "code",
    "id": "w8Qw1H1cyh8E",
    "outputId": "5427b42f-e316-4f88-8090-051e518806c1"
   },
   "outputs": [
    {
     "name": "stdout",
     "output_type": "stream",
     "text": [
      "Go to this URL in a browser: https://accounts.google.com/o/oauth2/auth?client_id=947318989803-6bn6qk8qdgf4n4g3pfee6491hc0brc4i.apps.googleusercontent.com&redirect_uri=urn%3aietf%3awg%3aoauth%3a2.0%3aoob&response_type=code&scope=email%20https%3a%2f%2fwww.googleapis.com%2fauth%2fdocs.test%20https%3a%2f%2fwww.googleapis.com%2fauth%2fdrive%20https%3a%2f%2fwww.googleapis.com%2fauth%2fdrive.photos.readonly%20https%3a%2f%2fwww.googleapis.com%2fauth%2fpeopleapi.readonly\n",
      "\n",
      "Enter your authorization code:\n",
      "··········\n",
      "Mounted at /content/drive\n"
     ]
    }
   ],
   "source": [
    "#@title\n",
    "# mount google drive to access weekly data\n",
    "from google.colab import drive\n",
    "drive.mount('/content/drive')"
   ]
  },
  {
   "cell_type": "code",
   "execution_count": 0,
   "metadata": {
    "cellView": "both",
    "colab": {},
    "colab_type": "code",
    "id": "hKIhC1Kvu6Pp"
   },
   "outputs": [],
   "source": [
    "#@title\n",
    "# import weekly data from yearly FPS folder\n",
    "df = pd.read_excel ('/content/Dec_3_90day.xlsx')"
   ]
  },
  {
   "cell_type": "code",
   "execution_count": 0,
   "metadata": {
    "cellView": "both",
    "colab": {},
    "colab_type": "code",
    "id": "g0EbyhR9tJ__"
   },
   "outputs": [],
   "source": [
    "#@title\n",
    "# replace zeros in data with \"Nan\" to calculate more accurate average bednights \n",
    "df['Count of Bed Nights (Housing Check-ins)'] =df['Count of Bed Nights (Housing Check-ins)'].replace(0, np.NaN)"
   ]
  },
  {
   "cell_type": "markdown",
   "metadata": {
    "colab_type": "text",
    "id": "3BxcdIV8jTkT"
   },
   "source": [
    "# **List Of All Exit Destinations with Totals**\n",
    "\n",
    "**8/14/2018 - 8/14/2019**"
   ]
  },
  {
   "cell_type": "markdown",
   "metadata": {
    "colab_type": "text",
    "id": "7yO4-RuejbRT"
   },
   "source": [
    "# **Aggregate Exit Destinations with Percentages**\n",
    "\n",
    "**7/30/2018 - 7/30/2019**"
   ]
  },
  {
   "cell_type": "markdown",
   "metadata": {
    "colab_type": "text",
    "id": "ALEGwPigjm_J"
   },
   "source": [
    "# Average Bednights (Average Length of Stay by Housing Check-ins)\n",
    "\n",
    "**8/14/2018 - 8/14/2019**"
   ]
  },
  {
   "cell_type": "code",
   "execution_count": 0,
   "metadata": {
    "cellView": "both",
    "colab": {
     "base_uri": "https://localhost:8080/",
     "height": 34
    },
    "colab_type": "code",
    "id": "-P6pTn3jHVP8",
    "outputId": "2e6f588b-b82b-4fb5-d8d9-f280a2394022"
   },
   "outputs": [
    {
     "name": "stdout",
     "output_type": "stream",
     "text": [
      "Average BedNights is: 42.1\n"
     ]
    }
   ],
   "source": [
    "#@title\n",
    "\n",
    "avgBedNights = df['Count of Bed Nights (Housing Check-ins)'].mean(skipna=True)\n",
    "\n",
    "avgBedNights = round(avgBedNights, 2)\n",
    "\n",
    "print(\"Average BedNights is:\", avgBedNights)"
   ]
  },
  {
   "cell_type": "code",
   "execution_count": 0,
   "metadata": {
    "cellView": "both",
    "colab": {
     "base_uri": "https://localhost:8080/",
     "height": 173
    },
    "colab_type": "code",
    "id": "04imCepm-N9r",
    "outputId": "3b2fe13f-fc97-45b1-a01a-bdefe257c847"
   },
   "outputs": [
    {
     "data": {
      "text/plain": [
       "Client refused                                                                                                          27\n",
       "Rental by client with RRH or equivalent subsidy                                                                         10\n",
       "Emergency shelter, including hotel or motel paid for with emergency shelter voucher, or RHY-funded Host Home shelter     9\n",
       "Rental by client, no ongoing housing subsidy                                                                             6\n",
       "Staying or living with friends, temporary tenure (e.g., room, apartment or house)                                        5\n",
       "Transitional Housing for homeless persons (including homeless youth)                                                     5\n",
       "Rental by client, other ongoing housing subsidy                                                                          1\n",
       "Name: 3.12 Exit Destination, dtype: int64"
      ]
     },
     "execution_count": 6,
     "metadata": {
      "tags": []
     },
     "output_type": "execute_result"
    }
   ],
   "source": [
    "#@title\n",
    "# display all possible exit destinations and their totals\n",
    "df['3.12 Exit Destination'].value_counts()"
   ]
  },
  {
   "cell_type": "code",
   "execution_count": 0,
   "metadata": {
    "cellView": "both",
    "colab": {},
    "colab_type": "code",
    "id": "N9BTJrq5rLb7"
   },
   "outputs": [],
   "source": [
    "#@title\n",
    "\n",
    "exit_reasons = ['Rental by client with RRH or equivalent subsidy', \n",
    "                'Rental by client, no ongoing housing subsidy', \n",
    "                'Staying or living with family, permanent tenure', \n",
    "                'Rental by client, other ongoing housing subsidy',\n",
    "                'Permanent housing (other than RRH) for formerly homeless persons', \n",
    "                'Staying or living with friends, permanent tenure', \n",
    "                'Owned by client, with ongoing housing subsidy', \n",
    "                'Staying or living with friends, permanent tenure', \n",
    "                'Rental by client, VASH housing Subsidy'\n",
    "               ]\n",
    "\n",
    "temp_reasons = ['Staying or living with family, temporary tenure (e.g., room, apartment or house)', \n",
    "               'Staying or living with friends, temporary tenure (e.g., room, apartment or house)', \n",
    "                \n",
    "               ]"
   ]
  },
  {
   "cell_type": "code",
   "execution_count": 0,
   "metadata": {
    "colab": {
     "base_uri": "https://localhost:8080/",
     "height": 102
    },
    "colab_type": "code",
    "id": "goxnvldDaMQM",
    "outputId": "4d45fe81-b6fb-4866-cc52-450fe8326954"
   },
   "outputs": [
    {
     "name": "stdout",
     "output_type": "stream",
     "text": [
      "Exit to Perm percent: 26.98 %\n",
      "Unknown Exit percent: 42.86 %\n",
      "Temp Exit percent: 7.94 %\n",
      "Exits to ES percent: 14.29 %\n",
      "Exits to Transitional 7.94 %\n"
     ]
    }
   ],
   "source": [
    "#@title  { display-mode: \"both\" }\n",
    "# pull all exit destinations from main data file and sum up the totals of each destination, placing them into new df for calculations\n",
    "exits = df['3.12 Exit Destination'].value_counts()\n",
    "\n",
    "tempExits = df['3.12 Exit Destination'].isin(temp_reasons)\n",
    "temp_exit_percent = tempExits.sum() / exits.sum()\n",
    "#exits.sum()) * 100)\n",
    "# round tempExits to two decimals\n",
    "tempExits = round(temp_exit_percent*100, 2)\n",
    "#tempExits = 0\n",
    "\n",
    "# take sum of unknown exits and divide by total exits, then multiply by 100 to get percentage\n",
    "unknownExits = ((exits['Client refused'] / exits.sum()) * 100)\n",
    "\n",
    "# round the answer to nearest hundreth place\n",
    "unknownExits = (round(unknownExits, 2))\n",
    "\n",
    "# create three data frames made up of the three key words found in perm housing\n",
    "perm1 = df[df['3.12 Exit Destination'].str.contains('Rental') == True] \n",
    "perm2 = df[df['3.12 Exit Destination'].str.contains('permanent') == True]\n",
    "perm3 = df[df['3.12 Exit Destination'].str.contains('Permanent') == True]\n",
    "\n",
    "# merge the three dataframes into one to calculate exit to perm percent\n",
    "perm_almost_final = perm1.append(perm2)\n",
    "perm_final = perm_almost_final.append(perm3)\n",
    "perm_final['3.12 Exit Destination'].value_counts()\n",
    "perm_final_sums = perm_final['3.12 Exit Destination'].value_counts()\n",
    "perm_final = df['3.12 Exit Destination'].isin(exit_reasons)\n",
    "# calculate percentage of exits to perm\n",
    "perm_final_percent = perm_final_sums.sum() / exits.sum()\n",
    "perm_final_percent = round(perm_final_percent*100, 2)\n",
    "\n",
    "# take sum of ES and Trans exits and divide by total exits, then multiply by 100 to get percentage\n",
    "esExits = (( exits['Emergency shelter, including hotel or motel paid for with emergency shelter voucher, or RHY-funded Host Home shelter'] / exits.sum()) * 100)\n",
    "transExits = ((exits['Transitional Housing for homeless persons (including homeless youth)'] / exits.sum()) * 100)\n",
    "# round the answer to nearest hundreth place\n",
    "esExits = (round(esExits, 2))\n",
    "transExits = (round(transExits, 2))\n",
    "\n",
    "print('Exit to Perm percent:',perm_final_percent,'%')\n",
    "print('Unknown Exit percent:',unknownExits,'%')\n",
    "print('Temp Exit percent:',tempExits,'%')\n",
    "print('Exits to ES percent:',esExits,'%')\n",
    "print('Exits to Transitional',transExits,'%')"
   ]
  },
  {
   "cell_type": "markdown",
   "metadata": {
    "colab_type": "text",
    "id": "lJ4mvXUpHmfo"
   },
   "source": [
    "# Average Days Enrolled"
   ]
  },
  {
   "cell_type": "markdown",
   "metadata": {
    "colab_type": "text",
    "id": "cJSXje6CIHAs"
   },
   "source": [
    "\n",
    "\n",
    "#1.   Average Household Income at Enrollment\n",
    "#2.   Average Household Income at Exit\n",
    "#3.   Average change in Household income during lenght of stay\n"
   ]
  },
  {
   "cell_type": "code",
   "execution_count": 0,
   "metadata": {
    "cellView": "both",
    "colab": {
     "base_uri": "https://localhost:8080/",
     "height": 68
    },
    "colab_type": "code",
    "id": "Cik7482lICZC",
    "outputId": "51fbcc0b-9195-496e-999e-8ea6c0b939e3"
   },
   "outputs": [
    {
     "name": "stdout",
     "output_type": "stream",
     "text": [
      "Average Household Income at Enrollment is: 753.91\n",
      "Average Household Income at Exit is: 969.92\n",
      "Average Change in Income for Households during stay is: 216.01\n"
     ]
    }
   ],
   "source": [
    "#@title\n",
    "print('Average Household Income at Enrollment is:', round(df['4.2 Income Total at Entry'].mean(skipna=True), 2))\n",
    "\n",
    "print('Average Household Income at Exit is:', round(df['4.2 Income Total at Exit'].mean(skipna=True), 2))\n",
    "\n",
    "avgChange = (df['4.2 Income Total at Exit'].mean(skipna=True)) - (df['4.2 Income Total at Entry'].mean(skipna=True))\n",
    "\n",
    "print('Average Change in Income for Households during stay is:', round(avgChange, 2))\n"
   ]
  },
  {
   "cell_type": "markdown",
   "metadata": {
    "colab_type": "text",
    "id": "TNEEcqpAIVu7"
   },
   "source": [
    "# Average Age of Guests during Enrollment"
   ]
  },
  {
   "cell_type": "code",
   "execution_count": 0,
   "metadata": {
    "cellView": "both",
    "colab": {
     "base_uri": "https://localhost:8080/",
     "height": 34
    },
    "colab_type": "code",
    "id": "RlJjfSuIsR-t",
    "outputId": "af67c41a-48d1-4063-b18b-7ccd40e45088"
   },
   "outputs": [
    {
     "name": "stdout",
     "output_type": "stream",
     "text": [
      "Average Age of Guest during Enrollment is: 20.17\n"
     ]
    }
   ],
   "source": [
    "#@title\n",
    "# printed rounded answer for average age during enrollment\n",
    "print('Average Age of Guest during Enrollment is:', round(df['Age at Enrollment'].mean(skipna=True), 2))"
   ]
  },
  {
   "cell_type": "code",
   "execution_count": 0,
   "metadata": {
    "cellView": "both",
    "colab": {
     "base_uri": "https://localhost:8080/",
     "height": 34
    },
    "colab_type": "code",
    "id": "vf42T95LHxGE",
    "outputId": "74fee530-a6d9-4a75-d575-1c727f2d290c"
   },
   "outputs": [
    {
     "name": "stdout",
     "output_type": "stream",
     "text": [
      "Average Days Enrolled is: 61.61\n"
     ]
    }
   ],
   "source": [
    "#@title\n",
    "avgDaysEnrolled = df['Days Enrolled in Project'].mean(skipna=True)\n",
    "avgDaysEnrolled = round(avgDaysEnrolled, 2)                   \n",
    "                   \n",
    "print('Average Days Enrolled is:', avgDaysEnrolled)"
   ]
  },
  {
   "cell_type": "code",
   "execution_count": 0,
   "metadata": {
    "colab": {
     "base_uri": "https://localhost:8080/",
     "height": 51
    },
    "colab_type": "code",
    "id": "R4CKezrrQv4b",
    "outputId": "59cc6ca0-416b-486b-86b6-c4a168c1126a"
   },
   "outputs": [
    {
     "name": "stdout",
     "output_type": "stream",
     "text": [
      "71\n",
      "201\n"
     ]
    }
   ],
   "source": [
    "# create new column with count of unique households\n",
    "df['Total Households'] = df['5.9 Household ID'].drop_duplicates().count()\n",
    "\n",
    "# create new column with total amount of guests for year\n",
    "df['Total Guests'] = df['5.8 Personal ID'].drop_duplicates().count()\n",
    "\n",
    "totalHouseholds = df.iloc[1, 118]\n",
    "totalGuests = df.iloc[1, 119]\n",
    "df.head()\n",
    "\n",
    "print(totalHouseholds)\n",
    "print(totalGuests)\n"
   ]
  },
  {
   "cell_type": "markdown",
   "metadata": {
    "colab_type": "text",
    "id": "qQz7Ze5F9DPu"
   },
   "source": [
    " ______________________________________________________________________________________________\n",
    "# All of the Data needed by most users is above this line.  Only proceed past this point if you like nerdy stuff and want to see the code which makes the data above this part work."
   ]
  },
  {
   "cell_type": "code",
   "execution_count": 0,
   "metadata": {
    "colab": {},
    "colab_type": "code",
    "id": "MzhMsYbYnZ0_"
   },
   "outputs": [],
   "source": [
    "import xlwt \n",
    "from xlwt import Workbook"
   ]
  },
  {
   "cell_type": "code",
   "execution_count": 0,
   "metadata": {
    "colab": {},
    "colab_type": "code",
    "id": "yN84mZypp9Nh"
   },
   "outputs": [],
   "source": [
    "# Workbook is created \n",
    "wb = Workbook() \n",
    "  \n",
    "# add_sheet is used to create sheet. \n",
    "sheet1 = wb.add_sheet('Sheet 1') \n",
    "  \n",
    "sheet1.write(0, 0, 'Perm') \n",
    "sheet1.write(0, 1, perm_final_percent)\n",
    "sheet1.write(1, 0, 'ES') \n",
    "sheet1.write(1, 1, esExits) \n",
    "sheet1.write(2, 0, 'Temp') \n",
    "sheet1.write(2, 1, temp_exit_percent) \n",
    "sheet1.write(3, 0, 'Trans') \n",
    "sheet1.write(3, 1, transExits) \n",
    "sheet1.write(4, 0, 'UnKnown') \n",
    "sheet1.write(4, 1, unknownExits) \n",
    "  \n",
    "wb.save('/content/drive/My Drive/FPS Weekly Data Colabs/90 Days Data/90daySept18weeklyData.xls')"
   ]
  },
  {
   "cell_type": "code",
   "execution_count": 0,
   "metadata": {
    "colab": {
     "base_uri": "https://localhost:8080/",
     "height": 51
    },
    "colab_type": "code",
    "id": "y8ebq4cA11Y0",
    "outputId": "fbdc7f68-41d3-4ac6-8304-865fb586950d"
   },
   "outputs": [
    {
     "name": "stdout",
     "output_type": "stream",
     "text": [
      "71\n",
      "201\n"
     ]
    }
   ],
   "source": [
    "# Workbook is created \n",
    "wb = Workbook() \n",
    "  \n",
    "# add_sheet is used to create sheet. \n",
    "sheet3 = wb.add_sheet('Sheet 1') \n",
    "  \n",
    "sheet3.write(0, 0, 'Average Days Enrolled') \n",
    "sheet3.write(0, 1, avgDaysEnrolled) \n",
    "\n",
    "wb.save('/content/drive/My Drive/FPS Weekly Data Colabs/90 Days Data/90DaysAvgDaysEnrolledSept18.xls')\n",
    "\n",
    "# create new column with count of unique households\n",
    "df['Total Households'] = df['5.9 Household ID'].drop_duplicates().count()\n",
    "\n",
    "# create new column with total amount of guests for year\n",
    "df['Total Guests'] = df['5.8 Personal ID'].drop_duplicates().count()\n",
    "\n",
    "totalHouseholds = df.iloc[1, 118]\n",
    "totalGuests = df.iloc[1, 119]\n",
    "df.head()\n",
    "\n",
    "print(totalHouseholds)\n",
    "print(totalGuests)\n"
   ]
  },
  {
   "cell_type": "code",
   "execution_count": 0,
   "metadata": {
    "colab": {},
    "colab_type": "code",
    "id": "bptA2OHxQ-zx"
   },
   "outputs": [],
   "source": [
    "# Workbook is created \n",
    "wb = Workbook() \n",
    "  \n",
    "# add_sheet is used to create sheet. \n",
    "sheet4 = wb.add_sheet('Sheet 1') \n",
    "\n",
    "sheet4.write(0, 0, 'Total Guests Served')\n",
    "sheet4.write(0, 1, int(totalGuests))\n",
    "\n",
    "\n",
    "wb.save('/content/drive/My Drive/FPS Weekly Data Colabs/90 Days Data/totalsGuestSept18.xls')"
   ]
  },
  {
   "cell_type": "code",
   "execution_count": 0,
   "metadata": {
    "colab": {},
    "colab_type": "code",
    "id": "aB82hryUSua-"
   },
   "outputs": [],
   "source": [
    "# Workbook is created \n",
    "wb = Workbook() \n",
    "  \n",
    "# add_sheet is used to create sheet. \n",
    "sheet5 = wb.add_sheet('Sheet 1') \n",
    "\n",
    "sheet5.write(0, 0, 'Total Households Served')\n",
    "sheet5.write(0, 1, int(totalHouseholds))\n",
    "\n",
    "wb.save('/content/drive/My Drive/FPS Weekly Data Colabs/90 Days Data/totalsHouseSept18.xls')"
   ]
  },
  {
   "cell_type": "code",
   "execution_count": 0,
   "metadata": {
    "colab": {},
    "colab_type": "code",
    "id": "PeEaFWqOXDGY"
   },
   "outputs": [],
   "source": [
    "# export zips into an excel sheet for Power BI visual\n",
    "  df['V5 Zip'].value_counts().to_excel('/content/drive/My Drive/FPS Weekly Data Colabs/90 Days Data/weeklyYTDzips.xlsx', header=True, index=True)"
   ]
  }
 ],
 "metadata": {
  "colab": {
   "collapsed_sections": [],
   "include_colab_link": true,
   "name": "Weekly 90 Day Data",
   "provenance": [],
   "toc_visible": true
  },
  "kernelspec": {
   "display_name": "Python 3",
   "language": "python",
   "name": "python3"
  },
  "language_info": {
   "codemirror_mode": {
    "name": "ipython",
    "version": 3
   },
   "file_extension": ".py",
   "mimetype": "text/x-python",
   "name": "python",
   "nbconvert_exporter": "python",
   "pygments_lexer": "ipython3",
   "version": "3.6.9"
  }
 },
 "nbformat": 4,
 "nbformat_minor": 1
}
