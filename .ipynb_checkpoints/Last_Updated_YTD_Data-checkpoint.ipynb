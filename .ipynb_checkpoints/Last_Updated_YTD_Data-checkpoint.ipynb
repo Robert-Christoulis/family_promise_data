{
 "cells": [
  {
   "cell_type": "markdown",
   "metadata": {
    "colab_type": "text",
    "id": "view-in-github"
   },
   "source": [
    "<a href=\"https://colab.research.google.com/github/iesous-kurios/family_promise_data/blob/master/Last_Updated_YTD_Data.ipynb\" target=\"_parent\"><img src=\"https://colab.research.google.com/assets/colab-badge.svg\" alt=\"Open In Colab\"/></a>"
   ]
  },
  {
   "cell_type": "markdown",
   "metadata": {
    "colab_type": "text",
    "id": "1FPDDrTvl7r1"
   },
   "source": [
    "# **YTD FPS Data Notebook**"
   ]
  },
  {
   "cell_type": "code",
   "execution_count": 1,
   "metadata": {
    "cellView": "both",
    "colab": {
     "base_uri": "https://localhost:8080/",
     "height": 121
    },
    "colab_type": "code",
    "id": "w8Qw1H1cyh8E",
    "outputId": "4a77ecc2-694c-454a-895d-46a5869db220"
   },
   "outputs": [
    {
     "name": "stdout",
     "output_type": "stream",
     "text": [
      "Go to this URL in a browser: https://accounts.google.com/o/oauth2/auth?client_id=947318989803-6bn6qk8qdgf4n4g3pfee6491hc0brc4i.apps.googleusercontent.com&redirect_uri=urn%3aietf%3awg%3aoauth%3a2.0%3aoob&response_type=code&scope=email%20https%3a%2f%2fwww.googleapis.com%2fauth%2fdocs.test%20https%3a%2f%2fwww.googleapis.com%2fauth%2fdrive%20https%3a%2f%2fwww.googleapis.com%2fauth%2fdrive.photos.readonly%20https%3a%2f%2fwww.googleapis.com%2fauth%2fpeopleapi.readonly\n",
      "\n",
      "Enter your authorization code:\n",
      "··········\n",
      "Mounted at /content/drive\n"
     ]
    }
   ],
   "source": [
    "#@title\n",
    "# mount google drive to access weekly data\n",
    "from google.colab import drive\n",
    "drive.mount('/content/drive')"
   ]
  },
  {
   "cell_type": "code",
   "execution_count": 2,
   "metadata": {
    "cellView": "both",
    "colab": {
     "base_uri": "https://localhost:8080/",
     "height": 34
    },
    "colab_type": "code",
    "id": "aDa7C0EuxPor",
    "outputId": "01d50fda-4c56-4904-b3ba-f01e02ce9052"
   },
   "outputs": [
    {
     "data": {
      "text/plain": [
       "'0.9.0'"
      ]
     },
     "execution_count": 2,
     "metadata": {
      "tags": []
     },
     "output_type": "execute_result"
    }
   ],
   "source": [
    "#@title\n",
    "# import libraries which provide math functions to our data imports\n",
    "import statistics\n",
    "import numpy as np\n",
    "import pandas as pd\n",
    "import matplotlib.pyplot as plt\n",
    "import xlwt \n",
    "from xlwt import Workbook\n",
    "import seaborn as sns\n",
    "\n",
    "import matplotlib.pyplot as plt\n",
    "import matplotlib\n",
    "from matplotlib import style\n",
    "\n",
    "sns.__version__"
   ]
  },
  {
   "cell_type": "code",
   "execution_count": 0,
   "metadata": {
    "cellView": "both",
    "colab": {},
    "colab_type": "code",
    "id": "hKIhC1Kvu6Pp"
   },
   "outputs": [],
   "source": [
    "#@title\n",
    "# import weekly data from yearly FPS folder\n",
    "df = pd.read_excel ('/content/ClientTrackExport.xlsx')"
   ]
  },
  {
   "cell_type": "code",
   "execution_count": 0,
   "metadata": {
    "cellView": "both",
    "colab": {},
    "colab_type": "code",
    "id": "g0EbyhR9tJ__"
   },
   "outputs": [],
   "source": [
    "#@title\n",
    "# replace zeros in data with \"Nan\" to calculate more accurate average bednights \n",
    "df['Count of Bed Nights (Housing Check-ins)'] = df['Count of Bed Nights (Housing Check-ins)'].replace(0, np.NaN)"
   ]
  },
  {
   "cell_type": "code",
   "execution_count": 5,
   "metadata": {
    "colab": {
     "base_uri": "https://localhost:8080/",
     "height": 252
    },
    "colab_type": "code",
    "id": "2j95mgiIUV0U",
    "outputId": "494e17b8-25d7-42e1-ddb1-8c16a1320315"
   },
   "outputs": [
    {
     "data": {
      "text/plain": [
       "Client refused                                                                                                          300\n",
       "Rental by client with RRH or equivalent subsidy                                                                          97\n",
       "Emergency shelter, including hotel or motel paid for with emergency shelter voucher, or RHY-funded Host Home shelter     94\n",
       "Transitional Housing for homeless persons (including homeless youth)                                                     33\n",
       "No exit interview completed                                                                                              28\n",
       "Rental by client, no ongoing housing subsidy                                                                             27\n",
       "Staying or living with family, permanent tenure                                                                          26\n",
       "Staying or living with family, temporary tenure (e.g., room, apartment or house)                                         18\n",
       "Staying or living with friends, temporary tenure (e.g., room, apartment or house)                                        15\n",
       "Rental by client, other ongoing housing subsidy                                                                           9\n",
       "Hotel or Motel paid for without Emergency Shelter Voucher                                                                 4\n",
       "Staying or living with friends, permanent tenure                                                                          2\n",
       "Psychiatric Hospital or Other Psychiatric Facility                                                                        1\n",
       "Name: 3.12 Exit Destination, dtype: int64"
      ]
     },
     "execution_count": 5,
     "metadata": {
      "tags": []
     },
     "output_type": "execute_result"
    }
   ],
   "source": [
    "# display all possible exit destinations and their totals\n",
    "df['3.12 Exit Destination'].value_counts()"
   ]
  },
  {
   "cell_type": "code",
   "execution_count": 0,
   "metadata": {
    "cellView": "both",
    "colab": {},
    "colab_type": "code",
    "id": "04imCepm-N9r"
   },
   "outputs": [],
   "source": [
    "#@title\n",
    "\n",
    "exit_reasons = ['Rental by client with RRH or equivalent subsidy', \n",
    "                'Rental by client, no ongoing housing subsidy', \n",
    "                'Staying or living with family, permanent tenure', \n",
    "                'Rental by client, other ongoing housing subsidy',\n",
    "                'Permanent housing (other than RRH) for formerly homeless persons', \n",
    "                'Staying or living with friends, permanent tenure', \n",
    "                'Owned by client, with ongoing housing subsidy', \n",
    "                'Staying or living with friends, permanent tenure', \n",
    "                'Rental by client, VASH housing Subsidy'\n",
    "               ]\n",
    "\n",
    "temp_reasons = ['Staying or living with family, temporary tenure (e.g., room, apartment or house)', \n",
    "               'Staying or living with friends, temporary tenure (e.g., room, apartment or house)', \n",
    "                \n",
    "               ]"
   ]
  },
  {
   "cell_type": "code",
   "execution_count": 7,
   "metadata": {
    "colab": {
     "base_uri": "https://localhost:8080/",
     "height": 67
    },
    "colab_type": "code",
    "id": "N9BTJrq5rLb7",
    "outputId": "d7296e76-a736-4904-f6ad-6739d9c66453"
   },
   "outputs": [
    {
     "name": "stdout",
     "output_type": "stream",
     "text": [
      "Exit to Perm percent: 24.617737003058103 %\n",
      "Unknown Exit percent: 45.87 %\n",
      "Temp Exit percent: 5.05 %\n"
     ]
    }
   ],
   "source": [
    "#@title  { display-mode: \"both\" }\n",
    "# pull all exit destinations from main data file and sum up the totals of each destination, placing them into new df for calculations\n",
    "exits = df['3.12 Exit Destination'].value_counts()\n",
    "\n",
    "tempExits = df['3.12 Exit Destination'].isin(temp_reasons)\n",
    "temp_exit_percent = tempExits.sum() / exits.sum()\n",
    "#exits.sum()) * 100)\n",
    "# round tempExits to two decimals\n",
    "tempExits = round(temp_exit_percent*100, 2)\n",
    "#tempExits = 0\n",
    "\n",
    "# take sum of unknown exits and divide by total exits, then multiply by 100 to get percentage\n",
    "unknownExits = ((exits['Client refused'] / exits.sum()) * 100)\n",
    "\n",
    "# round the answer to nearest hundreth place\n",
    "unknownExits = (round(unknownExits, 2))\n",
    "\n",
    "# create three data frames made up of the three key words found in perm housing\n",
    "perm1 = df[df['3.12 Exit Destination'].str.contains('Rental') == True] \n",
    "perm2 = df[df['3.12 Exit Destination'].str.contains('permanent') == True]\n",
    "perm3 = df[df['3.12 Exit Destination'].str.contains('Permanent') == True]\n",
    "\n",
    "# merge the three dataframes into one to calculate exit to perm percent\n",
    "perm_almost_final = perm1.append(perm2)\n",
    "perm_final = perm_almost_final.append(perm3)\n",
    "perm_final['3.12 Exit Destination'].value_counts()\n",
    "perm_final_sums = perm_final['3.12 Exit Destination'].value_counts()\n",
    "perm_final = df['3.12 Exit Destination'].isin(exit_reasons)\n",
    "# calculate percentage of exits to perm\n",
    "perm_final_percent = perm_final_sums.sum() / exits.sum()\n",
    "\n",
    "#perm_final.sum()\n",
    "\n",
    "#perm_final_percent2 = perm_final.sum() / df['3.12 Exit Destination'].value_counts().sum()\n",
    "#round(perm_final_percent1, 2)\n",
    "print('Exit to Perm percent:',perm_final_percent*100,'%')\n",
    "print('Unknown Exit percent:',unknownExits,'%')\n",
    "print('Temp Exit percent:',tempExits,'%')"
   ]
  },
  {
   "cell_type": "code",
   "execution_count": 8,
   "metadata": {
    "cellView": "both",
    "colab": {
     "base_uri": "https://localhost:8080/",
     "height": 50
    },
    "colab_type": "code",
    "id": "Rv2mM6jvRRl-",
    "outputId": "b4c93f2c-9a97-411c-c9be-c1349022974f"
   },
   "outputs": [
    {
     "name": "stdout",
     "output_type": "stream",
     "text": [
      "Exits to ES percent: 14.37 %\n",
      "Exits to Transitional 5.05 %\n"
     ]
    }
   ],
   "source": [
    "#@title\n",
    "# take sum of ES and Trans exits and divide by total exits, then multiply by 100 to get percentage\n",
    "esExits = (( exits['Emergency shelter, including hotel or motel paid for with emergency shelter voucher, or RHY-funded Host Home shelter'] / exits.sum()) * 100)\n",
    "transExits = ((exits['Transitional Housing for homeless persons (including homeless youth)'] / exits.sum()) * 100)\n",
    "# round the answer to nearest hundreth place\n",
    "esExits = (round(esExits, 2))\n",
    "transExits = (round(transExits, 2))\n",
    "\n",
    "print('Exits to ES percent:',esExits,'%')\n",
    "print('Exits to Transitional',transExits,'%')"
   ]
  },
  {
   "cell_type": "code",
   "execution_count": 9,
   "metadata": {
    "cellView": "both",
    "colab": {
     "base_uri": "https://localhost:8080/",
     "height": 34
    },
    "colab_type": "code",
    "id": "-P6pTn3jHVP8",
    "outputId": "98069761-54d9-4490-b374-0c9eea8d88de"
   },
   "outputs": [
    {
     "name": "stdout",
     "output_type": "stream",
     "text": [
      "Average BedNights is: 30.36\n"
     ]
    }
   ],
   "source": [
    "#@title\n",
    "\n",
    "avgBedNights = df['Count of Bed Nights (Housing Check-ins)'].mean(skipna=True)\n",
    "\n",
    "avgBedNights = round(avgBedNights, 2)\n",
    "\n",
    "print(\"Average BedNights is:\", avgBedNights)"
   ]
  },
  {
   "cell_type": "code",
   "execution_count": 10,
   "metadata": {
    "cellView": "both",
    "colab": {
     "base_uri": "https://localhost:8080/",
     "height": 34
    },
    "colab_type": "code",
    "id": "vf42T95LHxGE",
    "outputId": "fc9cf7cf-f6e7-46da-cf3e-1983128ee0aa"
   },
   "outputs": [
    {
     "name": "stdout",
     "output_type": "stream",
     "text": [
      "Average Days Enrolled is: 48.3\n"
     ]
    }
   ],
   "source": [
    "#@title\n",
    "avgDaysEnrolled = df['Days Enrolled in Project'].mean(skipna=True)\n",
    "avgDaysEnrolled = round(avgDaysEnrolled, 2)                   \n",
    "perm_final_percent = round(perm_final_percent, 2)\n",
    "print('Average Days Enrolled is:', avgDaysEnrolled)"
   ]
  },
  {
   "cell_type": "code",
   "execution_count": 11,
   "metadata": {
    "cellView": "both",
    "colab": {
     "base_uri": "https://localhost:8080/",
     "height": 67
    },
    "colab_type": "code",
    "id": "Cik7482lICZC",
    "outputId": "64021f41-7604-42cd-9f47-8f4c2fbd9974"
   },
   "outputs": [
    {
     "name": "stdout",
     "output_type": "stream",
     "text": [
      "Average Household Income at Enrollment is: 917.66\n",
      "Average Household Income at Exit is: 977.44\n",
      "Average Change in Income for Households during stay is: 59.78\n"
     ]
    }
   ],
   "source": [
    "#@title\n",
    "print('Average Household Income at Enrollment is:', round(df['4.2 Income Total at Entry'].mean(skipna=True), 2))\n",
    "\n",
    "print('Average Household Income at Exit is:', round(df['4.2 Income Total at Exit'].mean(skipna=True), 2))\n",
    "\n",
    "avgChange = (df['4.2 Income Total at Exit'].mean(skipna=True)) - (df['4.2 Income Total at Entry'].mean(skipna=True))\n",
    "avgChange = round(avgChange, 2)\n",
    "print('Average Change in Income for Households during stay is:', avgChange)\n"
   ]
  },
  {
   "cell_type": "code",
   "execution_count": 12,
   "metadata": {
    "cellView": "both",
    "colab": {
     "base_uri": "https://localhost:8080/",
     "height": 34
    },
    "colab_type": "code",
    "id": "RlJjfSuIsR-t",
    "outputId": "8af5ae43-22e6-4021-e38f-207d6ba0d6a7"
   },
   "outputs": [
    {
     "name": "stdout",
     "output_type": "stream",
     "text": [
      "Average Age of Guest during Enrollment is: 19.79\n"
     ]
    }
   ],
   "source": [
    "#@title\n",
    "# printed rounded answer for average age during enrollment\n",
    "print('Average Age of Guest during Enrollment is:', round(df['Age at Enrollment'].mean(skipna=True), 2))"
   ]
  },
  {
   "cell_type": "code",
   "execution_count": 0,
   "metadata": {
    "colab": {},
    "colab_type": "code",
    "id": "qc_dLkMPRglm"
   },
   "outputs": [],
   "source": [
    "# export zips into an excel sheet for Power BI visual\n",
    "  df['V5 Zip'].value_counts().to_excel('/content/drive/My Drive/FPS Weekly Data Colabs/YTD Data/weeklyYTDzips.xlsx', header=True, index=True)"
   ]
  },
  {
   "cell_type": "code",
   "execution_count": 0,
   "metadata": {
    "colab": {},
    "colab_type": "code",
    "id": "wn9pFrKU1Iag"
   },
   "outputs": [],
   "source": [
    "# create list of all options for engagement data and export into excel file for Power BI\n",
    "df['Days Enrolled Until Engagement Date'].value_counts().to_excel('/content/drive/My Drive/FPS Weekly Data Colabs/YTD Data/weeklyYTD_aggregate_DOE.xlsx', header=True, index=True)"
   ]
  },
  {
   "cell_type": "code",
   "execution_count": 0,
   "metadata": {
    "colab": {},
    "colab_type": "code",
    "id": "Zm7A6TE4ckjD"
   },
   "outputs": [],
   "source": [
    "# create new excel sheet with the days enrolled until engagement to upload back into notebook for calculating mean\n",
    "\n",
    "df['Days Until Engagement'] = (df['4.13 Engagement Date'] - df['3.10 Enroll Date'])\n",
    "df['Days Until Engagement'].mean()\n",
    "d_o_e_avg = df['Days Until Engagement'].mean()"
   ]
  },
  {
   "cell_type": "code",
   "execution_count": 16,
   "metadata": {
    "colab": {
     "base_uri": "https://localhost:8080/",
     "height": 34
    },
    "colab_type": "code",
    "id": "nZXjBCEwdyOD",
    "outputId": "f4420135-b9dc-4997-a0fb-93caef17dc89"
   },
   "outputs": [
    {
     "data": {
      "text/plain": [
       "Timedelta('3 days 06:47:53.819742')"
      ]
     },
     "execution_count": 16,
     "metadata": {
      "tags": []
     },
     "output_type": "execute_result"
    }
   ],
   "source": [
    "d_o_e_avg"
   ]
  },
  {
   "cell_type": "code",
   "execution_count": 0,
   "metadata": {
    "colab": {},
    "colab_type": "code",
    "id": "nzzWqRNuNWiM"
   },
   "outputs": [],
   "source": [
    "# create new excel sheet with the days enrolled until engagement to upload back into notebook for calculating mean \n",
    "(df['4.13 Engagement Date'] - df['3.10 Enroll Date']).to_excel('/content/drive/My Drive/FPS Weekly Data Colabs/YTD Data/ytdDOE.xlsx', header=False, index=False)"
   ]
  },
  {
   "cell_type": "code",
   "execution_count": 0,
   "metadata": {
    "colab": {},
    "colab_type": "code",
    "id": "xX3f7O4QD3y9"
   },
   "outputs": [],
   "source": [
    "# create new column with total amount of guests for year\n",
    "df['Total Guests'] = df['5.8 Personal ID'].drop_duplicates().count()"
   ]
  },
  {
   "cell_type": "code",
   "execution_count": 0,
   "metadata": {
    "colab": {},
    "colab_type": "code",
    "id": "SWNpBE43LjeR"
   },
   "outputs": [],
   "source": [
    "# create new column with count of unique households\n",
    "df['Total Households'] = df['5.9 Household ID'].drop_duplicates().count()\n",
    "\n",
    "# create new column with total amount of guests for year\n",
    "df['Total Guests'] = df['5.8 Personal ID'].drop_duplicates().count()\n"
   ]
  },
  {
   "cell_type": "code",
   "execution_count": 28,
   "metadata": {
    "colab": {
     "base_uri": "https://localhost:8080/",
     "height": 34
    },
    "colab_type": "code",
    "id": "LDr67Q7Qma3v",
    "outputId": "5fba1c61-7a39-44e5-83ba-ffda1e1fb03c"
   },
   "outputs": [
    {
     "data": {
      "text/plain": [
       "839"
      ]
     },
     "execution_count": 28,
     "metadata": {
      "tags": []
     },
     "output_type": "execute_result"
    }
   ],
   "source": [
    "df['5.8 Personal ID'].count()"
   ]
  },
  {
   "cell_type": "code",
   "execution_count": 29,
   "metadata": {
    "colab": {
     "base_uri": "https://localhost:8080/",
     "height": 34
    },
    "colab_type": "code",
    "id": "lhlau-lkmMz6",
    "outputId": "562e2018-9ceb-4a7d-efa4-5f54a7b97ac1"
   },
   "outputs": [
    {
     "data": {
      "text/plain": [
       "757"
      ]
     },
     "execution_count": 29,
     "metadata": {
      "tags": []
     },
     "output_type": "execute_result"
    }
   ],
   "source": [
    "df['5.8 Personal ID'].drop_duplicates().count()"
   ]
  },
  {
   "cell_type": "code",
   "execution_count": 31,
   "metadata": {
    "colab": {
     "base_uri": "https://localhost:8080/",
     "height": 118
    },
    "colab_type": "code",
    "id": "4LeVqcwbnQqY",
    "outputId": "fcd7e2ce-7ab8-48f2-f0ea-da8c1cbcf769"
   },
   "outputs": [
    {
     "data": {
      "text/plain": [
       "0    28\n",
       "1     2\n",
       "2     6\n",
       "3    22\n",
       "4    28\n",
       "Name: Age at Enrollment, dtype: int64"
      ]
     },
     "execution_count": 31,
     "metadata": {
      "tags": []
     },
     "output_type": "execute_result"
    }
   ],
   "source": [
    "df['Age at Enrollment'].head()"
   ]
  },
  {
   "cell_type": "code",
   "execution_count": 0,
   "metadata": {
    "colab": {},
    "colab_type": "code",
    "id": "E1WUfPg2nDYD"
   },
   "outputs": [],
   "source": [
    "df['is_minor'] = df['Age at Enrollment'] <= 17.0"
   ]
  },
  {
   "cell_type": "code",
   "execution_count": 37,
   "metadata": {
    "colab": {
     "base_uri": "https://localhost:8080/",
     "height": 67
    },
    "colab_type": "code",
    "id": "wGagRgrnnx7M",
    "outputId": "9ca4a47d-4b59-471f-8b7b-780028a61f3c"
   },
   "outputs": [
    {
     "data": {
      "text/plain": [
       "True     430\n",
       "False    409\n",
       "Name: is_minor, dtype: int64"
      ]
     },
     "execution_count": 37,
     "metadata": {
      "tags": []
     },
     "output_type": "execute_result"
    }
   ],
   "source": [
    "df['is_minor'].value_counts()"
   ]
  },
  {
   "cell_type": "code",
   "execution_count": 46,
   "metadata": {
    "colab": {
     "base_uri": "https://localhost:8080/",
     "height": 34
    },
    "colab_type": "code",
    "id": "zvnkkT16ocYV",
    "outputId": "0c0e8310-3b58-46f5-8e3a-1abee5e55e87"
   },
   "outputs": [
    {
     "data": {
      "text/plain": [
       "58.7733"
      ]
     },
     "execution_count": 46,
     "metadata": {
      "tags": []
     },
     "output_type": "execute_result"
    }
   ],
   "source": [
    "# 839 total\n",
    "\n",
    "# minors percent = 51.25\n",
    "# adults percent = 48.75\n",
    "\n",
    "# exit to perm adults = 101\n",
    "# exit to perm kids = 106\n",
    "# exit to temp adults = 21\n",
    "# exit to temp kids = 22\n",
    "# exit to ES adults = 59 \n",
    "# exut to ES kids = 62 \n",
    "\n",
    ".1437 * 409"
   ]
  },
  {
   "cell_type": "markdown",
   "metadata": {
    "colab_type": "text",
    "id": "hJrozA6GoGNh"
   },
   "source": [
    "Exit to Perm percent: 24.617737003058103 %\n",
    "Unknown Exit percent: 45.87 %\n",
    "Temp Exit percent: 5.05 %\n",
    "\n",
    "Exits to ES percent: 14.37 %\n",
    "Exits to Transitional 5.05 %"
   ]
  },
  {
   "cell_type": "code",
   "execution_count": 0,
   "metadata": {
    "colab": {},
    "colab_type": "code",
    "id": "7GIG1mTpkfay"
   },
   "outputs": [],
   "source": [
    "def served(X):\n",
    "  X = X.copy()\n",
    "  return(X['5.8 Personal ID'].value_counts().unique().sum())"
   ]
  },
  {
   "cell_type": "code",
   "execution_count": 0,
   "metadata": {
    "colab": {},
    "colab_type": "code",
    "id": "6monHQzwm_xN"
   },
   "outputs": [],
   "source": [
    "def served_h(X):\n",
    "  X = X.copy()\n",
    "  return(X['5.9 Household ID'].value_counts().unique().sum())\n"
   ]
  },
  {
   "cell_type": "code",
   "execution_count": 22,
   "metadata": {
    "colab": {
     "base_uri": "https://localhost:8080/",
     "height": 34
    },
    "colab_type": "code",
    "id": "Uxy-4fI7nDK3",
    "outputId": "c0c785f3-55a6-4428-d6ae-9810c5216ce2"
   },
   "outputs": [
    {
     "data": {
      "text/plain": [
       "6"
      ]
     },
     "execution_count": 22,
     "metadata": {
      "tags": []
     },
     "output_type": "execute_result"
    }
   ],
   "source": [
    "served(df)"
   ]
  },
  {
   "cell_type": "code",
   "execution_count": 23,
   "metadata": {
    "colab": {
     "base_uri": "https://localhost:8080/",
     "height": 34
    },
    "colab_type": "code",
    "id": "9A-yGbD_nKtc",
    "outputId": "692bb205-f7ba-4354-9a64-884ad5fa8545"
   },
   "outputs": [
    {
     "data": {
      "text/plain": [
       "36"
      ]
     },
     "execution_count": 23,
     "metadata": {
      "tags": []
     },
     "output_type": "execute_result"
    }
   ],
   "source": [
    "served_h(df)"
   ]
  },
  {
   "cell_type": "code",
   "execution_count": 24,
   "metadata": {
    "colab": {
     "base_uri": "https://localhost:8080/",
     "height": 50
    },
    "colab_type": "code",
    "id": "e7n-NXIpJMgx",
    "outputId": "a9eff9ef-511b-4bf6-b420-bf7ee1480618"
   },
   "outputs": [
    {
     "name": "stdout",
     "output_type": "stream",
     "text": [
      "nan\n",
      "nan\n"
     ]
    }
   ],
   "source": [
    "totalHouseholds = df.iloc[1, 120]\n",
    "totalGuests = df.iloc[1, 119]\n",
    "\n",
    "print(totalHouseholds)\n",
    "print(totalGuests)"
   ]
  },
  {
   "cell_type": "code",
   "execution_count": 25,
   "metadata": {
    "colab": {
     "base_uri": "https://localhost:8080/",
     "height": 229
    },
    "colab_type": "code",
    "id": "yN84mZypp9Nh",
    "outputId": "c6227230-a678-4eb5-bc9f-63968f8086a9"
   },
   "outputs": [
    {
     "ename": "ValueError",
     "evalue": "ignored",
     "output_type": "error",
     "traceback": [
      "\u001b[0;31m---------------------------------------------------------------------------\u001b[0m",
      "\u001b[0;31mValueError\u001b[0m                                Traceback (most recent call last)",
      "\u001b[0;32m<ipython-input-25-a998bf9f00fe>\u001b[0m in \u001b[0;36m<module>\u001b[0;34m()\u001b[0m\n\u001b[1;32m     21\u001b[0m \u001b[0msheet1\u001b[0m\u001b[0;34m.\u001b[0m\u001b[0mwrite\u001b[0m\u001b[0;34m(\u001b[0m\u001b[0;36m7\u001b[0m\u001b[0;34m,\u001b[0m \u001b[0;36m1\u001b[0m\u001b[0;34m,\u001b[0m \u001b[0mavgChange\u001b[0m\u001b[0;34m)\u001b[0m\u001b[0;34m\u001b[0m\u001b[0;34m\u001b[0m\u001b[0m\n\u001b[1;32m     22\u001b[0m \u001b[0msheet1\u001b[0m\u001b[0;34m.\u001b[0m\u001b[0mwrite\u001b[0m\u001b[0;34m(\u001b[0m\u001b[0;36m8\u001b[0m\u001b[0;34m,\u001b[0m \u001b[0;36m0\u001b[0m\u001b[0;34m,\u001b[0m \u001b[0;34m'Total Households Served'\u001b[0m\u001b[0;34m)\u001b[0m\u001b[0;34m\u001b[0m\u001b[0;34m\u001b[0m\u001b[0m\n\u001b[0;32m---> 23\u001b[0;31m \u001b[0msheet1\u001b[0m\u001b[0;34m.\u001b[0m\u001b[0mwrite\u001b[0m\u001b[0;34m(\u001b[0m\u001b[0;36m8\u001b[0m\u001b[0;34m,\u001b[0m \u001b[0;36m1\u001b[0m\u001b[0;34m,\u001b[0m \u001b[0mint\u001b[0m\u001b[0;34m(\u001b[0m\u001b[0mtotalHouseholds\u001b[0m\u001b[0;34m)\u001b[0m\u001b[0;34m)\u001b[0m\u001b[0;34m\u001b[0m\u001b[0;34m\u001b[0m\u001b[0m\n\u001b[0m\u001b[1;32m     24\u001b[0m \u001b[0msheet1\u001b[0m\u001b[0;34m.\u001b[0m\u001b[0mwrite\u001b[0m\u001b[0;34m(\u001b[0m\u001b[0;36m9\u001b[0m\u001b[0;34m,\u001b[0m \u001b[0;36m0\u001b[0m\u001b[0;34m,\u001b[0m \u001b[0;34m'Total Guests Served'\u001b[0m\u001b[0;34m)\u001b[0m\u001b[0;34m\u001b[0m\u001b[0;34m\u001b[0m\u001b[0m\n\u001b[1;32m     25\u001b[0m \u001b[0msheet1\u001b[0m\u001b[0;34m.\u001b[0m\u001b[0mwrite\u001b[0m\u001b[0;34m(\u001b[0m\u001b[0;36m9\u001b[0m\u001b[0;34m,\u001b[0m \u001b[0;36m1\u001b[0m\u001b[0;34m,\u001b[0m \u001b[0mint\u001b[0m\u001b[0;34m(\u001b[0m\u001b[0mtotalGuests\u001b[0m\u001b[0;34m)\u001b[0m\u001b[0;34m)\u001b[0m\u001b[0;34m\u001b[0m\u001b[0;34m\u001b[0m\u001b[0m\n",
      "\u001b[0;31mValueError\u001b[0m: cannot convert float NaN to integer"
     ]
    }
   ],
   "source": [
    "# Workbook is created \n",
    "wb = Workbook() \n",
    "  \n",
    "# add_sheet is used to create sheet. \n",
    "sheet1 = wb.add_sheet('Sheet 1') \n",
    "  \n",
    "sheet1.write(0, 0, 'Permanent Housing') \n",
    "sheet1.write(0, 1, round(perm_final_percent*100,2))\n",
    "sheet1.write(1, 0, 'Emergency Shelter') \n",
    "sheet1.write(1, 1, esExits) \n",
    "sheet1.write(2, 0, 'Temporary Housing') \n",
    "sheet1.write(2, 1, tempExits) \n",
    "sheet1.write(3, 0, 'Transitional Housing') \n",
    "sheet1.write(3, 1, transExits) \n",
    "sheet1.write(4, 0, 'Guest left without completing exit survey') \n",
    "sheet1.write(4, 1, unknownExits) \n",
    "sheet1.write(5, 0, 'Average Bednights')\n",
    "sheet1.write(5, 1, avgBedNights)\n",
    "sheet1.write(6, 0, 'Average Days Enrolled')\n",
    "sheet1.write(6, 1, avgDaysEnrolled)\n",
    "sheet1.write(7, 0, 'Average Change in Income per Household')\n",
    "sheet1.write(7, 1, avgChange)\n",
    "sheet1.write(8, 0, 'Total Households Served')\n",
    "sheet1.write(8, 1, int(totalHouseholds))\n",
    "sheet1.write(9, 0, 'Total Guests Served')\n",
    "sheet1.write(9, 1, int(totalGuests))\n",
    "\n",
    "wb.save('/content/drive/My Drive/FPS Weekly Data Colabs/YTD Data/weeklyYtdData.xls')"
   ]
  },
  {
   "cell_type": "code",
   "execution_count": 0,
   "metadata": {
    "colab": {},
    "colab_type": "code",
    "id": "Fme1j0wCaD5T"
   },
   "outputs": [],
   "source": [
    "# get list of currently enrolled guests (guests that don't have an exit date)\n",
    "currently_enrolled = df[df['3.11 Exit Date'].isnull()]"
   ]
  },
  {
   "cell_type": "code",
   "execution_count": 0,
   "metadata": {
    "colab": {},
    "colab_type": "code",
    "id": "_9oOwsJkZclG"
   },
   "outputs": [],
   "source": [
    "# create new list of those currently enrolled who haven't stayed with us for\n",
    "# two weeks or more\n",
    "need_to_exit = currently_enrolled[currently_enrolled['Date of Last ES Stay (Beta)'] < pd.to_datetime('2019-11-10')] "
   ]
  },
  {
   "cell_type": "code",
   "execution_count": 0,
   "metadata": {
    "colab": {},
    "colab_type": "code",
    "id": "yVaLUAhadeeQ"
   },
   "outputs": [],
   "source": [
    "need_to_exit.shape"
   ]
  },
  {
   "cell_type": "code",
   "execution_count": 0,
   "metadata": {
    "colab": {},
    "colab_type": "code",
    "id": "G_58DZUTekxT"
   },
   "outputs": [],
   "source": [
    "# make list of last names and HMIS number so team can find them and exit them\n",
    "\n",
    "last_names = need_to_exit['3.1 LastName']\n",
    "hmis = need_to_exit['5.8 Personal ID']\n",
    "\n",
    "print_list = pd.concat([last_names, hmis], axis=1)"
   ]
  },
  {
   "cell_type": "code",
   "execution_count": 0,
   "metadata": {
    "colab": {},
    "colab_type": "code",
    "id": "6j8TBTqrgNTL"
   },
   "outputs": [],
   "source": [
    "# send to excel sheet to download and share\n",
    "print_list.to_excel('/content/exit_list.xlsx', index=None)"
   ]
  }
 ],
 "metadata": {
  "colab": {
   "collapsed_sections": [],
   "include_colab_link": true,
   "name": "Last Updated YTD Data",
   "provenance": [],
   "toc_visible": true
  },
  "kernelspec": {
   "display_name": "Python 3",
   "language": "python",
   "name": "python3"
  },
  "language_info": {
   "codemirror_mode": {
    "name": "ipython",
    "version": 3
   },
   "file_extension": ".py",
   "mimetype": "text/x-python",
   "name": "python",
   "nbconvert_exporter": "python",
   "pygments_lexer": "ipython3",
   "version": "3.6.9"
  }
 },
 "nbformat": 4,
 "nbformat_minor": 1
}
