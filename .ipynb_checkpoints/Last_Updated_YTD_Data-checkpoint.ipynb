{
 "cells": [
  {
   "cell_type": "markdown",
   "metadata": {
    "colab_type": "text",
    "id": "view-in-github"
   },
   "source": [
    "<a href=\"https://colab.research.google.com/github/iesous-kurios/family_promise_data/blob/master/Last_Updated_YTD_Data.ipynb\" target=\"_parent\"><img src=\"https://colab.research.google.com/assets/colab-badge.svg\" alt=\"Open In Colab\"/></a>"
   ]
  },
  {
   "cell_type": "markdown",
   "metadata": {
    "colab_type": "text",
    "id": "1FPDDrTvl7r1"
   },
   "source": [
    "# **YTD FPS Data Notebook**"
   ]
  },
  {
   "cell_type": "code",
   "execution_count": 1,
   "metadata": {
    "cellView": "both",
    "colab": {
     "base_uri": "https://localhost:8080/",
     "height": 34
    },
    "colab_type": "code",
    "id": "aDa7C0EuxPor",
    "outputId": "e485267c-de9d-44b1-c817-a8c1c7b16902"
   },
   "outputs": [
    {
     "data": {
      "text/plain": [
       "'0.10.0'"
      ]
     },
     "execution_count": 1,
     "metadata": {},
     "output_type": "execute_result"
    }
   ],
   "source": [
    "#@title\n",
    "# import libraries which provide math functions to our data imports\n",
    "import statistics\n",
    "import numpy as np\n",
    "import pandas as pd\n",
    "import matplotlib.pyplot as plt\n",
    "import xlwt \n",
    "from xlwt import Workbook\n",
    "import seaborn as sns\n",
    "\n",
    "import matplotlib.pyplot as plt\n",
    "import matplotlib\n",
    "from matplotlib import style\n",
    "\n",
    "sns.__version__"
   ]
  },
  {
   "cell_type": "code",
   "execution_count": 3,
   "metadata": {
    "colab": {},
    "colab_type": "code",
    "id": "NDxh2EcL-2Pl"
   },
   "outputs": [],
   "source": [
    "# Python program to check if two  \n",
    "# to get unique values from list \n",
    "# using traversal  \n",
    "  \n",
    "# function to get unique values \n",
    "def unique(list1): \n",
    "  \n",
    "    # intilize a null list \n",
    "    unique_list = [] \n",
    "      \n",
    "    # traverse for all elements \n",
    "    for x in list1: \n",
    "        # check if exists in unique_list or not \n",
    "        if x not in unique_list: \n",
    "            unique_list.append(x) \n",
    "    return unique_list    \n",
    "    \n",
    "  \n",
    "# driver code \n",
    "list1 = df['5.8 Personal ID']\n",
    "\n",
    "unduplicated = unique(list1) "
   ]
  },
  {
   "cell_type": "code",
   "execution_count": 4,
   "metadata": {},
   "outputs": [
    {
     "data": {
      "text/plain": [
       "752"
      ]
     },
     "execution_count": 4,
     "metadata": {},
     "output_type": "execute_result"
    }
   ],
   "source": [
    "len(unduplicated)"
   ]
  },
  {
   "cell_type": "code",
   "execution_count": 5,
   "metadata": {},
   "outputs": [
    {
     "data": {
      "text/plain": [
       "106345    8\n",
       "118439    7\n",
       "117576    7\n",
       "113462    6\n",
       "108834    6\n",
       "         ..\n",
       "110595    2\n",
       "125339    1\n",
       "115770    1\n",
       "115633    1\n",
       "108479    1\n",
       "Name: 5.9 Household ID, Length: 251, dtype: int64"
      ]
     },
     "execution_count": 5,
     "metadata": {},
     "output_type": "execute_result"
    }
   ],
   "source": [
    "df['5.9 Household ID'].value_counts()"
   ]
  },
  {
   "cell_type": "code",
   "execution_count": 6,
   "metadata": {
    "colab": {},
    "colab_type": "code",
    "id": "DZrg1jL9owlG"
   },
   "outputs": [],
   "source": [
    "# print total number of families served (unduplicated)\n",
    "unique_households = unique(df['5.9 Household ID'])"
   ]
  },
  {
   "cell_type": "code",
   "execution_count": 7,
   "metadata": {
    "colab": {
     "base_uri": "https://localhost:8080/",
     "height": 34
    },
    "colab_type": "code",
    "id": "dNKzPkFF-oeN",
    "outputId": "3f089a37-d96d-4a6b-e143-0700db819a90"
   },
   "outputs": [
    {
     "data": {
      "text/plain": [
       "251"
      ]
     },
     "execution_count": 7,
     "metadata": {},
     "output_type": "execute_result"
    }
   ],
   "source": [
    "len(unique_households)"
   ]
  },
  {
   "cell_type": "code",
   "execution_count": 2,
   "metadata": {
    "cellView": "both",
    "colab": {},
    "colab_type": "code",
    "id": "hKIhC1Kvu6Pp"
   },
   "outputs": [],
   "source": [
    "#@title\n",
    "# import weekly data from yearly FPS folder\n",
    "df = pd.read_excel('~/family_promise_data/data/ClientTrackExport (3).xlsx')\n",
    "#df = pd.read_excel ('~/environments/fp_env/family_promise_data/data/ClientTrackExport (5).xlsx')"
   ]
  },
  {
   "cell_type": "code",
   "execution_count": 15,
   "metadata": {
    "cellView": "both",
    "colab": {},
    "colab_type": "code",
    "id": "g0EbyhR9tJ__"
   },
   "outputs": [],
   "source": [
    "#@title\n",
    "# replace zeros in data with \"Nan\" to calculate more accurate average bednights \n",
    "df['Count of Bed Nights (Housing Check-ins)'] = df['Count of Bed Nights (Housing Check-ins)'].replace(0, np.NaN)"
   ]
  },
  {
   "cell_type": "code",
   "execution_count": 75,
   "metadata": {
    "colab": {
     "base_uri": "https://localhost:8080/",
     "height": 252
    },
    "colab_type": "code",
    "id": "2j95mgiIUV0U",
    "outputId": "a9c88a61-ba3b-492b-d90a-a87088967243"
   },
   "outputs": [
    {
     "data": {
      "text/plain": [
       "Client refused                                                                                                          285\n",
       "Emergency shelter, including hotel or motel paid for with emergency shelter voucher, or RHY-funded Host Home shelter    103\n",
       "Rental by client with RRH or equivalent subsidy                                                                          94\n",
       "Transitional Housing for homeless persons (including homeless youth)                                                     37\n",
       "Rental by client, no ongoing housing subsidy                                                                             32\n",
       "No exit interview completed                                                                                              23\n",
       "Staying or living with family, permanent tenure                                                                          20\n",
       "Staying or living with friends, temporary tenure (e.g., room, apartment or house)                                        15\n",
       "Staying or living with family, temporary tenure (e.g., room, apartment or house)                                         11\n",
       "Other                                                                                                                     4\n",
       "Hotel or Motel paid for without Emergency Shelter Voucher                                                                 4\n",
       "Substance Abuse Treatment or Detox Center                                                                                 3\n",
       "Staying or living with friends, permanent tenure                                                                          2\n",
       "Psychiatric Hospital or Other Psychiatric Facility                                                                        1\n",
       "Rental by client, other ongoing housing subsidy                                                                           1\n",
       "Name: 3.12 Exit Destination, dtype: int64"
      ]
     },
     "execution_count": 75,
     "metadata": {},
     "output_type": "execute_result"
    }
   ],
   "source": [
    "# display all possible exit destinations and their totals\n",
    "df['3.12 Exit Destination'].value_counts()"
   ]
  },
  {
   "cell_type": "code",
   "execution_count": 76,
   "metadata": {
    "cellView": "both",
    "colab": {},
    "colab_type": "code",
    "id": "04imCepm-N9r"
   },
   "outputs": [],
   "source": [
    "#@title\n",
    "\n",
    "exit_reasons = ['Rental by client with RRH or equivalent subsidy', \n",
    "                'Rental by client, no ongoing housing subsidy', \n",
    "                'Staying or living with family, permanent tenure', \n",
    "                'Rental by client, other ongoing housing subsidy',\n",
    "                'Permanent housing (other than RRH) for formerly homeless persons', \n",
    "                'Staying or living with friends, permanent tenure', \n",
    "                'Owned by client, with ongoing housing subsidy', \n",
    "                'Staying or living with friends, permanent tenure', \n",
    "                'Rental by client, VASH housing Subsidy'\n",
    "               ]\n",
    "\n",
    "temp_reasons = ['Staying or living with family, temporary tenure (e.g., room, apartment or house)', \n",
    "               'Staying or living with friends, temporary tenure (e.g., room, apartment or house)', \n",
    "                \n",
    "               ]"
   ]
  },
  {
   "cell_type": "code",
   "execution_count": 77,
   "metadata": {},
   "outputs": [],
   "source": [
    "# drop rows with no exit destination (current guests at time of report)\n",
    "df = df.dropna(subset=['3.12 Exit Destination'])"
   ]
  },
  {
   "cell_type": "code",
   "execution_count": 78,
   "metadata": {},
   "outputs": [],
   "source": [
    " # create target column (multiple types of exits to perm)\n",
    "df['perm_leaver'] = df['3.12 Exit Destination'].isin(exit_reasons)"
   ]
  },
  {
   "cell_type": "code",
   "execution_count": 79,
   "metadata": {},
   "outputs": [
    {
     "data": {
      "text/plain": [
       "False    0.765354\n",
       "True     0.234646\n",
       "Name: perm_leaver, dtype: float64"
      ]
     },
     "execution_count": 79,
     "metadata": {},
     "output_type": "execute_result"
    }
   ],
   "source": [
    "df['perm_leaver'].value_counts(normalize=True)"
   ]
  },
  {
   "cell_type": "code",
   "execution_count": 80,
   "metadata": {
    "colab": {
     "base_uri": "https://localhost:8080/",
     "height": 67
    },
    "colab_type": "code",
    "id": "N9BTJrq5rLb7",
    "outputId": "d6aa2758-d71d-4496-ce16-f8dd301e69f5"
   },
   "outputs": [
    {
     "name": "stdout",
     "output_type": "stream",
     "text": [
      "Exit to Perm percent: 23.46456692913386 %\n",
      "Unknown Exit percent: 44.88 %\n",
      "Temp Exit percent: 4.09 %\n"
     ]
    }
   ],
   "source": [
    "#@title  { display-mode: \"both\" }\n",
    "# pull all exit destinations from main data file and sum up the totals of each destination, placing them into new df for calculations\n",
    "exits = df['3.12 Exit Destination'].value_counts()\n",
    "\n",
    "tempExits = df['3.12 Exit Destination'].isin(temp_reasons)\n",
    "temp_exit_percent = tempExits.sum() / exits.sum()\n",
    "#exits.sum()) * 100)\n",
    "# round tempExits to two decimals\n",
    "tempExits = round(temp_exit_percent*100, 2)\n",
    "#tempExits = 0\n",
    "\n",
    "# take sum of unknown exits and divide by total exits, then multiply by 100 to get percentage\n",
    "unknownExits = ((exits['Client refused'] / exits.sum()) * 100)\n",
    "\n",
    "# round the answer to nearest hundreth place\n",
    "unknownExits = (round(unknownExits, 2))\n",
    "\n",
    "# create three data frames made up of the three key words found in perm housing\n",
    "perm1 = df[df['3.12 Exit Destination'].str.contains('Rental') == True] \n",
    "perm2 = df[df['3.12 Exit Destination'].str.contains('permanent') == True]\n",
    "perm3 = df[df['3.12 Exit Destination'].str.contains('Permanent') == True]\n",
    "\n",
    "# merge the three dataframes into one to calculate exit to perm percent\n",
    "perm_almost_final = perm1.append(perm2)\n",
    "perm_final = perm_almost_final.append(perm3)\n",
    "perm_final['3.12 Exit Destination'].value_counts()\n",
    "perm_final_sums = perm_final['3.12 Exit Destination'].value_counts()\n",
    "perm_final = df['3.12 Exit Destination'].isin(exit_reasons)\n",
    "# calculate percentage of exits to perm\n",
    "perm_final_percent = perm_final_sums.sum() / exits.sum()\n",
    "\n",
    "#perm_final.sum()\n",
    "\n",
    "#perm_final_percent2 = perm_final.sum() / df['3.12 Exit Destination'].value_counts().sum()\n",
    "#round(perm_final_percent1, 2)\n",
    "print('Exit to Perm percent:',perm_final_percent*100,'%')\n",
    "print('Unknown Exit percent:',unknownExits,'%')\n",
    "print('Temp Exit percent:',tempExits,'%')"
   ]
  },
  {
   "cell_type": "code",
   "execution_count": 81,
   "metadata": {
    "cellView": "both",
    "colab": {
     "base_uri": "https://localhost:8080/",
     "height": 50
    },
    "colab_type": "code",
    "id": "Rv2mM6jvRRl-",
    "outputId": "5c7d250f-2b80-41ef-a37f-ce5c05781832"
   },
   "outputs": [
    {
     "name": "stdout",
     "output_type": "stream",
     "text": [
      "Exits to ES percent: 16.22 %\n",
      "Exits to Transitional 5.83 %\n"
     ]
    }
   ],
   "source": [
    "#@title\n",
    "# take sum of ES and Trans exits and divide by total exits, then multiply by 100 to get percentage\n",
    "esExits = (( exits['Emergency shelter, including hotel or motel paid for with emergency shelter voucher, or RHY-funded Host Home shelter'] / exits.sum()) * 100)\n",
    "transExits = ((exits['Transitional Housing for homeless persons (including homeless youth)'] / exits.sum()) * 100)\n",
    "# round the answer to nearest hundreth place\n",
    "esExits = (round(esExits, 2))\n",
    "transExits = (round(transExits, 2))\n",
    "\n",
    "print('Exits to ES percent:',esExits,'%')\n",
    "print('Exits to Transitional',transExits,'%')"
   ]
  },
  {
   "cell_type": "code",
   "execution_count": 16,
   "metadata": {
    "cellView": "both",
    "colab": {
     "base_uri": "https://localhost:8080/",
     "height": 34
    },
    "colab_type": "code",
    "id": "-P6pTn3jHVP8",
    "outputId": "8f4f11c6-7369-4ec4-cdc3-fef04c1fd25e"
   },
   "outputs": [
    {
     "name": "stdout",
     "output_type": "stream",
     "text": [
      "Average BedNights is: 32.1\n"
     ]
    }
   ],
   "source": [
    "#@title\n",
    "\n",
    "avgBedNights = df['Count of Bed Nights (Housing Check-ins)'].mean(skipna=True)\n",
    "\n",
    "avgBedNights = round(avgBedNights, 2)\n",
    "\n",
    "print(\"Average BedNights is:\", avgBedNights)"
   ]
  },
  {
   "cell_type": "code",
   "execution_count": 83,
   "metadata": {
    "cellView": "both",
    "colab": {
     "base_uri": "https://localhost:8080/",
     "height": 34
    },
    "colab_type": "code",
    "id": "vf42T95LHxGE",
    "outputId": "0e7d8411-ba6c-487d-864f-662b29b9efb6"
   },
   "outputs": [
    {
     "name": "stdout",
     "output_type": "stream",
     "text": [
      "Average Days Enrolled is: 43.07\n"
     ]
    }
   ],
   "source": [
    "#@title\n",
    "avgDaysEnrolled = df['Days Enrolled in Project'].mean(skipna=True)\n",
    "avgDaysEnrolled = round(avgDaysEnrolled, 2)                   \n",
    "perm_final_percent = round(perm_final_percent, 2)\n",
    "print('Average Days Enrolled is:', avgDaysEnrolled)"
   ]
  },
  {
   "cell_type": "code",
   "execution_count": 84,
   "metadata": {
    "cellView": "both",
    "colab": {
     "base_uri": "https://localhost:8080/",
     "height": 67
    },
    "colab_type": "code",
    "id": "Cik7482lICZC",
    "outputId": "5abc1d2f-a20a-4fe0-bfba-cc144bf04797"
   },
   "outputs": [
    {
     "name": "stdout",
     "output_type": "stream",
     "text": [
      "Average Household Income at Enrollment is: 959.22\n",
      "Average Household Income at Exit is: 967.38\n",
      "Average Change in Income for Households during stay is: 8.17\n"
     ]
    }
   ],
   "source": [
    "#@title\n",
    "print('Average Household Income at Enrollment is:', round(df['4.2 Income Total at Entry'].mean(skipna=True), 2))\n",
    "\n",
    "print('Average Household Income at Exit is:', round(df['4.2 Income Total at Exit'].mean(skipna=True), 2))\n",
    "\n",
    "avgChange = (df['4.2 Income Total at Exit'].mean(skipna=True)) - (df['4.2 Income Total at Entry'].mean(skipna=True))\n",
    "avgChange = round(avgChange, 2)\n",
    "print('Average Change in Income for Households during stay is:', avgChange)\n"
   ]
  },
  {
   "cell_type": "code",
   "execution_count": 85,
   "metadata": {
    "cellView": "both",
    "colab": {
     "base_uri": "https://localhost:8080/",
     "height": 34
    },
    "colab_type": "code",
    "id": "RlJjfSuIsR-t",
    "outputId": "d6f37d2b-51b0-4d2f-dc92-a6ef6fd0377b"
   },
   "outputs": [
    {
     "name": "stdout",
     "output_type": "stream",
     "text": [
      "Average Age of Guest during Enrollment is: 20.02\n"
     ]
    }
   ],
   "source": [
    "#@title\n",
    "# printed rounded answer for average age during enrollment\n",
    "print('Average Age of Guest during Enrollment is:', round(df['Age at Enrollment'].mean(skipna=True), 2))"
   ]
  },
  {
   "cell_type": "code",
   "execution_count": 86,
   "metadata": {
    "colab": {},
    "colab_type": "code",
    "id": "qc_dLkMPRglm"
   },
   "outputs": [],
   "source": [
    "# export zips into an excel sheet for Power BI visual\n",
    "#  df['V5 Zip'].value_counts().to_excel('/content/drive/My Drive/FPS Weekly Data Colabs/YTD Data/weeklyYTDzips.xlsx', header=True, index=True)"
   ]
  },
  {
   "cell_type": "code",
   "execution_count": 87,
   "metadata": {
    "colab": {},
    "colab_type": "code",
    "id": "wn9pFrKU1Iag"
   },
   "outputs": [],
   "source": [
    "# create list of all options for engagement data and export into excel file for Power BI\n",
    "#df['Days Enrolled Until Engagement Date'].value_counts().to_excel('/content/drive/My Drive/FPS Weekly Data Colabs/YTD Data/weeklyYTD_aggregate_DOE.xlsx', header=True, index=True)"
   ]
  },
  {
   "cell_type": "code",
   "execution_count": 88,
   "metadata": {
    "colab": {},
    "colab_type": "code",
    "id": "Zm7A6TE4ckjD"
   },
   "outputs": [],
   "source": [
    "# create new excel sheet with the days enrolled until engagement to upload back into notebook for calculating mean\n",
    "\n",
    "df['Days Until Engagement'] = (df['4.13 Engagement Date'] - df['3.10 Enroll Date'])\n",
    "df['Days Until Engagement'].mean()\n",
    "d_o_e_avg = df['Days Until Engagement'].mean()"
   ]
  },
  {
   "cell_type": "code",
   "execution_count": 89,
   "metadata": {
    "colab": {
     "base_uri": "https://localhost:8080/",
     "height": 34
    },
    "colab_type": "code",
    "id": "nZXjBCEwdyOD",
    "outputId": "943bddcd-2453-4ef1-fa99-fb19f5dca357"
   },
   "outputs": [
    {
     "data": {
      "text/plain": [
       "Timedelta('2 days 16:00:00')"
      ]
     },
     "execution_count": 89,
     "metadata": {},
     "output_type": "execute_result"
    }
   ],
   "source": [
    "d_o_e_avg"
   ]
  },
  {
   "cell_type": "code",
   "execution_count": 90,
   "metadata": {
    "colab": {},
    "colab_type": "code",
    "id": "nzzWqRNuNWiM"
   },
   "outputs": [],
   "source": [
    "# create new excel sheet with the days enrolled until engagement to upload back into notebook for calculating mean \n",
    "#(df['4.13 Engagement Date'] - df['3.10 Enroll Date']).to_excel('/content/drive/My Drive/FPS Weekly Data Colabs/YTD Data/ytdDOE.xlsx', header=False, index=False)"
   ]
  },
  {
   "cell_type": "code",
   "execution_count": 91,
   "metadata": {
    "colab": {},
    "colab_type": "code",
    "id": "xX3f7O4QD3y9"
   },
   "outputs": [],
   "source": [
    "# create new column with total amount of guests for year\n",
    "df['Total Guests'] = df['5.8 Personal ID'].drop_duplicates().count()"
   ]
  },
  {
   "cell_type": "code",
   "execution_count": 92,
   "metadata": {
    "colab": {},
    "colab_type": "code",
    "id": "SWNpBE43LjeR"
   },
   "outputs": [],
   "source": [
    "# create new column with count of unique households\n",
    "df['Total Households'] = df['5.9 Household ID'].drop_duplicates().count()\n",
    "\n",
    "# create new column with total amount of guests for year\n",
    "df['Total Guests'] = df['5.8 Personal ID'].drop_duplicates().count()\n"
   ]
  },
  {
   "cell_type": "code",
   "execution_count": 93,
   "metadata": {
    "colab": {
     "base_uri": "https://localhost:8080/",
     "height": 34
    },
    "colab_type": "code",
    "id": "LDr67Q7Qma3v",
    "outputId": "30beb743-1561-43ee-b8d8-b413c775c825"
   },
   "outputs": [
    {
     "data": {
      "text/plain": [
       "635"
      ]
     },
     "execution_count": 93,
     "metadata": {},
     "output_type": "execute_result"
    }
   ],
   "source": [
    "df['5.8 Personal ID'].count()"
   ]
  },
  {
   "cell_type": "code",
   "execution_count": 94,
   "metadata": {
    "colab": {
     "base_uri": "https://localhost:8080/",
     "height": 34
    },
    "colab_type": "code",
    "id": "lhlau-lkmMz6",
    "outputId": "af2ba75d-e89c-4099-aded-320ff15f6dbc"
   },
   "outputs": [
    {
     "data": {
      "text/plain": [
       "595"
      ]
     },
     "execution_count": 94,
     "metadata": {},
     "output_type": "execute_result"
    }
   ],
   "source": [
    "df['5.8 Personal ID'].drop_duplicates().count()"
   ]
  },
  {
   "cell_type": "code",
   "execution_count": 95,
   "metadata": {
    "colab": {
     "base_uri": "https://localhost:8080/",
     "height": 118
    },
    "colab_type": "code",
    "id": "4LeVqcwbnQqY",
    "outputId": "fda7ff65-c599-4f85-ce6a-743d3675dd54"
   },
   "outputs": [
    {
     "data": {
      "text/plain": [
       "0    22\n",
       "1    28\n",
       "2     5\n",
       "3    26\n",
       "4     6\n",
       "Name: Age at Enrollment, dtype: int64"
      ]
     },
     "execution_count": 95,
     "metadata": {},
     "output_type": "execute_result"
    }
   ],
   "source": [
    "df['Age at Enrollment'].head()"
   ]
  },
  {
   "cell_type": "code",
   "execution_count": 35,
   "metadata": {},
   "outputs": [],
   "source": [
    "adults = df[df['Age at Enrollment'] > 17.0]"
   ]
  },
  {
   "cell_type": "code",
   "execution_count": 36,
   "metadata": {},
   "outputs": [
    {
     "data": {
      "text/plain": [
       "Physical Disability    65\n",
       "Name: 4.05 Physical Disability, dtype: int64"
      ]
     },
     "execution_count": 36,
     "metadata": {},
     "output_type": "execute_result"
    }
   ],
   "source": [
    "adults['4.05 Physical Disability'].value_counts()"
   ]
  },
  {
   "cell_type": "code",
   "execution_count": 37,
   "metadata": {},
   "outputs": [
    {
     "data": {
      "text/plain": [
       "Chronic Health    77\n",
       "Name: 4.07 Chronic Health Condition, dtype: int64"
      ]
     },
     "execution_count": 37,
     "metadata": {},
     "output_type": "execute_result"
    }
   ],
   "source": [
    "adults['4.07 Chronic Health Condition'].value_counts()"
   ]
  },
  {
   "cell_type": "code",
   "execution_count": 38,
   "metadata": {},
   "outputs": [
    {
     "data": {
      "text/plain": [
       "Developmental Disability    37\n",
       "Name: 4.06 Developmental Disability, dtype: int64"
      ]
     },
     "execution_count": 38,
     "metadata": {},
     "output_type": "execute_result"
    }
   ],
   "source": [
    "adults['4.06 Developmental Disability'].value_counts()"
   ]
  },
  {
   "cell_type": "code",
   "execution_count": 39,
   "metadata": {},
   "outputs": [
    {
     "data": {
      "text/plain": [
       "179"
      ]
     },
     "execution_count": 39,
     "metadata": {},
     "output_type": "execute_result"
    }
   ],
   "source": [
    "65+77+37"
   ]
  },
  {
   "cell_type": "code",
   "execution_count": 28,
   "metadata": {},
   "outputs": [],
   "source": [
    "minors = df[df['Age at Enrollment'] <= 17.0]"
   ]
  },
  {
   "cell_type": "code",
   "execution_count": 30,
   "metadata": {},
   "outputs": [
    {
     "data": {
      "text/plain": [
       "Physical Disability    6\n",
       "Name: 4.05 Physical Disability, dtype: int64"
      ]
     },
     "execution_count": 30,
     "metadata": {},
     "output_type": "execute_result"
    }
   ],
   "source": [
    "minors['4.05 Physical Disability'].value_counts()"
   ]
  },
  {
   "cell_type": "code",
   "execution_count": 31,
   "metadata": {},
   "outputs": [
    {
     "data": {
      "text/plain": [
       "Chronic Health    15\n",
       "Name: 4.07 Chronic Health Condition, dtype: int64"
      ]
     },
     "execution_count": 31,
     "metadata": {},
     "output_type": "execute_result"
    }
   ],
   "source": [
    "minors['4.07 Chronic Health Condition'].value_counts()"
   ]
  },
  {
   "cell_type": "code",
   "execution_count": 32,
   "metadata": {},
   "outputs": [
    {
     "data": {
      "text/plain": [
       "Developmental Disability    33\n",
       "Name: 4.06 Developmental Disability, dtype: int64"
      ]
     },
     "execution_count": 32,
     "metadata": {},
     "output_type": "execute_result"
    }
   ],
   "source": [
    "minors['4.06 Developmental Disability'].value_counts()"
   ]
  },
  {
   "cell_type": "code",
   "execution_count": 33,
   "metadata": {},
   "outputs": [
    {
     "data": {
      "text/plain": [
       "54"
      ]
     },
     "execution_count": 33,
     "metadata": {},
     "output_type": "execute_result"
    }
   ],
   "source": [
    "6+15+33\n"
   ]
  },
  {
   "cell_type": "code",
   "execution_count": 8,
   "metadata": {
    "colab": {},
    "colab_type": "code",
    "id": "E1WUfPg2nDYD"
   },
   "outputs": [],
   "source": [
    "df['is_minor'] = df['Age at Enrollment'] <= 17.0"
   ]
  },
  {
   "cell_type": "code",
   "execution_count": 12,
   "metadata": {},
   "outputs": [],
   "source": [
    "df['under_6'] = df['Age at Enrollment'] < 6"
   ]
  },
  {
   "cell_type": "code",
   "execution_count": 13,
   "metadata": {},
   "outputs": [
    {
     "data": {
      "text/plain": [
       "False    611\n",
       "True     196\n",
       "Name: under_6, dtype: int64"
      ]
     },
     "execution_count": 13,
     "metadata": {},
     "output_type": "execute_result"
    }
   ],
   "source": [
    "df['under_6'].value_counts(normalize=False)"
   ]
  },
  {
   "cell_type": "code",
   "execution_count": 11,
   "metadata": {
    "colab": {
     "base_uri": "https://localhost:8080/",
     "height": 67
    },
    "colab_type": "code",
    "id": "wGagRgrnnx7M",
    "outputId": "ed308704-1cab-4fb2-dc03-73ad03a71d4a"
   },
   "outputs": [
    {
     "data": {
      "text/plain": [
       "True     415\n",
       "False    392\n",
       "Name: is_minor, dtype: int64"
      ]
     },
     "execution_count": 11,
     "metadata": {},
     "output_type": "execute_result"
    }
   ],
   "source": [
    "df['is_minor'].value_counts(normalize=False)"
   ]
  },
  {
   "cell_type": "code",
   "execution_count": 40,
   "metadata": {},
   "outputs": [
    {
     "data": {
      "text/plain": [
       "Non-Hispanic/Latino    730\n",
       "Hispanic/Latino         66\n",
       "Client refused           9\n",
       "Client doesn't know      2\n",
       "Name: 3.5 Ethnicity, dtype: int64"
      ]
     },
     "execution_count": 40,
     "metadata": {},
     "output_type": "execute_result"
    }
   ],
   "source": [
    "df['3.5 Ethnicity'].value_counts()"
   ]
  },
  {
   "cell_type": "code",
   "execution_count": 41,
   "metadata": {},
   "outputs": [
    {
     "data": {
      "text/plain": [
       "White                                        469\n",
       "Black or African American                     96\n",
       "American Indian or Alaska Native              90\n",
       "Multi-Racial                                  80\n",
       "Native Hawaiian or Other Pacific Islander     57\n",
       "Client refused                                13\n",
       "Client doesn't know                            2\n",
       "Name: 3.4 Race, dtype: int64"
      ]
     },
     "execution_count": 41,
     "metadata": {},
     "output_type": "execute_result"
    }
   ],
   "source": [
    "df['3.4 Race'].value_counts()"
   ]
  },
  {
   "cell_type": "code",
   "execution_count": 43,
   "metadata": {},
   "outputs": [
    {
     "data": {
      "text/plain": [
       "Place not meant for habitation                                                                                          0.308483\n",
       "Hotel or motel paid for without emergency shelter voucher                                                               0.164524\n",
       "Staying or living in a family member's room, apartment or house                                                         0.141388\n",
       "Staying or living in a friend's room, apartment or house                                                                0.131105\n",
       "Rental by client, no ongoing housing subsidy                                                                            0.097686\n",
       "Client refused                                                                                                          0.071979\n",
       "Emergency shelter, including hotel or motel paid for with emergency shelter voucher, or RHY-funded Host Home shelter    0.071979\n",
       "Hospital or other residential non-psychiatric medical facility                                                          0.005141\n",
       "Jail, prison or juvenile detention facility                                                                             0.002571\n",
       "Rental by client, with other ongoing housing subsidy                                                                    0.002571\n",
       "Substance abuse treatment facility or detox center                                                                      0.002571\n",
       "Name: 3.917 Living Situation, dtype: float64"
      ]
     },
     "execution_count": 43,
     "metadata": {},
     "output_type": "execute_result"
    }
   ],
   "source": [
    "df['3.917 Living Situation'].value_counts(normalize=True)"
   ]
  },
  {
   "cell_type": "code",
   "execution_count": 44,
   "metadata": {},
   "outputs": [
    {
     "data": {
      "text/plain": [
       "Series([], Name: 3.917b Stayed Less Than 7 Nights, dtype: int64)"
      ]
     },
     "execution_count": 44,
     "metadata": {},
     "output_type": "execute_result"
    }
   ],
   "source": [
    "df['3.917b Stayed Less Than 7 Nights'].value_counts()"
   ]
  },
  {
   "cell_type": "code",
   "execution_count": 49,
   "metadata": {},
   "outputs": [],
   "source": [
    "less_than_7 = df[df['Count of Bed Nights (Housing Check-ins)'] < 7]"
   ]
  },
  {
   "cell_type": "code",
   "execution_count": 50,
   "metadata": {},
   "outputs": [
    {
     "data": {
      "text/plain": [
       "Client refused                                                                                                          166\n",
       "No exit interview completed                                                                                              38\n",
       "Rental by client with RRH or equivalent subsidy                                                                          27\n",
       "Emergency shelter, including hotel or motel paid for with emergency shelter voucher, or RHY-funded Host Home shelter     18\n",
       "Transitional Housing for homeless persons (including homeless youth)                                                     12\n",
       "Rental by client, no ongoing housing subsidy                                                                              6\n",
       "Staying or living with family, permanent tenure                                                                           6\n",
       "Staying or living with family, temporary tenure (e.g., room, apartment or house)                                          4\n",
       "Staying or living with friends, permanent tenure                                                                          2\n",
       "Name: 3.12 Exit Destination, dtype: int64"
      ]
     },
     "execution_count": 50,
     "metadata": {},
     "output_type": "execute_result"
    }
   ],
   "source": [
    "less_than_7['3.12 Exit Destination'].value_counts()"
   ]
  },
  {
   "cell_type": "code",
   "execution_count": 98,
   "metadata": {
    "colab": {
     "base_uri": "https://localhost:8080/",
     "height": 34
    },
    "colab_type": "code",
    "id": "zvnkkT16ocYV",
    "outputId": "633215f8-9f91-4014-c548-4c0cb3e87121"
   },
   "outputs": [
    {
     "data": {
      "text/plain": [
       "58.7733"
      ]
     },
     "execution_count": 98,
     "metadata": {},
     "output_type": "execute_result"
    }
   ],
   "source": [
    "# 839 total\n",
    "\n",
    "# minors percent = 51.25\n",
    "# adults percent = 48.75\n",
    "\n",
    "# exit to perm adults = 101\n",
    "# exit to perm kids = 106\n",
    "# exit to temp adults = 21\n",
    "# exit to temp kids = 22\n",
    "# exit to ES adults = 59 \n",
    "# exut to ES kids = 62 \n",
    "\n",
    ".1437 * 409"
   ]
  },
  {
   "cell_type": "markdown",
   "metadata": {
    "colab_type": "text",
    "id": "hJrozA6GoGNh"
   },
   "source": [
    "Exit to Perm percent: 24.617737003058103 %\n",
    "Unknown Exit percent: 45.87 %\n",
    "Temp Exit percent: 5.05 %\n",
    "\n",
    "Exits to ES percent: 14.37 %\n",
    "Exits to Transitional 5.05 %"
   ]
  },
  {
   "cell_type": "code",
   "execution_count": 99,
   "metadata": {
    "colab": {},
    "colab_type": "code",
    "id": "7GIG1mTpkfay"
   },
   "outputs": [],
   "source": [
    "def served(X):\n",
    "  X = X.copy()\n",
    "  return(X['5.8 Personal ID'].value_counts().unique().sum())"
   ]
  },
  {
   "cell_type": "code",
   "execution_count": 100,
   "metadata": {
    "colab": {},
    "colab_type": "code",
    "id": "6monHQzwm_xN"
   },
   "outputs": [],
   "source": [
    "def served_h(X):\n",
    "  X = X.copy()\n",
    "  return(X['5.9 Household ID'].value_counts().unique().sum())\n"
   ]
  },
  {
   "cell_type": "code",
   "execution_count": 101,
   "metadata": {
    "colab": {
     "base_uri": "https://localhost:8080/",
     "height": 34
    },
    "colab_type": "code",
    "id": "Uxy-4fI7nDK3",
    "outputId": "429b9433-b7dd-47ec-91e2-3cca81f4ab6e"
   },
   "outputs": [
    {
     "data": {
      "text/plain": [
       "6"
      ]
     },
     "execution_count": 101,
     "metadata": {},
     "output_type": "execute_result"
    }
   ],
   "source": [
    "served(df)"
   ]
  },
  {
   "cell_type": "code",
   "execution_count": 102,
   "metadata": {
    "colab": {
     "base_uri": "https://localhost:8080/",
     "height": 34
    },
    "colab_type": "code",
    "id": "9A-yGbD_nKtc",
    "outputId": "fda466af-09cb-4a4f-dfcd-7d5d9f51bf9a"
   },
   "outputs": [
    {
     "data": {
      "text/plain": [
       "28"
      ]
     },
     "execution_count": 102,
     "metadata": {},
     "output_type": "execute_result"
    }
   ],
   "source": [
    "served_h(df)"
   ]
  },
  {
   "cell_type": "code",
   "execution_count": 103,
   "metadata": {
    "colab": {
     "base_uri": "https://localhost:8080/",
     "height": 50
    },
    "colab_type": "code",
    "id": "e7n-NXIpJMgx",
    "outputId": "751421fc-84a2-4451-c725-04d23577b97a"
   },
   "outputs": [
    {
     "name": "stdout",
     "output_type": "stream",
     "text": [
      "Yes\n",
      "No\n"
     ]
    }
   ],
   "source": [
    "totalHouseholds = df.iloc[1, 120]\n",
    "totalGuests = df.iloc[1, 119]\n",
    "\n",
    "print(totalHouseholds)\n",
    "print(totalGuests)"
   ]
  },
  {
   "cell_type": "code",
   "execution_count": 104,
   "metadata": {
    "colab": {
     "base_uri": "https://localhost:8080/",
     "height": 229
    },
    "colab_type": "code",
    "id": "yN84mZypp9Nh",
    "outputId": "db134a33-5a8d-4c58-a529-800fb7a0a9a3"
   },
   "outputs": [
    {
     "ename": "ValueError",
     "evalue": "invalid literal for int() with base 10: 'Yes'",
     "output_type": "error",
     "traceback": [
      "\u001b[0;31m---------------------------------------------------------------------------\u001b[0m",
      "\u001b[0;31mValueError\u001b[0m                                Traceback (most recent call last)",
      "\u001b[0;32m<ipython-input-104-45d686d9dc40>\u001b[0m in \u001b[0;36m<module>\u001b[0;34m\u001b[0m\n\u001b[1;32m     22\u001b[0m \u001b[0msheet1\u001b[0m\u001b[0;34m.\u001b[0m\u001b[0mwrite\u001b[0m\u001b[0;34m(\u001b[0m\u001b[0;36m7\u001b[0m\u001b[0;34m,\u001b[0m \u001b[0;36m1\u001b[0m\u001b[0;34m,\u001b[0m \u001b[0mavgChange\u001b[0m\u001b[0;34m)\u001b[0m\u001b[0;34m\u001b[0m\u001b[0;34m\u001b[0m\u001b[0m\n\u001b[1;32m     23\u001b[0m \u001b[0msheet1\u001b[0m\u001b[0;34m.\u001b[0m\u001b[0mwrite\u001b[0m\u001b[0;34m(\u001b[0m\u001b[0;36m8\u001b[0m\u001b[0;34m,\u001b[0m \u001b[0;36m0\u001b[0m\u001b[0;34m,\u001b[0m \u001b[0;34m'Total Households Served'\u001b[0m\u001b[0;34m)\u001b[0m\u001b[0;34m\u001b[0m\u001b[0;34m\u001b[0m\u001b[0m\n\u001b[0;32m---> 24\u001b[0;31m \u001b[0msheet1\u001b[0m\u001b[0;34m.\u001b[0m\u001b[0mwrite\u001b[0m\u001b[0;34m(\u001b[0m\u001b[0;36m8\u001b[0m\u001b[0;34m,\u001b[0m \u001b[0;36m1\u001b[0m\u001b[0;34m,\u001b[0m \u001b[0mint\u001b[0m\u001b[0;34m(\u001b[0m\u001b[0mtotalHouseholds\u001b[0m\u001b[0;34m)\u001b[0m\u001b[0;34m)\u001b[0m\u001b[0;34m\u001b[0m\u001b[0;34m\u001b[0m\u001b[0m\n\u001b[0m\u001b[1;32m     25\u001b[0m \u001b[0msheet1\u001b[0m\u001b[0;34m.\u001b[0m\u001b[0mwrite\u001b[0m\u001b[0;34m(\u001b[0m\u001b[0;36m9\u001b[0m\u001b[0;34m,\u001b[0m \u001b[0;36m0\u001b[0m\u001b[0;34m,\u001b[0m \u001b[0;34m'Total Guests Served'\u001b[0m\u001b[0;34m)\u001b[0m\u001b[0;34m\u001b[0m\u001b[0;34m\u001b[0m\u001b[0m\n\u001b[1;32m     26\u001b[0m \u001b[0msheet1\u001b[0m\u001b[0;34m.\u001b[0m\u001b[0mwrite\u001b[0m\u001b[0;34m(\u001b[0m\u001b[0;36m9\u001b[0m\u001b[0;34m,\u001b[0m \u001b[0;36m1\u001b[0m\u001b[0;34m,\u001b[0m \u001b[0mint\u001b[0m\u001b[0;34m(\u001b[0m\u001b[0mtotalGuests\u001b[0m\u001b[0;34m)\u001b[0m\u001b[0;34m)\u001b[0m\u001b[0;34m\u001b[0m\u001b[0;34m\u001b[0m\u001b[0m\n",
      "\u001b[0;31mValueError\u001b[0m: invalid literal for int() with base 10: 'Yes'"
     ]
    }
   ],
   "source": [
    "# Workbook is created \n",
    "wb = Workbook() \n",
    "  \n",
    "# add_sheet is used to create sheet. \n",
    "sheet1 = wb.add_sheet('Sheet 1') \n",
    "  \n",
    "sheet1.write(0, 0, 'Permanent Housing') \n",
    "sheet1.write(0, 1, round(perm_final_percent*100,2))\n",
    "sheet1.write(1, 0, 'Emergency Shelter') \n",
    "sheet1.write(1, 1, esExits) \n",
    "sheet1.write(2, 0, 'Temporary Housing') \n",
    "sheet1.write(2, 1, tempExits) \n",
    "sheet1.write(3, 0, 'Transitional Housing') \n",
    "sheet1.write(3, 1, transExits) \n",
    "sheet1.write(4, 0, 'Guest left without completing exit survey') \n",
    "sheet1.write(4, 1, unknownExits) \n",
    "sheet1.write(5, 0, 'Average Bednights')\n",
    "sheet1.write(5, 1, avgBedNights)\n",
    "sheet1.write(6, 0, 'Average Days Enrolled')\n",
    "sheet1.write(6, 1, avgDaysEnrolled)\n",
    "sheet1.write(7, 0, 'Average Change in Income per Household')\n",
    "sheet1.write(7, 1, avgChange)\n",
    "sheet1.write(8, 0, 'Total Households Served')\n",
    "sheet1.write(8, 1, int(totalHouseholds))\n",
    "sheet1.write(9, 0, 'Total Guests Served')\n",
    "sheet1.write(9, 1, int(totalGuests))\n",
    "\n",
    "wb.save('/content/drive/My Drive/FPS Weekly Data Colabs/YTD Data/weeklyYtdData.xls')"
   ]
  },
  {
   "cell_type": "code",
   "execution_count": null,
   "metadata": {
    "colab": {},
    "colab_type": "code",
    "id": "Fme1j0wCaD5T"
   },
   "outputs": [],
   "source": [
    "# get list of currently enrolled guests (guests that don't have an exit date)\n",
    "currently_enrolled = df[df['3.11 Exit Date'].isnull()]"
   ]
  },
  {
   "cell_type": "code",
   "execution_count": null,
   "metadata": {
    "colab": {},
    "colab_type": "code",
    "id": "_9oOwsJkZclG"
   },
   "outputs": [],
   "source": [
    "# create new list of those currently enrolled who haven't stayed with us for\n",
    "# two weeks or more\n",
    "need_to_exit = currently_enrolled[currently_enrolled['Date of Last ES Stay (Beta)'] < pd.to_datetime('2019-11-10')] "
   ]
  },
  {
   "cell_type": "code",
   "execution_count": null,
   "metadata": {
    "colab": {},
    "colab_type": "code",
    "id": "yVaLUAhadeeQ"
   },
   "outputs": [],
   "source": [
    "need_to_exit.shape"
   ]
  },
  {
   "cell_type": "code",
   "execution_count": null,
   "metadata": {
    "colab": {},
    "colab_type": "code",
    "id": "G_58DZUTekxT"
   },
   "outputs": [],
   "source": [
    "# make list of last names and HMIS number so team can find them and exit them\n",
    "\n",
    "last_names = need_to_exit['3.1 LastName']\n",
    "hmis = need_to_exit['5.8 Personal ID']\n",
    "\n",
    "print_list = pd.concat([last_names, hmis], axis=1)"
   ]
  },
  {
   "cell_type": "code",
   "execution_count": null,
   "metadata": {
    "colab": {},
    "colab_type": "code",
    "id": "6j8TBTqrgNTL"
   },
   "outputs": [],
   "source": [
    "# send to excel sheet to download and share\n",
    "print_list.to_excel('/content/exit_list.xlsx', index=None)"
   ]
  },
  {
   "cell_type": "code",
   "execution_count": 18,
   "metadata": {},
   "outputs": [
    {
     "data": {
      "text/plain": [
       "No                    388\n",
       "Yes                    13\n",
       "Client refused          4\n",
       "Data Not Collected      1\n",
       "Name: 3.7 Veteran Status, dtype: int64"
      ]
     },
     "execution_count": 18,
     "metadata": {},
     "output_type": "execute_result"
    }
   ],
   "source": [
    "df['3.7 Veteran Status'].value_counts(normalize=False)"
   ]
  },
  {
   "cell_type": "code",
   "execution_count": 27,
   "metadata": {},
   "outputs": [
    {
     "data": {
      "text/plain": [
       "True    807\n",
       "Name: R10 Pregnancy Status, dtype: int64"
      ]
     },
     "execution_count": 27,
     "metadata": {},
     "output_type": "execute_result"
    }
   ],
   "source": [
    "df['R10 Pregnancy Status'].isnull().value_counts()"
   ]
  },
  {
   "cell_type": "code",
   "execution_count": null,
   "metadata": {},
   "outputs": [],
   "source": []
  }
 ],
 "metadata": {
  "colab": {
   "collapsed_sections": [],
   "include_colab_link": true,
   "name": "Last Updated YTD Data",
   "provenance": []
  },
  "kernelspec": {
   "display_name": "Python 3",
   "language": "python",
   "name": "python3"
  },
  "language_info": {
   "codemirror_mode": {
    "name": "ipython",
    "version": 3
   },
   "file_extension": ".py",
   "mimetype": "text/x-python",
   "name": "python",
   "nbconvert_exporter": "python",
   "pygments_lexer": "ipython3",
   "version": "3.6.9"
  }
 },
 "nbformat": 4,
 "nbformat_minor": 1
}
