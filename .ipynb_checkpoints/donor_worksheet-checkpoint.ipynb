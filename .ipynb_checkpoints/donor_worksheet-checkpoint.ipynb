{
 "cells": [
  {
   "cell_type": "code",
   "execution_count": 1,
   "metadata": {},
   "outputs": [],
   "source": [
    "\n",
    "%%capture\n",
    "import sys\n",
    "\n",
    "# If you're on Colab:\n",
    "if 'google.colab' in sys.modules:\n",
    "    DATA_PATH = 'https://raw.githubusercontent.com/LambdaSchool/DS-Unit-2-Applied-Modeling/master/data/'\n",
    "    !pip install category_encoders==2.*\n",
    "    !pip install eli5\n",
    "    !pip install pdpbox\n",
    "    !pip install shap\n",
    "\n",
    "# If you're working locally:\n",
    "else:\n",
    "    DATA_PATH = '../data/'"
   ]
  },
  {
   "cell_type": "code",
   "execution_count": 11,
   "metadata": {},
   "outputs": [
    {
     "name": "stdout",
     "output_type": "stream",
     "text": [
      "Collecting xlrd\n",
      "  Downloading https://files.pythonhosted.org/packages/b0/16/63576a1a001752e34bf8ea62e367997530dc553b689356b9879339cf45a4/xlrd-1.2.0-py2.py3-none-any.whl (103kB)\n",
      "\u001b[K    100% |████████████████████████████████| 112kB 1.8MB/s ta 0:00:01\n",
      "\u001b[?25hInstalling collected packages: xlrd\n",
      "Successfully installed xlrd-1.2.0\n",
      "Note: you may need to restart the kernel to use updated packages.\n"
     ]
    }
   ],
   "source": [
    "pip install xlrd"
   ]
  },
  {
   "cell_type": "code",
   "execution_count": 2,
   "metadata": {},
   "outputs": [],
   "source": [
    "# section to import functions/libraries that allows me to work with the data\n",
    "\n",
    "import pandas as pd\n",
    "import numpy as np\n",
    "import matplotlib.pyplot as plt\n",
    "import seaborn as sns"
   ]
  },
  {
   "cell_type": "code",
   "execution_count": 13,
   "metadata": {
    "colab": {},
    "colab_type": "code",
    "id": "TIc0-8BDHVRu"
   },
   "outputs": [],
   "source": [
    "# import an 'all donors' dataframe\n",
    "#all_donors = pd.read_excel('/content/all_donors.xlsx')\n",
    "\n",
    "# import an 'all major prospects' data fra\n",
    "df = pd.read_excel('~/environments/fp_env/family_promise_data/data/Donation Verification Document  (2).xlsx')\n",
    "\n",
    "\n",
    "#df = pd.read_excel(DATA_PATH+'/Unit_2_project_data.xlsx')"
   ]
  },
  {
   "cell_type": "code",
   "execution_count": 14,
   "metadata": {
    "colab": {
     "base_uri": "https://localhost:8080/",
     "height": 33
    },
    "colab_type": "code",
    "id": "JHjTBzNDHiQY",
    "outputId": "42cac6ec-60f6-4138-f2de-b09d0cc8b29a",
    "scrolled": true
   },
   "outputs": [
    {
     "data": {
      "text/html": [
       "<div>\n",
       "<style scoped>\n",
       "    .dataframe tbody tr th:only-of-type {\n",
       "        vertical-align: middle;\n",
       "    }\n",
       "\n",
       "    .dataframe tbody tr th {\n",
       "        vertical-align: top;\n",
       "    }\n",
       "\n",
       "    .dataframe thead th {\n",
       "        text-align: right;\n",
       "    }\n",
       "</style>\n",
       "<table border=\"1\" class=\"dataframe\">\n",
       "  <thead>\n",
       "    <tr style=\"text-align: right;\">\n",
       "      <th></th>\n",
       "      <th>First Name</th>\n",
       "      <th>Last Name</th>\n",
       "      <th>Gift Date</th>\n",
       "      <th>Reference No.</th>\n",
       "      <th>Gift Amount</th>\n",
       "      <th>Billing Address</th>\n",
       "      <th>City</th>\n",
       "      <th>State</th>\n",
       "      <th>Zip Code</th>\n",
       "      <th>Email Address</th>\n",
       "      <th>...</th>\n",
       "      <th>Unnamed: 22</th>\n",
       "      <th>Unnamed: 23</th>\n",
       "      <th>Unnamed: 24</th>\n",
       "      <th>Unnamed: 25</th>\n",
       "      <th>Unnamed: 26</th>\n",
       "      <th>Unnamed: 27</th>\n",
       "      <th>Unnamed: 28</th>\n",
       "      <th>Unnamed: 29</th>\n",
       "      <th>Unnamed: 30</th>\n",
       "      <th>Unnamed: 31</th>\n",
       "    </tr>\n",
       "  </thead>\n",
       "  <tbody>\n",
       "  </tbody>\n",
       "</table>\n",
       "<p>0 rows × 32 columns</p>\n",
       "</div>"
      ],
      "text/plain": [
       "Empty DataFrame\n",
       "Columns: [First Name, Last Name, Gift Date, Reference No., Gift Amount , Billing Address, City, State, Zip Code, Email Address, Phone Number, Program/Division, Fund/Product/Service, Campaign/Deposit To, Soft Credit, Gift Memo, Mode of Payment , Thank You Letter Written, Recorded in Fundly, Recorded in QBO, Unnamed: 20, Unnamed: 21, Unnamed: 22, Unnamed: 23, Unnamed: 24, Unnamed: 25, Unnamed: 26, Unnamed: 27, Unnamed: 28, Unnamed: 29, Unnamed: 30, Unnamed: 31]\n",
       "Index: []\n",
       "\n",
       "[0 rows x 32 columns]"
      ]
     },
     "execution_count": 14,
     "metadata": {},
     "output_type": "execute_result"
    }
   ],
   "source": [
    "df.head(0)"
   ]
  },
  {
   "cell_type": "code",
   "execution_count": 15,
   "metadata": {
    "scrolled": true
   },
   "outputs": [
    {
     "data": {
      "text/plain": [
       "Index(['First Name', 'Last Name', 'Gift Date', 'Reference No.', 'Gift Amount ',\n",
       "       'Billing Address', 'City', 'State', 'Zip Code', 'Email Address',\n",
       "       'Phone Number', 'Program/Division', 'Fund/Product/Service',\n",
       "       'Campaign/Deposit To', 'Soft Credit', 'Gift Memo', 'Mode of Payment ',\n",
       "       'Thank You Letter Written', 'Recorded in Fundly', 'Recorded in QBO',\n",
       "       'Unnamed: 20', 'Unnamed: 21', 'Unnamed: 22', 'Unnamed: 23',\n",
       "       'Unnamed: 24', 'Unnamed: 25', 'Unnamed: 26', 'Unnamed: 27',\n",
       "       'Unnamed: 28', 'Unnamed: 29', 'Unnamed: 30', 'Unnamed: 31'],\n",
       "      dtype='object')"
      ]
     },
     "execution_count": 15,
     "metadata": {},
     "output_type": "execute_result"
    }
   ],
   "source": [
    "df.columns"
   ]
  },
  {
   "cell_type": "code",
   "execution_count": 16,
   "metadata": {
    "colab": {},
    "colab_type": "code",
    "id": "YvxL44ZAHpNu"
   },
   "outputs": [
    {
     "data": {
      "text/plain": [
       "Individual                           1252\n",
       "Congregations                         122\n",
       "Corporate/Organization/Foundation     121\n",
       "Rent Income                            30\n",
       "`                                       1\n",
       "Corporation                             1\n",
       " Individual                             1\n",
       "Name: Fund/Product/Service, dtype: int64"
      ]
     },
     "execution_count": 16,
     "metadata": {},
     "output_type": "execute_result"
    }
   ],
   "source": [
    "df['Fund/Product/Service'].value_counts()"
   ]
  },
  {
   "cell_type": "code",
   "execution_count": 9,
   "metadata": {
    "colab": {
     "base_uri": "https://localhost:8080/",
     "height": 212
    },
    "colab_type": "code",
    "id": "oZRMAnAxH7b3",
    "outputId": "7083cd49-0c64-4888-e2d7-5074c38d36a9"
   },
   "outputs": [
    {
     "data": {
      "text/plain": [
       "0              Adam Oakley\n",
       "1              Amanda Swan\n",
       "2             Angie Hopson\n",
       "3      Dr. Arnold Peterson\n",
       "4              Ashlie Beal\n",
       "              ...         \n",
       "114             Terry Deno\n",
       "115           Terry Thoren\n",
       "116           Thomas Allen\n",
       "117            Tom Clemson\n",
       "118          Traci Hanegan\n",
       "Name: 0, Length: 119, dtype: object"
      ]
     },
     "execution_count": 9,
     "metadata": {
      "tags": []
     },
     "output_type": "execute_result"
    }
   ],
   "source": [
    "# print that array\n",
    "maj_pros_list"
   ]
  },
  {
   "cell_type": "code",
   "execution_count": 0,
   "metadata": {
    "colab": {},
    "colab_type": "code",
    "id": "ZJbW3sgWIAfe"
   },
   "outputs": [],
   "source": [
    "# create new dataframe that has base of all donors but removed any name \n",
    "# from the all donors list if that name is also on the major prospects list\n",
    "\n",
    "new_df = all_donors[~all_donors['Contact Name'].isin(maj_pros_list)]"
   ]
  },
  {
   "cell_type": "code",
   "execution_count": 11,
   "metadata": {
    "colab": {
     "base_uri": "https://localhost:8080/",
     "height": 33
    },
    "colab_type": "code",
    "id": "ZHsDMxq-Lf9i",
    "outputId": "43762551-4b6b-4250-9031-f2ae7b86eb59"
   },
   "outputs": [
    {
     "data": {
      "text/plain": [
       "(890, 10)"
      ]
     },
     "execution_count": 11,
     "metadata": {
      "tags": []
     },
     "output_type": "execute_result"
    }
   ],
   "source": [
    "new_df.shape"
   ]
  },
  {
   "cell_type": "code",
   "execution_count": 0,
   "metadata": {
    "colab": {},
    "colab_type": "code",
    "id": "l1BSm2gUMCWn"
   },
   "outputs": [],
   "source": [
    "# export that redacted list into an excel file\n",
    "new_df.to_excel(\"/content/redacted.xlsx\")"
   ]
  },
  {
   "cell_type": "code",
   "execution_count": 7,
   "metadata": {
    "colab": {
     "base_uri": "https://localhost:8080/",
     "height": 191
    },
    "colab_type": "code",
    "id": "FmNN3U--KMgj",
    "outputId": "8731cc73-f0e1-4cfc-898b-a10c1a04996a",
    "scrolled": true
   },
   "outputs": [
    {
     "data": {
      "text/html": [
       "<div>\n",
       "<style scoped>\n",
       "    .dataframe tbody tr th:only-of-type {\n",
       "        vertical-align: middle;\n",
       "    }\n",
       "\n",
       "    .dataframe tbody tr th {\n",
       "        vertical-align: top;\n",
       "    }\n",
       "\n",
       "    .dataframe thead th {\n",
       "        text-align: right;\n",
       "    }\n",
       "</style>\n",
       "<table border=\"1\" class=\"dataframe\">\n",
       "  <thead>\n",
       "    <tr style=\"text-align: right;\">\n",
       "      <th></th>\n",
       "      <th>First Name</th>\n",
       "      <th>Last Name</th>\n",
       "      <th>Gift Date</th>\n",
       "      <th>Reference No.</th>\n",
       "      <th>Gift Amount</th>\n",
       "      <th>Billing Address</th>\n",
       "      <th>City</th>\n",
       "      <th>State</th>\n",
       "      <th>Zip Code</th>\n",
       "      <th>Email Address</th>\n",
       "      <th>...</th>\n",
       "      <th>Unnamed: 22</th>\n",
       "      <th>Unnamed: 23</th>\n",
       "      <th>Unnamed: 24</th>\n",
       "      <th>Unnamed: 25</th>\n",
       "      <th>Unnamed: 26</th>\n",
       "      <th>Unnamed: 27</th>\n",
       "      <th>Unnamed: 28</th>\n",
       "      <th>Unnamed: 29</th>\n",
       "      <th>Unnamed: 30</th>\n",
       "      <th>Unnamed: 31</th>\n",
       "    </tr>\n",
       "  </thead>\n",
       "  <tbody>\n",
       "  </tbody>\n",
       "</table>\n",
       "<p>0 rows × 32 columns</p>\n",
       "</div>"
      ],
      "text/plain": [
       "Empty DataFrame\n",
       "Columns: [First Name, Last Name, Gift Date, Reference No., Gift Amount , Billing Address, City, State, Zip Code, Email Address, Phone Number, Program/Division, Fund/Product/Service, Campaign/Deposit To, Soft Credit, Gift Memo, Mode of Payment , Thank You Letter Written, Recorded in Fundly, Recorded in QBO, Unnamed: 20, Unnamed: 21, Unnamed: 22, Unnamed: 23, Unnamed: 24, Unnamed: 25, Unnamed: 26, Unnamed: 27, Unnamed: 28, Unnamed: 29, Unnamed: 30, Unnamed: 31]\n",
       "Index: []\n",
       "\n",
       "[0 rows x 32 columns]"
      ]
     },
     "execution_count": 7,
     "metadata": {},
     "output_type": "execute_result"
    }
   ],
   "source": [
    "df.head(0)"
   ]
  },
  {
   "cell_type": "code",
   "execution_count": 52,
   "metadata": {},
   "outputs": [
    {
     "data": {
      "text/plain": [
       "Index(['First Name', 'Last Name', 'Gift Date', 'Reference No.', 'Gift Amount ',\n",
       "       'Billing Address', 'City', 'State', 'Zip Code', 'Email Address',\n",
       "       'Phone Number', 'Program/Division', 'Fund/Product/Service',\n",
       "       'Campaign/Deposit To', 'Soft Credit', 'Gift Memo', 'Mode of Payment ',\n",
       "       'Thank You Letter Written', 'Recorded in Fundly', 'Recorded in QBO',\n",
       "       'Unnamed: 20', 'Unnamed: 21', 'Unnamed: 22', 'Unnamed: 23',\n",
       "       'Unnamed: 24', 'Unnamed: 25', 'Unnamed: 26', 'Unnamed: 27',\n",
       "       'Unnamed: 28', 'Unnamed: 29', 'Unnamed: 30', 'Unnamed: 31'],\n",
       "      dtype='object')"
      ]
     },
     "execution_count": 52,
     "metadata": {},
     "output_type": "execute_result"
    }
   ],
   "source": [
    "df.columns"
   ]
  },
  {
   "cell_type": "code",
   "execution_count": 54,
   "metadata": {
    "colab": {},
    "colab_type": "code",
    "id": "Vx0FmRbkOMEm"
   },
   "outputs": [],
   "source": [
    "# create new sheet for excel file that has sum of donation listed by each \n",
    "# donor's first, last, and full name\n",
    "new_df_pivot = pd.pivot_table(df, \n",
    "                              index=['First Name', 'Last Name', 'Billing Address', 'City', 'State', 'Zip Code'], \n",
    "                              values='Gift Amount ')"
   ]
  },
  {
   "cell_type": "code",
   "execution_count": 57,
   "metadata": {
    "scrolled": false
   },
   "outputs": [
    {
     "name": "stdout",
     "output_type": "stream",
     "text": [
      "Collecting openpyxl\n",
      "  Downloading https://files.pythonhosted.org/packages/f4/5f/fb8706fba43b46716e252fdd3ffdfe801a63a0f4663b80b6f3421d85ab70/openpyxl-3.0.2.tar.gz (172kB)\n",
      "\u001b[K    100% |████████████████████████████████| 174kB 2.6MB/s ta 0:00:01\n",
      "\u001b[?25hCollecting et_xmlfile (from openpyxl)\n",
      "  Downloading https://files.pythonhosted.org/packages/22/28/a99c42aea746e18382ad9fb36f64c1c1f04216f41797f2f0fa567da11388/et_xmlfile-1.0.1.tar.gz\n",
      "Collecting jdcal (from openpyxl)\n",
      "  Downloading https://files.pythonhosted.org/packages/f0/da/572cbc0bc582390480bbd7c4e93d14dc46079778ed915b505dc494b37c57/jdcal-1.4.1-py2.py3-none-any.whl\n",
      "Building wheels for collected packages: openpyxl, et-xmlfile\n",
      "  Running setup.py bdist_wheel for openpyxl ... \u001b[?25lerror\n",
      "  Complete output from command /home/iesous-kurios/environments/fp_env/bin/python3 -u -c \"import setuptools, tokenize;__file__='/tmp/pip-build-f6l5fixg/openpyxl/setup.py';f=getattr(tokenize, 'open', open)(__file__);code=f.read().replace('\\r\\n', '\\n');f.close();exec(compile(code, __file__, 'exec'))\" bdist_wheel -d /tmp/tmp_02pap7xpip-wheel- --python-tag cp36:\n",
      "  usage: -c [global_opts] cmd1 [cmd1_opts] [cmd2 [cmd2_opts] ...]\n",
      "     or: -c --help [cmd1 cmd2 ...]\n",
      "     or: -c --help-commands\n",
      "     or: -c cmd --help\n",
      "  \n",
      "  error: invalid command 'bdist_wheel'\n",
      "  \n",
      "  ----------------------------------------\n",
      "\u001b[31m  Failed building wheel for openpyxl\u001b[0m\n",
      "\u001b[?25h  Running setup.py clean for openpyxl\n",
      "  Running setup.py bdist_wheel for et-xmlfile ... \u001b[?25lerror\n",
      "  Complete output from command /home/iesous-kurios/environments/fp_env/bin/python3 -u -c \"import setuptools, tokenize;__file__='/tmp/pip-build-f6l5fixg/et-xmlfile/setup.py';f=getattr(tokenize, 'open', open)(__file__);code=f.read().replace('\\r\\n', '\\n');f.close();exec(compile(code, __file__, 'exec'))\" bdist_wheel -d /tmp/tmpx8_ik344pip-wheel- --python-tag cp36:\n",
      "  usage: -c [global_opts] cmd1 [cmd1_opts] [cmd2 [cmd2_opts] ...]\n",
      "     or: -c --help [cmd1 cmd2 ...]\n",
      "     or: -c --help-commands\n",
      "     or: -c cmd --help\n",
      "  \n",
      "  error: invalid command 'bdist_wheel'\n",
      "  \n",
      "  ----------------------------------------\n",
      "\u001b[31m  Failed building wheel for et-xmlfile\u001b[0m\n",
      "\u001b[?25h  Running setup.py clean for et-xmlfile\n",
      "Failed to build openpyxl et-xmlfile\n",
      "Installing collected packages: et-xmlfile, jdcal, openpyxl\n",
      "  Running setup.py install for et-xmlfile ... \u001b[?25ldone\n",
      "\u001b[?25h  Running setup.py install for openpyxl ... \u001b[?25ldone\n",
      "\u001b[?25hSuccessfully installed et-xmlfile-1.0.1 jdcal-1.4.1 openpyxl-3.0.2\n",
      "Note: you may need to restart the kernel to use updated packages.\n"
     ]
    }
   ],
   "source": [
    "pip install openpyxl"
   ]
  },
  {
   "cell_type": "code",
   "execution_count": 58,
   "metadata": {
    "colab": {},
    "colab_type": "code",
    "id": "PI2xABQ_OwPa"
   },
   "outputs": [],
   "source": [
    "# export that sheet into excel file \n",
    "new_df_pivot.to_excel('~/environments/fp_env/family_promise_data/data/pivot.xlsx')"
   ]
  },
  {
   "cell_type": "code",
   "execution_count": 8,
   "metadata": {},
   "outputs": [
    {
     "data": {
      "text/plain": [
       "Individual                           1165\n",
       "Corporate/Organization/Foundation     117\n",
       "Congregations                         114\n",
       "Rent Income                            29\n",
       " Individual                             1\n",
       "`                                       1\n",
       "Corporation                             1\n",
       "Name: Fund/Product/Service, dtype: int64"
      ]
     },
     "execution_count": 8,
     "metadata": {},
     "output_type": "execute_result"
    }
   ],
   "source": [
    "df['Fund/Product/Service'].value_counts()"
   ]
  },
  {
   "cell_type": "code",
   "execution_count": 18,
   "metadata": {
    "colab": {},
    "colab_type": "code",
    "id": "kpD4tPpoPY8x"
   },
   "outputs": [],
   "source": [
    "# create new data frame with only the individual donors\n",
    "# (this list also has anybody from the major prospects removed)\n",
    "ind_type = df[df['Fund/Product/Service'] == 'Individual']"
   ]
  },
  {
   "cell_type": "code",
   "execution_count": 53,
   "metadata": {
    "colab": {
     "base_uri": "https://localhost:8080/",
     "height": 191
    },
    "colab_type": "code",
    "id": "F-JSHuROLMkN",
    "outputId": "12857cf0-30c2-49e3-f123-692b62bbb76e",
    "scrolled": true
   },
   "outputs": [
    {
     "data": {
      "text/plain": [
       "(1165, 32)"
      ]
     },
     "execution_count": 53,
     "metadata": {},
     "output_type": "execute_result"
    }
   ],
   "source": [
    "ind_type.shape"
   ]
  },
  {
   "cell_type": "code",
   "execution_count": 54,
   "metadata": {},
   "outputs": [
    {
     "data": {
      "text/plain": [
       "Index(['First Name', 'Last Name', 'Gift Date', 'Reference No.', 'Gift Amount ',\n",
       "       'Billing Address', 'City', 'State', 'Zip Code', 'Email Address',\n",
       "       'Phone Number', 'Program/Division', 'Fund/Product/Service',\n",
       "       'Campaign/Deposit To', 'Soft Credit', 'Gift Memo', 'Mode of Payment ',\n",
       "       'Thank You Letter Written', 'Recorded in Fundly', 'Recorded in QBO',\n",
       "       'Unnamed: 20', 'Unnamed: 21', 'Unnamed: 22', 'Unnamed: 23',\n",
       "       'Unnamed: 24', 'Unnamed: 25', 'Unnamed: 26', 'Unnamed: 27',\n",
       "       'Unnamed: 28', 'Unnamed: 29', 'Unnamed: 30', 'Unnamed: 31'],\n",
       "      dtype='object')"
      ]
     },
     "execution_count": 54,
     "metadata": {},
     "output_type": "execute_result"
    }
   ],
   "source": [
    "ind_type.columns"
   ]
  },
  {
   "cell_type": "code",
   "execution_count": 19,
   "metadata": {
    "colab": {},
    "colab_type": "code",
    "id": "2MajzsMgPtgy"
   },
   "outputs": [],
   "source": [
    "# create sheet that has the individual donors listed by first, last, and full\n",
    "# next to the sum of their donations\n",
    "ind_df_pivot = pd.pivot_table(ind_type, index=['First Name', 'Last Name', 'Billing Address', 'City', 'State', 'Zip Code', 'Gift Memo', 'Campaign/Deposit To'], \n",
    "                              values='Gift Amount ', aggfunc=lambda x:list(x))"
   ]
  },
  {
   "cell_type": "code",
   "execution_count": 20,
   "metadata": {},
   "outputs": [
    {
     "data": {
      "text/html": [
       "<div>\n",
       "<style scoped>\n",
       "    .dataframe tbody tr th:only-of-type {\n",
       "        vertical-align: middle;\n",
       "    }\n",
       "\n",
       "    .dataframe tbody tr th {\n",
       "        vertical-align: top;\n",
       "    }\n",
       "\n",
       "    .dataframe thead th {\n",
       "        text-align: right;\n",
       "    }\n",
       "</style>\n",
       "<table border=\"1\" class=\"dataframe\">\n",
       "  <thead>\n",
       "    <tr style=\"text-align: right;\">\n",
       "      <th></th>\n",
       "      <th></th>\n",
       "      <th></th>\n",
       "      <th></th>\n",
       "      <th></th>\n",
       "      <th></th>\n",
       "      <th></th>\n",
       "      <th></th>\n",
       "      <th>Gift Amount</th>\n",
       "    </tr>\n",
       "    <tr>\n",
       "      <th>First Name</th>\n",
       "      <th>Last Name</th>\n",
       "      <th>Billing Address</th>\n",
       "      <th>City</th>\n",
       "      <th>State</th>\n",
       "      <th>Zip Code</th>\n",
       "      <th>Gift Memo</th>\n",
       "      <th>Campaign/Deposit To</th>\n",
       "      <th></th>\n",
       "    </tr>\n",
       "  </thead>\n",
       "  <tbody>\n",
       "    <tr>\n",
       "      <th>Dan</th>\n",
       "      <th>Osborne</th>\n",
       "      <th>1819 S Grand Blvd #2</th>\n",
       "      <th>Spokane</th>\n",
       "      <th>WA</th>\n",
       "      <th>99203</th>\n",
       "      <th>Purhased a Silver Table</th>\n",
       "      <th>UnGala 2019</th>\n",
       "      <td>[1244.0]</td>\n",
       "    </tr>\n",
       "    <tr>\n",
       "      <th>Aaron</th>\n",
       "      <th>Gibbs</th>\n",
       "      <th>3028 W Northwest Blvd</th>\n",
       "      <th>Spokane</th>\n",
       "      <th>WA</th>\n",
       "      <th>99205</th>\n",
       "      <th>Purchased 2 tickets, credit card fees - wants to sit with Angie Kelleher</th>\n",
       "      <th>UnGala 2019</th>\n",
       "      <td>[128.98]</td>\n",
       "    </tr>\n",
       "    <tr>\n",
       "      <th rowspan=\"2\" valign=\"top\">Adam</th>\n",
       "      <th rowspan=\"2\" valign=\"top\">Countryman</th>\n",
       "      <th rowspan=\"2\" valign=\"top\">1420 N Napa St, Apt 7</th>\n",
       "      <th rowspan=\"2\" valign=\"top\">Spokane</th>\n",
       "      <th rowspan=\"2\" valign=\"top\">WA</th>\n",
       "      <th rowspan=\"2\" valign=\"top\">99202</th>\n",
       "      <th>April 2019 Rent</th>\n",
       "      <th>Rent Income</th>\n",
       "      <td>[450.0]</td>\n",
       "    </tr>\n",
       "    <tr>\n",
       "      <th>May 2019 Rent</th>\n",
       "      <th>Rent Income</th>\n",
       "      <td>[450.0]</td>\n",
       "    </tr>\n",
       "    <tr>\n",
       "      <th>Amanda</th>\n",
       "      <th>Shimizu</th>\n",
       "      <th>4006 S Sunderland Dr</th>\n",
       "      <th>Spokane Valley</th>\n",
       "      <th>WA</th>\n",
       "      <th>99206</th>\n",
       "      <th>Dining set with chairs; Recliner; Kitchen table with bench.</th>\n",
       "      <th>In-Kind</th>\n",
       "      <td>[550.0]</td>\n",
       "    </tr>\n",
       "    <tr>\n",
       "      <th>...</th>\n",
       "      <th>...</th>\n",
       "      <th>...</th>\n",
       "      <th>...</th>\n",
       "      <th>...</th>\n",
       "      <th>...</th>\n",
       "      <th>...</th>\n",
       "      <th>...</th>\n",
       "      <td>...</td>\n",
       "    </tr>\n",
       "    <tr>\n",
       "      <th>Vonda</th>\n",
       "      <th>Cowan</th>\n",
       "      <th>16807 E Mission Parkway</th>\n",
       "      <th>Spokane Valley</th>\n",
       "      <th>WA</th>\n",
       "      <th>99216</th>\n",
       "      <th>Family Services - Transportation</th>\n",
       "      <th>Family Services</th>\n",
       "      <td>[25.0]</td>\n",
       "    </tr>\n",
       "    <tr>\n",
       "      <th>William</th>\n",
       "      <th>Osborne</th>\n",
       "      <th>5808 S Crestline</th>\n",
       "      <th>Spokane</th>\n",
       "      <th>WA</th>\n",
       "      <th>99223</th>\n",
       "      <th>Spokane Civic Theatre Fundraiser 2019 - 4 tickets</th>\n",
       "      <th>Civic Theatre</th>\n",
       "      <td>[160.0]</td>\n",
       "    </tr>\n",
       "    <tr>\n",
       "      <th rowspan=\"2\" valign=\"top\">William</th>\n",
       "      <th>McMillan</th>\n",
       "      <th>East 12927 Blossey</th>\n",
       "      <th>Spokane</th>\n",
       "      <th>WA</th>\n",
       "      <th>99216</th>\n",
       "      <th>Annual Appeal 2019</th>\n",
       "      <th>Annual Appeal</th>\n",
       "      <td>[100.0]</td>\n",
       "    </tr>\n",
       "    <tr>\n",
       "      <th>Sharon</th>\n",
       "      <th>1623 S Tacoma St</th>\n",
       "      <th>Spokane</th>\n",
       "      <th>WA</th>\n",
       "      <th>99203</th>\n",
       "      <th>Toddler Bed</th>\n",
       "      <th>In-Kind</th>\n",
       "      <td>[100.0]</td>\n",
       "    </tr>\n",
       "    <tr>\n",
       "      <th>Yvonne</th>\n",
       "      <th>Kirkingburg</th>\n",
       "      <th>16807 E Mission Parkway</th>\n",
       "      <th>Spokane Valley</th>\n",
       "      <th>WA</th>\n",
       "      <th>99216</th>\n",
       "      <th>Family Services - Transportation</th>\n",
       "      <th>Family Services</th>\n",
       "      <td>[50.0]</td>\n",
       "    </tr>\n",
       "  </tbody>\n",
       "</table>\n",
       "<p>224 rows × 1 columns</p>\n",
       "</div>"
      ],
      "text/plain": [
       "                                                                                                                                                    Gift Amount \n",
       "First Name Last Name   Billing Address         City           State Zip Code Gift Memo                                          Campaign/Deposit To             \n",
       " Dan       Osborne     1819 S Grand Blvd #2    Spokane        WA    99203    Purhased a Silver Table                            UnGala 2019             [1244.0]\n",
       "Aaron      Gibbs       3028 W Northwest Blvd   Spokane        WA    99205    Purchased 2 tickets, credit card fees - wants t... UnGala 2019             [128.98]\n",
       "Adam       Countryman  1420 N Napa St, Apt 7   Spokane        WA    99202    April 2019 Rent                                    Rent Income              [450.0]\n",
       "                                                                             May 2019 Rent                                      Rent Income              [450.0]\n",
       "Amanda     Shimizu     4006 S Sunderland Dr    Spokane Valley WA    99206    Dining set with chairs; Recliner; Kitchen table... In-Kind                  [550.0]\n",
       "...                                                                                                                                                          ...\n",
       "Vonda      Cowan       16807 E Mission Parkway Spokane Valley WA    99216    Family Services - Transportation                   Family Services           [25.0]\n",
       "William    Osborne     5808 S Crestline        Spokane        WA    99223    Spokane Civic Theatre Fundraiser 2019 - 4 tickets  Civic Theatre            [160.0]\n",
       "William    McMillan    East 12927 Blossey      Spokane        WA    99216    Annual Appeal 2019                                 Annual Appeal            [100.0]\n",
       "           Sharon      1623 S Tacoma St        Spokane        WA    99203    Toddler Bed                                        In-Kind                  [100.0]\n",
       "Yvonne     Kirkingburg 16807 E Mission Parkway Spokane Valley WA    99216    Family Services - Transportation                   Family Services           [50.0]\n",
       "\n",
       "[224 rows x 1 columns]"
      ]
     },
     "execution_count": 20,
     "metadata": {},
     "output_type": "execute_result"
    }
   ],
   "source": [
    "ind_df_pivot"
   ]
  },
  {
   "cell_type": "code",
   "execution_count": 44,
   "metadata": {},
   "outputs": [
    {
     "data": {
      "text/html": [
       "<div>\n",
       "<style scoped>\n",
       "    .dataframe tbody tr th:only-of-type {\n",
       "        vertical-align: middle;\n",
       "    }\n",
       "\n",
       "    .dataframe tbody tr th {\n",
       "        vertical-align: top;\n",
       "    }\n",
       "\n",
       "    .dataframe thead tr th {\n",
       "        text-align: left;\n",
       "    }\n",
       "\n",
       "    .dataframe thead tr:last-of-type th {\n",
       "        text-align: right;\n",
       "    }\n",
       "</style>\n",
       "<table border=\"1\" class=\"dataframe\">\n",
       "  <thead>\n",
       "    <tr>\n",
       "      <th>First Name</th>\n",
       "      <th>Dan</th>\n",
       "      <th>Aaron</th>\n",
       "      <th>Aaron</th>\n",
       "      <th>Adam</th>\n",
       "      <th>Adrian</th>\n",
       "      <th>Ahlie</th>\n",
       "      <th>Aileen</th>\n",
       "      <th colspan=\"2\" halign=\"left\">Alice</th>\n",
       "      <th>Alvin</th>\n",
       "      <th>...</th>\n",
       "      <th>Vickie</th>\n",
       "      <th>Vonda</th>\n",
       "      <th>W.A.</th>\n",
       "      <th>Wayne</th>\n",
       "      <th>Will</th>\n",
       "      <th colspan=\"2\" halign=\"left\">William</th>\n",
       "      <th>William</th>\n",
       "      <th>Yvonne</th>\n",
       "      <th>All</th>\n",
       "    </tr>\n",
       "    <tr>\n",
       "      <th>Last Name</th>\n",
       "      <th>Osborne</th>\n",
       "      <th>Urseth</th>\n",
       "      <th>Gibbs</th>\n",
       "      <th>Countryman</th>\n",
       "      <th>Yanez</th>\n",
       "      <th>Beal</th>\n",
       "      <th>Lupert</th>\n",
       "      <th>Galeotti</th>\n",
       "      <th>Galioti</th>\n",
       "      <th>Holgan</th>\n",
       "      <th>...</th>\n",
       "      <th>McCoy</th>\n",
       "      <th>Cowan</th>\n",
       "      <th>Helbig</th>\n",
       "      <th>Fogle</th>\n",
       "      <th>Jacobson</th>\n",
       "      <th>McKinney</th>\n",
       "      <th>Osborne</th>\n",
       "      <th>Sharon</th>\n",
       "      <th>Kirkingburg</th>\n",
       "      <th></th>\n",
       "    </tr>\n",
       "    <tr>\n",
       "      <th>Gift Amount</th>\n",
       "      <th></th>\n",
       "      <th></th>\n",
       "      <th></th>\n",
       "      <th></th>\n",
       "      <th></th>\n",
       "      <th></th>\n",
       "      <th></th>\n",
       "      <th></th>\n",
       "      <th></th>\n",
       "      <th></th>\n",
       "      <th></th>\n",
       "      <th></th>\n",
       "      <th></th>\n",
       "      <th></th>\n",
       "      <th></th>\n",
       "      <th></th>\n",
       "      <th></th>\n",
       "      <th></th>\n",
       "      <th></th>\n",
       "      <th></th>\n",
       "      <th></th>\n",
       "    </tr>\n",
       "  </thead>\n",
       "  <tbody>\n",
       "    <tr>\n",
       "      <th>-100.0</th>\n",
       "      <td>0</td>\n",
       "      <td>0</td>\n",
       "      <td>0</td>\n",
       "      <td>0</td>\n",
       "      <td>0</td>\n",
       "      <td>0</td>\n",
       "      <td>0</td>\n",
       "      <td>0</td>\n",
       "      <td>0</td>\n",
       "      <td>0</td>\n",
       "      <td>...</td>\n",
       "      <td>0</td>\n",
       "      <td>0</td>\n",
       "      <td>0</td>\n",
       "      <td>0</td>\n",
       "      <td>0</td>\n",
       "      <td>0</td>\n",
       "      <td>0</td>\n",
       "      <td>0</td>\n",
       "      <td>0</td>\n",
       "      <td>1</td>\n",
       "    </tr>\n",
       "    <tr>\n",
       "      <th>0.0</th>\n",
       "      <td>0</td>\n",
       "      <td>0</td>\n",
       "      <td>0</td>\n",
       "      <td>0</td>\n",
       "      <td>0</td>\n",
       "      <td>0</td>\n",
       "      <td>0</td>\n",
       "      <td>0</td>\n",
       "      <td>0</td>\n",
       "      <td>0</td>\n",
       "      <td>...</td>\n",
       "      <td>0</td>\n",
       "      <td>0</td>\n",
       "      <td>0</td>\n",
       "      <td>0</td>\n",
       "      <td>0</td>\n",
       "      <td>0</td>\n",
       "      <td>0</td>\n",
       "      <td>0</td>\n",
       "      <td>0</td>\n",
       "      <td>1</td>\n",
       "    </tr>\n",
       "    <tr>\n",
       "      <th>0.42</th>\n",
       "      <td>0</td>\n",
       "      <td>0</td>\n",
       "      <td>0</td>\n",
       "      <td>0</td>\n",
       "      <td>0</td>\n",
       "      <td>0</td>\n",
       "      <td>0</td>\n",
       "      <td>0</td>\n",
       "      <td>0</td>\n",
       "      <td>0</td>\n",
       "      <td>...</td>\n",
       "      <td>0</td>\n",
       "      <td>0</td>\n",
       "      <td>0</td>\n",
       "      <td>0</td>\n",
       "      <td>0</td>\n",
       "      <td>0</td>\n",
       "      <td>0</td>\n",
       "      <td>0</td>\n",
       "      <td>0</td>\n",
       "      <td>1</td>\n",
       "    </tr>\n",
       "    <tr>\n",
       "      <th>0.59</th>\n",
       "      <td>0</td>\n",
       "      <td>0</td>\n",
       "      <td>0</td>\n",
       "      <td>0</td>\n",
       "      <td>0</td>\n",
       "      <td>0</td>\n",
       "      <td>0</td>\n",
       "      <td>0</td>\n",
       "      <td>0</td>\n",
       "      <td>0</td>\n",
       "      <td>...</td>\n",
       "      <td>0</td>\n",
       "      <td>0</td>\n",
       "      <td>0</td>\n",
       "      <td>0</td>\n",
       "      <td>0</td>\n",
       "      <td>0</td>\n",
       "      <td>0</td>\n",
       "      <td>0</td>\n",
       "      <td>0</td>\n",
       "      <td>2</td>\n",
       "    </tr>\n",
       "    <tr>\n",
       "      <th>0.87</th>\n",
       "      <td>0</td>\n",
       "      <td>0</td>\n",
       "      <td>0</td>\n",
       "      <td>0</td>\n",
       "      <td>0</td>\n",
       "      <td>0</td>\n",
       "      <td>0</td>\n",
       "      <td>0</td>\n",
       "      <td>0</td>\n",
       "      <td>0</td>\n",
       "      <td>...</td>\n",
       "      <td>0</td>\n",
       "      <td>0</td>\n",
       "      <td>0</td>\n",
       "      <td>0</td>\n",
       "      <td>0</td>\n",
       "      <td>0</td>\n",
       "      <td>0</td>\n",
       "      <td>0</td>\n",
       "      <td>0</td>\n",
       "      <td>1</td>\n",
       "    </tr>\n",
       "    <tr>\n",
       "      <th>...</th>\n",
       "      <td>...</td>\n",
       "      <td>...</td>\n",
       "      <td>...</td>\n",
       "      <td>...</td>\n",
       "      <td>...</td>\n",
       "      <td>...</td>\n",
       "      <td>...</td>\n",
       "      <td>...</td>\n",
       "      <td>...</td>\n",
       "      <td>...</td>\n",
       "      <td>...</td>\n",
       "      <td>...</td>\n",
       "      <td>...</td>\n",
       "      <td>...</td>\n",
       "      <td>...</td>\n",
       "      <td>...</td>\n",
       "      <td>...</td>\n",
       "      <td>...</td>\n",
       "      <td>...</td>\n",
       "      <td>...</td>\n",
       "      <td>...</td>\n",
       "    </tr>\n",
       "    <tr>\n",
       "      <th>2528.0</th>\n",
       "      <td>0</td>\n",
       "      <td>0</td>\n",
       "      <td>0</td>\n",
       "      <td>0</td>\n",
       "      <td>0</td>\n",
       "      <td>0</td>\n",
       "      <td>0</td>\n",
       "      <td>0</td>\n",
       "      <td>0</td>\n",
       "      <td>0</td>\n",
       "      <td>...</td>\n",
       "      <td>0</td>\n",
       "      <td>0</td>\n",
       "      <td>0</td>\n",
       "      <td>0</td>\n",
       "      <td>0</td>\n",
       "      <td>0</td>\n",
       "      <td>0</td>\n",
       "      <td>0</td>\n",
       "      <td>0</td>\n",
       "      <td>2</td>\n",
       "    </tr>\n",
       "    <tr>\n",
       "      <th>3000.0</th>\n",
       "      <td>0</td>\n",
       "      <td>0</td>\n",
       "      <td>0</td>\n",
       "      <td>0</td>\n",
       "      <td>0</td>\n",
       "      <td>0</td>\n",
       "      <td>0</td>\n",
       "      <td>0</td>\n",
       "      <td>0</td>\n",
       "      <td>0</td>\n",
       "      <td>...</td>\n",
       "      <td>0</td>\n",
       "      <td>0</td>\n",
       "      <td>0</td>\n",
       "      <td>0</td>\n",
       "      <td>0</td>\n",
       "      <td>0</td>\n",
       "      <td>0</td>\n",
       "      <td>0</td>\n",
       "      <td>0</td>\n",
       "      <td>1</td>\n",
       "    </tr>\n",
       "    <tr>\n",
       "      <th>3500.0</th>\n",
       "      <td>0</td>\n",
       "      <td>0</td>\n",
       "      <td>0</td>\n",
       "      <td>0</td>\n",
       "      <td>0</td>\n",
       "      <td>0</td>\n",
       "      <td>0</td>\n",
       "      <td>0</td>\n",
       "      <td>0</td>\n",
       "      <td>0</td>\n",
       "      <td>...</td>\n",
       "      <td>0</td>\n",
       "      <td>0</td>\n",
       "      <td>0</td>\n",
       "      <td>0</td>\n",
       "      <td>0</td>\n",
       "      <td>0</td>\n",
       "      <td>0</td>\n",
       "      <td>0</td>\n",
       "      <td>0</td>\n",
       "      <td>1</td>\n",
       "    </tr>\n",
       "    <tr>\n",
       "      <th>10000.0</th>\n",
       "      <td>0</td>\n",
       "      <td>0</td>\n",
       "      <td>0</td>\n",
       "      <td>0</td>\n",
       "      <td>0</td>\n",
       "      <td>0</td>\n",
       "      <td>0</td>\n",
       "      <td>0</td>\n",
       "      <td>0</td>\n",
       "      <td>0</td>\n",
       "      <td>...</td>\n",
       "      <td>0</td>\n",
       "      <td>0</td>\n",
       "      <td>0</td>\n",
       "      <td>0</td>\n",
       "      <td>0</td>\n",
       "      <td>0</td>\n",
       "      <td>0</td>\n",
       "      <td>0</td>\n",
       "      <td>0</td>\n",
       "      <td>1</td>\n",
       "    </tr>\n",
       "    <tr>\n",
       "      <th>All</th>\n",
       "      <td>1</td>\n",
       "      <td>1</td>\n",
       "      <td>1</td>\n",
       "      <td>2</td>\n",
       "      <td>1</td>\n",
       "      <td>1</td>\n",
       "      <td>1</td>\n",
       "      <td>1</td>\n",
       "      <td>2</td>\n",
       "      <td>1</td>\n",
       "      <td>...</td>\n",
       "      <td>1</td>\n",
       "      <td>1</td>\n",
       "      <td>1</td>\n",
       "      <td>1</td>\n",
       "      <td>1</td>\n",
       "      <td>11</td>\n",
       "      <td>1</td>\n",
       "      <td>1</td>\n",
       "      <td>1</td>\n",
       "      <td>1132</td>\n",
       "    </tr>\n",
       "  </tbody>\n",
       "</table>\n",
       "<p>128 rows × 617 columns</p>\n",
       "</div>"
      ],
      "text/plain": [
       "First Name       Dan  Aaron Aaron        Adam Adrian Ahlie  Aileen    Alice  \\\n",
       "Last Name    Osborne Urseth  Gibbs Countryman  Yanez   Beal Lupert Galeotti   \n",
       "Gift Amount                                                                   \n",
       "-100.0             0      0      0          0      0      0      0        0   \n",
       "0.0                0      0      0          0      0      0      0        0   \n",
       "0.42               0      0      0          0      0      0      0        0   \n",
       "0.59               0      0      0          0      0      0      0        0   \n",
       "0.87               0      0      0          0      0      0      0        0   \n",
       "...              ...    ...    ...        ...    ...    ...    ...      ...   \n",
       "2528.0             0      0      0          0      0      0      0        0   \n",
       "3000.0             0      0      0          0      0      0      0        0   \n",
       "3500.0             0      0      0          0      0      0      0        0   \n",
       "10000.0            0      0      0          0      0      0      0        0   \n",
       "All                1      1      1          2      1      1      1        1   \n",
       "\n",
       "First Name            Alvin  ... Vickie Vonda   W.A. Wayne     Will  William  \\\n",
       "Last Name    Galioti Holgan  ...  McCoy Cowan Helbig Fogle Jacobson McKinney   \n",
       "Gift Amount                  ...                                               \n",
       "-100.0             0      0  ...      0     0      0     0        0        0   \n",
       "0.0                0      0  ...      0     0      0     0        0        0   \n",
       "0.42               0      0  ...      0     0      0     0        0        0   \n",
       "0.59               0      0  ...      0     0      0     0        0        0   \n",
       "0.87               0      0  ...      0     0      0     0        0        0   \n",
       "...              ...    ...  ...    ...   ...    ...   ...      ...      ...   \n",
       "2528.0             0      0  ...      0     0      0     0        0        0   \n",
       "3000.0             0      0  ...      0     0      0     0        0        0   \n",
       "3500.0             0      0  ...      0     0      0     0        0        0   \n",
       "10000.0            0      0  ...      0     0      0     0        0        0   \n",
       "All                2      1  ...      1     1      1     1        1       11   \n",
       "\n",
       "First Name           William       Yvonne   All  \n",
       "Last Name    Osborne   Sharon Kirkingburg        \n",
       "Gift Amount                                      \n",
       "-100.0             0        0           0     1  \n",
       "0.0                0        0           0     1  \n",
       "0.42               0        0           0     1  \n",
       "0.59               0        0           0     2  \n",
       "0.87               0        0           0     1  \n",
       "...              ...      ...         ...   ...  \n",
       "2528.0             0        0           0     2  \n",
       "3000.0             0        0           0     1  \n",
       "3500.0             0        0           0     1  \n",
       "10000.0            0        0           0     1  \n",
       "All                1        1           1  1132  \n",
       "\n",
       "[128 rows x 617 columns]"
      ]
     },
     "execution_count": 44,
     "metadata": {},
     "output_type": "execute_result"
    }
   ],
   "source": [
    "ct.T"
   ]
  },
  {
   "cell_type": "code",
   "execution_count": 21,
   "metadata": {
    "colab": {},
    "colab_type": "code",
    "id": "6w0EVn3jP423"
   },
   "outputs": [],
   "source": [
    "# export that sheet into an excel file\n",
    "ind_df_pivot.to_excel('~/environments/fp_env/family_promise_data/data/ind_pivot3.xlsx')"
   ]
  },
  {
   "cell_type": "code",
   "execution_count": 22,
   "metadata": {
    "colab": {},
    "colab_type": "code",
    "id": "TEf9hwruQQT_"
   },
   "outputs": [],
   "source": [
    "# create new dataframe that has only the org type donors (again, nobody from\n",
    "# the major prospects list will be here)\n",
    "org_type = df[df['Fund/Product/Service'] == 'Corporate/Organization/Foundation']"
   ]
  },
  {
   "cell_type": "code",
   "execution_count": 23,
   "metadata": {
    "colab": {},
    "colab_type": "code",
    "id": "sSnTHBK0QYBO"
   },
   "outputs": [],
   "source": [
    "# create dataframe with org donors listed by first, last and full name next to\n",
    "# the sum of their donations\n",
    "df_pivot = pd.pivot_table(org_type, index=['First Name', 'Last Name', 'Billing Address', 'City', 'State', 'Zip Code', 'Gift Memo', 'Campaign/Deposit To'], \n",
    "                              values='Gift Amount ', aggfunc='sum')"
   ]
  },
  {
   "cell_type": "code",
   "execution_count": 24,
   "metadata": {},
   "outputs": [],
   "source": [
    "# export the dataframe to excel sheet\n",
    "df_pivot.to_excel('~/environments/fp_env/family_promise_data/data/org_pivot3.xlsx')"
   ]
  },
  {
   "cell_type": "code",
   "execution_count": 25,
   "metadata": {},
   "outputs": [],
   "source": [
    "# create new dataframe that has only the org type donors (again, nobody from\n",
    "# the major prospects list will be here)\n",
    "cong_type = df[df['Fund/Product/Service'] == 'Congregations']"
   ]
  },
  {
   "cell_type": "code",
   "execution_count": 26,
   "metadata": {},
   "outputs": [],
   "source": [
    "# create dataframe with org donors listed by first, last and full name next to\n",
    "# the sum of their donations\n",
    "df_pivot = pd.pivot_table(cong_type, index=['First Name', 'Last Name', 'Billing Address', 'City', 'State', 'Zip Code', 'Gift Memo', 'Campaign/Deposit To'], \n",
    "                              values='Gift Amount ', aggfunc='sum')"
   ]
  },
  {
   "cell_type": "code",
   "execution_count": 27,
   "metadata": {
    "colab": {},
    "colab_type": "code",
    "id": "RVd9oraCQd4c"
   },
   "outputs": [],
   "source": [
    "# export the dataframe to excel sheet\n",
    "df_pivot.to_excel('~/environments/fp_env/family_promise_data/data/cong_pivot3.xlsx')"
   ]
  },
  {
   "cell_type": "code",
   "execution_count": 28,
   "metadata": {},
   "outputs": [
    {
     "data": {
      "text/plain": [
       "(1252, 32)"
      ]
     },
     "execution_count": 28,
     "metadata": {},
     "output_type": "execute_result"
    }
   ],
   "source": [
    "ind_type.shape"
   ]
  },
  {
   "cell_type": "code",
   "execution_count": 29,
   "metadata": {},
   "outputs": [
    {
     "data": {
      "text/plain": [
       "(121, 32)"
      ]
     },
     "execution_count": 29,
     "metadata": {},
     "output_type": "execute_result"
    }
   ],
   "source": [
    "org_type.shape"
   ]
  },
  {
   "cell_type": "code",
   "execution_count": 30,
   "metadata": {},
   "outputs": [
    {
     "data": {
      "text/plain": [
       "(122, 32)"
      ]
     },
     "execution_count": 30,
     "metadata": {},
     "output_type": "execute_result"
    }
   ],
   "source": [
    "cong_type.shape"
   ]
  },
  {
   "cell_type": "code",
   "execution_count": 31,
   "metadata": {},
   "outputs": [
    {
     "data": {
      "text/plain": [
       "1495"
      ]
     },
     "execution_count": 31,
     "metadata": {},
     "output_type": "execute_result"
    }
   ],
   "source": [
    "1252+121+122"
   ]
  },
  {
   "cell_type": "code",
   "execution_count": 32,
   "metadata": {},
   "outputs": [
    {
     "data": {
      "text/plain": [
       "(1528, 32)"
      ]
     },
     "execution_count": 32,
     "metadata": {},
     "output_type": "execute_result"
    }
   ],
   "source": [
    "df.shape"
   ]
  },
  {
   "cell_type": "code",
   "execution_count": 33,
   "metadata": {},
   "outputs": [
    {
     "data": {
      "text/plain": [
       "33"
      ]
     },
     "execution_count": 33,
     "metadata": {},
     "output_type": "execute_result"
    }
   ],
   "source": [
    "1528 - 1495"
   ]
  },
  {
   "cell_type": "code",
   "execution_count": 0,
   "metadata": {
    "colab": {},
    "colab_type": "code",
    "id": "52CHRRBAGNRY"
   },
   "outputs": [],
   "source": [
    "# create list of donors to compare against dataframe of 'have not donated' \n",
    "donated = new_df['Contact Name']"
   ]
  },
  {
   "cell_type": "code",
   "execution_count": 0,
   "metadata": {
    "colab": {},
    "colab_type": "code",
    "id": "w568V1AEKu8O"
   },
   "outputs": [],
   "source": [
    "not_donor = pd.read_excel('/content/not_donors.xlsx')"
   ]
  },
  {
   "cell_type": "code",
   "execution_count": 0,
   "metadata": {
    "colab": {},
    "colab_type": "code",
    "id": "_157GbBLF5Mc"
   },
   "outputs": [],
   "source": [
    "# create new dataframe based off of 'not donors' list that will remove a name\n",
    "# from the 'not donated' list if their name shows up on the 'donors' list\n",
    "not_donors = not_donor[~not_donor['Contact Name'].isin(donated)]"
   ]
  },
  {
   "cell_type": "code",
   "execution_count": 0,
   "metadata": {
    "colab": {},
    "colab_type": "code",
    "id": "BjRvTDICGVQb"
   },
   "outputs": [],
   "source": [
    "# create excel sheet out of new dataframe\n",
    "not_donors.to_excel('/content/not_donors.xlsx')"
   ]
  }
 ],
 "metadata": {
  "colab": {
   "include_colab_link": true,
   "name": "donor_worksheet.ipynb",
   "provenance": []
  },
  "kernelspec": {
   "display_name": "Python 3",
   "language": "python",
   "name": "python3"
  },
  "language_info": {
   "codemirror_mode": {
    "name": "ipython",
    "version": 3
   },
   "file_extension": ".py",
   "mimetype": "text/x-python",
   "name": "python",
   "nbconvert_exporter": "python",
   "pygments_lexer": "ipython3",
   "version": "3.6.9"
  }
 },
 "nbformat": 4,
 "nbformat_minor": 1
}
