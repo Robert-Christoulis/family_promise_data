{
 "cells": [
  {
   "cell_type": "code",
   "execution_count": 1,
   "metadata": {},
   "outputs": [],
   "source": [
    "\n",
    "%%capture\n",
    "import sys\n",
    "\n",
    "# If you're on Colab:\n",
    "if 'google.colab' in sys.modules:\n",
    "    DATA_PATH = 'https://raw.githubusercontent.com/LambdaSchool/DS-Unit-2-Applied-Modeling/master/data/'\n",
    "    !pip install category_encoders==2.*\n",
    "    !pip install eli5\n",
    "    !pip install pdpbox\n",
    "    !pip install shap\n",
    "\n",
    "# If you're working locally:\n",
    "else:\n",
    "    DATA_PATH = '../data/'"
   ]
  },
  {
   "cell_type": "code",
   "execution_count": null,
   "metadata": {},
   "outputs": [],
   "source": [
    "# section to import functions/libraries that allows me to work with the data\n",
    "\n",
    "import pandas as pd\n",
    "import numpy as np\n",
    "import matplotlib.pyplot as plt\n",
    "import seaborn as sns"
   ]
  },
  {
   "cell_type": "code",
   "execution_count": 0,
   "metadata": {
    "colab": {},
    "colab_type": "code",
    "id": "TIc0-8BDHVRu"
   },
   "outputs": [],
   "source": [
    "# import an 'all donors' dataframe\n",
    "all_donors = pd.read_excel('/content/all_donors.xlsx')\n",
    "\n",
    "# import an 'all major prospects' data frame\n",
    "major_prospect = pd.read_excel('/content/major_prospect.xlsx', header=None)"
   ]
  },
  {
   "cell_type": "code",
   "execution_count": 5,
   "metadata": {
    "colab": {
     "base_uri": "https://localhost:8080/",
     "height": 33
    },
    "colab_type": "code",
    "id": "JHjTBzNDHiQY",
    "outputId": "42cac6ec-60f6-4138-f2de-b09d0cc8b29a"
   },
   "outputs": [
    {
     "data": {
      "text/plain": [
       "(931, 10)"
      ]
     },
     "execution_count": 5,
     "metadata": {
      "tags": []
     },
     "output_type": "execute_result"
    }
   ],
   "source": [
    "# see how many rows and columns there are in the data frame\n",
    "all_donors.shape"
   ]
  },
  {
   "cell_type": "code",
   "execution_count": 6,
   "metadata": {
    "colab": {
     "base_uri": "https://localhost:8080/",
     "height": 33
    },
    "colab_type": "code",
    "id": "UrZKOKwnHks-",
    "outputId": "81ee1a77-503d-4c6f-d3ec-d394cfd2fc7b"
   },
   "outputs": [
    {
     "data": {
      "text/plain": [
       "(119, 1)"
      ]
     },
     "execution_count": 6,
     "metadata": {
      "tags": []
     },
     "output_type": "execute_result"
    }
   ],
   "source": [
    "major_prospect.shape"
   ]
  },
  {
   "cell_type": "code",
   "execution_count": 7,
   "metadata": {
    "colab": {
     "base_uri": "https://localhost:8080/",
     "height": 33
    },
    "colab_type": "code",
    "id": "q8ywHxhILpsi",
    "outputId": "6075b1af-093f-45c2-b744-eb0ae7b9fe49"
   },
   "outputs": [
    {
     "data": {
      "text/plain": [
       "812"
      ]
     },
     "execution_count": 7,
     "metadata": {
      "tags": []
     },
     "output_type": "execute_result"
    }
   ],
   "source": [
    "# what is difference?\n",
    "931 - 119"
   ]
  },
  {
   "cell_type": "code",
   "execution_count": 0,
   "metadata": {
    "colab": {},
    "colab_type": "code",
    "id": "YvxL44ZAHpNu"
   },
   "outputs": [],
   "source": [
    "# put list of major prospects into an array that can be used to compare against \n",
    "# another data frame\n",
    "maj_pros_list = major_prospect[0]"
   ]
  },
  {
   "cell_type": "code",
   "execution_count": 9,
   "metadata": {
    "colab": {
     "base_uri": "https://localhost:8080/",
     "height": 212
    },
    "colab_type": "code",
    "id": "oZRMAnAxH7b3",
    "outputId": "7083cd49-0c64-4888-e2d7-5074c38d36a9"
   },
   "outputs": [
    {
     "data": {
      "text/plain": [
       "0              Adam Oakley\n",
       "1              Amanda Swan\n",
       "2             Angie Hopson\n",
       "3      Dr. Arnold Peterson\n",
       "4              Ashlie Beal\n",
       "              ...         \n",
       "114             Terry Deno\n",
       "115           Terry Thoren\n",
       "116           Thomas Allen\n",
       "117            Tom Clemson\n",
       "118          Traci Hanegan\n",
       "Name: 0, Length: 119, dtype: object"
      ]
     },
     "execution_count": 9,
     "metadata": {
      "tags": []
     },
     "output_type": "execute_result"
    }
   ],
   "source": [
    "# print that array\n",
    "maj_pros_list"
   ]
  },
  {
   "cell_type": "code",
   "execution_count": 0,
   "metadata": {
    "colab": {},
    "colab_type": "code",
    "id": "ZJbW3sgWIAfe"
   },
   "outputs": [],
   "source": [
    "# create new dataframe that has base of all donors but removed any name \n",
    "# from the all donors list if that name is also on the major prospects list\n",
    "\n",
    "new_df = all_donors[~all_donors['Contact Name'].isin(maj_pros_list)]"
   ]
  },
  {
   "cell_type": "code",
   "execution_count": 11,
   "metadata": {
    "colab": {
     "base_uri": "https://localhost:8080/",
     "height": 33
    },
    "colab_type": "code",
    "id": "ZHsDMxq-Lf9i",
    "outputId": "43762551-4b6b-4250-9031-f2ae7b86eb59"
   },
   "outputs": [
    {
     "data": {
      "text/plain": [
       "(890, 10)"
      ]
     },
     "execution_count": 11,
     "metadata": {
      "tags": []
     },
     "output_type": "execute_result"
    }
   ],
   "source": [
    "new_df.shape"
   ]
  },
  {
   "cell_type": "code",
   "execution_count": 0,
   "metadata": {
    "colab": {},
    "colab_type": "code",
    "id": "l1BSm2gUMCWn"
   },
   "outputs": [],
   "source": [
    "# export that redacted list into an excel file\n",
    "new_df.to_excel(\"/content/redacted.xlsx\")"
   ]
  },
  {
   "cell_type": "code",
   "execution_count": 13,
   "metadata": {
    "colab": {
     "base_uri": "https://localhost:8080/",
     "height": 191
    },
    "colab_type": "code",
    "id": "FmNN3U--KMgj",
    "outputId": "8731cc73-f0e1-4cfc-898b-a10c1a04996a"
   },
   "outputs": [
    {
     "data": {
      "text/html": [
       "<div>\n",
       "<style scoped>\n",
       "    .dataframe tbody tr th:only-of-type {\n",
       "        vertical-align: middle;\n",
       "    }\n",
       "\n",
       "    .dataframe tbody tr th {\n",
       "        vertical-align: top;\n",
       "    }\n",
       "\n",
       "    .dataframe thead th {\n",
       "        text-align: right;\n",
       "    }\n",
       "</style>\n",
       "<table border=\"1\" class=\"dataframe\">\n",
       "  <thead>\n",
       "    <tr style=\"text-align: right;\">\n",
       "      <th></th>\n",
       "      <th>Type</th>\n",
       "      <th>Contact Name</th>\n",
       "      <th>Donation Amount</th>\n",
       "      <th>Total Given by Name</th>\n",
       "      <th>Prefix</th>\n",
       "      <th>First Name</th>\n",
       "      <th>Last Name</th>\n",
       "      <th>Donation Date</th>\n",
       "      <th>Phone</th>\n",
       "      <th>Full Address</th>\n",
       "    </tr>\n",
       "  </thead>\n",
       "  <tbody>\n",
       "    <tr>\n",
       "      <th>0</th>\n",
       "      <td>Individual</td>\n",
       "      <td>Dr. Elizabeth Abbey</td>\n",
       "      <td>51</td>\n",
       "      <td>NaN</td>\n",
       "      <td>Dr.</td>\n",
       "      <td>Elizabeth</td>\n",
       "      <td>Abbey</td>\n",
       "      <td>2019-05-16</td>\n",
       "      <td>5.097773e+09</td>\n",
       "      <td>416 W Park Place, Spokane, Spokane, WA - 99205</td>\n",
       "    </tr>\n",
       "    <tr>\n",
       "      <th>1</th>\n",
       "      <td>Individual</td>\n",
       "      <td>Joseph Addington</td>\n",
       "      <td>100</td>\n",
       "      <td>NaN</td>\n",
       "      <td>NaN</td>\n",
       "      <td>Joseph</td>\n",
       "      <td>Addington</td>\n",
       "      <td>2019-04-17</td>\n",
       "      <td>NaN</td>\n",
       "      <td>2523 E 17th Ave, Spokane, WA - 99223</td>\n",
       "    </tr>\n",
       "    <tr>\n",
       "      <th>2</th>\n",
       "      <td>Individual</td>\n",
       "      <td>Frances Aga</td>\n",
       "      <td>50</td>\n",
       "      <td>NaN</td>\n",
       "      <td>NaN</td>\n",
       "      <td>Frances</td>\n",
       "      <td>Aga</td>\n",
       "      <td>2018-11-29</td>\n",
       "      <td>NaN</td>\n",
       "      <td>15810 E Lincoln Road, Spokane, WA - 99217</td>\n",
       "    </tr>\n",
       "    <tr>\n",
       "      <th>3</th>\n",
       "      <td>Organization</td>\n",
       "      <td>North by Northwest</td>\n",
       "      <td>1000</td>\n",
       "      <td>NaN</td>\n",
       "      <td>NaN</td>\n",
       "      <td>North</td>\n",
       "      <td>Northwest</td>\n",
       "      <td>2018-11-01</td>\n",
       "      <td>5.093243e+09</td>\n",
       "      <td>903 W Broadway, Spokane, WA - 99201</td>\n",
       "    </tr>\n",
       "    <tr>\n",
       "      <th>4</th>\n",
       "      <td>Organization</td>\n",
       "      <td>Family Promise of the Mid-Willamette Valley</td>\n",
       "      <td>558</td>\n",
       "      <td>NaN</td>\n",
       "      <td>NaN</td>\n",
       "      <td>Family</td>\n",
       "      <td>Valley</td>\n",
       "      <td>2018-11-02</td>\n",
       "      <td>NaN</td>\n",
       "      <td>1055 Edgewater St NW, Salem, Polk, OR - 97304</td>\n",
       "    </tr>\n",
       "  </tbody>\n",
       "</table>\n",
       "</div>"
      ],
      "text/plain": [
       "           Type  ...                                    Full Address\n",
       "0    Individual  ...  416 W Park Place, Spokane, Spokane, WA - 99205\n",
       "1    Individual  ...            2523 E 17th Ave, Spokane, WA - 99223\n",
       "2    Individual  ...       15810 E Lincoln Road, Spokane, WA - 99217\n",
       "3  Organization  ...             903 W Broadway, Spokane, WA - 99201\n",
       "4  Organization  ...   1055 Edgewater St NW, Salem, Polk, OR - 97304\n",
       "\n",
       "[5 rows x 10 columns]"
      ]
     },
     "execution_count": 13,
     "metadata": {
      "tags": []
     },
     "output_type": "execute_result"
    }
   ],
   "source": [
    "new_df.head()"
   ]
  },
  {
   "cell_type": "code",
   "execution_count": 0,
   "metadata": {
    "colab": {},
    "colab_type": "code",
    "id": "Vx0FmRbkOMEm"
   },
   "outputs": [],
   "source": [
    "# create new sheet for excel file that has sum of donation listed by each \n",
    "# donor's first, last, and full name\n",
    "new_df_pivot = pd.pivot_table(new_df, \n",
    "                              index=['Contact Name', 'First Name', 'Last Name'], \n",
    "                              values='Donation Amount', aggfunc='sum')"
   ]
  },
  {
   "cell_type": "code",
   "execution_count": 0,
   "metadata": {
    "colab": {},
    "colab_type": "code",
    "id": "PI2xABQ_OwPa"
   },
   "outputs": [],
   "source": [
    "# export that sheet into excel file \n",
    "new_df_pivot.to_excel('/content/pivot.xlsx')"
   ]
  },
  {
   "cell_type": "code",
   "execution_count": 0,
   "metadata": {
    "colab": {},
    "colab_type": "code",
    "id": "kpD4tPpoPY8x"
   },
   "outputs": [],
   "source": [
    "# create new data frame with only the individual donors\n",
    "# (this list also has anybody from the major prospects removed)\n",
    "ind_type = new_df[new_df['Type'] == 'Individual']"
   ]
  },
  {
   "cell_type": "code",
   "execution_count": 30,
   "metadata": {
    "colab": {
     "base_uri": "https://localhost:8080/",
     "height": 191
    },
    "colab_type": "code",
    "id": "F-JSHuROLMkN",
    "outputId": "12857cf0-30c2-49e3-f123-692b62bbb76e"
   },
   "outputs": [
    {
     "data": {
      "text/html": [
       "<div>\n",
       "<style scoped>\n",
       "    .dataframe tbody tr th:only-of-type {\n",
       "        vertical-align: middle;\n",
       "    }\n",
       "\n",
       "    .dataframe tbody tr th {\n",
       "        vertical-align: top;\n",
       "    }\n",
       "\n",
       "    .dataframe thead th {\n",
       "        text-align: right;\n",
       "    }\n",
       "</style>\n",
       "<table border=\"1\" class=\"dataframe\">\n",
       "  <thead>\n",
       "    <tr style=\"text-align: right;\">\n",
       "      <th></th>\n",
       "      <th>Type</th>\n",
       "      <th>Contact Name</th>\n",
       "      <th>Donation Amount</th>\n",
       "      <th>Total Given by Name</th>\n",
       "      <th>Prefix</th>\n",
       "      <th>First Name</th>\n",
       "      <th>Last Name</th>\n",
       "      <th>Donation Date</th>\n",
       "      <th>Phone</th>\n",
       "      <th>Full Address</th>\n",
       "    </tr>\n",
       "  </thead>\n",
       "  <tbody>\n",
       "    <tr>\n",
       "      <th>0</th>\n",
       "      <td>Individual</td>\n",
       "      <td>Dr. Elizabeth Abbey</td>\n",
       "      <td>51</td>\n",
       "      <td>NaN</td>\n",
       "      <td>Dr.</td>\n",
       "      <td>Elizabeth</td>\n",
       "      <td>Abbey</td>\n",
       "      <td>2019-05-16</td>\n",
       "      <td>5.097773e+09</td>\n",
       "      <td>416 W Park Place, Spokane, Spokane, WA - 99205</td>\n",
       "    </tr>\n",
       "    <tr>\n",
       "      <th>1</th>\n",
       "      <td>Individual</td>\n",
       "      <td>Joseph Addington</td>\n",
       "      <td>100</td>\n",
       "      <td>NaN</td>\n",
       "      <td>NaN</td>\n",
       "      <td>Joseph</td>\n",
       "      <td>Addington</td>\n",
       "      <td>2019-04-17</td>\n",
       "      <td>NaN</td>\n",
       "      <td>2523 E 17th Ave, Spokane, WA - 99223</td>\n",
       "    </tr>\n",
       "    <tr>\n",
       "      <th>2</th>\n",
       "      <td>Individual</td>\n",
       "      <td>Frances Aga</td>\n",
       "      <td>50</td>\n",
       "      <td>NaN</td>\n",
       "      <td>NaN</td>\n",
       "      <td>Frances</td>\n",
       "      <td>Aga</td>\n",
       "      <td>2018-11-29</td>\n",
       "      <td>NaN</td>\n",
       "      <td>15810 E Lincoln Road, Spokane, WA - 99217</td>\n",
       "    </tr>\n",
       "    <tr>\n",
       "      <th>5</th>\n",
       "      <td>Individual</td>\n",
       "      <td>Frances Aga</td>\n",
       "      <td>75</td>\n",
       "      <td>NaN</td>\n",
       "      <td>NaN</td>\n",
       "      <td>Frances</td>\n",
       "      <td>Aga</td>\n",
       "      <td>2019-07-02</td>\n",
       "      <td>NaN</td>\n",
       "      <td>15810 E Lincoln Road, Spokane, WA - 99217</td>\n",
       "    </tr>\n",
       "    <tr>\n",
       "      <th>6</th>\n",
       "      <td>Individual</td>\n",
       "      <td>Calum Akins</td>\n",
       "      <td>10</td>\n",
       "      <td>NaN</td>\n",
       "      <td>NaN</td>\n",
       "      <td>Calum</td>\n",
       "      <td>Akins</td>\n",
       "      <td>2019-09-28</td>\n",
       "      <td>NaN</td>\n",
       "      <td>NaN</td>\n",
       "    </tr>\n",
       "  </tbody>\n",
       "</table>\n",
       "</div>"
      ],
      "text/plain": [
       "         Type  ...                                    Full Address\n",
       "0  Individual  ...  416 W Park Place, Spokane, Spokane, WA - 99205\n",
       "1  Individual  ...            2523 E 17th Ave, Spokane, WA - 99223\n",
       "2  Individual  ...       15810 E Lincoln Road, Spokane, WA - 99217\n",
       "5  Individual  ...       15810 E Lincoln Road, Spokane, WA - 99217\n",
       "6  Individual  ...                                             NaN\n",
       "\n",
       "[5 rows x 10 columns]"
      ]
     },
     "execution_count": 30,
     "metadata": {
      "tags": []
     },
     "output_type": "execute_result"
    }
   ],
   "source": [
    "ind_type.head()"
   ]
  },
  {
   "cell_type": "code",
   "execution_count": 0,
   "metadata": {
    "colab": {},
    "colab_type": "code",
    "id": "2MajzsMgPtgy"
   },
   "outputs": [],
   "source": [
    "# create sheet that has the individual donors listed by first, last, and full\n",
    "# next to the sum of their donations\n",
    "ind_df_pivot = pd.pivot_table(ind_type, index=['Contact Name', \n",
    "                                               'First Name', 'Last Name', 'Full Address'], \n",
    "                              values='Donation Amount', aggfunc='sum')"
   ]
  },
  {
   "cell_type": "code",
   "execution_count": 0,
   "metadata": {
    "colab": {},
    "colab_type": "code",
    "id": "6w0EVn3jP423"
   },
   "outputs": [],
   "source": [
    "# export that sheet into an excel file\n",
    "ind_df_pivot.to_excel('/content/ind_pivot.xlsx')"
   ]
  },
  {
   "cell_type": "code",
   "execution_count": 0,
   "metadata": {
    "colab": {},
    "colab_type": "code",
    "id": "TEf9hwruQQT_"
   },
   "outputs": [],
   "source": [
    "# create new dataframe that has only the org type donors (again, nobody from\n",
    "# the major prospects list will be here)\n",
    "org_type = new_df[new_df['Type'] == 'Organization']"
   ]
  },
  {
   "cell_type": "code",
   "execution_count": 0,
   "metadata": {
    "colab": {},
    "colab_type": "code",
    "id": "sSnTHBK0QYBO"
   },
   "outputs": [],
   "source": [
    "# create dataframe with org donors listed by first, last and full name next to\n",
    "# the sum of their donations\n",
    "org_df_pivot = pd.pivot_table(org_type, index=['Contact Name', 'First Name', \n",
    "                                               'Last Name', 'Full Address'], \n",
    "                              values='Donation Amount', aggfunc='sum')"
   ]
  },
  {
   "cell_type": "code",
   "execution_count": 0,
   "metadata": {
    "colab": {},
    "colab_type": "code",
    "id": "RVd9oraCQd4c"
   },
   "outputs": [],
   "source": [
    "# export the dataframe to excel sheet\n",
    "org_df_pivot.to_excel('/content/org_pivot.xlsx')"
   ]
  },
  {
   "cell_type": "code",
   "execution_count": 0,
   "metadata": {
    "colab": {},
    "colab_type": "code",
    "id": "52CHRRBAGNRY"
   },
   "outputs": [],
   "source": [
    "# create list of donors to compare against dataframe of 'have not donated' \n",
    "donated = new_df['Contact Name']"
   ]
  },
  {
   "cell_type": "code",
   "execution_count": 0,
   "metadata": {
    "colab": {},
    "colab_type": "code",
    "id": "w568V1AEKu8O"
   },
   "outputs": [],
   "source": [
    "not_donor = pd.read_excel('/content/not_donors.xlsx')"
   ]
  },
  {
   "cell_type": "code",
   "execution_count": 0,
   "metadata": {
    "colab": {},
    "colab_type": "code",
    "id": "_157GbBLF5Mc"
   },
   "outputs": [],
   "source": [
    "# create new dataframe based off of 'not donors' list that will remove a name\n",
    "# from the 'not donated' list if their name shows up on the 'donors' list\n",
    "not_donors = not_donor[~not_donor['Contact Name'].isin(donated)]"
   ]
  },
  {
   "cell_type": "code",
   "execution_count": 0,
   "metadata": {
    "colab": {},
    "colab_type": "code",
    "id": "BjRvTDICGVQb"
   },
   "outputs": [],
   "source": [
    "# create excel sheet out of new dataframe\n",
    "not_donors.to_excel('/content/not_donors.xlsx')"
   ]
  }
 ],
 "metadata": {
  "colab": {
   "include_colab_link": true,
   "name": "donor_worksheet.ipynb",
   "provenance": []
  },
  "kernelspec": {
   "display_name": "Python 3",
   "language": "python",
   "name": "python3"
  },
  "language_info": {
   "codemirror_mode": {
    "name": "ipython",
    "version": 3
   },
   "file_extension": ".py",
   "mimetype": "text/x-python",
   "name": "python",
   "nbconvert_exporter": "python",
   "pygments_lexer": "ipython3",
   "version": "3.6.9"
  }
 },
 "nbformat": 4,
 "nbformat_minor": 1
}
