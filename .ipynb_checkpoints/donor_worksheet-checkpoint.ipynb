{
 "cells": [
  {
   "cell_type": "code",
   "execution_count": 4,
   "metadata": {},
   "outputs": [],
   "source": [
    "\n",
    "%%capture\n",
    "import sys\n",
    "\n",
    "# If you're on Colab:\n",
    "if 'google.colab' in sys.modules:\n",
    "    DATA_PATH = 'https://raw.githubusercontent.com/LambdaSchool/DS-Unit-2-Applied-Modeling/master/data/'\n",
    "    !pip install category_encoders==2.*\n",
    "    !pip install eli5\n",
    "    !pip install pdpbox\n",
    "    !pip install shap\n",
    "\n",
    "# If you're working locally:\n",
    "else:\n",
    "    DATA_PATH = '../data/'"
   ]
  },
  {
   "cell_type": "code",
   "execution_count": 11,
   "metadata": {},
   "outputs": [
    {
     "name": "stdout",
     "output_type": "stream",
     "text": [
      "Collecting xlrd\n",
      "  Downloading https://files.pythonhosted.org/packages/b0/16/63576a1a001752e34bf8ea62e367997530dc553b689356b9879339cf45a4/xlrd-1.2.0-py2.py3-none-any.whl (103kB)\n",
      "\u001b[K    100% |████████████████████████████████| 112kB 1.8MB/s ta 0:00:01\n",
      "\u001b[?25hInstalling collected packages: xlrd\n",
      "Successfully installed xlrd-1.2.0\n",
      "Note: you may need to restart the kernel to use updated packages.\n"
     ]
    }
   ],
   "source": [
    "pip install xlrd"
   ]
  },
  {
   "cell_type": "code",
   "execution_count": 5,
   "metadata": {},
   "outputs": [],
   "source": [
    "# section to import functions/libraries that allows me to work with the data\n",
    "\n",
    "import pandas as pd\n",
    "import numpy as np\n",
    "import matplotlib.pyplot as plt\n",
    "import seaborn as sns"
   ]
  },
  {
   "cell_type": "code",
   "execution_count": 6,
   "metadata": {
    "colab": {},
    "colab_type": "code",
    "id": "TIc0-8BDHVRu"
   },
   "outputs": [],
   "source": [
    "# import an 'all donors' dataframe\n",
    "#all_donors = pd.read_excel('/content/all_donors.xlsx')\n",
    "\n",
    "# import an 'all major prospects' data fra\n",
    "df = pd.read_excel('~/environments/fp_env/family_promise_data/data/Donation Verification Document  (2).xlsx')\n",
    "\n",
    "\n",
    "#df = pd.read_excel(DATA_PATH+'/Unit_2_project_data.xlsx')"
   ]
  },
  {
   "cell_type": "code",
   "execution_count": 14,
   "metadata": {
    "colab": {
     "base_uri": "https://localhost:8080/",
     "height": 33
    },
    "colab_type": "code",
    "id": "JHjTBzNDHiQY",
    "outputId": "42cac6ec-60f6-4138-f2de-b09d0cc8b29a",
    "scrolled": true
   },
   "outputs": [
    {
     "data": {
      "text/html": [
       "<div>\n",
       "<style scoped>\n",
       "    .dataframe tbody tr th:only-of-type {\n",
       "        vertical-align: middle;\n",
       "    }\n",
       "\n",
       "    .dataframe tbody tr th {\n",
       "        vertical-align: top;\n",
       "    }\n",
       "\n",
       "    .dataframe thead th {\n",
       "        text-align: right;\n",
       "    }\n",
       "</style>\n",
       "<table border=\"1\" class=\"dataframe\">\n",
       "  <thead>\n",
       "    <tr style=\"text-align: right;\">\n",
       "      <th></th>\n",
       "      <th>First Name</th>\n",
       "      <th>Last Name</th>\n",
       "      <th>Gift Date</th>\n",
       "      <th>Reference No.</th>\n",
       "      <th>Gift Amount</th>\n",
       "      <th>Billing Address</th>\n",
       "      <th>City</th>\n",
       "      <th>State</th>\n",
       "      <th>Zip Code</th>\n",
       "      <th>Email Address</th>\n",
       "      <th>...</th>\n",
       "      <th>Unnamed: 22</th>\n",
       "      <th>Unnamed: 23</th>\n",
       "      <th>Unnamed: 24</th>\n",
       "      <th>Unnamed: 25</th>\n",
       "      <th>Unnamed: 26</th>\n",
       "      <th>Unnamed: 27</th>\n",
       "      <th>Unnamed: 28</th>\n",
       "      <th>Unnamed: 29</th>\n",
       "      <th>Unnamed: 30</th>\n",
       "      <th>Unnamed: 31</th>\n",
       "    </tr>\n",
       "  </thead>\n",
       "  <tbody>\n",
       "  </tbody>\n",
       "</table>\n",
       "<p>0 rows × 32 columns</p>\n",
       "</div>"
      ],
      "text/plain": [
       "Empty DataFrame\n",
       "Columns: [First Name, Last Name, Gift Date, Reference No., Gift Amount , Billing Address, City, State, Zip Code, Email Address, Phone Number, Program/Division, Fund/Product/Service, Campaign/Deposit To, Soft Credit, Gift Memo, Mode of Payment , Thank You Letter Written, Recorded in Fundly, Recorded in QBO, Unnamed: 20, Unnamed: 21, Unnamed: 22, Unnamed: 23, Unnamed: 24, Unnamed: 25, Unnamed: 26, Unnamed: 27, Unnamed: 28, Unnamed: 29, Unnamed: 30, Unnamed: 31]\n",
       "Index: []\n",
       "\n",
       "[0 rows x 32 columns]"
      ]
     },
     "execution_count": 14,
     "metadata": {},
     "output_type": "execute_result"
    }
   ],
   "source": [
    "df.head(0)"
   ]
  },
  {
   "cell_type": "code",
   "execution_count": 15,
   "metadata": {
    "scrolled": true
   },
   "outputs": [
    {
     "data": {
      "text/plain": [
       "Index(['First Name', 'Last Name', 'Gift Date', 'Reference No.', 'Gift Amount ',\n",
       "       'Billing Address', 'City', 'State', 'Zip Code', 'Email Address',\n",
       "       'Phone Number', 'Program/Division', 'Fund/Product/Service',\n",
       "       'Campaign/Deposit To', 'Soft Credit', 'Gift Memo', 'Mode of Payment ',\n",
       "       'Thank You Letter Written', 'Recorded in Fundly', 'Recorded in QBO',\n",
       "       'Unnamed: 20', 'Unnamed: 21', 'Unnamed: 22', 'Unnamed: 23',\n",
       "       'Unnamed: 24', 'Unnamed: 25', 'Unnamed: 26', 'Unnamed: 27',\n",
       "       'Unnamed: 28', 'Unnamed: 29', 'Unnamed: 30', 'Unnamed: 31'],\n",
       "      dtype='object')"
      ]
     },
     "execution_count": 15,
     "metadata": {},
     "output_type": "execute_result"
    }
   ],
   "source": [
    "df.columns"
   ]
  },
  {
   "cell_type": "code",
   "execution_count": 16,
   "metadata": {
    "colab": {},
    "colab_type": "code",
    "id": "YvxL44ZAHpNu"
   },
   "outputs": [
    {
     "data": {
      "text/plain": [
       "Individual                           1252\n",
       "Congregations                         122\n",
       "Corporate/Organization/Foundation     121\n",
       "Rent Income                            30\n",
       "`                                       1\n",
       "Corporation                             1\n",
       " Individual                             1\n",
       "Name: Fund/Product/Service, dtype: int64"
      ]
     },
     "execution_count": 16,
     "metadata": {},
     "output_type": "execute_result"
    }
   ],
   "source": [
    "df['Fund/Product/Service'].value_counts()"
   ]
  },
  {
   "cell_type": "code",
   "execution_count": 9,
   "metadata": {
    "colab": {
     "base_uri": "https://localhost:8080/",
     "height": 212
    },
    "colab_type": "code",
    "id": "oZRMAnAxH7b3",
    "outputId": "7083cd49-0c64-4888-e2d7-5074c38d36a9"
   },
   "outputs": [
    {
     "data": {
      "text/plain": [
       "0              Adam Oakley\n",
       "1              Amanda Swan\n",
       "2             Angie Hopson\n",
       "3      Dr. Arnold Peterson\n",
       "4              Ashlie Beal\n",
       "              ...         \n",
       "114             Terry Deno\n",
       "115           Terry Thoren\n",
       "116           Thomas Allen\n",
       "117            Tom Clemson\n",
       "118          Traci Hanegan\n",
       "Name: 0, Length: 119, dtype: object"
      ]
     },
     "execution_count": 9,
     "metadata": {
      "tags": []
     },
     "output_type": "execute_result"
    }
   ],
   "source": [
    "# print that array\n",
    "maj_pros_list"
   ]
  },
  {
   "cell_type": "code",
   "execution_count": 0,
   "metadata": {
    "colab": {},
    "colab_type": "code",
    "id": "ZJbW3sgWIAfe"
   },
   "outputs": [],
   "source": [
    "# create new dataframe that has base of all donors but removed any name \n",
    "# from the all donors list if that name is also on the major prospects list\n",
    "\n",
    "new_df = all_donors[~all_donors['Contact Name'].isin(maj_pros_list)]"
   ]
  },
  {
   "cell_type": "code",
   "execution_count": 11,
   "metadata": {
    "colab": {
     "base_uri": "https://localhost:8080/",
     "height": 33
    },
    "colab_type": "code",
    "id": "ZHsDMxq-Lf9i",
    "outputId": "43762551-4b6b-4250-9031-f2ae7b86eb59"
   },
   "outputs": [
    {
     "data": {
      "text/plain": [
       "(890, 10)"
      ]
     },
     "execution_count": 11,
     "metadata": {
      "tags": []
     },
     "output_type": "execute_result"
    }
   ],
   "source": [
    "new_df.shape"
   ]
  },
  {
   "cell_type": "code",
   "execution_count": 0,
   "metadata": {
    "colab": {},
    "colab_type": "code",
    "id": "l1BSm2gUMCWn"
   },
   "outputs": [],
   "source": [
    "# export that redacted list into an excel file\n",
    "new_df.to_excel(\"/content/redacted.xlsx\")"
   ]
  },
  {
   "cell_type": "code",
   "execution_count": 7,
   "metadata": {
    "colab": {
     "base_uri": "https://localhost:8080/",
     "height": 191
    },
    "colab_type": "code",
    "id": "FmNN3U--KMgj",
    "outputId": "8731cc73-f0e1-4cfc-898b-a10c1a04996a",
    "scrolled": true
   },
   "outputs": [
    {
     "data": {
      "text/html": [
       "<div>\n",
       "<style scoped>\n",
       "    .dataframe tbody tr th:only-of-type {\n",
       "        vertical-align: middle;\n",
       "    }\n",
       "\n",
       "    .dataframe tbody tr th {\n",
       "        vertical-align: top;\n",
       "    }\n",
       "\n",
       "    .dataframe thead th {\n",
       "        text-align: right;\n",
       "    }\n",
       "</style>\n",
       "<table border=\"1\" class=\"dataframe\">\n",
       "  <thead>\n",
       "    <tr style=\"text-align: right;\">\n",
       "      <th></th>\n",
       "      <th>First Name</th>\n",
       "      <th>Last Name</th>\n",
       "      <th>Gift Date</th>\n",
       "      <th>Reference No.</th>\n",
       "      <th>Gift Amount</th>\n",
       "      <th>Billing Address</th>\n",
       "      <th>City</th>\n",
       "      <th>State</th>\n",
       "      <th>Zip Code</th>\n",
       "      <th>Email Address</th>\n",
       "      <th>...</th>\n",
       "      <th>Unnamed: 22</th>\n",
       "      <th>Unnamed: 23</th>\n",
       "      <th>Unnamed: 24</th>\n",
       "      <th>Unnamed: 25</th>\n",
       "      <th>Unnamed: 26</th>\n",
       "      <th>Unnamed: 27</th>\n",
       "      <th>Unnamed: 28</th>\n",
       "      <th>Unnamed: 29</th>\n",
       "      <th>Unnamed: 30</th>\n",
       "      <th>Unnamed: 31</th>\n",
       "    </tr>\n",
       "  </thead>\n",
       "  <tbody>\n",
       "  </tbody>\n",
       "</table>\n",
       "<p>0 rows × 32 columns</p>\n",
       "</div>"
      ],
      "text/plain": [
       "Empty DataFrame\n",
       "Columns: [First Name, Last Name, Gift Date, Reference No., Gift Amount , Billing Address, City, State, Zip Code, Email Address, Phone Number, Program/Division, Fund/Product/Service, Campaign/Deposit To, Soft Credit, Gift Memo, Mode of Payment , Thank You Letter Written, Recorded in Fundly, Recorded in QBO, Unnamed: 20, Unnamed: 21, Unnamed: 22, Unnamed: 23, Unnamed: 24, Unnamed: 25, Unnamed: 26, Unnamed: 27, Unnamed: 28, Unnamed: 29, Unnamed: 30, Unnamed: 31]\n",
       "Index: []\n",
       "\n",
       "[0 rows x 32 columns]"
      ]
     },
     "execution_count": 7,
     "metadata": {},
     "output_type": "execute_result"
    }
   ],
   "source": [
    "df.head(0)"
   ]
  },
  {
   "cell_type": "code",
   "execution_count": 52,
   "metadata": {},
   "outputs": [
    {
     "data": {
      "text/plain": [
       "Index(['First Name', 'Last Name', 'Gift Date', 'Reference No.', 'Gift Amount ',\n",
       "       'Billing Address', 'City', 'State', 'Zip Code', 'Email Address',\n",
       "       'Phone Number', 'Program/Division', 'Fund/Product/Service',\n",
       "       'Campaign/Deposit To', 'Soft Credit', 'Gift Memo', 'Mode of Payment ',\n",
       "       'Thank You Letter Written', 'Recorded in Fundly', 'Recorded in QBO',\n",
       "       'Unnamed: 20', 'Unnamed: 21', 'Unnamed: 22', 'Unnamed: 23',\n",
       "       'Unnamed: 24', 'Unnamed: 25', 'Unnamed: 26', 'Unnamed: 27',\n",
       "       'Unnamed: 28', 'Unnamed: 29', 'Unnamed: 30', 'Unnamed: 31'],\n",
       "      dtype='object')"
      ]
     },
     "execution_count": 52,
     "metadata": {},
     "output_type": "execute_result"
    }
   ],
   "source": [
    "df.columns"
   ]
  },
  {
   "cell_type": "code",
   "execution_count": 54,
   "metadata": {
    "colab": {},
    "colab_type": "code",
    "id": "Vx0FmRbkOMEm"
   },
   "outputs": [],
   "source": [
    "# create new sheet for excel file that has sum of donation listed by each \n",
    "# donor's first, last, and full name\n",
    "new_df_pivot = pd.pivot_table(df, \n",
    "                              index=['First Name', 'Last Name', 'Billing Address', 'City', 'State', 'Zip Code'], \n",
    "                              values='Gift Amount ')"
   ]
  },
  {
   "cell_type": "code",
   "execution_count": 57,
   "metadata": {
    "scrolled": false
   },
   "outputs": [
    {
     "name": "stdout",
     "output_type": "stream",
     "text": [
      "Collecting openpyxl\n",
      "  Downloading https://files.pythonhosted.org/packages/f4/5f/fb8706fba43b46716e252fdd3ffdfe801a63a0f4663b80b6f3421d85ab70/openpyxl-3.0.2.tar.gz (172kB)\n",
      "\u001b[K    100% |████████████████████████████████| 174kB 2.6MB/s ta 0:00:01\n",
      "\u001b[?25hCollecting et_xmlfile (from openpyxl)\n",
      "  Downloading https://files.pythonhosted.org/packages/22/28/a99c42aea746e18382ad9fb36f64c1c1f04216f41797f2f0fa567da11388/et_xmlfile-1.0.1.tar.gz\n",
      "Collecting jdcal (from openpyxl)\n",
      "  Downloading https://files.pythonhosted.org/packages/f0/da/572cbc0bc582390480bbd7c4e93d14dc46079778ed915b505dc494b37c57/jdcal-1.4.1-py2.py3-none-any.whl\n",
      "Building wheels for collected packages: openpyxl, et-xmlfile\n",
      "  Running setup.py bdist_wheel for openpyxl ... \u001b[?25lerror\n",
      "  Complete output from command /home/iesous-kurios/environments/fp_env/bin/python3 -u -c \"import setuptools, tokenize;__file__='/tmp/pip-build-f6l5fixg/openpyxl/setup.py';f=getattr(tokenize, 'open', open)(__file__);code=f.read().replace('\\r\\n', '\\n');f.close();exec(compile(code, __file__, 'exec'))\" bdist_wheel -d /tmp/tmp_02pap7xpip-wheel- --python-tag cp36:\n",
      "  usage: -c [global_opts] cmd1 [cmd1_opts] [cmd2 [cmd2_opts] ...]\n",
      "     or: -c --help [cmd1 cmd2 ...]\n",
      "     or: -c --help-commands\n",
      "     or: -c cmd --help\n",
      "  \n",
      "  error: invalid command 'bdist_wheel'\n",
      "  \n",
      "  ----------------------------------------\n",
      "\u001b[31m  Failed building wheel for openpyxl\u001b[0m\n",
      "\u001b[?25h  Running setup.py clean for openpyxl\n",
      "  Running setup.py bdist_wheel for et-xmlfile ... \u001b[?25lerror\n",
      "  Complete output from command /home/iesous-kurios/environments/fp_env/bin/python3 -u -c \"import setuptools, tokenize;__file__='/tmp/pip-build-f6l5fixg/et-xmlfile/setup.py';f=getattr(tokenize, 'open', open)(__file__);code=f.read().replace('\\r\\n', '\\n');f.close();exec(compile(code, __file__, 'exec'))\" bdist_wheel -d /tmp/tmpx8_ik344pip-wheel- --python-tag cp36:\n",
      "  usage: -c [global_opts] cmd1 [cmd1_opts] [cmd2 [cmd2_opts] ...]\n",
      "     or: -c --help [cmd1 cmd2 ...]\n",
      "     or: -c --help-commands\n",
      "     or: -c cmd --help\n",
      "  \n",
      "  error: invalid command 'bdist_wheel'\n",
      "  \n",
      "  ----------------------------------------\n",
      "\u001b[31m  Failed building wheel for et-xmlfile\u001b[0m\n",
      "\u001b[?25h  Running setup.py clean for et-xmlfile\n",
      "Failed to build openpyxl et-xmlfile\n",
      "Installing collected packages: et-xmlfile, jdcal, openpyxl\n",
      "  Running setup.py install for et-xmlfile ... \u001b[?25ldone\n",
      "\u001b[?25h  Running setup.py install for openpyxl ... \u001b[?25ldone\n",
      "\u001b[?25hSuccessfully installed et-xmlfile-1.0.1 jdcal-1.4.1 openpyxl-3.0.2\n",
      "Note: you may need to restart the kernel to use updated packages.\n"
     ]
    }
   ],
   "source": [
    "pip install openpyxl"
   ]
  },
  {
   "cell_type": "code",
   "execution_count": 58,
   "metadata": {
    "colab": {},
    "colab_type": "code",
    "id": "PI2xABQ_OwPa"
   },
   "outputs": [],
   "source": [
    "# export that sheet into excel file \n",
    "new_df_pivot.to_excel('~/environments/fp_env/family_promise_data/data/pivot.xlsx')"
   ]
  },
  {
   "cell_type": "code",
   "execution_count": 8,
   "metadata": {},
   "outputs": [
    {
     "data": {
      "text/plain": [
       "Individual                           1165\n",
       "Corporate/Organization/Foundation     117\n",
       "Congregations                         114\n",
       "Rent Income                            29\n",
       " Individual                             1\n",
       "`                                       1\n",
       "Corporation                             1\n",
       "Name: Fund/Product/Service, dtype: int64"
      ]
     },
     "execution_count": 8,
     "metadata": {},
     "output_type": "execute_result"
    }
   ],
   "source": [
    "df['Fund/Product/Service'].value_counts()"
   ]
  },
  {
   "cell_type": "code",
   "execution_count": 7,
   "metadata": {
    "colab": {},
    "colab_type": "code",
    "id": "kpD4tPpoPY8x"
   },
   "outputs": [],
   "source": [
    "# create new data frame with only the individual donors\n",
    "# (this list also has anybody from the major prospects removed)\n",
    "ind_type = df[df['Fund/Product/Service'] == 'Individual']"
   ]
  },
  {
   "cell_type": "code",
   "execution_count": 53,
   "metadata": {
    "colab": {
     "base_uri": "https://localhost:8080/",
     "height": 191
    },
    "colab_type": "code",
    "id": "F-JSHuROLMkN",
    "outputId": "12857cf0-30c2-49e3-f123-692b62bbb76e",
    "scrolled": true
   },
   "outputs": [
    {
     "data": {
      "text/plain": [
       "(1165, 32)"
      ]
     },
     "execution_count": 53,
     "metadata": {},
     "output_type": "execute_result"
    }
   ],
   "source": [
    "ind_type.shape"
   ]
  },
  {
   "cell_type": "code",
   "execution_count": 20,
   "metadata": {
    "scrolled": true
   },
   "outputs": [
    {
     "data": {
      "text/plain": [
       "Index(['First Name', 'Last Name', 'Gift Date', 'Reference No.', 'Gift Amount ',\n",
       "       'Billing Address', 'City', 'State', 'Zip Code', 'Email Address',\n",
       "       'Phone Number', 'Program/Division', 'Fund/Product/Service',\n",
       "       'Campaign/Deposit To', 'Soft Credit', 'Gift Memo', 'Mode of Payment ',\n",
       "       'Thank You Letter Written', 'Recorded in Fundly', 'Recorded in QBO'],\n",
       "      dtype='object')"
      ]
     },
     "execution_count": 20,
     "metadata": {},
     "output_type": "execute_result"
    }
   ],
   "source": [
    "ind_type.columns"
   ]
  },
  {
   "cell_type": "code",
   "execution_count": 13,
   "metadata": {},
   "outputs": [],
   "source": [
    "ind_type = ind_type.drop(columns=['Unnamed: 20', 'Unnamed: 21', 'Unnamed: 22', 'Unnamed: 23',\n",
    "       'Unnamed: 24', 'Unnamed: 25', 'Unnamed: 26', 'Unnamed: 27',\n",
    "       'Unnamed: 28', 'Unnamed: 29', 'Unnamed: 30', 'Unnamed: 31'])"
   ]
  },
  {
   "cell_type": "code",
   "execution_count": 26,
   "metadata": {},
   "outputs": [],
   "source": [
    "sorted_ind = ind_type.sort_values(by=['First Name', 'Last Name'], inplace=False)"
   ]
  },
  {
   "cell_type": "code",
   "execution_count": 27,
   "metadata": {
    "scrolled": true
   },
   "outputs": [
    {
     "data": {
      "text/html": [
       "<div>\n",
       "<style scoped>\n",
       "    .dataframe tbody tr th:only-of-type {\n",
       "        vertical-align: middle;\n",
       "    }\n",
       "\n",
       "    .dataframe tbody tr th {\n",
       "        vertical-align: top;\n",
       "    }\n",
       "\n",
       "    .dataframe thead th {\n",
       "        text-align: right;\n",
       "    }\n",
       "</style>\n",
       "<table border=\"1\" class=\"dataframe\">\n",
       "  <thead>\n",
       "    <tr style=\"text-align: right;\">\n",
       "      <th></th>\n",
       "      <th>First Name</th>\n",
       "      <th>Last Name</th>\n",
       "      <th>Gift Date</th>\n",
       "      <th>Reference No.</th>\n",
       "      <th>Gift Amount</th>\n",
       "      <th>Billing Address</th>\n",
       "      <th>City</th>\n",
       "      <th>State</th>\n",
       "      <th>Zip Code</th>\n",
       "      <th>Email Address</th>\n",
       "      <th>Phone Number</th>\n",
       "      <th>Program/Division</th>\n",
       "      <th>Fund/Product/Service</th>\n",
       "      <th>Campaign/Deposit To</th>\n",
       "      <th>Soft Credit</th>\n",
       "      <th>Gift Memo</th>\n",
       "      <th>Mode of Payment</th>\n",
       "      <th>Thank You Letter Written</th>\n",
       "      <th>Recorded in Fundly</th>\n",
       "      <th>Recorded in QBO</th>\n",
       "    </tr>\n",
       "  </thead>\n",
       "  <tbody>\n",
       "    <tr>\n",
       "      <th>381</th>\n",
       "      <td>Dan</td>\n",
       "      <td>Osborne</td>\n",
       "      <td>2019-04-18</td>\n",
       "      <td>Auctria</td>\n",
       "      <td>1244.0</td>\n",
       "      <td>1819 S Grand Blvd #2</td>\n",
       "      <td>Spokane</td>\n",
       "      <td>WA</td>\n",
       "      <td>99203</td>\n",
       "      <td>dan.osborne@shell.com</td>\n",
       "      <td>509-934-8331</td>\n",
       "      <td>Family Promise/Bridges</td>\n",
       "      <td>Individual</td>\n",
       "      <td>UnGala 2019</td>\n",
       "      <td>NaN</td>\n",
       "      <td>Purhased a Silver Table</td>\n",
       "      <td>Auctria - Stripe</td>\n",
       "      <td>NaN</td>\n",
       "      <td>2019-04-24 00:00:00</td>\n",
       "      <td>2019-04-19 00:00:00</td>\n",
       "    </tr>\n",
       "  </tbody>\n",
       "</table>\n",
       "</div>"
      ],
      "text/plain": [
       "    First Name Last Name  Gift Date Reference No.  Gift Amount   \\\n",
       "381        Dan   Osborne 2019-04-18       Auctria        1244.0   \n",
       "\n",
       "          Billing Address     City State Zip Code          Email Address  \\\n",
       "381  1819 S Grand Blvd #2  Spokane    WA    99203  dan.osborne@shell.com   \n",
       "\n",
       "     Phone Number        Program/Division Fund/Product/Service  \\\n",
       "381  509-934-8331  Family Promise/Bridges           Individual   \n",
       "\n",
       "    Campaign/Deposit To Soft Credit                Gift Memo  \\\n",
       "381         UnGala 2019         NaN  Purhased a Silver Table   \n",
       "\n",
       "     Mode of Payment  Thank You Letter Written   Recorded in Fundly  \\\n",
       "381  Auctria - Stripe                      NaN  2019-04-24 00:00:00   \n",
       "\n",
       "         Recorded in QBO  \n",
       "381  2019-04-19 00:00:00  "
      ]
     },
     "execution_count": 27,
     "metadata": {},
     "output_type": "execute_result"
    }
   ],
   "source": [
    "sorted_ind.head(1)"
   ]
  },
  {
   "cell_type": "code",
   "execution_count": 29,
   "metadata": {},
   "outputs": [],
   "source": [
    "sorted_ind = sorted_ind.drop(columns=['Gift Date', 'Reference No.', 'Mode of Payment ', \n",
    "                                      'Thank You Letter Written', 'Recorded in Fundly', 'Recorded in QBO'])"
   ]
  },
  {
   "cell_type": "code",
   "execution_count": 28,
   "metadata": {},
   "outputs": [
    {
     "data": {
      "text/plain": [
       "Index(['First Name', 'Last Name', 'Gift Date', 'Reference No.', 'Gift Amount ',\n",
       "       'Billing Address', 'City', 'State', 'Zip Code', 'Email Address',\n",
       "       'Phone Number', 'Program/Division', 'Fund/Product/Service',\n",
       "       'Campaign/Deposit To', 'Soft Credit', 'Gift Memo', 'Mode of Payment ',\n",
       "       'Thank You Letter Written', 'Recorded in Fundly', 'Recorded in QBO'],\n",
       "      dtype='object')"
      ]
     },
     "execution_count": 28,
     "metadata": {},
     "output_type": "execute_result"
    }
   ],
   "source": [
    "sorted_ind.columns"
   ]
  },
  {
   "cell_type": "code",
   "execution_count": 35,
   "metadata": {},
   "outputs": [],
   "source": [
    "n_sorted_ind = sorted_ind[~sorted_ind['Campaign/Deposit To'].str.contains(\"Rent\", na=False)]"
   ]
  },
  {
   "cell_type": "code",
   "execution_count": 36,
   "metadata": {},
   "outputs": [],
   "source": [
    "n_sorted_ind.to_excel('~/environments/fp_env/family_promise_data/data/sorted_ind_pivot5.xlsx')"
   ]
  },
  {
   "cell_type": "code",
   "execution_count": null,
   "metadata": {},
   "outputs": [],
   "source": [
    "# latest"
   ]
  },
  {
   "cell_type": "code",
   "execution_count": 52,
   "metadata": {
    "colab": {},
    "colab_type": "code",
    "id": "TEf9hwruQQT_"
   },
   "outputs": [],
   "source": [
    "# create new dataframe that has only the org type donors (again, nobody from\n",
    "# the major prospects list will be here)\n",
    "org_type = df[df['Fund/Product/Service'] == 'Corporate/Organization/Foundation']"
   ]
  },
  {
   "cell_type": "code",
   "execution_count": 53,
   "metadata": {},
   "outputs": [],
   "source": [
    "org_type = org_type.drop(columns=['Unnamed: 20', 'Unnamed: 21', 'Unnamed: 22', 'Unnamed: 23',\n",
    "       'Unnamed: 24', 'Unnamed: 25', 'Unnamed: 26', 'Unnamed: 27',\n",
    "       'Unnamed: 28', 'Unnamed: 29', 'Unnamed: 30', 'Unnamed: 31'])"
   ]
  },
  {
   "cell_type": "code",
   "execution_count": 54,
   "metadata": {},
   "outputs": [],
   "source": [
    "sorted_org = org_type.sort_values(by=['First Name', 'Last Name'], inplace=False)"
   ]
  },
  {
   "cell_type": "code",
   "execution_count": 55,
   "metadata": {},
   "outputs": [],
   "source": [
    "sorted_org = sorted_org.drop(columns=['Gift Date', 'Reference No.', 'Mode of Payment ', \n",
    "                                      'Thank You Letter Written', 'Recorded in Fundly', 'Recorded in QBO'])"
   ]
  },
  {
   "cell_type": "code",
   "execution_count": 56,
   "metadata": {},
   "outputs": [],
   "source": [
    "n_sorted_org = sorted_org[~sorted_org['Campaign/Deposit To'].str.contains(\"Rent\", na=False)]"
   ]
  },
  {
   "cell_type": "code",
   "execution_count": 57,
   "metadata": {},
   "outputs": [],
   "source": [
    "n_sorted_org.to_excel('~/environments/fp_env/family_promise_data/data/sorted_org_pivot6.xlsx')"
   ]
  },
  {
   "cell_type": "code",
   "execution_count": 58,
   "metadata": {},
   "outputs": [],
   "source": [
    "# create new dataframe that has only the org type donors (again, nobody from\n",
    "# the major prospects list will be here)\n",
    "cong_type = df[df['Fund/Product/Service'] == 'Congregations']"
   ]
  },
  {
   "cell_type": "code",
   "execution_count": 59,
   "metadata": {},
   "outputs": [],
   "source": [
    "cong_type = cong_type.drop(columns=['Unnamed: 20', 'Unnamed: 21', 'Unnamed: 22', 'Unnamed: 23',\n",
    "       'Unnamed: 24', 'Unnamed: 25', 'Unnamed: 26', 'Unnamed: 27',\n",
    "       'Unnamed: 28', 'Unnamed: 29', 'Unnamed: 30', 'Unnamed: 31'])"
   ]
  },
  {
   "cell_type": "code",
   "execution_count": 60,
   "metadata": {},
   "outputs": [],
   "source": [
    "sorted_cong = cong_type.sort_values(by=['First Name', 'Last Name'], inplace=False)"
   ]
  },
  {
   "cell_type": "code",
   "execution_count": 61,
   "metadata": {},
   "outputs": [],
   "source": [
    "sorted_cong = sorted_cong.drop(columns=['Gift Date', 'Reference No.', 'Mode of Payment ', \n",
    "                                      'Thank You Letter Written', 'Recorded in Fundly', 'Recorded in QBO'])"
   ]
  },
  {
   "cell_type": "code",
   "execution_count": 62,
   "metadata": {},
   "outputs": [],
   "source": [
    "n_sorted_cong = sorted_cong[~sorted_cong['Campaign/Deposit To'].str.contains(\"Rent\", na=False)]"
   ]
  },
  {
   "cell_type": "code",
   "execution_count": 63,
   "metadata": {},
   "outputs": [],
   "source": [
    "n_sorted_cong.to_excel('~/environments/fp_env/family_promise_data/data/sorted_cong_pivot7.xlsx')"
   ]
  },
  {
   "cell_type": "code",
   "execution_count": null,
   "metadata": {},
   "outputs": [],
   "source": []
  },
  {
   "cell_type": "code",
   "execution_count": 26,
   "metadata": {},
   "outputs": [],
   "source": [
    "# create dataframe with org donors listed by first, last and full name next to\n",
    "# the sum of their donations\n",
    "df_pivot = pd.pivot_table(cong_type, index=['First Name', 'Last Name', 'Billing Address', 'City', 'State', 'Zip Code', 'Gift Memo', 'Campaign/Deposit To'], \n",
    "                              values='Gift Amount ', aggfunc='sum')"
   ]
  },
  {
   "cell_type": "code",
   "execution_count": 27,
   "metadata": {
    "colab": {},
    "colab_type": "code",
    "id": "RVd9oraCQd4c"
   },
   "outputs": [],
   "source": [
    "# export the dataframe to excel sheet\n",
    "df_pivot.to_excel('~/environments/fp_env/family_promise_data/data/cong_pivot3.xlsx')"
   ]
  },
  {
   "cell_type": "code",
   "execution_count": 28,
   "metadata": {},
   "outputs": [
    {
     "data": {
      "text/plain": [
       "(1252, 32)"
      ]
     },
     "execution_count": 28,
     "metadata": {},
     "output_type": "execute_result"
    }
   ],
   "source": [
    "ind_type.shape"
   ]
  },
  {
   "cell_type": "code",
   "execution_count": 29,
   "metadata": {},
   "outputs": [
    {
     "data": {
      "text/plain": [
       "(121, 32)"
      ]
     },
     "execution_count": 29,
     "metadata": {},
     "output_type": "execute_result"
    }
   ],
   "source": [
    "org_type.shape"
   ]
  },
  {
   "cell_type": "code",
   "execution_count": 30,
   "metadata": {},
   "outputs": [
    {
     "data": {
      "text/plain": [
       "(122, 32)"
      ]
     },
     "execution_count": 30,
     "metadata": {},
     "output_type": "execute_result"
    }
   ],
   "source": [
    "cong_type.shape"
   ]
  },
  {
   "cell_type": "code",
   "execution_count": 31,
   "metadata": {},
   "outputs": [
    {
     "data": {
      "text/plain": [
       "1495"
      ]
     },
     "execution_count": 31,
     "metadata": {},
     "output_type": "execute_result"
    }
   ],
   "source": [
    "1252+121+122"
   ]
  },
  {
   "cell_type": "code",
   "execution_count": 32,
   "metadata": {},
   "outputs": [
    {
     "data": {
      "text/plain": [
       "(1528, 32)"
      ]
     },
     "execution_count": 32,
     "metadata": {},
     "output_type": "execute_result"
    }
   ],
   "source": [
    "df.shape"
   ]
  },
  {
   "cell_type": "code",
   "execution_count": 33,
   "metadata": {},
   "outputs": [
    {
     "data": {
      "text/plain": [
       "33"
      ]
     },
     "execution_count": 33,
     "metadata": {},
     "output_type": "execute_result"
    }
   ],
   "source": [
    "1528 - 1495"
   ]
  },
  {
   "cell_type": "code",
   "execution_count": 0,
   "metadata": {
    "colab": {},
    "colab_type": "code",
    "id": "52CHRRBAGNRY"
   },
   "outputs": [],
   "source": [
    "# create list of donors to compare against dataframe of 'have not donated' \n",
    "donated = new_df['Contact Name']"
   ]
  },
  {
   "cell_type": "code",
   "execution_count": 0,
   "metadata": {
    "colab": {},
    "colab_type": "code",
    "id": "w568V1AEKu8O"
   },
   "outputs": [],
   "source": [
    "not_donor = pd.read_excel('/content/not_donors.xlsx')"
   ]
  },
  {
   "cell_type": "code",
   "execution_count": 0,
   "metadata": {
    "colab": {},
    "colab_type": "code",
    "id": "_157GbBLF5Mc"
   },
   "outputs": [],
   "source": [
    "# create new dataframe based off of 'not donors' list that will remove a name\n",
    "# from the 'not donated' list if their name shows up on the 'donors' list\n",
    "not_donors = not_donor[~not_donor['Contact Name'].isin(donated)]"
   ]
  },
  {
   "cell_type": "code",
   "execution_count": 0,
   "metadata": {
    "colab": {},
    "colab_type": "code",
    "id": "BjRvTDICGVQb"
   },
   "outputs": [],
   "source": [
    "# create excel sheet out of new dataframe\n",
    "not_donors.to_excel('/content/not_donors.xlsx')"
   ]
  }
 ],
 "metadata": {
  "colab": {
   "include_colab_link": true,
   "name": "donor_worksheet.ipynb",
   "provenance": []
  },
  "kernelspec": {
   "display_name": "Python 3",
   "language": "python",
   "name": "python3"
  },
  "language_info": {
   "codemirror_mode": {
    "name": "ipython",
    "version": 3
   },
   "file_extension": ".py",
   "mimetype": "text/x-python",
   "name": "python",
   "nbconvert_exporter": "python",
   "pygments_lexer": "ipython3",
   "version": "3.6.9"
  }
 },
 "nbformat": 4,
 "nbformat_minor": 1
}
