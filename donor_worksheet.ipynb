{
  "nbformat": 4,
  "nbformat_minor": 0,
  "metadata": {
    "colab": {
      "name": "donor_worksheet.ipynb",
      "provenance": [],
      "include_colab_link": true
    },
    "kernelspec": {
      "name": "python3",
      "display_name": "Python 3"
    }
  },
  "cells": [
    {
      "cell_type": "markdown",
      "metadata": {
        "id": "view-in-github",
        "colab_type": "text"
      },
      "source": [
        "<a href=\"https://colab.research.google.com/github/iesous-kurios/family_promise_data/blob/master/donor_worksheet.ipynb\" target=\"_parent\"><img src=\"https://colab.research.google.com/assets/colab-badge.svg\" alt=\"Open In Colab\"/></a>"
      ]
    },
    {
      "cell_type": "code",
      "metadata": {
        "id": "pdaTNVnmGIkX",
        "colab_type": "code",
        "colab": {}
      },
      "source": [
        "import pandas as pd\n",
        "import numpy as np\n",
        "import matplotlib.pyplot as plt\n",
        "import seaborn as sns"
      ],
      "execution_count": 0,
      "outputs": []
    },
    {
      "cell_type": "code",
      "metadata": {
        "id": "TIc0-8BDHVRu",
        "colab_type": "code",
        "colab": {}
      },
      "source": [
        "all_donors = pd.read_excel('/content/all_donors.xlsx')\n",
        "major_prospect = pd.read_excel('/content/major_prospect.xlsx', header=None)"
      ],
      "execution_count": 0,
      "outputs": []
    },
    {
      "cell_type": "code",
      "metadata": {
        "id": "JHjTBzNDHiQY",
        "colab_type": "code",
        "colab": {
          "base_uri": "https://localhost:8080/",
          "height": 34
        },
        "outputId": "dceeead9-ddb7-477b-8b4e-7d521ed587be"
      },
      "source": [
        "all_donors.shape"
      ],
      "execution_count": 17,
      "outputs": [
        {
          "output_type": "execute_result",
          "data": {
            "text/plain": [
              "(931, 10)"
            ]
          },
          "metadata": {
            "tags": []
          },
          "execution_count": 17
        }
      ]
    },
    {
      "cell_type": "code",
      "metadata": {
        "id": "UrZKOKwnHks-",
        "colab_type": "code",
        "colab": {
          "base_uri": "https://localhost:8080/",
          "height": 34
        },
        "outputId": "658ae197-8c1f-4ee8-e43f-c8c11d89464b"
      },
      "source": [
        "major_prospect.shape"
      ],
      "execution_count": 18,
      "outputs": [
        {
          "output_type": "execute_result",
          "data": {
            "text/plain": [
              "(119, 1)"
            ]
          },
          "metadata": {
            "tags": []
          },
          "execution_count": 18
        }
      ]
    },
    {
      "cell_type": "code",
      "metadata": {
        "id": "q8ywHxhILpsi",
        "colab_type": "code",
        "colab": {
          "base_uri": "https://localhost:8080/",
          "height": 34
        },
        "outputId": "e82b63de-c638-4058-8805-2be4aff6e638"
      },
      "source": [
        "931 - 119"
      ],
      "execution_count": 19,
      "outputs": [
        {
          "output_type": "execute_result",
          "data": {
            "text/plain": [
              "812"
            ]
          },
          "metadata": {
            "tags": []
          },
          "execution_count": 19
        }
      ]
    },
    {
      "cell_type": "code",
      "metadata": {
        "id": "YvxL44ZAHpNu",
        "colab_type": "code",
        "colab": {}
      },
      "source": [
        "maj_pros_list = major_prospect[0]"
      ],
      "execution_count": 0,
      "outputs": []
    },
    {
      "cell_type": "code",
      "metadata": {
        "id": "oZRMAnAxH7b3",
        "colab_type": "code",
        "colab": {
          "base_uri": "https://localhost:8080/",
          "height": 221
        },
        "outputId": "0f16de97-33a1-45fc-b5cb-507468550c77"
      },
      "source": [
        "maj_pros_list"
      ],
      "execution_count": 11,
      "outputs": [
        {
          "output_type": "execute_result",
          "data": {
            "text/plain": [
              "0              Adam Oakley\n",
              "1              Amanda Swan\n",
              "2             Angie Hopson\n",
              "3      Dr. Arnold Peterson\n",
              "4              Ashlie Beal\n",
              "              ...         \n",
              "114             Terry Deno\n",
              "115           Terry Thoren\n",
              "116           Thomas Allen\n",
              "117            Tom Clemson\n",
              "118          Traci Hanegan\n",
              "Name: 0, Length: 119, dtype: object"
            ]
          },
          "metadata": {
            "tags": []
          },
          "execution_count": 11
        }
      ]
    },
    {
      "cell_type": "code",
      "metadata": {
        "id": "ZJbW3sgWIAfe",
        "colab_type": "code",
        "colab": {}
      },
      "source": [
        "new_df = all_donors[~all_donors['Contact Name'].isin(maj_pros_list)]"
      ],
      "execution_count": 0,
      "outputs": []
    },
    {
      "cell_type": "code",
      "metadata": {
        "id": "67OoWu_jLR6Y",
        "colab_type": "code",
        "colab": {
          "base_uri": "https://localhost:8080/",
          "height": 221
        },
        "outputId": "5fccf0c1-9aa0-43e4-adeb-ed545b3f4e0c"
      },
      "source": [
        "new_df['Contact Name']"
      ],
      "execution_count": 15,
      "outputs": [
        {
          "output_type": "execute_result",
          "data": {
            "text/plain": [
              "0                              Dr. Elizabeth Abbey\n",
              "1                                 Joseph Addington\n",
              "2                                      Frances Aga\n",
              "3                               North by Northwest\n",
              "4      Family Promise of the Mid-Willamette Valley\n",
              "                          ...                     \n",
              "926                                    Grant Wylie\n",
              "927                                   Cynthia Wynn\n",
              "928                                   Adrian Yanez\n",
              "929                                   Nathan Young\n",
              "930                            Micaela Young-Jaime\n",
              "Name: Contact Name, Length: 890, dtype: object"
            ]
          },
          "metadata": {
            "tags": []
          },
          "execution_count": 15
        }
      ]
    },
    {
      "cell_type": "code",
      "metadata": {
        "id": "ZHsDMxq-Lf9i",
        "colab_type": "code",
        "colab": {
          "base_uri": "https://localhost:8080/",
          "height": 34
        },
        "outputId": "dd6cfae6-aec0-4fc8-9a9c-e892293a5f2b"
      },
      "source": [
        "new_df.shape"
      ],
      "execution_count": 16,
      "outputs": [
        {
          "output_type": "execute_result",
          "data": {
            "text/plain": [
              "(890, 10)"
            ]
          },
          "metadata": {
            "tags": []
          },
          "execution_count": 16
        }
      ]
    },
    {
      "cell_type": "code",
      "metadata": {
        "id": "l1BSm2gUMCWn",
        "colab_type": "code",
        "colab": {}
      },
      "source": [
        "new_df.to_excel(\"/content/redacted.xlsx\")"
      ],
      "execution_count": 0,
      "outputs": []
    },
    {
      "cell_type": "code",
      "metadata": {
        "id": "Vx0FmRbkOMEm",
        "colab_type": "code",
        "colab": {}
      },
      "source": [
        "new_df_pivot = pd.pivot_table(new_df, index=['Contact Name', 'First Name', 'Last Name'], values='Donation Amount', aggfunc='sum')"
      ],
      "execution_count": 0,
      "outputs": []
    },
    {
      "cell_type": "code",
      "metadata": {
        "id": "PI2xABQ_OwPa",
        "colab_type": "code",
        "colab": {}
      },
      "source": [
        "new_df_pivot.to_excel('/content/pivot.xlsx')"
      ],
      "execution_count": 0,
      "outputs": []
    },
    {
      "cell_type": "code",
      "metadata": {
        "id": "KuCDg3gFOTos",
        "colab_type": "code",
        "colab": {
          "base_uri": "https://localhost:8080/",
          "height": 131
        },
        "outputId": "8f4cbca3-6054-421b-aa8f-d6571baf2070"
      },
      "source": [
        "new_df.head(1)"
      ],
      "execution_count": 21,
      "outputs": [
        {
          "output_type": "execute_result",
          "data": {
            "text/html": [
              "<div>\n",
              "<style scoped>\n",
              "    .dataframe tbody tr th:only-of-type {\n",
              "        vertical-align: middle;\n",
              "    }\n",
              "\n",
              "    .dataframe tbody tr th {\n",
              "        vertical-align: top;\n",
              "    }\n",
              "\n",
              "    .dataframe thead th {\n",
              "        text-align: right;\n",
              "    }\n",
              "</style>\n",
              "<table border=\"1\" class=\"dataframe\">\n",
              "  <thead>\n",
              "    <tr style=\"text-align: right;\">\n",
              "      <th></th>\n",
              "      <th>Type</th>\n",
              "      <th>Contact Name</th>\n",
              "      <th>Donation Amount</th>\n",
              "      <th>Total Given by Name</th>\n",
              "      <th>Prefix</th>\n",
              "      <th>First Name</th>\n",
              "      <th>Last Name</th>\n",
              "      <th>Donation Date</th>\n",
              "      <th>Phone</th>\n",
              "      <th>Full Address</th>\n",
              "    </tr>\n",
              "  </thead>\n",
              "  <tbody>\n",
              "    <tr>\n",
              "      <th>0</th>\n",
              "      <td>Individual</td>\n",
              "      <td>Dr. Elizabeth Abbey</td>\n",
              "      <td>51</td>\n",
              "      <td>NaN</td>\n",
              "      <td>Dr.</td>\n",
              "      <td>Elizabeth</td>\n",
              "      <td>Abbey</td>\n",
              "      <td>2019-05-16</td>\n",
              "      <td>5.097773e+09</td>\n",
              "      <td>416 W Park Place, Spokane, Spokane, WA - 99205</td>\n",
              "    </tr>\n",
              "  </tbody>\n",
              "</table>\n",
              "</div>"
            ],
            "text/plain": [
              "         Type  ...                                    Full Address\n",
              "0  Individual  ...  416 W Park Place, Spokane, Spokane, WA - 99205\n",
              "\n",
              "[1 rows x 10 columns]"
            ]
          },
          "metadata": {
            "tags": []
          },
          "execution_count": 21
        }
      ]
    },
    {
      "cell_type": "code",
      "metadata": {
        "id": "kpD4tPpoPY8x",
        "colab_type": "code",
        "colab": {}
      },
      "source": [
        "ind_type = new_df[new_df['Type'] == 'Individual']"
      ],
      "execution_count": 0,
      "outputs": []
    },
    {
      "cell_type": "code",
      "metadata": {
        "id": "eN1R-vY0PnsB",
        "colab_type": "code",
        "colab": {
          "base_uri": "https://localhost:8080/",
          "height": 391
        },
        "outputId": "3a0ab726-1677-4587-97a5-bd9dd43766ac"
      },
      "source": [
        "ind_type.head()"
      ],
      "execution_count": 27,
      "outputs": [
        {
          "output_type": "execute_result",
          "data": {
            "text/html": [
              "<div>\n",
              "<style scoped>\n",
              "    .dataframe tbody tr th:only-of-type {\n",
              "        vertical-align: middle;\n",
              "    }\n",
              "\n",
              "    .dataframe tbody tr th {\n",
              "        vertical-align: top;\n",
              "    }\n",
              "\n",
              "    .dataframe thead th {\n",
              "        text-align: right;\n",
              "    }\n",
              "</style>\n",
              "<table border=\"1\" class=\"dataframe\">\n",
              "  <thead>\n",
              "    <tr style=\"text-align: right;\">\n",
              "      <th></th>\n",
              "      <th>Type</th>\n",
              "      <th>Contact Name</th>\n",
              "      <th>Donation Amount</th>\n",
              "      <th>Total Given by Name</th>\n",
              "      <th>Prefix</th>\n",
              "      <th>First Name</th>\n",
              "      <th>Last Name</th>\n",
              "      <th>Donation Date</th>\n",
              "      <th>Phone</th>\n",
              "      <th>Full Address</th>\n",
              "    </tr>\n",
              "  </thead>\n",
              "  <tbody>\n",
              "    <tr>\n",
              "      <th>0</th>\n",
              "      <td>Individual</td>\n",
              "      <td>Dr. Elizabeth Abbey</td>\n",
              "      <td>51</td>\n",
              "      <td>NaN</td>\n",
              "      <td>Dr.</td>\n",
              "      <td>Elizabeth</td>\n",
              "      <td>Abbey</td>\n",
              "      <td>2019-05-16</td>\n",
              "      <td>5.097773e+09</td>\n",
              "      <td>416 W Park Place, Spokane, Spokane, WA - 99205</td>\n",
              "    </tr>\n",
              "    <tr>\n",
              "      <th>1</th>\n",
              "      <td>Individual</td>\n",
              "      <td>Joseph Addington</td>\n",
              "      <td>100</td>\n",
              "      <td>NaN</td>\n",
              "      <td>NaN</td>\n",
              "      <td>Joseph</td>\n",
              "      <td>Addington</td>\n",
              "      <td>2019-04-17</td>\n",
              "      <td>NaN</td>\n",
              "      <td>2523 E 17th Ave, Spokane, WA - 99223</td>\n",
              "    </tr>\n",
              "    <tr>\n",
              "      <th>2</th>\n",
              "      <td>Individual</td>\n",
              "      <td>Frances Aga</td>\n",
              "      <td>50</td>\n",
              "      <td>NaN</td>\n",
              "      <td>NaN</td>\n",
              "      <td>Frances</td>\n",
              "      <td>Aga</td>\n",
              "      <td>2018-11-29</td>\n",
              "      <td>NaN</td>\n",
              "      <td>15810 E Lincoln Road, Spokane, WA - 99217</td>\n",
              "    </tr>\n",
              "    <tr>\n",
              "      <th>5</th>\n",
              "      <td>Individual</td>\n",
              "      <td>Frances Aga</td>\n",
              "      <td>75</td>\n",
              "      <td>NaN</td>\n",
              "      <td>NaN</td>\n",
              "      <td>Frances</td>\n",
              "      <td>Aga</td>\n",
              "      <td>2019-07-02</td>\n",
              "      <td>NaN</td>\n",
              "      <td>15810 E Lincoln Road, Spokane, WA - 99217</td>\n",
              "    </tr>\n",
              "    <tr>\n",
              "      <th>6</th>\n",
              "      <td>Individual</td>\n",
              "      <td>Calum Akins</td>\n",
              "      <td>10</td>\n",
              "      <td>NaN</td>\n",
              "      <td>NaN</td>\n",
              "      <td>Calum</td>\n",
              "      <td>Akins</td>\n",
              "      <td>2019-09-28</td>\n",
              "      <td>NaN</td>\n",
              "      <td>NaN</td>\n",
              "    </tr>\n",
              "  </tbody>\n",
              "</table>\n",
              "</div>"
            ],
            "text/plain": [
              "         Type  ...                                    Full Address\n",
              "0  Individual  ...  416 W Park Place, Spokane, Spokane, WA - 99205\n",
              "1  Individual  ...            2523 E 17th Ave, Spokane, WA - 99223\n",
              "2  Individual  ...       15810 E Lincoln Road, Spokane, WA - 99217\n",
              "5  Individual  ...       15810 E Lincoln Road, Spokane, WA - 99217\n",
              "6  Individual  ...                                             NaN\n",
              "\n",
              "[5 rows x 10 columns]"
            ]
          },
          "metadata": {
            "tags": []
          },
          "execution_count": 27
        }
      ]
    },
    {
      "cell_type": "code",
      "metadata": {
        "id": "2MajzsMgPtgy",
        "colab_type": "code",
        "colab": {}
      },
      "source": [
        "ind_df_pivot = pd.pivot_table(ind_type, index=['Contact Name', 'First Name', 'Last Name'], values='Donation Amount', aggfunc='sum')"
      ],
      "execution_count": 0,
      "outputs": []
    },
    {
      "cell_type": "code",
      "metadata": {
        "id": "6w0EVn3jP423",
        "colab_type": "code",
        "colab": {}
      },
      "source": [
        "ind_df_pivot.to_excel('/content/ind_pivot.xlsx')"
      ],
      "execution_count": 0,
      "outputs": []
    },
    {
      "cell_type": "code",
      "metadata": {
        "id": "TEf9hwruQQT_",
        "colab_type": "code",
        "colab": {}
      },
      "source": [
        "org_type = new_df[new_df['Type'] == 'Organization']"
      ],
      "execution_count": 0,
      "outputs": []
    },
    {
      "cell_type": "code",
      "metadata": {
        "id": "sSnTHBK0QYBO",
        "colab_type": "code",
        "colab": {}
      },
      "source": [
        "org_df_pivot = pd.pivot_table(org_type, index=['Contact Name', 'First Name', 'Last Name'], values='Donation Amount', aggfunc='sum')"
      ],
      "execution_count": 0,
      "outputs": []
    },
    {
      "cell_type": "code",
      "metadata": {
        "id": "RVd9oraCQd4c",
        "colab_type": "code",
        "colab": {}
      },
      "source": [
        "org_df_pivot.to_excel('/content/org_pivot.xlsx')"
      ],
      "execution_count": 0,
      "outputs": []
    }
  ]
}