{
 "cells": [
  {
   "cell_type": "code",
   "execution_count": 182,
   "metadata": {},
   "outputs": [],
   "source": [
    "\n",
    "%%capture\n",
    "import sys\n",
    "\n",
    "# If you're on Colab:\n",
    "if 'google.colab' in sys.modules:\n",
    "    DATA_PATH = 'https://raw.githubusercontent.com/LambdaSchool/DS-Unit-2-Applied-Modeling/master/data/'\n",
    "    !pip install category_encoders==2.*\n",
    "    !pip install eli5\n",
    "    !pip install pdpbox\n",
    "    !pip install shap\n",
    "\n",
    "# If you're working locally:\n",
    "else:\n",
    "    DATA_PATH = '../data/'"
   ]
  },
  {
   "cell_type": "code",
   "execution_count": 183,
   "metadata": {},
   "outputs": [
    {
     "name": "stdout",
     "output_type": "stream",
     "text": [
      "Requirement already satisfied: xlrd in /home/iesous-kurios/my_app/lib/python3.6/site-packages (1.2.0)\n",
      "Note: you may need to restart the kernel to use updated packages.\n"
     ]
    }
   ],
   "source": [
    "pip install xlrd"
   ]
  },
  {
   "cell_type": "code",
   "execution_count": 184,
   "metadata": {},
   "outputs": [],
   "source": [
    "# section to import functions/libraries that allows me to work with the data\n",
    "\n",
    "import pandas as pd\n",
    "import numpy as np\n",
    "import matplotlib.pyplot as plt\n",
    "import seaborn as sns"
   ]
  },
  {
   "cell_type": "code",
   "execution_count": 185,
   "metadata": {
    "colab": {},
    "colab_type": "code",
    "id": "TIc0-8BDHVRu"
   },
   "outputs": [],
   "source": [
    "# import an 'all donors' dataframe\n",
    "#all_donors = pd.read_excel('/content/all_donors.xlsx')\n",
    "\n",
    "# import an 'all major prospects' data fra\n",
    "df = pd.read_excel('~/my_app/family_promise_data/data/Donation Verification Document  (2).xlsx')\n",
    "\n",
    "\n",
    "#df = pd.read_excel(DATA_PATH+'/Unit_2_project_data.xlsx')"
   ]
  },
  {
   "cell_type": "code",
   "execution_count": 186,
   "metadata": {
    "colab": {
     "base_uri": "https://localhost:8080/",
     "height": 33
    },
    "colab_type": "code",
    "id": "JHjTBzNDHiQY",
    "outputId": "42cac6ec-60f6-4138-f2de-b09d0cc8b29a",
    "scrolled": true
   },
   "outputs": [
    {
     "data": {
      "text/html": [
       "<div>\n",
       "<style scoped>\n",
       "    .dataframe tbody tr th:only-of-type {\n",
       "        vertical-align: middle;\n",
       "    }\n",
       "\n",
       "    .dataframe tbody tr th {\n",
       "        vertical-align: top;\n",
       "    }\n",
       "\n",
       "    .dataframe thead th {\n",
       "        text-align: right;\n",
       "    }\n",
       "</style>\n",
       "<table border=\"1\" class=\"dataframe\">\n",
       "  <thead>\n",
       "    <tr style=\"text-align: right;\">\n",
       "      <th></th>\n",
       "      <th>First Name</th>\n",
       "      <th>Last Name</th>\n",
       "      <th>Gift Date</th>\n",
       "      <th>Reference No.</th>\n",
       "      <th>Gift Amount</th>\n",
       "      <th>Billing Address</th>\n",
       "      <th>City</th>\n",
       "      <th>State</th>\n",
       "      <th>Zip Code</th>\n",
       "      <th>Email Address</th>\n",
       "      <th>...</th>\n",
       "      <th>Unnamed: 22</th>\n",
       "      <th>Unnamed: 23</th>\n",
       "      <th>Unnamed: 24</th>\n",
       "      <th>Unnamed: 25</th>\n",
       "      <th>Unnamed: 26</th>\n",
       "      <th>Unnamed: 27</th>\n",
       "      <th>Unnamed: 28</th>\n",
       "      <th>Unnamed: 29</th>\n",
       "      <th>Unnamed: 30</th>\n",
       "      <th>Unnamed: 31</th>\n",
       "    </tr>\n",
       "  </thead>\n",
       "  <tbody>\n",
       "  </tbody>\n",
       "</table>\n",
       "<p>0 rows × 32 columns</p>\n",
       "</div>"
      ],
      "text/plain": [
       "Empty DataFrame\n",
       "Columns: [First Name, Last Name, Gift Date, Reference No., Gift Amount , Billing Address, City, State, Zip Code, Email Address, Phone Number, Program/Division, Fund/Product/Service, Campaign/Deposit To, Soft Credit, Gift Memo, Mode of Payment , Thank You Letter Written, Recorded in Fundly, Recorded in QBO, Unnamed: 20, Unnamed: 21, Unnamed: 22, Unnamed: 23, Unnamed: 24, Unnamed: 25, Unnamed: 26, Unnamed: 27, Unnamed: 28, Unnamed: 29, Unnamed: 30, Unnamed: 31]\n",
       "Index: []\n",
       "\n",
       "[0 rows x 32 columns]"
      ]
     },
     "execution_count": 186,
     "metadata": {},
     "output_type": "execute_result"
    }
   ],
   "source": [
    "df.head(0)"
   ]
  },
  {
   "cell_type": "code",
   "execution_count": 187,
   "metadata": {
    "scrolled": true
   },
   "outputs": [
    {
     "data": {
      "text/plain": [
       "Index(['First Name', 'Last Name', 'Gift Date', 'Reference No.', 'Gift Amount ',\n",
       "       'Billing Address', 'City', 'State', 'Zip Code', 'Email Address',\n",
       "       'Phone Number', 'Program/Division', 'Fund/Product/Service',\n",
       "       'Campaign/Deposit To', 'Soft Credit', 'Gift Memo', 'Mode of Payment ',\n",
       "       'Thank You Letter Written', 'Recorded in Fundly', 'Recorded in QBO',\n",
       "       'Unnamed: 20', 'Unnamed: 21', 'Unnamed: 22', 'Unnamed: 23',\n",
       "       'Unnamed: 24', 'Unnamed: 25', 'Unnamed: 26', 'Unnamed: 27',\n",
       "       'Unnamed: 28', 'Unnamed: 29', 'Unnamed: 30', 'Unnamed: 31'],\n",
       "      dtype='object')"
      ]
     },
     "execution_count": 187,
     "metadata": {},
     "output_type": "execute_result"
    }
   ],
   "source": [
    "df.columns"
   ]
  },
  {
   "cell_type": "code",
   "execution_count": 188,
   "metadata": {
    "colab": {},
    "colab_type": "code",
    "id": "YvxL44ZAHpNu"
   },
   "outputs": [
    {
     "data": {
      "text/plain": [
       "Individual                           1252\n",
       "Congregations                         122\n",
       "Corporate/Organization/Foundation     121\n",
       "Rent Income                            30\n",
       " Individual                             1\n",
       "`                                       1\n",
       "Corporation                             1\n",
       "Name: Fund/Product/Service, dtype: int64"
      ]
     },
     "execution_count": 188,
     "metadata": {},
     "output_type": "execute_result"
    }
   ],
   "source": [
    "df['Fund/Product/Service'].value_counts()"
   ]
  },
  {
   "cell_type": "code",
   "execution_count": 189,
   "metadata": {
    "colab": {
     "base_uri": "https://localhost:8080/",
     "height": 212
    },
    "colab_type": "code",
    "id": "oZRMAnAxH7b3",
    "outputId": "7083cd49-0c64-4888-e2d7-5074c38d36a9"
   },
   "outputs": [],
   "source": [
    "# print that array\n",
    "#maj_pros_list"
   ]
  },
  {
   "cell_type": "code",
   "execution_count": 190,
   "metadata": {
    "colab": {},
    "colab_type": "code",
    "id": "ZJbW3sgWIAfe"
   },
   "outputs": [],
   "source": [
    "# create new dataframe that has base of all donors but removed any name \n",
    "# from the all donors list if that name is also on the major prospects list\n",
    "\n",
    "#new_df = all_donors[~all_donors['Contact Name'].isin(maj_pros_list)]"
   ]
  },
  {
   "cell_type": "code",
   "execution_count": 191,
   "metadata": {
    "colab": {
     "base_uri": "https://localhost:8080/",
     "height": 33
    },
    "colab_type": "code",
    "id": "ZHsDMxq-Lf9i",
    "outputId": "43762551-4b6b-4250-9031-f2ae7b86eb59"
   },
   "outputs": [],
   "source": [
    "#new_df.shape"
   ]
  },
  {
   "cell_type": "code",
   "execution_count": 192,
   "metadata": {
    "colab": {},
    "colab_type": "code",
    "id": "l1BSm2gUMCWn"
   },
   "outputs": [],
   "source": [
    "# export that redacted list into an excel file\n",
    "#new_df.to_excel(\"/content/redacted.xlsx\")"
   ]
  },
  {
   "cell_type": "code",
   "execution_count": 193,
   "metadata": {
    "colab": {
     "base_uri": "https://localhost:8080/",
     "height": 191
    },
    "colab_type": "code",
    "id": "FmNN3U--KMgj",
    "outputId": "8731cc73-f0e1-4cfc-898b-a10c1a04996a",
    "scrolled": true
   },
   "outputs": [
    {
     "data": {
      "text/html": [
       "<div>\n",
       "<style scoped>\n",
       "    .dataframe tbody tr th:only-of-type {\n",
       "        vertical-align: middle;\n",
       "    }\n",
       "\n",
       "    .dataframe tbody tr th {\n",
       "        vertical-align: top;\n",
       "    }\n",
       "\n",
       "    .dataframe thead th {\n",
       "        text-align: right;\n",
       "    }\n",
       "</style>\n",
       "<table border=\"1\" class=\"dataframe\">\n",
       "  <thead>\n",
       "    <tr style=\"text-align: right;\">\n",
       "      <th></th>\n",
       "      <th>First Name</th>\n",
       "      <th>Last Name</th>\n",
       "      <th>Gift Date</th>\n",
       "      <th>Reference No.</th>\n",
       "      <th>Gift Amount</th>\n",
       "      <th>Billing Address</th>\n",
       "      <th>City</th>\n",
       "      <th>State</th>\n",
       "      <th>Zip Code</th>\n",
       "      <th>Email Address</th>\n",
       "      <th>...</th>\n",
       "      <th>Unnamed: 22</th>\n",
       "      <th>Unnamed: 23</th>\n",
       "      <th>Unnamed: 24</th>\n",
       "      <th>Unnamed: 25</th>\n",
       "      <th>Unnamed: 26</th>\n",
       "      <th>Unnamed: 27</th>\n",
       "      <th>Unnamed: 28</th>\n",
       "      <th>Unnamed: 29</th>\n",
       "      <th>Unnamed: 30</th>\n",
       "      <th>Unnamed: 31</th>\n",
       "    </tr>\n",
       "  </thead>\n",
       "  <tbody>\n",
       "  </tbody>\n",
       "</table>\n",
       "<p>0 rows × 32 columns</p>\n",
       "</div>"
      ],
      "text/plain": [
       "Empty DataFrame\n",
       "Columns: [First Name, Last Name, Gift Date, Reference No., Gift Amount , Billing Address, City, State, Zip Code, Email Address, Phone Number, Program/Division, Fund/Product/Service, Campaign/Deposit To, Soft Credit, Gift Memo, Mode of Payment , Thank You Letter Written, Recorded in Fundly, Recorded in QBO, Unnamed: 20, Unnamed: 21, Unnamed: 22, Unnamed: 23, Unnamed: 24, Unnamed: 25, Unnamed: 26, Unnamed: 27, Unnamed: 28, Unnamed: 29, Unnamed: 30, Unnamed: 31]\n",
       "Index: []\n",
       "\n",
       "[0 rows x 32 columns]"
      ]
     },
     "execution_count": 193,
     "metadata": {},
     "output_type": "execute_result"
    }
   ],
   "source": [
    "df.head(0)"
   ]
  },
  {
   "cell_type": "code",
   "execution_count": 194,
   "metadata": {},
   "outputs": [
    {
     "data": {
      "text/plain": [
       "Index(['First Name', 'Last Name', 'Gift Date', 'Reference No.', 'Gift Amount ',\n",
       "       'Billing Address', 'City', 'State', 'Zip Code', 'Email Address',\n",
       "       'Phone Number', 'Program/Division', 'Fund/Product/Service',\n",
       "       'Campaign/Deposit To', 'Soft Credit', 'Gift Memo', 'Mode of Payment ',\n",
       "       'Thank You Letter Written', 'Recorded in Fundly', 'Recorded in QBO',\n",
       "       'Unnamed: 20', 'Unnamed: 21', 'Unnamed: 22', 'Unnamed: 23',\n",
       "       'Unnamed: 24', 'Unnamed: 25', 'Unnamed: 26', 'Unnamed: 27',\n",
       "       'Unnamed: 28', 'Unnamed: 29', 'Unnamed: 30', 'Unnamed: 31'],\n",
       "      dtype='object')"
      ]
     },
     "execution_count": 194,
     "metadata": {},
     "output_type": "execute_result"
    }
   ],
   "source": [
    "df.columns"
   ]
  },
  {
   "cell_type": "code",
   "execution_count": 195,
   "metadata": {
    "colab": {},
    "colab_type": "code",
    "id": "Vx0FmRbkOMEm"
   },
   "outputs": [],
   "source": [
    "# create new sheet for excel file that has sum of donation listed by each \n",
    "# donor's first, last, and full name\n",
    "#new_df_pivot = pd.pivot_table(df, \n",
    " #                             index=['First Name', 'Last Name', 'Billing Address', 'City', 'State', 'Zip Code'], \n",
    "  #                            values='Gift Amount ')"
   ]
  },
  {
   "cell_type": "code",
   "execution_count": 196,
   "metadata": {
    "scrolled": false
   },
   "outputs": [],
   "source": [
    "#pip install openpyxl"
   ]
  },
  {
   "cell_type": "code",
   "execution_count": 197,
   "metadata": {
    "colab": {},
    "colab_type": "code",
    "id": "PI2xABQ_OwPa"
   },
   "outputs": [],
   "source": [
    "# export that sheet into excel file \n",
    "#new_df_pivot.to_excel('~/environments/fp_env/family_promise_data/data/pivot.xlsx')"
   ]
  },
  {
   "cell_type": "code",
   "execution_count": 198,
   "metadata": {},
   "outputs": [
    {
     "data": {
      "text/plain": [
       "Individual                           1252\n",
       "Congregations                         122\n",
       "Corporate/Organization/Foundation     121\n",
       "Rent Income                            30\n",
       " Individual                             1\n",
       "`                                       1\n",
       "Corporation                             1\n",
       "Name: Fund/Product/Service, dtype: int64"
      ]
     },
     "execution_count": 198,
     "metadata": {},
     "output_type": "execute_result"
    }
   ],
   "source": [
    "df['Fund/Product/Service'].value_counts()"
   ]
  },
  {
   "cell_type": "code",
   "execution_count": 199,
   "metadata": {
    "colab": {},
    "colab_type": "code",
    "id": "kpD4tPpoPY8x"
   },
   "outputs": [],
   "source": [
    "# create new data frame with only the individual donors\n",
    "# (this list also has anybody from the major prospects removed)\n",
    "ind_type = df[df['Fund/Product/Service'] == 'Individual']"
   ]
  },
  {
   "cell_type": "code",
   "execution_count": 200,
   "metadata": {
    "colab": {
     "base_uri": "https://localhost:8080/",
     "height": 191
    },
    "colab_type": "code",
    "id": "F-JSHuROLMkN",
    "outputId": "12857cf0-30c2-49e3-f123-692b62bbb76e",
    "scrolled": true
   },
   "outputs": [
    {
     "data": {
      "text/plain": [
       "(1252, 32)"
      ]
     },
     "execution_count": 200,
     "metadata": {},
     "output_type": "execute_result"
    }
   ],
   "source": [
    "ind_type.shape"
   ]
  },
  {
   "cell_type": "code",
   "execution_count": 201,
   "metadata": {
    "scrolled": true
   },
   "outputs": [
    {
     "data": {
      "text/plain": [
       "Index(['First Name', 'Last Name', 'Gift Date', 'Reference No.', 'Gift Amount ',\n",
       "       'Billing Address', 'City', 'State', 'Zip Code', 'Email Address',\n",
       "       'Phone Number', 'Program/Division', 'Fund/Product/Service',\n",
       "       'Campaign/Deposit To', 'Soft Credit', 'Gift Memo', 'Mode of Payment ',\n",
       "       'Thank You Letter Written', 'Recorded in Fundly', 'Recorded in QBO',\n",
       "       'Unnamed: 20', 'Unnamed: 21', 'Unnamed: 22', 'Unnamed: 23',\n",
       "       'Unnamed: 24', 'Unnamed: 25', 'Unnamed: 26', 'Unnamed: 27',\n",
       "       'Unnamed: 28', 'Unnamed: 29', 'Unnamed: 30', 'Unnamed: 31'],\n",
       "      dtype='object')"
      ]
     },
     "execution_count": 201,
     "metadata": {},
     "output_type": "execute_result"
    }
   ],
   "source": [
    "ind_type.columns"
   ]
  },
  {
   "cell_type": "code",
   "execution_count": 202,
   "metadata": {},
   "outputs": [],
   "source": [
    "ind_type = ind_type.drop(columns=['Unnamed: 20', 'Unnamed: 21', 'Unnamed: 22', 'Unnamed: 23',\n",
    "       'Unnamed: 24', 'Unnamed: 25', 'Unnamed: 26', 'Unnamed: 27',\n",
    "       'Unnamed: 28', 'Unnamed: 29', 'Unnamed: 30', 'Unnamed: 31'])"
   ]
  },
  {
   "cell_type": "code",
   "execution_count": 203,
   "metadata": {},
   "outputs": [],
   "source": [
    "sorted_ind = ind_type.sort_values(by=['First Name', 'Last Name'], inplace=False)"
   ]
  },
  {
   "cell_type": "code",
   "execution_count": null,
   "metadata": {
    "scrolled": false
   },
   "outputs": [],
   "source": [
    "sorted_ind.head(1)"
   ]
  },
  {
   "cell_type": "code",
   "execution_count": 205,
   "metadata": {},
   "outputs": [
    {
     "data": {
      "text/plain": [
       "Index(['First Name', 'Last Name', 'Gift Date', 'Gift Amount ',\n",
       "       'Billing Address', 'City', 'State', 'Zip Code', 'Email Address',\n",
       "       'Phone Number', 'Program/Division', 'Fund/Product/Service',\n",
       "       'Campaign/Deposit To', 'Soft Credit', 'Gift Memo'],\n",
       "      dtype='object')"
      ]
     },
     "execution_count": 205,
     "metadata": {},
     "output_type": "execute_result"
    }
   ],
   "source": [
    "n_sorted_ind.columns"
   ]
  },
  {
   "cell_type": "code",
   "execution_count": 206,
   "metadata": {},
   "outputs": [],
   "source": [
    "n_sorted_ind = sorted_ind[~sorted_ind['Reference No.'].str.contains(\"FaceBook\", na=False)]"
   ]
  },
  {
   "cell_type": "code",
   "execution_count": 207,
   "metadata": {},
   "outputs": [],
   "source": [
    "n_sorted_ind = n_sorted_ind[~n_sorted_ind['Campaign/Deposit To'].str.contains(\"Grant\", na=False)]"
   ]
  },
  {
   "cell_type": "code",
   "execution_count": 208,
   "metadata": {},
   "outputs": [],
   "source": [
    "n_sorted_ind = n_sorted_ind[~n_sorted_ind['Campaign/Deposit To'].str.contains(\"Rent\", na=False)]"
   ]
  },
  {
   "cell_type": "code",
   "execution_count": 209,
   "metadata": {},
   "outputs": [],
   "source": [
    "n_sorted_ind = n_sorted_ind.drop(columns=['Reference No.', 'Mode of Payment ', \n",
    "                                      'Thank You Letter Written', 'Recorded in Fundly', 'Recorded in QBO'])"
   ]
  },
  {
   "cell_type": "code",
   "execution_count": 210,
   "metadata": {},
   "outputs": [],
   "source": [
    "n_sorted_ind.to_excel('~/my_app/family_promise_data/data/sorted_ind_final.xlsx')"
   ]
  },
  {
   "cell_type": "code",
   "execution_count": 211,
   "metadata": {
    "colab": {},
    "colab_type": "code",
    "id": "TEf9hwruQQT_"
   },
   "outputs": [],
   "source": [
    "# create new dataframe that has only the org type donors (again, nobody from\n",
    "# the major prospects list will be here)\n",
    "org_type = df[df['Fund/Product/Service'] == 'Corporate/Organization/Foundation']"
   ]
  },
  {
   "cell_type": "code",
   "execution_count": 212,
   "metadata": {},
   "outputs": [],
   "source": [
    "org_type = org_type.drop(columns=['Unnamed: 20', 'Unnamed: 21', 'Unnamed: 22', 'Unnamed: 23',\n",
    "       'Unnamed: 24', 'Unnamed: 25', 'Unnamed: 26', 'Unnamed: 27',\n",
    "       'Unnamed: 28', 'Unnamed: 29', 'Unnamed: 30', 'Unnamed: 31'])"
   ]
  },
  {
   "cell_type": "code",
   "execution_count": 213,
   "metadata": {},
   "outputs": [],
   "source": [
    "sorted_org = org_type.sort_values(by=['First Name', 'Last Name'], inplace=False)"
   ]
  },
  {
   "cell_type": "code",
   "execution_count": 214,
   "metadata": {},
   "outputs": [],
   "source": [
    "n_sorted_org = sorted_org[~sorted_org['Campaign/Deposit To'].str.contains(\"Rent\", na=False)]"
   ]
  },
  {
   "cell_type": "code",
   "execution_count": 215,
   "metadata": {},
   "outputs": [],
   "source": [
    "n_sorted_org = n_sorted_org[~n_sorted_org['Campaign/Deposit To'].str.contains(\"Grant Income\", na=False)]"
   ]
  },
  {
   "cell_type": "code",
   "execution_count": 216,
   "metadata": {},
   "outputs": [],
   "source": [
    "n_sorted_org = n_sorted_org[~n_sorted_org['Reference No.'].str.contains(\"FaceBook\", na=False)]"
   ]
  },
  {
   "cell_type": "code",
   "execution_count": 217,
   "metadata": {},
   "outputs": [],
   "source": [
    "n_sorted_org = n_sorted_org.drop(columns=['Reference No.', 'Mode of Payment ', \n",
    "                                      'Thank You Letter Written', 'Recorded in Fundly', 'Recorded in QBO'])"
   ]
  },
  {
   "cell_type": "code",
   "execution_count": 218,
   "metadata": {},
   "outputs": [],
   "source": [
    "n_sorted_org.to_excel('~/my_app/family_promise_data/data/sorted_org_final.xlsx')"
   ]
  },
  {
   "cell_type": "code",
   "execution_count": 219,
   "metadata": {},
   "outputs": [],
   "source": [
    "# create new dataframe that has only the org type donors (again, nobody from\n",
    "# the major prospects list will be here)\n",
    "cong_type = df[df['Fund/Product/Service'] == 'Congregations']"
   ]
  },
  {
   "cell_type": "code",
   "execution_count": 220,
   "metadata": {},
   "outputs": [],
   "source": [
    "cong_type = cong_type.drop(columns=['Unnamed: 20', 'Unnamed: 21', 'Unnamed: 22', 'Unnamed: 23',\n",
    "       'Unnamed: 24', 'Unnamed: 25', 'Unnamed: 26', 'Unnamed: 27',\n",
    "       'Unnamed: 28', 'Unnamed: 29', 'Unnamed: 30', 'Unnamed: 31'])"
   ]
  },
  {
   "cell_type": "code",
   "execution_count": 221,
   "metadata": {},
   "outputs": [],
   "source": [
    "n_sorted_cong = cong_type.sort_values(by=['First Name', 'Last Name'], inplace=False)"
   ]
  },
  {
   "cell_type": "code",
   "execution_count": 222,
   "metadata": {},
   "outputs": [],
   "source": [
    "n_sorted_cong = n_sorted_cong[~n_sorted_cong['Campaign/Deposit To'].str.contains(\"Rent\", na=False)]"
   ]
  },
  {
   "cell_type": "code",
   "execution_count": 223,
   "metadata": {},
   "outputs": [],
   "source": [
    "n_sorted_cong = n_sorted_cong[~n_sorted_cong['Campaign/Deposit To'].str.contains(\"Grant Income\", na=False)]"
   ]
  },
  {
   "cell_type": "code",
   "execution_count": 224,
   "metadata": {},
   "outputs": [],
   "source": [
    "n_sorted_org = n_sorted_cong[~n_sorted_cong['Reference No.'].str.contains(\"FaceBook\", na=False)]"
   ]
  },
  {
   "cell_type": "code",
   "execution_count": 225,
   "metadata": {},
   "outputs": [],
   "source": [
    "n_sorted_cong = n_sorted_cong.drop(columns=['Reference No.', 'Mode of Payment ', \n",
    "                                      'Thank You Letter Written', 'Recorded in Fundly', 'Recorded in QBO'])"
   ]
  },
  {
   "cell_type": "code",
   "execution_count": 226,
   "metadata": {},
   "outputs": [],
   "source": [
    "n_sorted_cong.to_excel('~/my_app/family_promise_data/data/sorted_cong_final.xlsx')"
   ]
  },
  {
   "cell_type": "code",
   "execution_count": null,
   "metadata": {},
   "outputs": [],
   "source": []
  },
  {
   "cell_type": "code",
   "execution_count": 227,
   "metadata": {},
   "outputs": [],
   "source": [
    "# create dataframe with org donors listed by first, last and full name next to\n",
    "# the sum of their donations\n",
    "#df_pivot = pd.pivot_table(cong_type, index=['First Name', 'Last Name', 'Billing Address', 'City', 'State', 'Zip Code', 'Gift Memo', 'Campaign/Deposit To'], \n",
    " #                             values='Gift Amount ', aggfunc='sum')"
   ]
  },
  {
   "cell_type": "code",
   "execution_count": 228,
   "metadata": {
    "colab": {},
    "colab_type": "code",
    "id": "RVd9oraCQd4c"
   },
   "outputs": [],
   "source": [
    "# export the dataframe to excel sheet\n",
    "#df_pivot.to_excel('~/environments/fp_env/family_promise_data/data/cong_pivot3.xlsx')"
   ]
  },
  {
   "cell_type": "code",
   "execution_count": 229,
   "metadata": {},
   "outputs": [
    {
     "data": {
      "text/plain": [
       "(1252, 20)"
      ]
     },
     "execution_count": 229,
     "metadata": {},
     "output_type": "execute_result"
    }
   ],
   "source": [
    "ind_type.shape"
   ]
  },
  {
   "cell_type": "code",
   "execution_count": 230,
   "metadata": {},
   "outputs": [
    {
     "data": {
      "text/plain": [
       "(121, 20)"
      ]
     },
     "execution_count": 230,
     "metadata": {},
     "output_type": "execute_result"
    }
   ],
   "source": [
    "org_type.shape"
   ]
  },
  {
   "cell_type": "code",
   "execution_count": 231,
   "metadata": {},
   "outputs": [
    {
     "data": {
      "text/plain": [
       "(122, 20)"
      ]
     },
     "execution_count": 231,
     "metadata": {},
     "output_type": "execute_result"
    }
   ],
   "source": [
    "cong_type.shape"
   ]
  },
  {
   "cell_type": "code",
   "execution_count": 232,
   "metadata": {},
   "outputs": [
    {
     "data": {
      "text/plain": [
       "1495"
      ]
     },
     "execution_count": 232,
     "metadata": {},
     "output_type": "execute_result"
    }
   ],
   "source": [
    "1252+121+122"
   ]
  },
  {
   "cell_type": "code",
   "execution_count": 233,
   "metadata": {},
   "outputs": [
    {
     "data": {
      "text/plain": [
       "(1528, 32)"
      ]
     },
     "execution_count": 233,
     "metadata": {},
     "output_type": "execute_result"
    }
   ],
   "source": [
    "df.shape"
   ]
  },
  {
   "cell_type": "code",
   "execution_count": 234,
   "metadata": {},
   "outputs": [
    {
     "data": {
      "text/plain": [
       "33"
      ]
     },
     "execution_count": 234,
     "metadata": {},
     "output_type": "execute_result"
    }
   ],
   "source": [
    "1528 - 1495"
   ]
  },
  {
   "cell_type": "code",
   "execution_count": 235,
   "metadata": {
    "colab": {},
    "colab_type": "code",
    "id": "52CHRRBAGNRY"
   },
   "outputs": [],
   "source": [
    "# create list of donors to compare against dataframe of 'have not donated' \n",
    "#donated = new_df['Contact Name']"
   ]
  },
  {
   "cell_type": "code",
   "execution_count": 236,
   "metadata": {
    "colab": {},
    "colab_type": "code",
    "id": "w568V1AEKu8O"
   },
   "outputs": [],
   "source": [
    "#not_donor = pd.read_excel('/content/not_donors.xlsx')"
   ]
  },
  {
   "cell_type": "code",
   "execution_count": 237,
   "metadata": {
    "colab": {},
    "colab_type": "code",
    "id": "_157GbBLF5Mc"
   },
   "outputs": [],
   "source": [
    "# create new dataframe based off of 'not donors' list that will remove a name\n",
    "# from the 'not donated' list if their name shows up on the 'donors' list\n",
    "#not_donors = not_donor[~not_donor['Contact Name'].isin(donated)]"
   ]
  },
  {
   "cell_type": "code",
   "execution_count": 238,
   "metadata": {
    "colab": {},
    "colab_type": "code",
    "id": "BjRvTDICGVQb"
   },
   "outputs": [],
   "source": [
    "# create excel sheet out of new dataframe\n",
    "#not_donors.to_excel('/content/not_donors.xlsx')"
   ]
  }
 ],
 "metadata": {
  "colab": {
   "include_colab_link": true,
   "name": "donor_worksheet.ipynb",
   "provenance": []
  },
  "kernelspec": {
   "display_name": "Python 3",
   "language": "python",
   "name": "python3"
  },
  "language_info": {
   "codemirror_mode": {
    "name": "ipython",
    "version": 3
   },
   "file_extension": ".py",
   "mimetype": "text/x-python",
   "name": "python",
   "nbconvert_exporter": "python",
   "pygments_lexer": "ipython3",
   "version": "3.6.9"
  }
 },
 "nbformat": 4,
 "nbformat_minor": 1
}
