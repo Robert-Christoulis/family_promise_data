{
  "nbformat": 4,
  "nbformat_minor": 0,
  "metadata": {
    "colab": {
      "name": "donor_worksheet.ipynb",
      "provenance": [],
      "include_colab_link": true
    },
    "kernelspec": {
      "name": "python3",
      "display_name": "Python 3"
    }
  },
  "cells": [
    {
      "cell_type": "markdown",
      "metadata": {
        "id": "view-in-github",
        "colab_type": "text"
      },
      "source": [
        "<a href=\"https://colab.research.google.com/github/iesous-kurios/family_promise_data/blob/master/donor_worksheet.ipynb\" target=\"_parent\"><img src=\"https://colab.research.google.com/assets/colab-badge.svg\" alt=\"Open In Colab\"/></a>"
      ]
    },
    {
      "cell_type": "code",
      "metadata": {
        "id": "pdaTNVnmGIkX",
        "colab_type": "code",
        "colab": {}
      },
      "source": [
        "# section to import functions/libraries that allows me to work with the data\n",
        "\n",
        "import pandas as pd\n",
        "import numpy as np\n",
        "import matplotlib.pyplot as plt\n",
        "import seaborn as sns"
      ],
      "execution_count": 0,
      "outputs": []
    },
    {
      "cell_type": "code",
      "metadata": {
        "id": "TIc0-8BDHVRu",
        "colab_type": "code",
        "colab": {}
      },
      "source": [
        "# import an 'all donors' dataframe\n",
        "all_donors = pd.read_excel('/content/all_donors.xlsx')\n",
        "\n",
        "# import an 'all major prospects' data frame\n",
        "major_prospect = pd.read_excel('/content/major_prospect.xlsx', header=None)"
      ],
      "execution_count": 0,
      "outputs": []
    },
    {
      "cell_type": "code",
      "metadata": {
        "id": "JHjTBzNDHiQY",
        "colab_type": "code",
        "outputId": "5665f2eb-f610-4fe3-cd6f-22212510c27b",
        "colab": {
          "base_uri": "https://localhost:8080/",
          "height": 33
        }
      },
      "source": [
        "# see how many rows and columns there are in the data frame\n",
        "all_donors.shape"
      ],
      "execution_count": 3,
      "outputs": [
        {
          "output_type": "execute_result",
          "data": {
            "text/plain": [
              "(931, 10)"
            ]
          },
          "metadata": {
            "tags": []
          },
          "execution_count": 3
        }
      ]
    },
    {
      "cell_type": "code",
      "metadata": {
        "id": "UrZKOKwnHks-",
        "colab_type": "code",
        "outputId": "e813ae72-3292-465d-ddf6-ee6b45a1b3c8",
        "colab": {
          "base_uri": "https://localhost:8080/",
          "height": 33
        }
      },
      "source": [
        "major_prospect.shape"
      ],
      "execution_count": 4,
      "outputs": [
        {
          "output_type": "execute_result",
          "data": {
            "text/plain": [
              "(119, 1)"
            ]
          },
          "metadata": {
            "tags": []
          },
          "execution_count": 4
        }
      ]
    },
    {
      "cell_type": "code",
      "metadata": {
        "id": "q8ywHxhILpsi",
        "colab_type": "code",
        "outputId": "c52de80c-44dc-4273-8077-a25c985576af",
        "colab": {
          "base_uri": "https://localhost:8080/",
          "height": 33
        }
      },
      "source": [
        "# what is difference?\n",
        "931 - 119"
      ],
      "execution_count": 5,
      "outputs": [
        {
          "output_type": "execute_result",
          "data": {
            "text/plain": [
              "812"
            ]
          },
          "metadata": {
            "tags": []
          },
          "execution_count": 5
        }
      ]
    },
    {
      "cell_type": "code",
      "metadata": {
        "id": "YvxL44ZAHpNu",
        "colab_type": "code",
        "colab": {}
      },
      "source": [
        "# put list of major prospects into an array that can be used to compare against \n",
        "# another data frame\n",
        "maj_pros_list = major_prospect[0]"
      ],
      "execution_count": 0,
      "outputs": []
    },
    {
      "cell_type": "code",
      "metadata": {
        "id": "oZRMAnAxH7b3",
        "colab_type": "code",
        "colab": {}
      },
      "source": [
        "# print that array\n",
        "maj_pros_list"
      ],
      "execution_count": 0,
      "outputs": []
    },
    {
      "cell_type": "code",
      "metadata": {
        "id": "ZJbW3sgWIAfe",
        "colab_type": "code",
        "colab": {}
      },
      "source": [
        "# create new dataframe that has base of all donors but removed any name \n",
        "# from the all donors list if that name is also on the major prospects list\n",
        "\n",
        "new_df = all_donors[~all_donors['Contact Name'].isin(maj_pros_list)]"
      ],
      "execution_count": 0,
      "outputs": []
    },
    {
      "cell_type": "code",
      "metadata": {
        "id": "ZHsDMxq-Lf9i",
        "colab_type": "code",
        "outputId": "409bee92-3f81-4154-c987-cac3ffe0288e",
        "colab": {
          "base_uri": "https://localhost:8080/",
          "height": 33
        }
      },
      "source": [
        "new_df.shape"
      ],
      "execution_count": 10,
      "outputs": [
        {
          "output_type": "execute_result",
          "data": {
            "text/plain": [
              "(890, 10)"
            ]
          },
          "metadata": {
            "tags": []
          },
          "execution_count": 10
        }
      ]
    },
    {
      "cell_type": "code",
      "metadata": {
        "id": "l1BSm2gUMCWn",
        "colab_type": "code",
        "colab": {}
      },
      "source": [
        "# export that redacted list into an excel file\n",
        "new_df.to_excel(\"/content/redacted.xlsx\")"
      ],
      "execution_count": 0,
      "outputs": []
    },
    {
      "cell_type": "code",
      "metadata": {
        "id": "Vx0FmRbkOMEm",
        "colab_type": "code",
        "colab": {}
      },
      "source": [
        "# create new sheet for excel file that has sum of donation listed by each \n",
        "# donor's first, last, and full name\n",
        "new_df_pivot = pd.pivot_table(new_df, \n",
        "                              index=['Contact Name', 'First Name', 'Last Name'], \n",
        "                              values='Donation Amount', aggfunc='sum')"
      ],
      "execution_count": 0,
      "outputs": []
    },
    {
      "cell_type": "code",
      "metadata": {
        "id": "PI2xABQ_OwPa",
        "colab_type": "code",
        "colab": {}
      },
      "source": [
        "# export that sheet into excel file \n",
        "new_df_pivot.to_excel('/content/pivot.xlsx')"
      ],
      "execution_count": 0,
      "outputs": []
    },
    {
      "cell_type": "code",
      "metadata": {
        "id": "kpD4tPpoPY8x",
        "colab_type": "code",
        "colab": {}
      },
      "source": [
        "# create new data frame with only the individual donors\n",
        "# (this list also has anybody from the major prospects removed)\n",
        "ind_type = new_df[new_df['Type'] == 'Individual']"
      ],
      "execution_count": 0,
      "outputs": []
    },
    {
      "cell_type": "code",
      "metadata": {
        "id": "2MajzsMgPtgy",
        "colab_type": "code",
        "colab": {}
      },
      "source": [
        "# create sheet that has the individual donors listed by first, last, and full\n",
        "# next to the sum of their donations\n",
        "ind_df_pivot = pd.pivot_table(ind_type, index=['Contact Name', \n",
        "                                               'First Name', 'Last Name'], \n",
        "                              values='Donation Amount', aggfunc='sum')"
      ],
      "execution_count": 0,
      "outputs": []
    },
    {
      "cell_type": "code",
      "metadata": {
        "id": "6w0EVn3jP423",
        "colab_type": "code",
        "colab": {}
      },
      "source": [
        "# export that sheet into an excel file\n",
        "ind_df_pivot.to_excel('/content/ind_pivot.xlsx')"
      ],
      "execution_count": 0,
      "outputs": []
    },
    {
      "cell_type": "code",
      "metadata": {
        "id": "TEf9hwruQQT_",
        "colab_type": "code",
        "colab": {}
      },
      "source": [
        "# create new dataframe that has only the org type donors (again, nobody from\n",
        "# the major prospects list will be here)\n",
        "org_type = new_df[new_df['Type'] == 'Organization']"
      ],
      "execution_count": 0,
      "outputs": []
    },
    {
      "cell_type": "code",
      "metadata": {
        "id": "sSnTHBK0QYBO",
        "colab_type": "code",
        "colab": {}
      },
      "source": [
        "# create dataframe with org donors listed by first, last and full name next to\n",
        "# the sum of their donations\n",
        "org_df_pivot = pd.pivot_table(org_type, index=['Contact Name', 'First Name', \n",
        "                                               'Last Name'], \n",
        "                              values='Donation Amount', aggfunc='sum')"
      ],
      "execution_count": 0,
      "outputs": []
    },
    {
      "cell_type": "code",
      "metadata": {
        "id": "RVd9oraCQd4c",
        "colab_type": "code",
        "colab": {}
      },
      "source": [
        "# export the dataframe to excel sheet\n",
        "org_df_pivot.to_excel('/content/org_pivot.xlsx')"
      ],
      "execution_count": 0,
      "outputs": []
    },
    {
      "cell_type": "code",
      "metadata": {
        "id": "52CHRRBAGNRY",
        "colab_type": "code",
        "colab": {}
      },
      "source": [
        "# create list of donors to compare against dataframe of 'have not donated' \n",
        "donated = new_df['Contact Name']"
      ],
      "execution_count": 0,
      "outputs": []
    },
    {
      "cell_type": "code",
      "metadata": {
        "id": "_157GbBLF5Mc",
        "colab_type": "code",
        "colab": {}
      },
      "source": [
        "# create new dataframe based off of 'not donors' list that will remove a name\n",
        "# from the 'not donated' list if their name shows up on the 'donors' list\n",
        "not_donors = not_donor[~not_donor['Contact Name'].isin(donated)]"
      ],
      "execution_count": 0,
      "outputs": []
    },
    {
      "cell_type": "code",
      "metadata": {
        "id": "BjRvTDICGVQb",
        "colab_type": "code",
        "colab": {}
      },
      "source": [
        "# create excel sheet out of new dataframe\n",
        "not_donors.to_excel('/content/not_donors.xlsx')"
      ],
      "execution_count": 0,
      "outputs": []
    }
  ]
}